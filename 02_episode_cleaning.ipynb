{
 "cells": [
  {
   "cell_type": "code",
   "execution_count": 124,
   "metadata": {
    "ExecuteTime": {
     "end_time": "2018-05-29T19:13:17.021898Z",
     "start_time": "2018-05-29T19:13:17.019421Z"
    }
   },
   "outputs": [],
   "source": [
    "import pandas as pd\n",
    "import pickle"
   ]
  },
  {
   "cell_type": "code",
   "execution_count": 150,
   "metadata": {
    "ExecuteTime": {
     "end_time": "2018-05-29T19:14:43.595174Z",
     "start_time": "2018-05-29T19:14:43.583876Z"
    }
   },
   "outputs": [],
   "source": [
    "with open('episode_scripts.pkl','rb') as picklefile:\n",
    "    episode_scripts = pickle.load(picklefile)"
   ]
  },
  {
   "cell_type": "code",
   "execution_count": 151,
   "metadata": {
    "ExecuteTime": {
     "end_time": "2018-05-29T19:14:46.796253Z",
     "start_time": "2018-05-29T19:14:46.792906Z"
    }
   },
   "outputs": [],
   "source": [
    "with open('episode_names.pkl','rb') as picklefile:\n",
    "    episode_names = pickle.load(picklefile)"
   ]
  },
  {
   "cell_type": "code",
   "execution_count": 127,
   "metadata": {
    "ExecuteTime": {
     "end_time": "2018-05-29T19:13:22.609449Z",
     "start_time": "2018-05-29T19:13:22.605084Z"
    }
   },
   "outputs": [
    {
     "data": {
      "text/plain": [
       "'\\nThe One Where Monica Gets a New Roomate (The Pilot-The Uncut Version)\\n\\n\\n\\n\\nThe One Where Monica Gets a New Roommate (The Pilot-The Uncut Version)\\n\\n\\n\\n\\nWritten by: Marta Kauffman & David Crane\\nTranscribed by: guineapig\\nAdditional transcribing by: Eric Aasen\\n(Note: The previously unseen parts of this episode are shown in blue text.)\\n\\n\\n\\n\\n[Scene: Central Perk, Chandler, Joey, Phoebe, and Monica are there.]\\n\\nMonica: There\\'s nothing to tell! He\\'s just some guy\\nI work with!\\n\\nJoey: C\\'mon, you\\'re going out with the guy! There\\'s\\ngotta be something wrong with him!\\n\\nChandler: All right Joey, be\\nnice.\\xa0 So does he have a hump? A hump and a hairpiece?\\n\\nPhoebe: Wait, does he eat chalk?\\n\\n(They all stare, bemused.)\\n\\nPhoebe: Just, \\'cause, I don\\'t want her to go through\\nwhat I went through with Carl- oh!\\n\\nMonica: Okay, everybody relax. This is not even a\\ndate. It\\'s just two people going out to dinner and- not having sex.\\n\\nChandler: Sounds like a date to me.\\n\\n[Time Lapse]\\n\\nChandler: Alright, so I\\'m back in high school, I\\'m\\nstanding in the middle of the cafeteria, and I realize I am totally naked.\\n\\nAll: Oh, yeah. Had that dream.\\n\\nChandler: Then I look down, and I realize there\\'s a\\nphone... there.\\n\\nJoey: Instead of...?\\n\\nChandler: That\\'s right.\\n\\nJoey: Never had that dream.\\n\\nPhoebe: No.\\n\\nChandler: All of a sudden, the phone starts to ring.\\nNow I don\\'t know what to do, everybody starts looking at me. \\n\\nMonica: And they weren\\'t looking at\\nyou before?!\\n\\nChandler: Finally, I figure\\nI\\'d better answer it, and it turns out it\\'s my mother,\\nwhich is very-very weird, because- she never calls me!\\n\\n[Time Lapse, Ross has entered.]\\n\\nRoss: (mortified) Hi.\\n\\nJoey: This guy says hello, I wanna kill myself.\\n\\nMonica: Are you okay, sweetie?\\n\\nRoss: I just feel like someone reached down my\\nthroat, grabbed my small intestine, pulled it out of my mouth and tied it around my\\nneck...\\n\\nChandler: Cookie?\\n\\nMonica: (explaining to the others) Carol moved her\\nstuff out today. \\n\\nJoey: Ohh.\\n\\nMonica: (to Ross) Let me get you some coffee.\\n\\nRoss: Thanks.\\n\\nPhoebe: Ooh! Oh! (She starts to pluck at the air\\njust in front of Ross.)\\n\\nRoss: No, no don\\'t! Stop cleansing my aura! No, just\\nleave my aura alone, okay?\\n\\nPhoebe: Fine!\\xa0 Be murky!\\n\\nRoss: I\\'ll be fine,\\nalright? Really, everyone. I hope she\\'ll be very happy.\\n\\nMonica: No you don\\'t.\\n\\nRoss: No I don\\'t, to hell with her, she left me!\\n\\nJoey: And you never knew she was a lesbian...\\n\\nRoss: No!! Okay?! Why does everyone keep fixating on\\nthat? She didn\\'t know, how should I know?\\n\\nChandler: Sometimes I wish I was a lesbian... (They\\nall stare at him.) Did I say that out loud?\\n\\nRoss: I told mom and dad last night,\\nthey seemed to take it pretty well.\\n\\nMonica: Oh really, so that\\nhysterical phone call I got from a woman at sobbing 3:00 A.M., \"I\\'ll never have\\ngrandchildren, I\\'ll never have grandchildren.\" was what?\\xa0 A wrong number?\\n\\nRoss: Sorry.\\n\\nJoey: Alright Ross, look. You\\'re feeling a lot of\\npain right now. You\\'re angry. You\\'re hurting. Can I tell you what the answer is?\\n\\n(Ross gestures his consent.)\\n\\nJoey: Strip joint! C\\'mon, you\\'re single! Have some\\nhormones!\\n\\nRoss: I don\\'t want to be single, okay? I just... I\\njust- I just wanna be married again!\\n\\n(Rachel enters in a wet wedding dress and starts to search\\nthe room.)\\n\\nChandler: And I just want a million dollars! (He\\nextends his hand hopefully.)\\n\\nMonica: Rachel?!\\n\\nRachel: Oh God Monica hi! Thank God! I just went to\\nyour building and you weren\\'t there and then this guy with a big hammer said you might be\\nhere and you are, you are!\\n\\nWaitress: Can I get you some coffee?\\n\\nMonica: (pointing at Rachel) De-caff. (to All) Okay,\\neverybody, this is Rachel, another Lincoln High survivor. (to Rachel) This is everybody,\\nthis is Chandler, and Phoebe, and Joey, and- you remember my brother Ross? \\n\\nRachel: Hi, sure!\\n\\nRoss: Hi. \\n\\n(They go to hug but Ross\\'s umbrella opens.\\xa0 He sits\\nback down defeated again.\\xa0 A moment of silence follows as Rachel sits and the others\\nexpect her to explain.)\\n\\nMonica: So you wanna tell us now, or are we waiting\\nfor four wet bridesmaids?\\n\\nRachel: Oh God... well, it started about a half hour\\nbefore the wedding. I was in the room where we were keeping all the presents, and I was\\nlooking at this gravy boat. This really gorgeous Lamauge gravy boat. When all of a sudden-\\n(to the waitress that brought her coffee)Sweet \\'n\\' Lo?- I realized that I was more turned\\non by this gravy boat than by Barry! And then I got really freaked out, and that\\'s when it\\nhit me: how much Barry looks like Mr. Potato Head. Y\\'know, I mean, I always knew looked\\nfamiliar, but... Anyway, I just had to get out of there, and I started wondering \\'Why am I\\ndoing this, and who am I doing this for?\\'. (to Monica) So anyway I just didn\\'t know where\\nto go, and I know that you and I have kinda drifted apart, but you\\'re the only person I\\nknew who lived here in the city.\\n\\nMonica: Who wasn\\'t invited to the wedding.\\n\\nRachel: Ooh, I was kinda hoping that wouldn\\'t be an\\nissue... [Scene: Monica\\'s Apartment, everyone is there and watching a Spanish Soap on TV\\nand are trying to figure out what is going on.]\\n\\nMonica: Now I\\'m guessing that he bought her the big\\npipe organ, and she\\'s really not happy about it. \\n\\nChandler: (imitating the characters)\\nTuna or egg salad?\\xa0 Decide!\\n\\nRoss: (in a deep voice) I\\'ll have\\nwhatever Christine is having.\\n\\nRachel: (on phone) Daddy, I just... I can\\'t marry\\nhim! I\\'m sorry. I just don\\'t love him. Well, it matters to me! \\n\\n(The scene on TV has changed to show two\\nwomen, one is holding her hair.)\\n\\nPhoebe:\\xa0 If I let go of\\nmy hair, my head will fall off. \\n\\nChandler: (re TV) Ooh, she should not be wearing\\nthose pants. \\n\\nJoey: I say push her down the stairs. \\n\\nPhoebe, Ross, Chandler, and Joey:\\xa0\\nPush her down the stairs! Push her down the stairs! Push her down the stairs!\\n\\n(She is pushed down the stairs and everyone cheers.)\\n\\nRachel: C\\'mon Daddy, listen to me! It\\'s like, it\\'s\\nlike, all of my life, everyone has always told me, \\'You\\'re a shoe! You\\'re a shoe, you\\'re a\\nshoe, you\\'re a shoe!\\'. And today I just stopped and I said, \\'What if I don\\'t wanna be a\\nshoe? What if I wanna be a- a purse, y\\'know? Or a- or a hat! No, I\\'m not saying I want you\\nto buy me a hat, I\\'m saying I am a ha- It\\'s a metaphor, Daddy!\\n\\nRoss: You can see where he\\'d have trouble.\\n\\nRachel: Look Daddy, it\\'s my life. Well maybe I\\'ll\\njust stay here with Monica. \\n\\nMonica: Well, I guess we\\'ve established who\\'s\\nstaying here with Monica...\\n\\nRachel: Well, maybe that\\'s my decision. Well, maybe\\nI don\\'t need your money. Wait!! Wait, I said maybe!!\\n\\n[Time Lapse, Rachel is breating into a paper bag.]\\n\\nMonica: Just breathe, breathe.. that\\'s it. Just try\\nto think of nice calm things...\\n\\nPhoebe: (sings) Raindrops on roses and rabbits and\\nkittens, (Rachel and Monica turn to look at her.) bluebells and sleighbells and- something\\nwith mittens... La la la la...something and noodles with\\nstring.\\xa0 These are a few...\\n\\nRachel: I\\'m all better now.\\n\\nPhoebe: (grins and walks to the kitchen and says to\\nChandler and Joey.) I helped!\\n\\nMonica: Okay, look, this is probably for the best,\\ny\\'know? Independence. Taking control of your life.\\xa0 The whole,\\n\\'hat\\' thing.\\n\\nJoey: (comforting her) And hey, you need anything,\\nyou can always come to Joey. Me and Chandler live across the hall. And he\\'s away a lot.\\n\\nMonica: Joey, stop hitting on her! It\\'s her wedding\\nday!\\n\\nJoey: What, like there\\'s a rule or something?\\n\\n(The door buzzer sounds and Chandler gets it.)\\n\\nChandler: Please don\\'t do that again, it\\'s a\\nhorrible sound.\\n\\nPaul: (over the intercom) It\\'s, uh,\\nit\\'s Paul.\\n\\nMonica: Oh God, is it\\n6:30?\\xa0 Buzz him in!\\n\\nJoey: Who\\'s Paul?\\n\\nRoss: Paul the Wine Guy, Paul?\\n\\nMonica: Maybe. Joey: Wait. Your \\'not a real\\ndate\\' tonight is with Paul the Wine Guy?\\n\\nRoss: He finally asked you out?\\n\\nMonica: Yes!\\n\\nChandler: Ooh, this is a Dear Diary moment.\\n\\nMonica: Rach, wait, I can cancel...\\n\\nRachel: Please, no, go, that\\'d be fine!\\n\\nMonica: (to Ross) Are, are you okay? I mean, do you\\nwant me to stay?\\n\\nRoss: (choked voice) That\\'d be good...\\n\\nMonica: (horrified) Really?\\n\\nRoss: (normal voice) No, go on! It\\'s Paul the Wine\\nGuy!\\n\\nPhoebe: What does that mean? \\xa0\\nDoes he sell it, drink it, or just complain a lot? (Chandler doesn\\'t know.)\\n\\n(There\\'s a knock on the door and it\\'s Paul.)\\n\\nMonica: Hi, come in! Paul, this is.. (They are all\\nlined up next to the door.)... everybody, everybody, this is Paul.\\n\\nAll: Hey! Paul! Hi! The Wine Guy! Hey!\\n\\nChandler: I\\'m sorry, I didn\\'t catch your name. Paul,\\nwas it?\\n\\nMonica: Okay, umm-umm, I\\'ll\\njust--I\\'ll be right back, I just gotta go ah, go ah...\\n\\nRoss: A wandering?\\n\\nMonica: Change!\\xa0 Okay,\\nsit down. (Shows Paul in) Two seconds.\\n\\nPhoebe: Ooh, I just pulled out four eyelashes. That\\ncan\\'t be good.\\n\\n(Monica goes to change.)\\n\\nJoey:\\xa0 Hey, Paul!\\n\\nPaul: Yeah?\\n\\nJoey: Here\\'s a little tip, she\\nreally likes it when you rub her neck in the same spot over and over and over again until\\nit starts to get a little red.\\n\\nMonica: (yelling from the bedroom)\\nShut up, Joey!\\n\\nRoss: So Rachel, what\\'re you, uh... what\\'re you up\\nto tonight?\\n\\nRachel: Well, I was kinda supposed to be headed for\\nAruba on my honeymoon, so nothing!\\n\\nRoss: Right, you\\'re not even getting your honeymoon,\\nGod.. No, no, although, Aruba, this time of year... talk about your- (thinks) -big\\nlizards... Anyway, if you don\\'t feel like being alone tonight, Joey and Chandler are\\ncoming over to help me put together my new furniture.\\n\\nChandler: (deadpan) Yes, and we\\'re very excited\\nabout it. \\n\\nRachel: Well actually thanks, but I think I\\'m just\\ngonna hang out here tonight.\\xa0 It\\'s been kinda a long day.\\n\\nRoss: Okay, sure.\\n\\nJoey: Hey Pheebs, you wanna help?\\n\\nPhoebe: Oh, I wish I could, but I don\\'t want to.\\n\\nCommercial Break\\n\\n[Scene: The Subway, Phoebe is singing for\\nchange.]\\n\\nPhoebe: (singing) Love is sweet as\\nsummer showers, love is a wondrous work of art, but your love oh your love, your love...is\\nlike a giant pigeon...crapping on my heart.\\xa0 La-la-la-la-la- (some guy gives her some\\nchange and to that guy) Thank you. (sings) La-la-la-la...ohhh!\\n\\n[Scene: Ross\\'s Apartment, the guys are there assembling\\nfurniture.]\\n\\nRoss: (squatting and reading the instructions) I\\'m\\nsupposed to attach a brackety thing to the side things, using a bunch of these little worm\\nguys. I have no brackety thing, I see no whim guys whatsoever and- I cannot feel my legs.\\n\\n(Joey and Chandler are finishing assembling\\nthe bookcase.)\\n\\nJoey: I\\'m thinking we\\'ve got a\\nbookcase here.\\n\\nChandler: It\\'s a beautiful thing.\\n\\nJoey: (picking up a leftover part) What\\'s this?\\n\\nChandler: I would have to\\nsay that is an \\'L\\'-shaped bracket.\\n\\nJoey: Which goes where?\\n\\nChandler: I have no\\nidea.\\n\\n(Joey checks that Ross is not looking and dumps it in a\\nplant.)\\n\\nJoey: Done with the bookcase!\\n\\nChandler: All finished!\\n\\nRoss: (clutching a beer can and sniffing) This was\\nCarol\\'s favorite beer. She always drank it out of the can, I should have known.\\n\\nJoey: Hey-hey-hey-hey, if you\\'re\\ngonna start with that stuff we\\'re outta here.\\n\\nChandler: Yes, please don\\'t spoil\\nall this fun.\\n\\nJoey: Ross, let me ask you a question. She got the\\nfurniture, the stereo, the good TV- what did you get?\\n\\nRoss: You guys.\\n\\nChandler: Oh, God.\\n\\nJoey: You got screwed.\\n\\nChandler: Oh my God!\\n\\n[Scene: A Restaurant, Monica and Paul are eating.]\\n\\nMonica: Oh my God!\\n\\nPaul: I know, I know, I\\'m such an idiot. I guess I\\nshould have caught on when she started going to the dentist four and five times a week. I\\nmean, how clean can teeth get?\\n\\nMonica: My brother\\'s going through that right now,\\nhe\\'s such a mess. How did you get through it?\\n\\nPaul: Well, you might try accidentally breaking\\nsomething valuable of hers, say her-\\n\\nMonica: -leg?\\n\\nPaul: (laughing) That\\'s one way! Me, I- I went for\\nthe watch.\\n\\nMonica: You actually broke her watch?\\xa0 Wow!\\xa0 The worst thing I ever did was, I-I shredded by\\nboyfriend\\'s favorite bath towel.\\n\\nPaul: Ooh, steer clear of you.\\n\\nMonica: That\\'s right.\\n[Scene: Monica\\'s Apartment, Rachel is talking on the phone and pacing.]\\n\\nRachel: Barry, I\\'m sorry... I am so sorry... I know\\nyou probably think that this is all about what I said the other day about you making love\\nwith your socks on, but it isn\\'t... it isn\\'t, it\\'s about me, and I ju- (She stops talking\\nand dials the phone.) Hi, machine cut me off again... anyway...look,\\nlook, I know that some girl is going to be incredibly lucky to become Mrs. Barry Finkel,\\nbut it isn\\'t me, it\\'s not me.\\xa0 And not that I have any idea who me is right now, but\\nyou just have to give me a chance too... (The maching cuts her off again and she redials.)\\n\\n[Scene: Ross\\'s Apartment; Ross is pacing while Joey and\\nChandler are working on some more furniture.]\\n\\nRoss: I\\'m divorced!\\xa0 I\\'m only\\n26 and I\\'m divorced!\\n\\nJoey: Shut up!\\n\\nChandler: You must stop! (Chandler\\nhits what he is working on with a hammer and it collapses.)\\n\\nRoss: That only took me an hour.\\n\\nChandler: Look, Ross, you gotta\\nunderstand, between us we haven\\'t had a relationship that has lasted longer than a Mento.\\n\\xa0 You, however have had the love of a woman for four years. \\xa0\\nFour years of closeness and sharing at the end of which she ripped your heart out, and\\nthat is why we don\\'t do it!\\xa0 I don\\'t think that was my point!\\n\\nRoss: You know what the scariest part is? What if\\nthere\\'s only one woman for everybody, y\\'know? I mean what if you get one woman- and that\\'s\\nit? Unfortunately in my case, there was only one woman- for her...\\n\\nJoey: What are you talking about? \\'One woman\\'?\\nThat\\'s like saying there\\'s only one flavor of ice cream for you. Lemme tell you something,\\nRoss. There\\'s lots of flavors out there. There\\'s Rocky Road, and Cookie Dough, and Bing!\\nCherry Vanilla. You could get \\'em with Jimmies, or nuts, or whipped cream! This is the\\nbest thing that ever happened to you! You got married, you were, like, what, eight?\\nWelcome back to the world! Grab a spoon!\\n\\nRoss: I honestly don\\'t know if I\\'m hungry or horny.\\n\\nChandler: Stay out of my freezer! [Scene: A\\nRestaurant, Monica and Paul are still eating.]\\n\\nPaul: Ever since she walked out on me, I, uh...\\n\\nMonica: What?..... What, you wanna spell it out with\\nnoodles?\\n\\nPaul: No, it\\'s, it\\'s more of a fifth date kinda\\nrevelation.\\n\\nMonica: Oh, so there is gonna be a fifth date?\\n\\nPaul: Isn\\'t there?\\n\\nMonica: Yeah... yeah, I think there is. -What were\\nyou gonna say?\\n\\nPaul: Well, ever-ev-... ever since she left me, um,\\nI haven\\'t been able to, uh, perform. (Monica takes a sip of her drink.) ...Sexually. \\n\\nMonica: (spitting out her drink in shock) Oh God, oh\\nGod, I am sorry... I am so sorry...\\n\\nPaul: It\\'s okay...\\n\\nMonica: I know being spit on is probably not what\\nyou need right now. Um... how long?\\n\\nPaul: Two years.\\n\\nMonica: Wow! I\\'m-I\\'m-I\\'m glad you smashed her watch!\\n\\n\\nPaul: So you still think you, um... might want that\\nfifth date?\\n\\nMonica: (pause)...Yeah. Yeah, I do.\\n\\n[Scene: Monica\\'s Apartment, Rachel is watching Joanne\\nLoves Chaci.]\\n\\nPriest on TV:\\nWe are gathered here today to join Joanne Louise Cunningham and\\nCharles, Chachi-Chachi-Chachi, Arcola in the bound of holy matrimony.\\n\\nRachel: Oh...see... but Joanne loved Chachi! That\\'s\\nthe difference!\\n\\n[Scene: Ross\\'s Apartment, they\\'re all sitting around and\\ntalking.]\\n\\nRoss: (scornful) Grab a spoon. Do you know how long\\nit\\'s been since I\\'ve grabbed a spoon? Do the words \\'Billy, don\\'t be a hero\\' mean anything\\nto you? \\n\\nJoey: Great story!\\xa0 But, I uh,\\nI gotta go, I got a date with Andrea--Angela--Andrea...\\xa0 Oh man, (looks to Chandler)\\n\\nChandler: Angela\\'s the screamer,\\nAndrea has cats.\\n\\nJoey: Right.\\xa0 Thanks.\\xa0\\nIt\\'s June.\\xa0 I\\'m outta here. (Exits.)\\n\\nRoss: Y\\'know, here\\'s the thing. Even if I could get\\nit together enough to- to ask a woman out,... who am I gonna ask? (He gazes out of the\\nwindow.)\\n\\n[Cut to Rachel staring out of her window.]\\n\\nCommercial Break\\n\\n[Scene: Monica\\'s Apartment, Rachel is making coffee for\\nJoey and Chandler.]\\n\\nRachel: Isn\\'t this amazing? I mean, I have never\\nmade coffee before in my entire life.\\n\\nChandler: That is amazing.\\n\\nJoey: Congratulations. \\n\\nRachel: Y\\'know, I figure if I can\\nmake coffee, there isn\\'t anything I can\\'t do.\\n\\nChandler: If can invade Poland,\\nthere isn\\'t anything I can\\'t do.\\n\\nJoey: Listen, while you\\'re on a roll, if you feel\\nlike you gotta make like a Western omelet or something... (Joey and Chandler taste the\\ncoffee, grimace, and pour it into a plant pot.) Although actually I\\'m really not that\\nhungry...\\n\\nMonica: (entering, to herself) Oh\\ngood, Lenny and Squigy are here.\\n\\nAll: Morning. Good morning.\\n\\nPaul: (entering from Monica\\'s room)\\nMorning.\\n\\nJoey: Morning, Paul.\\n\\nRachel: Hello, Paul.\\n\\nChandler: Hi, Paul, is it?\\n\\n(Monica and Paul walk to the door and talk in a low voice\\nso the others can\\'t hear.\\xa0 The others move Monica\\'s table closer to the door so that\\nthey can.)\\n\\nPaul: Thank you!\\xa0 Thank you so\\nmuch!\\n\\nMonica: Stop!\\n\\nPaul: No, I\\'m telling you last night\\nwas like umm, all my birthdays, both graduations, plus the barn raising scene in Witness.\\n\\nMonica: We\\'ll talk later.\\n\\nPaul: Yeah. (They kiss) Thank you. (Exits)\\n\\nJoey: That wasn\\'t a real date?! What the hell do you\\ndo on a real date?\\n\\nMonica: Shut up, and put my table back.\\n\\nAll: Okayyy! (They do so.)\\n\\nChandler: All right, kids, I gotta get to work. If I\\ndon\\'t input those numbers,... it doesn\\'t make much of a difference... \\n\\nRachel: So, like, you guys all have jobs?\\n\\nMonica: Yeah, we all have jobs. See, that\\'s how we\\nbuy stuff.\\n\\nJoey: Yeah, I\\'m an actor.\\n\\nRachel: Wow! Would I have seen you in anything?\\n\\nJoey: I doubt it. Mostly regional work.\\n\\nMonica: Oh wait, wait, unless you happened to catch\\nthe Reruns\\' production of Pinocchio, at the little theater in the\\npark.\\n\\nJoey: Look, it was a job all right?\\n\\nChandler: \\'Look, Gippetto, I\\'m a real live boy.\\'\\n\\nJoey: I will not take this abuse. (Walks to the door\\nand opens it to leave.)\\n\\nChandler: You\\'re right, I\\'m sorry. (Burst into song\\nand dances out of the door.) \"Once I was a wooden boy, a little wooden boy...\"\\n\\nJoey: You should both know,\\nthat he\\'s a dead man.\\xa0 Oh, Chandler? (Starts after Chandler.) \\n\\nMonica: So how you doing today? Did you sleep okay?\\nTalk to Barry? I can\\'t stop smiling.\\n\\nRachel: I can see that. You look like you slept with\\na hanger in your mouth.\\n\\nMonica: I know, he\\'s just so, so... Do you remember\\nyou and Tony DeMarco?\\n\\nRachel: Oh, yeah.\\n\\nMonica: Well, it\\'s like that. With feelings.\\n\\nRachel: Oh wow. Are you in trouble.\\n\\nMonica: Big time!\\n\\nRachel: Want a wedding dress? \\xa0\\nHardly used.\\n\\nMonica: I think we are getting\\na little ahead of selves here. Okay. Okay. I am just going to get up, go to work\\nand not think about him all day. Or else I\\'m just gonna get up and go to work.\\n\\nRachel: Oh, look, wish me luck!\\n\\nMonica: What for?\\n\\nRachel: I\\'m gonna go get one of those (Thinks) job\\nthings.\\n\\n(Monica exits.)\\n\\n[Scene: Iridium, Monica is working as Frannie enters.] \\n\\nFrannie: Hey, Monica! \\n\\nMonica: Hey Frannie, welcome back! How was Florida? \\n\\nFrannie: You had sex, didn\\'t you? \\n\\nMonica: How do you do that?\\n\\nFrannie: Oh, I hate you, I\\'m pushing my Aunt Roz through\\nParrot Jungle and you\\'re having sex!\\xa0 So? Who? \\n\\nMonica: You know Paul? \\n\\nFrannie: Paul the Wine Guy? Oh yeah, I know Paul. \\n\\nMonica: You mean you know Paul like I know Paul? \\n\\nFrannie: Are you kidding? I take credit for Paul. Y\\'know before me, there was no\\nsnap in his turtle for two years. \\n\\n[Scene: Central Perk, everyone but Rachel is there.]\\n\\nJoey: (sitting on the arm of the couch)Of course it was a line! \\n\\nMonica: Why?! Why? Why, why would anybody do something like that? \\n\\nRoss: I assume we\\'re looking for an answer more sophisticated than \\'to get you\\ninto bed\\'. \\n\\nMonica: I hate men!\\xa0 I hate men!\\n\\nPhoebe: Oh no, don\\'t hate, you don\\'t\\nwant to put that out into the universe.\\n\\nMonica: Is it me? Is it like I have some sort of\\nbeacon that only dogs and men with severe emotional problems can hear? \\n\\nPhoebe: All right, c\\'mere, gimme your feet. (She starts massaging them.) \\n\\nMonica: I just thought he was nice, y\\'know? \\n\\nJoey: (bursts out laughing again) I can\\'t believe you didn\\'t know it was a line!\\n\\n\\n(Monica pushes him off of the sofa as Rachel enters with a shopping bag.) \\n\\nRachel: Guess what? \\n\\nRoss: You got a job? \\n\\nRachel: Are you kidding? I\\'m trained for nothing! I was laughed out of twelve\\ninterviews today. \\n\\nChandler: And yet you\\'re surprisingly upbeat. \\n\\nRachel: You would be too if you found John and David boots on sale, fifty\\npercent off! \\n\\nChandler: Oh, how well you know me... \\n\\nRachel: They\\'re my new \\'I don\\'t need a job, I don\\'t need my parents, I\\'ve got\\ngreat boots\\' boots! \\n\\nMonica: How\\'d you pay for them? \\n\\nRachel: Uh, credit card. \\n\\nMonica: And who pays for that? \\n\\nRachel: Um... my... father. \\n\\n[Scene: Monica and Rachel\\'s, everyone is sitting around the kitchen table. \\xa0\\nRachel\\'s credit cards are spread out on the table along with a pair of scissors.]\\n\\nRachel: Oh God, come on you\\nguys, is this really necessary?\\xa0 I mean, I can stop charging anytime I want. \\n\\nMonica: C\\'mon, you can\\'t live off your parents your whole life. \\n\\nRachel: I know that. That\\'s why I was getting married. \\n\\nPhoebe: Give her a break, it\\'s hard being on your own for the first time. \\n\\nRachel: Thank you. \\n\\nPhoebe: You\\'re welcome. I remember when I first came to this city. I was\\nfourteen. My mom had just killed herself and my step-dad was back in prison, and I got\\nhere, and I didn\\'t know anybody. And I ended up living with this albino guy who was, like,\\ncleaning windshields outside port authority, and then he killed himself, and then I found\\naromatherapy. So believe me, I know exactly how you feel. \\n\\n(Pause) \\n\\nRoss: The word you\\'re looking for is \\'Anyway\\'... \\n\\nMonica: All right, you ready?\\n\\nRachel: No.\\xa0 No, no, I\\'m not\\nready!\\xa0 How can I be ready?\\xa0 \"Hey, Rach!\\xa0 You ready to jump out the\\nairplane without your parachute?\"\\xa0 Come on, I can\\'t do this!\\n\\nMonica: You can, I know you\\ncan! \\n\\nRachel: I don\\'t think so.\\n\\nRoss: Come on, you made\\ncoffee! \\xa0 You can do anything! (Chandler slowly tries to hide the now dead plant from\\nthat morning when he and Joey poured their coffee into it.)\\n\\nRoss: C\\'mon, cut. Cut, cut, cut,... \\n\\nAll: Cut, cut, cut, cut, cut, cut, cut... (She cuts one of them and they cheer.)\\n\\nRachel: Y\\'know what?\\xa0 I think\\nwe can just leave it at that.\\xa0 It\\'s kinda like a symbolic gesture...\\n\\nMonica:\\xa0 Rachel!\\xa0\\nThat was a library card! \\n\\nAll: Cut, cut, cut, cut, cut, cut, cut..\\n\\nChandler: (as Rachel is cutting up\\nher cards) Y\\'know, if you listen closely, you can hear a thousand retailers scream. \\n\\n(She finishes cutting them up and they all\\ncheer.)\\n\\nMonica: Welcome to the real world! It sucks. You\\'re\\ngonna love it! \\n\\n[Time Lapse, Rachel and Ross are watching a TV channel finishes it\\'s broadcast day by\\nplaying the national anthem.] \\n\\nMonica: Well, that\\'s it (To Ross) You gonna crash on the couch? \\n\\nRoss: No. No, I gotta go home sometime. \\n\\nMonica: You be okay? \\n\\nRoss: Yeah. \\n\\nRachel: Hey Mon, look what I just found on the floor. (Monica smiles.) What? \\n\\nMonica: That\\'s Paul\\'s watch. You just put it back where you found it. Oh boy.\\nAlright. Goodnight, everybody. \\n\\nRoss and Rachel: Goodnight.\\n\\n(Monica stomps on Paul\\'s watch and goes into her room.)\\n\\nRoss: Mmm. (They both reach for the last cookie) Oh, no- \\n\\nRachel: Sorry- \\n\\nRoss: No no no, go- \\n\\nRachel: No, you have it, really, I don\\'t want it- \\n\\nRoss: Split it? \\n\\nRachel: Okay. \\n\\nRoss: Okay. (They split it.) You know you probably didn\\'t know this, but back in\\nhigh school, I had a, um, major crush on you. \\n\\nRachel: I knew. \\n\\nRoss: You did! Oh.... I always figured you just thought I was Monica\\'s geeky\\nolder brother. \\n\\nRachel: I did. \\n\\nRoss: Oh. Listen, do you think- and try not to let my intense vulnerability\\nbecome any kind of a factor here- but do you think it would be okay if I asked you out?\\nSometime? Maybe? \\n\\nRachel: Yeah, maybe... \\n\\nRoss: Okay... okay, maybe I will... \\n\\nRachel: Goodnight. \\n\\nRoss: Goodnight. \\n\\n(Rachel goes into her room and Monica enters the living room as Ross is leaving.) \\n\\nMonica: See ya.... Waitwait, what\\'s with you? \\n\\nRoss: I just grabbed a spoon. (Ross exits and Monica has no idea what that\\nmeans.) \\n\\nClosing Credits\\n\\n[Scene: Central Perk, everyone is there.] \\n\\nJoey: I can\\'t believe what I\\'m hearing here. \\n\\nPhoebe: (sings) I can\\'t believe what I\\'m hearing here... \\n\\nMonica: What? I-I said you had a- \\n\\nPhoebe: (sings) What I said you had... \\n\\nMonica: (to Phoebe) Would you stop? \\n\\nPhoebe: Oh, was I doing it again?\\n\\nAll: Yes!\\n\\nMonica: I said that you had a nice\\nbutt, it\\'s just not a great butt.\\n\\nJoey: Oh, you wouldn\\'t know a great\\nbutt if it came up and bit ya.\\n\\nRoss: There\\'s an image.\\n\\n\\nRachel: (walks up with a pot of coffee) Would anybody like more coffee? \\n\\nChandler: Did you make it, or are you just serving it? \\n\\nRachel: I\\'m just serving it. \\n\\nAll: Yeah. Yeah, I\\'ll have a cup of coffee. \\n\\nChandler: Kids, new dream... I\\'m in Las Vegas. (Rachel\\nsits down to hear Chandler\\'s dream.)\\n\\nCustomer: (To\\nRachel) Ahh, miss? \\xa0 More coffee? \\n\\nRachel: Ugh. (To another customer that\\'s leaving.) Excuse me, could you give\\nthis to that guy over there? (Hands him the coffee pot.) Go ahead. (He does so.) Thank\\nyou. (To the gang.) Sorry.\\xa0 Okay, Las Vegas.\\n\\nChandler: Okay, so, I\\'m in Las\\nVegas... I\\'m Liza Minelli- \\n\\nEnd\\n\\n\\n'"
      ]
     },
     "execution_count": 127,
     "metadata": {},
     "output_type": "execute_result"
    }
   ],
   "source": [
    "episode_scripts[0]"
   ]
  },
  {
   "cell_type": "code",
   "execution_count": 14,
   "metadata": {
    "ExecuteTime": {
     "end_time": "2018-05-29T18:01:05.372672Z",
     "start_time": "2018-05-29T18:01:05.343801Z"
    }
   },
   "outputs": [],
   "source": [
    "#episode_scripts = [episode.replace('\\n',' ') for episode in episode_scripts]"
   ]
  },
  {
   "cell_type": "code",
   "execution_count": 18,
   "metadata": {
    "ExecuteTime": {
     "end_time": "2018-05-29T18:01:46.087749Z",
     "start_time": "2018-05-29T18:01:46.083223Z"
    }
   },
   "outputs": [
    {
     "data": {
      "text/plain": [
       "'\\nCrazy For Friends - 1017 & 1018 - The Last One\\n\\n\\n\\n\\n\\n\\n\\n\\n\\n\\n\\n\\n   \\n     \\n      \\n         \\n          \\n           \\n            \\n               \\n                \\n                \\n               Last Episode of Friends \\n                May 6th!\\n                Recent Updates: Scripts|Spoliers|Pictures \\n              \\n              \\n            \\n          \\n        \\n      \\n      \\n         \\n          \\n        \\n      \\n      \\n         \\n           \\n            \\n               \\n                 \\n                 \\n   \\n    Friends\\n  \\n\\n\\n   \\n     \\n       \\n         \\n           \\n            -Fan Fiction \\n              - Cast \\n              - Links \\n                          - Spoilers \\n              Scripts\\n              \\n                Select Season \\n                Season One\\n                Season Two\\n                Season Three\\n                Season Four\\n                Season Five\\n                Season Six\\n                Season Seven\\n                Season Eight\\n                Season Nine\\n                Season Ten\\n              \\n              \\n              - Quote Of the Day \\n                          - Episode Guide \\n              - Home \\n             \\n        \\n      \\n    \\n  \\n\\n\\n   \\n    The \\n      Friends\\n  \\n\\n\\n   \\n    - Chandler \\n      Bing \\n      - Joey Tribbiani  \\n      - Ross Geller \\n      - Phoebe Buffay \\n      - Rachel Green \\n                  - Monica Bing \\n  \\n\\n\\n   \\n    Pictures\\n  \\n\\n\\n   \\n    - Matthew \\n      Perry\\n      - Matt LeBlanc \\n      - David Schwimmer \\n      - Lisa Kudrow \\n      - Jennifer Aniston \\n      - Courteney Cox  \\n      - Cast Together \\n      - Offical Pictures \\n      - Wallpapers\\n  \\n\\n\\n   \\n    Highlights\\n  \\n\\n\\n   \\n    - Season \\n      One\\n      - Season Two \\n      - Season Three \\n      - Season Four \\n      - Season Five \\n      - Season Six \\n      - Season Seven \\n      - Season Eight \\n      - Season Nine\\n  \\n\\n\\n   \\n    Misc\\n  \\n\\n\\n   \\n    - Fun Facts \\n      - Fanlistings\\n      - Phoebe\\'s Songs\\n      - Quotes (Large)\\n      - Nick Names\\n                  - Quiz\\'s \\n                  \\n      - Contact Me\\n      \\n    \\n  \\n\\n\\n   \\n    Coming \\n      Soon\\n  \\n\\n\\n   \\n     \\n       - More Quiz\\'s- General Updates\\n\\n      \\n    \\n  \\n\\n\\n   \\n    Donate\\n  \\n\\n\\n   \\n     \\n       -\\n\\nSupport This Site!\\n\\n\\n\\n\\n\\n\\n\\n\\n \\n       \\n         \\n                        \\n      \\n \\n    \\n  \\n\\n\\n                \\n                 \\n                  \\n                     \\n                       \\n\\n                      1017/1018 - The Last One\\n\\n\\nWritten by: Marta Kauffman & David Crane \\n  Directed by: Kevin Bright \\nTranscribed by: Kreidy\\n[Scene: Monica and Chandler\\'s apartment. It\\'s a scene from 1016 TOW\\nRachel\\'s Going Away Party.]\\nJennifer Aniston (V.O.): Previously on Friends.\\nMonica: Erica, are you okay?\\nErica: Yeah, you know, maybe I ate too much. I keep getting these \\n  stomach-aches. They come and go like every few minutes.\\nMonica: Oh my God!\\nChandler: Relax! We\\'ll just get her some antacids.\\nMonica: She doesn\\'t have a stomach-ache. She\\'s in labor!\\nChandler: Oh my God!\\n\\xa0\\n[Cut to Ross\\'s apartment. Ross and Rachel are there. It\\'s another \\n  scene from 1016 TOW Rachel\\'s Going Away Party.]\\nRachel: So if you think I didn\\'t say goodbye to you because you don\\'t \\n  mean as much to me as everybody else, you\\'re wrong. It\\'s because you \\n  mean more to me.\\nRoss: Rach!\\nRachel: What?!\\n(He walks over and kisses her. They pull back, Rachel looks at him, \\nand they kiss again.)\\n\\xa0\\n[Scene: Ross\\'s bedroom. Rachel is putting on her shoes as Ross shows \\n  up from underneath the covers.]\\nRoss: Hey.\\nRachel: Shh.. Go back to sleep. I have to go home.\\nRoss: Oh. This was amazing.\\nRachel: It really was. You\\'ve learned some new moves!\\nRoss: Yeah, well, this guy at work gave me \"Sex for Dummies\" as a \\n  joke.\\nRachel: Ah.\\nRoss: Who\\'s laughing now?\\nRachel: I know!\\n(They kiss.)\\n\\xa0\\nOPENING CREDITS\\n[Scene: The delivery room at the hospital. Monica, Chandler and Erica \\n  are there. Erica is in labor, and she is breathing heavily.]\\nMonica: Breathe, breathe, breathe... Good.\\nChandler: Next time, can I say breathe?\\nMonica: No, last time you said it like Dracula, and it scared her! Can \\n  I get you anything? You want some more ice chips?\\nErica: No, I\\'m okay.\\nMonica: Alright, I\\'ll be right back.\\nChandler: Where are you going?\\nMonica: To use the bathroom.\\nChandler: You can\\'t leave me alone with her.\\nMonica: What?\\nChandler: This is exactly the kind of social situation that I am not \\n  comfortable with!\\nMonica: What kind of social situation are you comfortable with?\\nChandler: It\\'s just that we\\'ve never spent any time, you know, alone \\n  together.\\nMonica: You\\'ll be fine. Nah, you won\\'t, but I\\'ll be back in two \\n  minutes.\\nChandler: Okay.\\n(Monica leaves, and Chandler closes the door. Erica just looks at \\n  him.)\\nChandler: So, ah... Any plans for the summer?\\nErica: I don\\'t know. Maybe church-camp?\\nChandler: Hah. May not wanna mention this. So, you ever wonder which \\n  is worse, you know; going through labor or getting kicked in the nuts?\\nErica: What?\\nChandler: Well, it\\'s just interesting. You know, because no one will \\n  ever know, because no one can experience both.\\n(Erica just looks at him like he\\'s crazy.)\\nChandler: One of life\\'s great, unanswerable questions. I mean, who \\n  knows? Maybe there\\'s something even more painful than those things? \\nLike this.\\n\\xa0\\n[Scene: Joey and Rachel\\'s apartment. Joey is there as Phoebe enters. \\n  Joey is holding a baby duck.]\\nPhoebe: Morning.\\nJoey: Hey!\\nPhoebe: What\\'s that?\\nJoey: It\\'s my house-warming present for Monica and Chandler.\\nPhoebe: It\\'s a baby chick and duck!\\nJoey: Uh-huh. And I named them Chick Jr. and Duck Jr.\\nPhoebe: I did not see that coming.\\nJoey: Yeah, I figure they\\'ll love it at the new house, you know? It \\n  has that big backyard. And then, when they get old, they can go to \\n  that special farm that Chandler took the other chick and duck to.\\nPhoebe: Yes.\\nJoey: Yeah. It\\'s a shame people can\\'t visit there.\\nPhoebe: That is the rule, though.\\n(Ross enters.)\\nPhoebe: Guess what? You\\'re almost an uncle!\\nRoss: What?\\nJoey: Yeah, Erica went into labor last night. Monica and Chandler are \\n  at the hospital right now!\\nRoss: Oh my God!\\nPhoebe: Yeah, and I have a definite feeling it\\'s gonna be a girl.\\nRoss: Phoebe, you were sure Ben was gonna be a girl.\\nPhoebe: Have you seen him throw a ball?\\nRoss: Is Rachel here?\\nJoey: Uh, I think she\\'s still asleep. Hey, hey, how did it go with you \\n  guys last night? She seemed pretty pissed at you.\\nRoss: Uh, we, y\\'know, we worked things out.\\nPhoebe: What\\'s that smile? Did something happen with you two?\\nRoss: Hey, I\\'m not one to kiss and tell, but I\\'m also not one to have \\n  sex and shut up. We totally did it!\\nJoey: Oh my God. You and Rachel?\\nRoss: I know, it\\'s pretty great.\\nJoey: So what does that mean? Are you guys getting back together?\\nRoss: Oh, I.. I don\\'t know. We didn\\'t really get to talk.\\nPhoebe: But do you wanna get back together?\\nRoss: I don\\'t know. It was incredible. I mean, it just felt so right. \\n  When I was holding her, I mean, I never wanted to let her go. You know \\n  what? Yeah, I do. I wanna be together.\\nPhoebe: (screaming) YAY!\\nRoss: Shhh!\\nPhoebe: (quietly) Yay!\\nJoey: So, so is she still going to Paris?\\nRoss: Wow, I hadn\\'t thought of that. I hope not.\\nPhoebe: Oh, this is like the best day ever. Ever! You guys might get \\n  back together, Monica and Chandler are getting their baby, there are \\n  chicks and ducks in the world again! Oh, I feel like I\\'m in a musical! \\n  (Singing) \"Daa - raa... When the sun comes up, bright and beaming! And \\n  the moon comes...\"\\n(Rachel enters from her room.)\\nRachel: Morning!\\nPhoebe: Guess we\\'ll never know how it ends.\\nJoey: Okay.\\nRoss: Hey.\\nRachel: Hey.\\nRoss: Hey. How did you sleep?\\nRachel: Good. You?\\nRoss: Good.\\nJoey: I bet you did!\\nRoss: Uh. Would you guys mind giving us a minute?\\nJoey: Sure, yeah. Will you just keep an eye on the chick and the duck?\\nRachel: Chick and the duck? Didn\\'t they die...\\nPhoebe: (interrupting) Dive. Yeah, they dove head-first into fun on \\n  the farm.\\n(Joey and Phoebe leave.)\\nRoss: So...\\n(He kisses her.)\\nRoss: Morning.\\nRachel: You too. Last night was just wonderful.\\nRoss: It really was.\\nRachel: I woke up today with the biggest smile on my face.\\nRoss: I know, me too. It was... You know, it was like one of those \\n  things you think is never gonna happen, and then it does, and it\\'s \\n  everything you want it to be.\\nRachel: Uh-huh. I know. It was just, it was just the perfect way to say goodbye. (She hugs him, and Ross looks crushed.)\\n\\xa0\\n[Scene: The Hospital. Erica is moaning and about to give birth. \\n  Monica, Chandler, a nurse and a doctor are there with her.]\\nMonica: It\\'s just a little bit more, honey.\\nErica: Help me! This hurts!\\nChandler: Is it really that bad?\\nErica: Uh-huh! I think it\\'s time to kick you in the nuts and see which \\n  is worse!\\n(Monica gives Chandler a look.)\\nDoctor: The baby\\'s head is crowning.\\n(Monica walks down to Erica\\'s legs to watch the birth.)\\nMonica: Oh! Oh my God! That is the most beautiful top of a head I have \\n  ever seen! Chandler, you have to see this!\\n(Chandler is standing by Erica\\'s head.)\\nChandler: I\\'m okay.\\nMonica: Chandler, you don\\'t wanna miss this. This is the birth of your \\n  child! It\\'s the miracle of life!\\nChandler: Alright. Wow, that is one disgusting miracle.\\nDoctor: Start pushing. Here we go. Here come the shoulders...\\n(The baby starts crying, and the doctor holds it up.)\\nMonica: It\\'s a... It\\'s a boy!\\nChandler: Wow!\\nErica: Is he okay?\\nDoctor: He\\'s just fine.\\nMonica: Oh, you did it!\\nChandler: (emotional) It\\'s a baby! A beautiful little baby! And some\\n  other stuff I\\'m gonna pretend I don\\'t see.\\nDoctor: Would you like to cut the umbilical cord?\\n(A nurse gives Monica a pair of scissors. Monica gives it to Chandler, \\n  and they cut it together.)\\nChandler: Well, that\\'s spongy.\\nMonica: (to her son) Oh, hey handsome! Oh, I\\'m gonna love you so much\\n  that no woman is ever gonna be good enough for you! (To Chandler, on\\n  the verge of tears) Oh, we are so lucky!\\nChandler: I know. He has your eyes.\\n(Monica looks at him.)\\nChandler: I mean, I know that\\'s not possible, but he does.\\nNurse: We\\'ll just get him cleaned up a bit.\\n(The doctor hands the boy to the nurse, and she walks over to another \\n  part of the room with him.)\\nChandler: Okay.\\nMonica: (To Erica) Oh my God, he\\'s beautiful. Thank you so much.\\nErica: I\\'m really happy for you guys.\\nChandler: How do you feel?\\nErica: I\\'m tired!\\nDoctor: Well, you don\\'t have that much time to relax. The other one \\n  will be along in a minute.\\n(Chandler stares at the doctor, completely shocked. Monica just \\n  freezes and turns around slowly.)\\nMonica: I... I\\'m sorry, who should be along in a what now?\\nDoctor: The next baby should be along in a minute.\\nMonica: We only ordered one!\\nDoctor: You know it\\'s twins, right?\\nChandler: Oh, yeah! These are the faces of two people in the know!\\nCOMMERCIAL BREAK\\n[Scene: The hospital. Continued from earlier.]\\nDoctor: I can\\'t believe you didn\\'t know it\\'s twins! This has never \\n  happened before.\\nChandler: Well, gosh. That makes me feel so special and good.\\nMonica: (to the doctor) Wait, did you know it was twins?\\nDoctor: Yeah, it\\'s here in the paperwork we got from the clinic in \\n  Ohio.\\nMonica: (to Erica) Anybody tell you?\\nErica: I don\\'t think so. Although, they did mention something about \\n  two heartbeats. But I thought that was just mine and the baby\\'s. They \\n  kept saying both heartbeats are really strong, and I thought well, \\n  that\\'s good \\'cause I\\'m having a baby.\\nMonica: This is unbelievable.\\nErica: Twins actually run in my family.\\nChandler: Interesting! (To Monica) Can I see you for a second?\\n(They walk over to the door.)\\nChandler: What do we do?\\nMonica: What do you mean \"what do we do\"?\\nChandler: (panicking) Twins! Twins!!\\nMonica: Chandler, you\\'re panicking!\\nChandler: Uh-huh! Join me, won\\'t you?! Okay, what do you say we keep\\n  one, and then just like have an option on the other one?\\nMonica: We can\\'t split them up!\\nChandler: Why not? We could give each of them half a medallion, and \\n  then years later, they\\'ll find each other and be reunited. I mean, \\n  that\\'s a great day for everybody.\\nMonica: Okay, what if the person who adopts the other one is horrible?\\nChandler: What if they\\'re not? What if it\\'s adopted by a king?\\nMonica: Yeah, because I hear the king is looking to adopt.\\nChandler: Monica, we are not ready to have two babies!\\nMonica: That doesn\\'t matter! We have waited so long for this. I don\\'t \\n  care if it\\'s two babies. I don\\'t care if it\\'s three babies! I don\\'t \\n  care if the entire cast of \"Eight is Enough\" comes out of there! We \\n  are taking them home, because they are our children!\\nChandler: (smiles) Okay. Shhh...\\n(He hugs her.)\\nChandler: Okay.\\nMonica: Okay!\\nChandler: Okay!\\nDoctor: It looks like we\\'re about ready over here.\\n(Monica and Chandler run back to Erica\\'s bed.)\\nDoctor: Come on, Erica, start pushing again now.\\nErica: Ow!\\n(Erica screams.)\\nDoctor: Here she comes!\\nChandler: (shocked) She? It\\'s a girl?\\nDoctor: Yeah.\\nChandler: (To Monica) Well, now we have one of each! (To the doctor) \\n  And that\\'s enough!\\n\\xa0\\n[Scene: Central Perk. Ross, Phoebe and Joey are there.]\\nRoss: And then she said it was the perfect way to say goodbye.\\nJoey: Oh my God! What did you say?\\nRoss: Nothing! What do you say to that?\\nPhoebe: Ross, you\\'ve got to tell her how you feel!\\nRoss: No way!\\nJoey: You can\\'t just give up! Is that what a dinosaur would do?\\nRoss: What?\\nJoey: Dude, I\\'m just trying to speak your language.\\nPhoebe: Ross, Rachel doesn\\'t know that you wanna get back together. If \\n  she did, she might feel differently. She might not even go.\\nRoss: You really think so?\\nPhoebe: I\\'m telling you! Oh, okay! This is the part of the musical \\n  where there\\'d be a really good convincing song. (Singing) \"Bam-bam, \\n  don\\'t take no for an answer. Bam-bam, don\\'t let love fly away. \\n  Bam-bam-bam-bam...\"\\n(Rachel enters and interrupts Phoebe\\'s song.)\\nRachel: Hi!\\nPhoebe: Can\\'t a girl finish a song around here?\\nJoey: Hey!\\nRachel: Hi! So I just dropped Emma off at my mom\\'s.\\nRoss: Okay.\\nJoey: Oh, you\\'re not taking her with you tonight?\\nRachel: No, we decided that I would go ahead and set up first, and \\n  then my mom would bring Emma to Paris on Sunday.\\nPhoebe: Wow, eight hour flight with a one-year old? Good luck, mom.\\nRachel: Are you kidding? Eight hours with my mother talking about \\n  Atkins? Good luck, Emma!\\n(Rachel walks up to the counter.)\\nRoss: Alright, you know what? You\\'re right. I should at least tell her\\n  how I feel.\\n(He stands up.)\\nJoey: Ross, wait!\\nRoss: What? What?\\nJoey: Could you get me a muffin?\\n(Ross walks up to Rachel, but Gunther gets there first.)\\nGunther: Rachel?\\nRachel: Yeah?\\nGunther: I... I know you\\'re leaving tonight, but I just have to tell\\n  you. I love you.\\n(Ross is shocked.)\\nGunther: I... I don\\'t know if that changes your plans at all, but I\\n  thought you should know.\\nRachel: (touched) Gunther... Oh... I love you too. Probably not in the\\n  same way, but I do. And, and when I\\'m in a café, having coffee, or I\\n  see a man with hair brighter than the sun, I\\'ll think of you. Aw.\\n(She kisses him on the cheek and looks over at the others.)\\nRachel: Oh... Bye guys.\\n(Rachel leaves.)\\nRoss: Oh my God!\\nPhoebe: Unbelievable!\\nJoey: Hey, you know what might help?\\nRoss: I\\'m not getting you a muffin!\\n\\xa0\\n[Scene: The hospital. Monica and Chandler are holding the twins, while\\n  two nurses are taking care of Erica.]\\nMonica: Do you think they recognize each other from in there?\\nChandler: Maybe. Unless they\\'re like two people who have lived in \\n  apartments next to each other for years, and then one day they\\'re \\n  pushed through a vagina and they meet.\\nNurse: We\\'re going to take Erica to recovery now.\\nMonica: There\\'s something that we wanna tell you. We decided to name \\n  the girl-baby Erica.\\nErica: Oh my God, that\\'s just like my name!\\nMonica: Son of a gun, it is!\\nErica: Anyway, I\\'m gonna go and get some rest. I\\'m really glad I \\n  picked you guys. You\\'re gonna make great parents. Even Chandler.\\nMonica: Okay, well, bye!\\nErica: Bye!\\nChandler: Bye!\\nMonica: We\\'ll call you!\\nErica: Okay.\\nChandler: Have fun at church-camp!\\n(The nurses take Erica to the recovery room. Monica and Chandler smile\\n  at each other.)\\nMonica: Oh, look at these little bunnies!\\nChandler: I know! You ready to trade?\\nMonica: Okay.\\nChandler: Okay.\\nMonica: Alright, let\\'s see..\\n(They start trying to trade babies while holding one each. They have \\n  no idea how to do it, so they just shift the babies around in their \\n  arms. They give up pretty quickly.)\\nChandler: We could trade later.\\nMonica: Yeah, I\\'m good.\\n\\xa0\\n[Scene: Monica and Chandler\\'s apartment. Joey and Phoebe are there. \\n  There is a white crib decorated with balloons in the middle of the \\n  apartment. Also, there are boxes all over the apartment. Joey is \\n  working on something on the coffee table.]\\nPhoebe: Hey, what are you working on?\\nJoey: It\\'s a... It\\'s a \"welcome home\" sign for the baby.\\n(He holds up a white poster with huge red letters. It reads, \"Welcome\\n  Home Baby.\" There is also a huge red stain on the left of the poster.)\\nPhoebe: How sweet! Oh, is that the baby?\\n(She points at the stain.)\\nJoey: No, I sat in the paint.\\n(Ross enters with a gift for the baby.)\\nRoss: Hey.\\nPhoebe: Hey. So, did you talk to Rachel?\\nRoss: No, and I\\'m not going to.\\nPhoebe: What?\\nJoey: Why not?\\nRoss: Because she\\'s just going to shoot me down. You guys saw what \\n  happened with Gunther. That did not look like fun.\\nPhoebe: How can you compare yourself to Gunther? I mean, sure, he\\'s \\n  sexy in a more obvious way. You have a relationship with her, you \\n  slept together last night.\\nRoss: Yeah, and she still wants to go! It\\'s pretty clear where she is.\\nJoey: Yeah, I know what you mean. I mean, sometimes...\\n(He sits down in the wet paint again.)\\nPhoebe: Uh, Joe?\\nJoey: Damn it!\\nRoss: Look, even if I were gonna tell her, I don\\'t have to do it now. \\n  Okay? I\\'ll be seeing her again. We\\'ve got time.\\nPhoebe: No, you don\\'t! She\\'s going to Paris! She is going to meet \\n  somebody. Do you know how many hot guys there are in Paris? It\\'s... \\n  It\\'s a city of Gunthers!\\n(Mike enters with a roll of paper in his hand.)\\nMike: Hey!\\nPhoebe: Hey! What do you have there?\\nMike: Oh, I made a little something. If I had more time to work on it, \\n  it\\'d be better, but..\\n(He shows them a beautiful banner he has made. It reads, \"Welcome to \\n  the World, Baby Bing.\")\\nRoss: Oh my God! You did that yourself?\\nPhoebe: Honey, that\\'s gorgeous!\\nJoey: You know, the baby can\\'t read, Mike!\\n(Rachel enters.)\\nRachel: Hi! You guys, the car-service just got here. I can\\'t believe\\n  they\\'re not home yet! I have to catch my stupid plane. I wanna see the\\n  baby!\\nJoey: Monica just called from the cab. She said they should be here\\n  any minute. And apparently, there\\'s some big surprise.\\nPhoebe: Yeah, did she sound happy about it? \\'Cause my friend Ethel\\'s\\n  baby was born with a teeny, tiny beard.\\n(Monica enters carrying her son.)\\nRachel: Oh my God!\\nRoss: Oh my God!\\n(They all walk over to see the baby.)\\nRachel: Hi! Oh my gosh!\\n(Chandler enters carrying his daughter.)\\nChandler: Hey.\\n(Everybody turns around.)\\nPhoebe, Ross, Rachel: Hey.\\n(They turn back around to see the baby Monica\\'s carrying, but then \\n  they realise what the surprise is. Ross, Mike, Phoebe and Rachel gasp \\n  and stare at Chandler and his baby. Joey hasn\\'t figured it out yet.)\\nJoey: (To Monica) Hey, so what is the big surprise?\\nRachel: Oh.\\n(Joey stares at Chandler and Monica and finally puts two and two \\n  together. He gasps.)\\nRoss: Oh my God!\\nRachel: What... What...\\nRoss: Okay, okay, awkward question. The hospital knows you took two, \\n  right?\\nMonica: Yes, it\\'s twins!\\nRoss: Oh my God.\\nJoey: Oh, they\\'re so cute! Now, what, what kinds are they?\\nMonica: (points at the baby she\\'s holding) This is a boy, (points at \\n  the baby Chandler is holding) and that\\'s a girl.\\nChandler: Her name is Erica.\\nRachel: Aw..\\nJoey: Hey, that pregnant girl\\'s name was Erica.\\nChandler: Yeah. It\\'s a shame you two didn\\'t get to spend more time\\n  together.\\nMonica: Yeah, we named the boy Jack after dad.\\nRoss: Aw, he\\'s gonna be so happy.\\nPhoebe: Oh, Jack Bing. I love that. Ooh, it sounds like a \\'40s\\n  newspaper guy, you know? \"Jack Bing, Morning Gazette. I\\'m gonna blow\\n  this story wide open!\"\\n(Chandler and Monica carry Erica and Jack over to the crib and put\\n  them down carefully.)\\nRachel: Oh my gosh. Wow, so beautiful.\\nMike: (To Phoebe) I want one.\\nPhoebe: Oh yeah? Well, tell me which one, and I\\'ll try slip it in my\\n  coat.\\nMike: Seriously. Wanna make one of those?\\nPhoebe: One? How about a whole bunch?\\nMike: Really?\\nPhoebe: Yeah! Ooh, we could teach them to sing, and we can be like the\\n  Von Trapp family! Only without the Nazis. Although that sounds kinda\\n  dull.\\nRachel: Oh, you guys, I can\\'t believe this. But I\\'ll leave now, or I\\'m\\n  gonna miss my plane.\\nMonica: I\\'m just so glad you got to see the babies.\\n(They hug.)\\nRachel: Me too. Oh, I\\'m just sorry I\\'m not gonna be around to watch\\n  you two attempt to handle this! Alright, I can\\'t say goodbye to you\\n  guys again. I love you all so much.\\nMonica: I love you.\\nChandler: I love you.\\nMonica: Call us when you get there.\\nRachel: I will. Ross, come here.\\n(She pulls him over to the door.)\\nRachel: I just want you to know.. Last night.. I\\'ll never forget it.\\nRoss: Neither will I.\\n(They hug as Phoebe and Joey stare at the two of them.)\\nRachel: Alright, now I really have to go. Okay. Au revoir! Oh, they\\'re \\n  gonna really hate me over there.\\n(She leaves.)\\nPhoebe: So, you just let her go?\\nRoss: Yeah.\\nJoey: Hey, maybe that\\'s for the best.\\nRoss: Yeah?\\nJoey: Yeah. You know? You just... Look, you gotta... You gotta think \\n  about last night the way she does, okay? Maybe, maybe sleeping \\n  together was the perfect way to say goodbye?\\nPhoebe: But now she\\'ll never know how he feels!\\nJoey: Maybe that\\'s okay. You know? Maybe, maybe it is better this way? \\n  I mean, now, now you can move on. I mean, you\\'ve been trying to for so\\n  long, maybe now that you\\'re on different continents.. (Looks at\\n  Phoebe) Right?\\n(Phoebe nods.)\\nJoey: Maybe now you can actually do it. You know? You can finally get\\n  over her.\\nRoss: Yeah, that\\'s true. Except I don\\'t wanna get over her.\\nJoey: What?\\nRoss: I don\\'t! I wanna be with her.\\nJoey: Really?\\nRoss: Yeah, I\\'m gonna go after her.\\nJoey: Yeah, you are!\\nPhoebe: Woo!\\n(Monica and Chandler look shocked as Ross goes to leave.)\\nPhoebe: Wait, wait! Get your coat! Get your coat!\\nRoss: My coat...\\nJoey: This is so cool!\\nChandler: I have no idea what\\'s going on, but I am excited!\\nJoey: But Ross, Ross. What do you, what do you think she\\'s going to\\n  say?\\nRoss: I don\\'t know, but I.. Look, even if she shoots me down, at least\\n  I won\\'t spend the rest of my life wondering what would have happened.\\n  Where - where is my coat?!\\nPhoebe: You didn\\'t bring one! My cab\\'s downstairs, I\\'ll drive you to\\n  the airport.\\nRoss: Okay, guys, wish me luck.\\nPhoebe: Hurry!\\nJoey: Good luck, good luck!\\n(Phoebe and Ross leave.)\\n\\xa0\\n[Scene: The street right in front of Central Perk. Phoebe\\'s cab is\\n  there. Ross and Phoebe run over and jump in.]\\nRoss: There\\'s no seatbelt!\\nPhoebe: That\\'s okay. If - if we hit anything, the engine will explode, \\n  so you know, it\\'s better if you\\'re thrown from the car.\\n(Ross looks terrified.)\\nRoss: Alright, alright, let\\'s do this!\\nPhoebe: Okay!\\n(A guy comes up and gets into the backseat of the cab.)\\nRoss: Hey!\\nMan: 18th and East End.\\nPhoebe: I - I don\\'t take passengers.\\nMan: Hey! The law says you have to accept any fare.\\nRoss: No, you don\\'t understand. This isn\\'t a real cab.\\nMan: Alright, I gotta report you. What\\'s your medallion number?\\nPhoebe: My medallion number is, \"Get out of the cab!\"\\nMan: What?\\nRoss: (screaming) Get out of the cab!\\nPhoebe: Get out of the cab!\\n(The man jumps out, obviously a little scared. Phoebe drives off.)\\n\\xa0\\n[Scene: Monica and Chandler\\'s apartment. Monica, Chandler and Joey are\\n  there, packing the last boxes.]\\nJoey: Oh, hey, hey, can I give you guys your house-warming present \\n  now?\\nMonica: Now, that you can do.\\nJoey: Alright!\\n(Cut to Joey\\'s apartment. Joey looks inside the cardboard box that\\n  used to be the home of Chick Jr. and Duck Jr., but they have\\n  disappeared.)\\nJoey: Ah... Chick Jr.? Duck Jr.? Don\\'t hide from mama!\\n\\xa0\\n[Scene: Phoebe\\'s cab. Phoebe is driving very fast, and a terrified\\n  Ross has closed his eyes.]\\nPhoebe: You can open your eyes now.\\nRoss: Are we off the bridge?\\nPhoebe: Yes.\\nRoss: Is the old woman on the bicycle still alive?\\nPhoebe: Yes, she jumped right back up.\\n(Ross opens his eyes.)\\nRoss: Oh my God, Phoebe, slow down!\\nPhoebe: Do you wanna get to Rachel in time?\\nRoss: Yes, but I don\\'t wanna die in your cab!\\nPhoebe: You should have thought of that before you got in!\\n(They drive up to a toll-booth.)\\nPhoebe: Toll-booth.\\nRoss: What?\\nPhoebe: (screaming) Toll-booth! Four bucks. There are quarters in the \\n  glove compartment.\\n(Ross tries to open a plastic bag filled with quarters, but he\\'s quite\\n  slow.)\\nPhoebe: Hurry!\\nRoss: Okay!\\nPhoebe: Okay.\\n(Phoebe tries to throw some quarters out the window, but she has\\n  forgotten to open the window, and she and Ross scream.)\\nPhoebe: Damn, that window is clean.\\n\\xa0\\n[Scene: Joey\\'s apartment. Joey is still looking for the birds.]\\nJoey: Quack, quack, tweet, tweet, quack, quack, tweet, tweet, quack,\\n  quack, tweet, tweet, quack, quack, tweet, tweet, quack, tweet, quack...\\n(Monica and Chandler enter.)\\nChandler: We were wondering what was taking so long with the gift, but\\n  now we understand you were doing this.\\nJoey: Okay, I wanted to surprise you, but for your house-warming gift,\\n  I got you a baby-chick and a baby-duck!\\n(Chandler grins, while Monica is less enthusiastic.)\\nChandler: Really? You got us a chick and a duck?\\nMonica: Oh, great! Just what you want for a new house with infants.\\n  Bird feces.\\nJoey: Yeah, yeah, they must have jumped off the table, \\'cause now\\n  they\\'re gone!\\nChandler: Oh, don\\'t worry, we\\'ll find them.\\nMonica: Actually, I\\'m gonna go check on the twins.\\nChandler: Alright.\\n(Monica turns around and is about to leave when she steps on\\n  something.)\\nMonica: Oh God! What did I just step on?\\nJoey: Oh!\\nChandler: It\\'s okay, it\\'s just an egg roll.\\nMonica: Oh..\\nJoey: You stepped on my egg roll?\\nMonica: I\\'m sorry, I didn\\'t know to look for Chinese food on the \\n  floor.\\nJoey: Just put it on a plate and leave.\\n(She does so.)\\nChandler: Okay, let\\'s find these birds.\\nJoey: Alright.\\n(Suddenly, they hear the birds.)\\nJoey: Wait, wait. Do you hear that?\\n(They realise that the birds are in the foosball table.)\\nJoey: Oh! They\\'re in the table!\\nChandler: Well, that can\\'t be good!\\nJoey: We gotta get them out of there!\\nChandler: How?\\nJoey: Oh, oh! Maybe we can lure them out. You know any birdcalls?\\nChandler: Oh, tons, I\\'m quite the woodsman.\\nJoey: Well, maybe we can just tip the table a little.\\nChandler: Joey, wait! The ball!\\nJoey: Oh!\\n(The ball rolls into one of the goals, and Chandler and Joey listen in \\n  horror as the ball makes its way inside the table. Finally, they can \\n  hear the birds again.)\\nJoey: Oh God! So what do we do?\\nChandler: I don\\'t know. Maybe we can open this up somehow.\\nJoey: Okay.\\nChandler: No... It\\'s all glued together.\\nJoey: Does that mean we have to bust it open?\\nChandler: I don\\'t know. Maybe.\\nJoey: Oh my God!\\nChandler: I know! It\\'s.. It\\'s the foosball table.\\nJoey: All right, you know what? We don\\'t have a choice. It\\'s like I would \\n  have said in that sci-fi movie if I\\'d gotten the part. \"Those are our \\n  men in there, we have to get them out! Even if I have to sacrifice the \\n  most important thing in my life; my time-machine.\"\\nChandler: Did that movie ever get made?\\nJoey: It did not.\\n\\xa0\\n[Scene: The airport. Ross and Phoebe run in.]\\nPhoebe: Ross, where are you going?\\nRoss: To talk to Rachel, isn\\'t that why we took a ride in the \\n  death-cab?\\nPhoebe: What? What are you just gonna walk up to her at the gate? Have \\n  you never chased anyone through the airport before?\\nRoss: Not since my cop-show got cancelled.\\nPhoebe: You have to get a ticket to get past security.\\nRoss: What? We\\'re never gonna make it!\\nPhoebe: Not with that attitude! Now, haul ass!\\n(They run to the ticket counter, but they get stuck behind a group of \\n  old people who are walking very slowly.)\\nRoss: Okay, if you could all walk slower, that\\'d be great. \\n\\xa0 \\n[Scene: The gate. Rachel walks up to the man at the gate and gives him \\nher passport.]\\nGate attendant #1: (with a French accent) Madame, your passport \\n  please?\\nRachel: Oh my God! I was so afraid I wasn\\'t gonna remember any of my \\n  high-school French, but I understood every word you just said!\\nGate attendant #1: Your boarding pass, please.\\nRachel: Oh.\\n(She starts looking through her purse, but she can\\'t find it.)\\nRachel: Oh, shoot. I had it. Oh, I can\\'t believe this.\\nGate attendant #1: Madame, if you don\\'t have your boarding pass...\\nRachel: I have it, I have it, I have it. Oh, okay, I can\\'t find it, \\n  but I remember that I was in seat 32C, because that\\'s my bra-size.\\nGate attendant #1: Madame, you must have your boarding pass..\\nRachel: Okay, fine! But you know what? If I was in 36D, we would not \\nbe having this problem. \\n\\xa0 \\n[Scene: The ticket-counter. Ross and Phoebe come running.]\\nRoss: Hey, I need a ticket.\\nPhoebe: Just one? I drive you all the way down here, and I don\\'t get \\n  to see how it works out?\\nRoss: Fine, two tickets, I need two tickets.\\nPhoebe: We\\'re on our honeymoon.\\nTicket agent: And the destination?\\nRoss: I don\\'t care. Whatever is the cheapest.\\nPhoebe: I\\'m so lucky I married you.\\n\\xa0\\n[Scene: The gate. Rachel is still searching for her boarding pass.]\\nRachel: Oh! Shoot! Damn it! Where is it? Oh! Oh! I found it! I found \\n  it!\\n(She runs up to the gate and the gate attendant standing there.)\\nRachel: Hah! I found it! I told you I would find it! In your face! \\nYou\\'re a different person. \\n\\xa0 \\n[Scene: The ticket-counter. Ross and Phoebe have their tickets and \\n  start looking at the screens in order to find the gate.]\\nRoss: Okay, flight 421 to Paris. I don\\'t see it, do you see it?\\nPhoebe: No, did we miss it?\\nRoss: No, no, no. That\\'s impossible. It doesn\\'t leave for another 20 \\n  minutes.\\nPhoebe: Maybe we have the flight-number wrong. God.\\n(Phoebe picks up her cell-phone and calls Monica. Monica is still packing in her apartment.)\\nMonica: Hello.\\nPhoebe: Hey, it\\'s me. Here\\'s Ross.\\nRoss: What? Hey, hey, listen..\\n(Monica is standing by the crib, and she\\'s looking at her babies.)\\nMonica: Oh my God! Ross, you wouldn\\'t believe the cute little noises \\n  the twins are making. Listen.\\n(She holds the phone down to the twins.)\\nRoss: Monica? Monica, Monica, Monica, Monica..?\\nMonica: Oh, I\\'m sorry. Shoot, they were doing it before.\\nRoss: That\\'s alright. Listen, listen.\\nMonica: Oh, wait, wait, wait! Here they go again.\\n(She holds down the phone to the twins again.)\\nRoss: Monica? Monica, Monica, Monica, Monica..?\\nMonica: Isn\\'t that cute?\\nRoss: That is precious! Listen! I need Rachel\\'s flight information.\\nMonica: Oh, okay. Alright, it\\'s flight 421. Leaves at 8:40.\\nRoss: Yes, that\\'s what I have. It\\'s not on the board.\\nMonica: That\\'s what it says here. Flight 421, leaves at 8:40, Newark \\n  airport.\\nRoss: What?\\nMonica: Newark airport. Why, where are you?\\nRoss: JFK.\\n(Ross sadly hangs up the phone, while Phoebe looks at him. Cut to Rachel at the gate. She gives her boarding pass to the gate \\n  attendant, and she goes onboard. The gate attendant closes the door \\nand locks it.) \\n\\xa0\\n[Scene: Joey\\'s apartment. Joey and Chandler are still trying to get \\n  the birds out of the foosball-table.]\\nJoey: (yelling) Don\\'t worry, you guys, we\\'re gonna get you out of \\n  there.\\nChandler: And we\\'re also gonna buy you tiny, bird hearing-aids.\\n(Joey picks up a hammer and a crowbar and gets ready to destroy the \\n  table.)\\nJoey: Okay. Here goes.\\nChandler: What\\'s the matter?\\nJoey: I need to say goodbye to the table first.\\nChandler: I understand.\\nJoey: Okay. Table, you have given us so many great times. And you \\n  guys, Jordan, Victor, Joel... All of you guys. What can I say? You \\n  guys make us look good. You wanna say anything?\\nChandler: I don\\'t know. Except that, for one last time... (he touches \\n  the players as he says the following) Good game, good game, good game, \\n  good game, good game, good game, good game.\\nJoey: Okay, here we go. I can\\'t do it.\\nChandler: Well, I can\\'t do it either.\\n(Monica enters.)\\nMonica: Hey! Did you find them?\\nJoey: Yeah, they\\'re stuck inside the table!\\nChandler: We have to bust it open, but neither of us can do it!\\nMonica: Oh, well sure. This gotta be so hard. I\\'ll do it. Gimme!\\n(Monica grabs the hammer and the crowbar and gets ready to bust it \\nopen.) \\n\\xa0 \\n[Scene: Phoebe\\'s cab. She\\'s driving faster than ever before.]\\nRoss: Phoebe! Wow! No, no, no!\\n(Phoebe screams.)\\nPhoebe: Well, I\\'ve never gone this fast before.\\nRoss: Phoebe, forget it, okay? Newark is - is like an hour away. \\n  There\\'s no way we\\'re gonna make it in time.\\nPhoebe: She\\'s got her cell, you could call her.\\nRoss: I am not doing this over the phone.\\nPhoebe: You don\\'t have any other choice!\\n(She lets go of the steering wheel to get her cell-phone from her \\n  purse. Ross screams and reaches over in order to hold onto the wheel. Cut to the plane. Rachel is sitting in her seat when her cell-phone \\n  rings.)\\nRachel: Hello?\\nPhoebe: Rachel? Oh, good. Hey, by the way, did you just get on the \\n  plane?\\nRachel: Yeah.\\nPhoebe: (To Ross) For what it\\'s worth, we would have caught her if we were at the right airport.\\nRoss: Yay.\\nPhoebe: Uh, Rach, hang on.\\n(Phoebe tries to give her phone to Ross, but he won\\'t take it. He \\n  mouths \"no.\")\\nRachel: Phoebe? Is everything okay?\\nPhoebe: Uhm, actually no. No, you\\'ve... You have to get off the plane.\\nRachel: What? Why?\\nPhoebe: I have this feeling that something\\'s wrong with it. Something \\n  is wrong with the left Philange.\\nRachel: Oh, honey, I\\'m sure there\\'s nothing wrong with the plane.\\n(The passenger in the seat next to Rachel looks at her and seems a \\n  little nervous.)\\nRachel: Alright, look, I have to go. I love you, and I will call you \\n  the minute I get to Paris.\\n(Rachel hangs up.)\\nPassenger #1: Uhm, what was that?\\nRachel: Oh, that was just my crazy friend. She told me I should get \\n  off the plane, because she had a feeling that there was something \\n  wrong with the left Philange.\\nPassenger #1: Okay, that doesn\\'t sound good.\\nRachel: I wouldn\\'t worry about it. She\\'s always coming up with stuff \\n  like this, and you know what? She\\'s almost never right.\\nPassenger #1: But she is sometimes.\\nRachel: Well...\\n(The passenger stands up and gets his suitcase from the overhead \\n  compartment.)\\nRachel: Wait, what are you doing?\\nPassenger #1: Well, I can\\'t take this plane now.\\nAir stewardess: Excuse me, sir, where are you going?\\nPassenger #1: I have to get off this plane, okay? Her friend has a \\n  feeling something\\'s wrong with the left Philange.\\nRachel: Could I get some peanuts?\\nPassenger #2: What\\'s wrong with the plane?\\nAir stewardess: There\\'s nothing wrong with the plane.\\nPassenger #1: Yeah! The left Philange!\\nAir stewardess: There is no Philange!\\nPassenger #1: Oh my God. This plane doesn\\'t even have a Philange!\\nPassenger #2: I\\'m not flying on it!\\nAir stewardess: Ma\\'am, please sit down!\\nPassenger #3: What\\'s going on?\\nPassenger #1: We\\'re all getting off. There is no Philange!\\n(Everybody walks out of the plane.)\\nRachel: This is ridiculous! I...\\n(She notices that everybody is leaving.)\\nRachel: Yeah, okay.\\n(Rachel leaves as well.)\\n\\xa0\\n[Scene: Joey\\'s apartment. Monica has completely destroyed the \\n  foosball-table, and Chandler and Joey are holding the birds.]\\nMonica: Alright. My job here is done.\\nChandler: That was... Impressive.\\nJoey: Yeah, you didn\\'t even use the tools for most of it!\\nMonica: Yeah, they were just slowing me down. Alright, I have to get \\n  back to the babies. I\\'ll see you girls later.\\n(Monica leaves.)\\nChandler: Sorry about the table, man.\\nJoey: Yeah.\\nChandler: You gonna buy a new one?\\nJoey: Probably not. Nah. I don\\'t know how much I\\'m gonna wanna play \\n  after you go.\\nChandler: Well, at least we got these little guys out.\\nJoey: Yeah.\\nChandler: Aww, we were worried about you! Hm. I guess I better get \\n  used to things crapping in my hand, huh?\\nJoey: I\\'m gonna miss these little guys. It was nice having birds \\n  around again.\\nChandler: Hey, you know what? Maybe we should keep them here with you.\\nJoey: What?\\nChandler: Yeah, I mean we\\'ve got a lot going on right now. And, plus, \\n  here they\\'d have their own room.\\nJoey: I could get a goose!\\nChandler: You know, I - I think you\\'re set with the poultry.\\nJoey: Thanks man. Did you hear that, you guys? You\\'re gonna get to \\n  stay here! And, and it\\'s good, you know, \\'cause, \\'cause now you have a \\n  reason to come visit.\\nChandler: I think there may be another reason. So, awkward hug or lame \\n  cool guy handshake?\\nJoey: Uh, lame cool guy handshake, yeah.\\n(They do the lame cool guy handshake. They look at each other, and \\nthen they hug.) \\n\\xa0 \\n[Scene: The gate at the airport. The passengers are standing in line, \\n  and they\\'re about to board the plane again.]\\nGate attendant #2: Ma\\'am, I assure you, the plane is fine.\\nPassenger #2: And you fixed the Philange?\\nGate attendant #2: Yes, the Philange is fixed. As a matter of fact, we \\n  put a whole lot of extra Philanges onboard, just in case.\\n(Rachel walks up to the gate. Cut to Ross and Phoebe who come running up to the gate.)\\nRoss: Where is she?\\nPhoebe: I don\\'t see her.\\nRoss: Rachel! Rachel Green!\\nPhoebe: There she is!\\nRoss: Rachel! Rachel!\\nGate attendant #2: Wow, excuse me, sir, do you have a boarding pass?\\nRoss: No, no, I just have to talk to someone.\\nGate attendant #2: I\\'m sorry, you cannot go any further without a \\n  boarding pass.\\nRoss: No, no, no, but...\\nPhoebe: (screaming) RACHEL!!\\n(Rachel comes back to the gate.)\\nRachel: Oh my God... What.. What are you guys doing here?\\nPhoebe: Okay, you\\'re on.\\nRachel: What? What? Ross, you\\'re scaring me. What\\'s going on?\\nRoss: Okay, the thing is..\\nRachel: Yeah?\\nRoss: Don\\'t go.\\nRachel: What?\\nRoss: Please, please stay with me. I am so in love with you. Please, \\n  don\\'t go.\\nRachel: Oh my God.\\nRoss: I know, I know. I shouldn\\'t have waited \\'till now to say it, but \\n  I\\'m.. That was stupid, okay? I\\'m sorry, but I\\'m telling you now. I \\n  love you. Do not get on this plane.\\nGate attendant #2: Miss? Are you boarding the plane?\\nRoss: Hey, hey. I know you love me. I know you do.\\nGate attendant #2: Miss?\\nRachel: I - I have to get on the plane.\\nRoss: No, you don\\'t.\\nRachel: Yes, I do.\\nRoss: No, you don\\'t.\\nRachel: They\\'re waiting for me, Ross. I can\\'t do this right now, I\\'m \\n  sorry. I\\'m sorry.\\nRoss: Rachel?\\nRachel: I\\'m so sorry.\\n(She boards the plane.)\\nRoss: I really thought she\\'d stay.\\nPhoebe: I\\'m sorry.\\n(Phoebe hugs Ross.)\\n\\xa0\\n[Scene: Monica and Chandler\\'s apartment. Joey, Chandler, Monica and \\n  the twins are there. Everything has been put into boxes.]\\nMonica: Well, that\\'s it. Everything\\'s packed.\\nChandler: Wow, this is weird.\\nMonica: I know.\\nJoey: Yeah. Uh, does this mean there\\'s nothing to eat?\\nMonica: I put three lasagnas in your freezer.\\nJoey: I love you!\\n(He hugs her. Phoebe enters.)\\nJoey: Hey!\\nPhoebe: Hey.\\nJoey: So did you guys make it in time?\\nPhoebe: Yeah, yeah, he talked to her, but she got on the plane anyway.\\nChandler: Where\\'s Ross?\\nPhoebe: He went home. He didn\\'t want to see anybody.\\n\\xa0\\n[Scene: Ross\\'s apartment. Ross enters and checks his messages.]\\nRachel: (on the answering machine) Ross, hi. It\\'s me. I just got back \\n  on the plane. And I just feel awful. That is so not how I wanted \\n  things to end with us. It\\'s just that I wasn\\'t expecting to see you, \\n  and all of a sudden you\\'re there and saying these things... And... And \\n  now I\\'m just sitting here and thinking of all the stuff I should have \\n  said, and I didn\\'t. I mean, I didn\\'t even get to tell you that I love \\n  you too. Because of course I do. I love you. I love you. I love you. \\n  What am I doing? I love you! Oh, I\\'ve gotta see you. I\\'ve gotta get \\n  off this plane.\\nRoss: Oh my God!\\nRachel: (on the answering machine) Excuse me?\\nAir stewardess: (on the answering machine) Miss? Please, sit down!\\nRachel: (on the answering machine) I\\'m sorry. I\\'m really sorry, but I \\n  need to get off the plane, okay? I need to tell someone that I love \\n  love them.\\nAir stewardess: (on the answering machine) Miss, I can\\'t let you off \\n  the plane.\\nRoss: Let her off the plane!\\nAir stewardess: (on the answering machine) I am afraid you are gonna \\n  have to take a seat.\\nRachel: (on the answering machine) Oh, please, miss, you don\\'t \\n  understand!\\nRoss: Try to understand!\\nRachel: (on the answering machine) Oh, come on, miss, isn\\'t there any \\n  way that you can just let me off...\\n(The message is finished. Ross jumps over to the answering machine.)\\nRoss: No! No! Oh my God. Did she get off the plane? Did she get off \\n  the plane?\\nRachel: I got off the plane.\\nRoss: You got off the plane.\\n(He walks over and kisses her.)\\nRachel: I do love you.\\nRoss: I love you too, and I\\'m never letting you go again.\\nRachel: Okay. \\'Cause this is where I wanna be, okay? No more messing \\n  around. I don\\'t wanna mess this up again.\\nRoss: Me neither, okay? We are - we\\'re done being stupid.\\nRachel: Okay. You and me, alright? This is it.\\nRoss: This is it. Unless we\\'re on a break.\\n(Rachel gives him a look.)\\nRoss: Don\\'t make jokes now.\\n(They kiss again.)\\n\\xa0\\n[Scene: Monica and Chandler\\'s apartment. Chandler and Monica are \\n  holding the twins. Joey and Phoebe are sitting by the window, while \\n  Ross and Rachel are standing together. The apartment is completely \\n  empty. Two men are carrying a large dresser.]\\nMonica: Okay, please be careful with that. It was my grandmother\\'s. Be \\n  careful.\\n(Two other men are rolling the big white dog out of the apartment.)\\nMonica: If that falls off the truck, it wouldn\\'t be the worst thing.\\n(She slips them some money.)\\nRoss: Wow.\\nRachel: I know. It seems smaller somehow.\\nJoey: Has it always been purple?\\nChandler: (to his children) Look around, you guys. This was your first \\n  home. And it was a happy place, filled with love and laughter. But \\n  more important, because of rent control, it was a friggin\\' steal!\\n(Monica and Chandler put Jack and Erica in their stroller.)\\nPhoebe: Hey, do you realise that at one time or another we all lived \\n  in this apartment?\\nMonica: Oh, yeah, that\\'s true.\\nRoss: Uh, I haven\\'t.\\nMonica: Wait a minute. What about that summer during college that you \\n  lived with grandma, and you tried to make it as a dancer?\\nRoss: Do you realise we almost made it ten years without that coming \\n  up?\\nMonica: Oh, honey, I forgot. I promised Treeger that we\\'d leave our \\n  keys.\\nChandler: Oh, okay.\\n(Chandler and Monica walk over to the kitchen-counter and leave their \\n  keys. Then the other four pick out their keys and leave them as well.)\\nPhoebe: So, I guess this is it.\\nJoey: Yeah. I guess so.\\nMonica: (crying) This is harder than I thought it would be.\\nChandler: Oh, it\\'s gonna be okay.\\n(Chandler hugs her. Monica hugs Ross and Rachel as Chandler gets the stroller with the \\n  twins.)\\nRachel: (crying) Do you guys have to go to the new house right away, \\n  or do you have some time?\\nMonica: We got some time.\\nRachel: Okay, should we get some coffee?\\nChandler: Sure. Where?\\n(They all leave the apartment. Joey helps Chandler with the stroller \\n  in the hallway, while Monica and Rachel have their arms around each \\n  other. Everybody walks downstairs to Central Perk. The camera goes \\n  inside the apartment again, and it pans around. We see the keys on the \\n  counter, and the final shot is of the frame around the peephole. The \\n  screen fades to black.)\\nTHE END \\n                 \\n                        \\nCrazy For Friends is best viewed at \\n  800x600 with Internet Explorer 6.0. Contact Nikki here.\\n                          © 2004 http://www.livesinabox.com \\n                          is in no way associated with Friends, Warner Bros, NBC \\n                          or Bright/Kauffman/Crane Productions.\\n  Crazy for Friends is an American web site. All times, dates, and schedules are \\n  in Eastern Standard Time. \\n\\t\\t\\t\\t \\n                    \\n                  \\n                \\n              \\n            \\n            \\n        \\n      \\n    \\n  \\n'"
      ]
     },
     "execution_count": 18,
     "metadata": {},
     "output_type": "execute_result"
    }
   ],
   "source": [
    "episode_scripts[230]"
   ]
  },
  {
   "cell_type": "code",
   "execution_count": 19,
   "metadata": {
    "ExecuteTime": {
     "end_time": "2018-05-29T18:02:28.474209Z",
     "start_time": "2018-05-29T18:02:28.471024Z"
    }
   },
   "outputs": [],
   "source": [
    "episode_230 = episode_scripts[230].split('\\n')"
   ]
  },
  {
   "cell_type": "code",
   "execution_count": 23,
   "metadata": {
    "ExecuteTime": {
     "end_time": "2018-05-29T18:03:06.407843Z",
     "start_time": "2018-05-29T18:03:06.395119Z"
    }
   },
   "outputs": [
    {
     "data": {
      "text/plain": [
       "['',\n",
       " 'Crazy For Friends - 1017 & 1018 - The Last One',\n",
       " '',\n",
       " '',\n",
       " '',\n",
       " '',\n",
       " '',\n",
       " '',\n",
       " '',\n",
       " '',\n",
       " '',\n",
       " '',\n",
       " '',\n",
       " '',\n",
       " '   ',\n",
       " '     ',\n",
       " '      ',\n",
       " '         ',\n",
       " '          ',\n",
       " '           ',\n",
       " '            ',\n",
       " '               ',\n",
       " '                ',\n",
       " '                ',\n",
       " '               Last Episode of Friends ',\n",
       " '                May 6th!',\n",
       " '                Recent Updates: Scripts|Spoliers|Pictures ',\n",
       " '              ',\n",
       " '              ',\n",
       " '            ',\n",
       " '          ',\n",
       " '        ',\n",
       " '      ',\n",
       " '      ',\n",
       " '         ',\n",
       " '          ',\n",
       " '        ',\n",
       " '      ',\n",
       " '      ',\n",
       " '         ',\n",
       " '           ',\n",
       " '            ',\n",
       " '               ',\n",
       " '                 ',\n",
       " '                 ',\n",
       " '   ',\n",
       " '    Friends',\n",
       " '  ',\n",
       " '',\n",
       " '',\n",
       " '   ',\n",
       " '     ',\n",
       " '       ',\n",
       " '         ',\n",
       " '           ',\n",
       " '            -Fan Fiction ',\n",
       " '              - Cast ',\n",
       " '              - Links ',\n",
       " '                          - Spoilers ',\n",
       " '              Scripts',\n",
       " '              ',\n",
       " '                Select Season ',\n",
       " '                Season One',\n",
       " '                Season Two',\n",
       " '                Season Three',\n",
       " '                Season Four',\n",
       " '                Season Five',\n",
       " '                Season Six',\n",
       " '                Season Seven',\n",
       " '                Season Eight',\n",
       " '                Season Nine',\n",
       " '                Season Ten',\n",
       " '              ',\n",
       " '              ',\n",
       " '              - Quote Of the Day ',\n",
       " '                          - Episode Guide ',\n",
       " '              - Home ',\n",
       " '             ',\n",
       " '        ',\n",
       " '      ',\n",
       " '    ',\n",
       " '  ',\n",
       " '',\n",
       " '',\n",
       " '   ',\n",
       " '    The ',\n",
       " '      Friends',\n",
       " '  ',\n",
       " '',\n",
       " '',\n",
       " '   ',\n",
       " '    - Chandler ',\n",
       " '      Bing ',\n",
       " '      - Joey Tribbiani  ',\n",
       " '      - Ross Geller ',\n",
       " '      - Phoebe Buffay ',\n",
       " '      - Rachel Green ',\n",
       " '                  - Monica Bing ',\n",
       " '  ',\n",
       " '',\n",
       " '',\n",
       " '   ',\n",
       " '    Pictures',\n",
       " '  ',\n",
       " '',\n",
       " '',\n",
       " '   ',\n",
       " '    - Matthew ',\n",
       " '      Perry',\n",
       " '      - Matt LeBlanc ',\n",
       " '      - David Schwimmer ',\n",
       " '      - Lisa Kudrow ',\n",
       " '      - Jennifer Aniston ',\n",
       " '      - Courteney Cox  ',\n",
       " '      - Cast Together ',\n",
       " '      - Offical Pictures ',\n",
       " '      - Wallpapers',\n",
       " '  ',\n",
       " '',\n",
       " '',\n",
       " '   ',\n",
       " '    Highlights',\n",
       " '  ',\n",
       " '',\n",
       " '',\n",
       " '   ',\n",
       " '    - Season ',\n",
       " '      One',\n",
       " '      - Season Two ',\n",
       " '      - Season Three ',\n",
       " '      - Season Four ',\n",
       " '      - Season Five ',\n",
       " '      - Season Six ',\n",
       " '      - Season Seven ',\n",
       " '      - Season Eight ',\n",
       " '      - Season Nine',\n",
       " '  ',\n",
       " '',\n",
       " '',\n",
       " '   ',\n",
       " '    Misc',\n",
       " '  ',\n",
       " '',\n",
       " '',\n",
       " '   ',\n",
       " '    - Fun Facts ',\n",
       " '      - Fanlistings',\n",
       " \"      - Phoebe's Songs\",\n",
       " '      - Quotes (Large)',\n",
       " '      - Nick Names',\n",
       " \"                  - Quiz's \",\n",
       " '                  ',\n",
       " '      - Contact Me',\n",
       " '      ',\n",
       " '    ',\n",
       " '  ',\n",
       " '',\n",
       " '',\n",
       " '   ',\n",
       " '    Coming ',\n",
       " '      Soon',\n",
       " '  ',\n",
       " '',\n",
       " '',\n",
       " '   ',\n",
       " '     ',\n",
       " \"       - More Quiz's- General Updates\",\n",
       " '',\n",
       " '      ',\n",
       " '    ',\n",
       " '  ',\n",
       " '',\n",
       " '',\n",
       " '   ',\n",
       " '    Donate',\n",
       " '  ',\n",
       " '',\n",
       " '',\n",
       " '   ',\n",
       " '     ',\n",
       " '       -',\n",
       " '',\n",
       " 'Support This Site!',\n",
       " '',\n",
       " '',\n",
       " '',\n",
       " '',\n",
       " '',\n",
       " '',\n",
       " '',\n",
       " '',\n",
       " ' ',\n",
       " '       ',\n",
       " '         ',\n",
       " '                        ',\n",
       " '      ',\n",
       " ' ',\n",
       " '    ',\n",
       " '  ',\n",
       " '',\n",
       " '',\n",
       " '                ',\n",
       " '                 ',\n",
       " '                  ',\n",
       " '                     ',\n",
       " '                       ',\n",
       " '',\n",
       " '                      1017/1018 - The Last One',\n",
       " '',\n",
       " '',\n",
       " 'Written by: Marta Kauffman & David Crane ',\n",
       " '  Directed by: Kevin Bright ',\n",
       " 'Transcribed by: Kreidy',\n",
       " \"[Scene: Monica and Chandler's apartment. It's a scene from 1016 TOW\",\n",
       " \"Rachel's Going Away Party.]\",\n",
       " 'Jennifer Aniston (V.O.): Previously on Friends.',\n",
       " 'Monica: Erica, are you okay?',\n",
       " 'Erica: Yeah, you know, maybe I ate too much. I keep getting these ',\n",
       " '  stomach-aches. They come and go like every few minutes.',\n",
       " 'Monica: Oh my God!',\n",
       " \"Chandler: Relax! We'll just get her some antacids.\",\n",
       " \"Monica: She doesn't have a stomach-ache. She's in labor!\",\n",
       " 'Chandler: Oh my God!',\n",
       " '\\xa0',\n",
       " \"[Cut to Ross's apartment. Ross and Rachel are there. It's another \",\n",
       " \"  scene from 1016 TOW Rachel's Going Away Party.]\",\n",
       " \"Rachel: So if you think I didn't say goodbye to you because you don't \",\n",
       " \"  mean as much to me as everybody else, you're wrong. It's because you \",\n",
       " '  mean more to me.',\n",
       " 'Ross: Rach!',\n",
       " 'Rachel: What?!',\n",
       " '(He walks over and kisses her. They pull back, Rachel looks at him, ',\n",
       " 'and they kiss again.)',\n",
       " '\\xa0',\n",
       " \"[Scene: Ross's bedroom. Rachel is putting on her shoes as Ross shows \",\n",
       " '  up from underneath the covers.]',\n",
       " 'Ross: Hey.',\n",
       " 'Rachel: Shh.. Go back to sleep. I have to go home.',\n",
       " 'Ross: Oh. This was amazing.',\n",
       " \"Rachel: It really was. You've learned some new moves!\",\n",
       " 'Ross: Yeah, well, this guy at work gave me \"Sex for Dummies\" as a ',\n",
       " '  joke.',\n",
       " 'Rachel: Ah.',\n",
       " \"Ross: Who's laughing now?\",\n",
       " 'Rachel: I know!',\n",
       " '(They kiss.)',\n",
       " '\\xa0',\n",
       " 'OPENING CREDITS',\n",
       " '[Scene: The delivery room at the hospital. Monica, Chandler and Erica ',\n",
       " '  are there. Erica is in labor, and she is breathing heavily.]',\n",
       " 'Monica: Breathe, breathe, breathe... Good.',\n",
       " 'Chandler: Next time, can I say breathe?',\n",
       " 'Monica: No, last time you said it like Dracula, and it scared her! Can ',\n",
       " '  I get you anything? You want some more ice chips?',\n",
       " \"Erica: No, I'm okay.\",\n",
       " \"Monica: Alright, I'll be right back.\",\n",
       " 'Chandler: Where are you going?',\n",
       " 'Monica: To use the bathroom.',\n",
       " \"Chandler: You can't leave me alone with her.\",\n",
       " 'Monica: What?',\n",
       " 'Chandler: This is exactly the kind of social situation that I am not ',\n",
       " '  comfortable with!',\n",
       " 'Monica: What kind of social situation are you comfortable with?',\n",
       " \"Chandler: It's just that we've never spent any time, you know, alone \",\n",
       " '  together.',\n",
       " \"Monica: You'll be fine. Nah, you won't, but I'll be back in two \",\n",
       " '  minutes.',\n",
       " 'Chandler: Okay.',\n",
       " '(Monica leaves, and Chandler closes the door. Erica just looks at ',\n",
       " '  him.)',\n",
       " 'Chandler: So, ah... Any plans for the summer?',\n",
       " \"Erica: I don't know. Maybe church-camp?\",\n",
       " 'Chandler: Hah. May not wanna mention this. So, you ever wonder which ',\n",
       " '  is worse, you know; going through labor or getting kicked in the nuts?',\n",
       " 'Erica: What?',\n",
       " \"Chandler: Well, it's just interesting. You know, because no one will \",\n",
       " '  ever know, because no one can experience both.',\n",
       " \"(Erica just looks at him like he's crazy.)\",\n",
       " \"Chandler: One of life's great, unanswerable questions. I mean, who \",\n",
       " \"  knows? Maybe there's something even more painful than those things? \",\n",
       " 'Like this.',\n",
       " '\\xa0',\n",
       " \"[Scene: Joey and Rachel's apartment. Joey is there as Phoebe enters. \",\n",
       " '  Joey is holding a baby duck.]',\n",
       " 'Phoebe: Morning.',\n",
       " 'Joey: Hey!',\n",
       " \"Phoebe: What's that?\",\n",
       " \"Joey: It's my house-warming present for Monica and Chandler.\",\n",
       " \"Phoebe: It's a baby chick and duck!\",\n",
       " 'Joey: Uh-huh. And I named them Chick Jr. and Duck Jr.',\n",
       " 'Phoebe: I did not see that coming.',\n",
       " \"Joey: Yeah, I figure they'll love it at the new house, you know? It \",\n",
       " '  has that big backyard. And then, when they get old, they can go to ',\n",
       " '  that special farm that Chandler took the other chick and duck to.',\n",
       " 'Phoebe: Yes.',\n",
       " \"Joey: Yeah. It's a shame people can't visit there.\",\n",
       " 'Phoebe: That is the rule, though.',\n",
       " '(Ross enters.)',\n",
       " \"Phoebe: Guess what? You're almost an uncle!\",\n",
       " 'Ross: What?',\n",
       " 'Joey: Yeah, Erica went into labor last night. Monica and Chandler are ',\n",
       " '  at the hospital right now!',\n",
       " 'Ross: Oh my God!',\n",
       " \"Phoebe: Yeah, and I have a definite feeling it's gonna be a girl.\",\n",
       " 'Ross: Phoebe, you were sure Ben was gonna be a girl.',\n",
       " 'Phoebe: Have you seen him throw a ball?',\n",
       " 'Ross: Is Rachel here?',\n",
       " \"Joey: Uh, I think she's still asleep. Hey, hey, how did it go with you \",\n",
       " '  guys last night? She seemed pretty pissed at you.',\n",
       " \"Ross: Uh, we, y'know, we worked things out.\",\n",
       " \"Phoebe: What's that smile? Did something happen with you two?\",\n",
       " \"Ross: Hey, I'm not one to kiss and tell, but I'm also not one to have \",\n",
       " '  sex and shut up. We totally did it!',\n",
       " 'Joey: Oh my God. You and Rachel?',\n",
       " \"Ross: I know, it's pretty great.\",\n",
       " 'Joey: So what does that mean? Are you guys getting back together?',\n",
       " \"Ross: Oh, I.. I don't know. We didn't really get to talk.\",\n",
       " 'Phoebe: But do you wanna get back together?',\n",
       " \"Ross: I don't know. It was incredible. I mean, it just felt so right. \",\n",
       " '  When I was holding her, I mean, I never wanted to let her go. You know ',\n",
       " '  what? Yeah, I do. I wanna be together.',\n",
       " 'Phoebe: (screaming) YAY!',\n",
       " 'Ross: Shhh!',\n",
       " 'Phoebe: (quietly) Yay!',\n",
       " 'Joey: So, so is she still going to Paris?',\n",
       " \"Ross: Wow, I hadn't thought of that. I hope not.\",\n",
       " 'Phoebe: Oh, this is like the best day ever. Ever! You guys might get ',\n",
       " '  back together, Monica and Chandler are getting their baby, there are ',\n",
       " \"  chicks and ducks in the world again! Oh, I feel like I'm in a musical! \",\n",
       " '  (Singing) \"Daa - raa... When the sun comes up, bright and beaming! And ',\n",
       " '  the moon comes...\"',\n",
       " '(Rachel enters from her room.)',\n",
       " 'Rachel: Morning!',\n",
       " \"Phoebe: Guess we'll never know how it ends.\",\n",
       " 'Joey: Okay.',\n",
       " 'Ross: Hey.',\n",
       " 'Rachel: Hey.',\n",
       " 'Ross: Hey. How did you sleep?',\n",
       " 'Rachel: Good. You?',\n",
       " 'Ross: Good.',\n",
       " 'Joey: I bet you did!',\n",
       " 'Ross: Uh. Would you guys mind giving us a minute?',\n",
       " 'Joey: Sure, yeah. Will you just keep an eye on the chick and the duck?',\n",
       " \"Rachel: Chick and the duck? Didn't they die...\",\n",
       " 'Phoebe: (interrupting) Dive. Yeah, they dove head-first into fun on ',\n",
       " '  the farm.',\n",
       " '(Joey and Phoebe leave.)',\n",
       " 'Ross: So...',\n",
       " '(He kisses her.)',\n",
       " 'Ross: Morning.',\n",
       " 'Rachel: You too. Last night was just wonderful.',\n",
       " 'Ross: It really was.',\n",
       " 'Rachel: I woke up today with the biggest smile on my face.',\n",
       " 'Ross: I know, me too. It was... You know, it was like one of those ',\n",
       " \"  things you think is never gonna happen, and then it does, and it's \",\n",
       " '  everything you want it to be.',\n",
       " 'Rachel: Uh-huh. I know. It was just, it was just the perfect way to say goodbye. (She hugs him, and Ross looks crushed.)',\n",
       " '\\xa0',\n",
       " '[Scene: The Hospital. Erica is moaning and about to give birth. ',\n",
       " '  Monica, Chandler, a nurse and a doctor are there with her.]',\n",
       " \"Monica: It's just a little bit more, honey.\",\n",
       " 'Erica: Help me! This hurts!',\n",
       " 'Chandler: Is it really that bad?',\n",
       " \"Erica: Uh-huh! I think it's time to kick you in the nuts and see which \",\n",
       " '  is worse!',\n",
       " '(Monica gives Chandler a look.)',\n",
       " \"Doctor: The baby's head is crowning.\",\n",
       " \"(Monica walks down to Erica's legs to watch the birth.)\",\n",
       " 'Monica: Oh! Oh my God! That is the most beautiful top of a head I have ',\n",
       " '  ever seen! Chandler, you have to see this!',\n",
       " \"(Chandler is standing by Erica's head.)\",\n",
       " \"Chandler: I'm okay.\",\n",
       " \"Monica: Chandler, you don't wanna miss this. This is the birth of your \",\n",
       " \"  child! It's the miracle of life!\",\n",
       " 'Chandler: Alright. Wow, that is one disgusting miracle.',\n",
       " 'Doctor: Start pushing. Here we go. Here come the shoulders...',\n",
       " '(The baby starts crying, and the doctor holds it up.)',\n",
       " \"Monica: It's a... It's a boy!\",\n",
       " 'Chandler: Wow!',\n",
       " 'Erica: Is he okay?',\n",
       " \"Doctor: He's just fine.\",\n",
       " 'Monica: Oh, you did it!',\n",
       " \"Chandler: (emotional) It's a baby! A beautiful little baby! And some\",\n",
       " \"  other stuff I'm gonna pretend I don't see.\",\n",
       " 'Doctor: Would you like to cut the umbilical cord?',\n",
       " '(A nurse gives Monica a pair of scissors. Monica gives it to Chandler, ',\n",
       " '  and they cut it together.)',\n",
       " \"Chandler: Well, that's spongy.\",\n",
       " \"Monica: (to her son) Oh, hey handsome! Oh, I'm gonna love you so much\",\n",
       " '  that no woman is ever gonna be good enough for you! (To Chandler, on',\n",
       " '  the verge of tears) Oh, we are so lucky!',\n",
       " 'Chandler: I know. He has your eyes.',\n",
       " '(Monica looks at him.)',\n",
       " \"Chandler: I mean, I know that's not possible, but he does.\",\n",
       " \"Nurse: We'll just get him cleaned up a bit.\",\n",
       " '(The doctor hands the boy to the nurse, and she walks over to another ',\n",
       " '  part of the room with him.)',\n",
       " 'Chandler: Okay.',\n",
       " \"Monica: (To Erica) Oh my God, he's beautiful. Thank you so much.\",\n",
       " \"Erica: I'm really happy for you guys.\",\n",
       " 'Chandler: How do you feel?',\n",
       " \"Erica: I'm tired!\",\n",
       " \"Doctor: Well, you don't have that much time to relax. The other one \",\n",
       " '  will be along in a minute.',\n",
       " '(Chandler stares at the doctor, completely shocked. Monica just ',\n",
       " '  freezes and turns around slowly.)',\n",
       " \"Monica: I... I'm sorry, who should be along in a what now?\",\n",
       " 'Doctor: The next baby should be along in a minute.',\n",
       " 'Monica: We only ordered one!',\n",
       " \"Doctor: You know it's twins, right?\",\n",
       " 'Chandler: Oh, yeah! These are the faces of two people in the know!',\n",
       " 'COMMERCIAL BREAK',\n",
       " '[Scene: The hospital. Continued from earlier.]',\n",
       " \"Doctor: I can't believe you didn't know it's twins! This has never \",\n",
       " '  happened before.',\n",
       " 'Chandler: Well, gosh. That makes me feel so special and good.',\n",
       " 'Monica: (to the doctor) Wait, did you know it was twins?',\n",
       " \"Doctor: Yeah, it's here in the paperwork we got from the clinic in \",\n",
       " '  Ohio.',\n",
       " 'Monica: (to Erica) Anybody tell you?',\n",
       " \"Erica: I don't think so. Although, they did mention something about \",\n",
       " \"  two heartbeats. But I thought that was just mine and the baby's. They \",\n",
       " '  kept saying both heartbeats are really strong, and I thought well, ',\n",
       " \"  that's good 'cause I'm having a baby.\",\n",
       " 'Monica: This is unbelievable.',\n",
       " 'Erica: Twins actually run in my family.',\n",
       " 'Chandler: Interesting! (To Monica) Can I see you for a second?',\n",
       " '(They walk over to the door.)',\n",
       " 'Chandler: What do we do?',\n",
       " 'Monica: What do you mean \"what do we do\"?',\n",
       " 'Chandler: (panicking) Twins! Twins!!',\n",
       " \"Monica: Chandler, you're panicking!\",\n",
       " \"Chandler: Uh-huh! Join me, won't you?! Okay, what do you say we keep\",\n",
       " '  one, and then just like have an option on the other one?',\n",
       " \"Monica: We can't split them up!\",\n",
       " 'Chandler: Why not? We could give each of them half a medallion, and ',\n",
       " \"  then years later, they'll find each other and be reunited. I mean, \",\n",
       " \"  that's a great day for everybody.\",\n",
       " 'Monica: Okay, what if the person who adopts the other one is horrible?',\n",
       " \"Chandler: What if they're not? What if it's adopted by a king?\",\n",
       " 'Monica: Yeah, because I hear the king is looking to adopt.',\n",
       " 'Chandler: Monica, we are not ready to have two babies!',\n",
       " \"Monica: That doesn't matter! We have waited so long for this. I don't \",\n",
       " \"  care if it's two babies. I don't care if it's three babies! I don't \",\n",
       " '  care if the entire cast of \"Eight is Enough\" comes out of there! We ',\n",
       " '  are taking them home, because they are our children!',\n",
       " 'Chandler: (smiles) Okay. Shhh...',\n",
       " '(He hugs her.)',\n",
       " 'Chandler: Okay.',\n",
       " 'Monica: Okay!',\n",
       " 'Chandler: Okay!',\n",
       " \"Doctor: It looks like we're about ready over here.\",\n",
       " \"(Monica and Chandler run back to Erica's bed.)\",\n",
       " 'Doctor: Come on, Erica, start pushing again now.',\n",
       " 'Erica: Ow!',\n",
       " '(Erica screams.)',\n",
       " 'Doctor: Here she comes!',\n",
       " \"Chandler: (shocked) She? It's a girl?\",\n",
       " 'Doctor: Yeah.',\n",
       " 'Chandler: (To Monica) Well, now we have one of each! (To the doctor) ',\n",
       " \"  And that's enough!\",\n",
       " '\\xa0',\n",
       " '[Scene: Central Perk. Ross, Phoebe and Joey are there.]',\n",
       " 'Ross: And then she said it was the perfect way to say goodbye.',\n",
       " 'Joey: Oh my God! What did you say?',\n",
       " 'Ross: Nothing! What do you say to that?',\n",
       " \"Phoebe: Ross, you've got to tell her how you feel!\",\n",
       " 'Ross: No way!',\n",
       " \"Joey: You can't just give up! Is that what a dinosaur would do?\",\n",
       " 'Ross: What?',\n",
       " \"Joey: Dude, I'm just trying to speak your language.\",\n",
       " \"Phoebe: Ross, Rachel doesn't know that you wanna get back together. If \",\n",
       " '  she did, she might feel differently. She might not even go.',\n",
       " 'Ross: You really think so?',\n",
       " \"Phoebe: I'm telling you! Oh, okay! This is the part of the musical \",\n",
       " '  where there\\'d be a really good convincing song. (Singing) \"Bam-bam, ',\n",
       " \"  don't take no for an answer. Bam-bam, don't let love fly away. \",\n",
       " '  Bam-bam-bam-bam...\"',\n",
       " \"(Rachel enters and interrupts Phoebe's song.)\",\n",
       " 'Rachel: Hi!',\n",
       " \"Phoebe: Can't a girl finish a song around here?\",\n",
       " 'Joey: Hey!',\n",
       " \"Rachel: Hi! So I just dropped Emma off at my mom's.\",\n",
       " 'Ross: Okay.',\n",
       " \"Joey: Oh, you're not taking her with you tonight?\",\n",
       " 'Rachel: No, we decided that I would go ahead and set up first, and ',\n",
       " '  then my mom would bring Emma to Paris on Sunday.',\n",
       " 'Phoebe: Wow, eight hour flight with a one-year old? Good luck, mom.',\n",
       " 'Rachel: Are you kidding? Eight hours with my mother talking about ',\n",
       " '  Atkins? Good luck, Emma!',\n",
       " '(Rachel walks up to the counter.)',\n",
       " \"Ross: Alright, you know what? You're right. I should at least tell her\",\n",
       " '  how I feel.',\n",
       " '(He stands up.)',\n",
       " 'Joey: Ross, wait!',\n",
       " 'Ross: What? What?',\n",
       " 'Joey: Could you get me a muffin?',\n",
       " '(Ross walks up to Rachel, but Gunther gets there first.)',\n",
       " 'Gunther: Rachel?',\n",
       " 'Rachel: Yeah?',\n",
       " \"Gunther: I... I know you're leaving tonight, but I just have to tell\",\n",
       " '  you. I love you.',\n",
       " '(Ross is shocked.)',\n",
       " \"Gunther: I... I don't know if that changes your plans at all, but I\",\n",
       " '  thought you should know.',\n",
       " 'Rachel: (touched) Gunther... Oh... I love you too. Probably not in the',\n",
       " \"  same way, but I do. And, and when I'm in a café, having coffee, or I\",\n",
       " \"  see a man with hair brighter than the sun, I'll think of you. Aw.\",\n",
       " '(She kisses him on the cheek and looks over at the others.)',\n",
       " 'Rachel: Oh... Bye guys.',\n",
       " '(Rachel leaves.)',\n",
       " 'Ross: Oh my God!',\n",
       " 'Phoebe: Unbelievable!',\n",
       " 'Joey: Hey, you know what might help?',\n",
       " \"Ross: I'm not getting you a muffin!\",\n",
       " '\\xa0',\n",
       " '[Scene: The hospital. Monica and Chandler are holding the twins, while',\n",
       " '  two nurses are taking care of Erica.]',\n",
       " 'Monica: Do you think they recognize each other from in there?',\n",
       " \"Chandler: Maybe. Unless they're like two people who have lived in \",\n",
       " \"  apartments next to each other for years, and then one day they're \",\n",
       " '  pushed through a vagina and they meet.',\n",
       " \"Nurse: We're going to take Erica to recovery now.\",\n",
       " \"Monica: There's something that we wanna tell you. We decided to name \",\n",
       " '  the girl-baby Erica.',\n",
       " \"Erica: Oh my God, that's just like my name!\",\n",
       " 'Monica: Son of a gun, it is!',\n",
       " \"Erica: Anyway, I'm gonna go and get some rest. I'm really glad I \",\n",
       " \"  picked you guys. You're gonna make great parents. Even Chandler.\",\n",
       " 'Monica: Okay, well, bye!',\n",
       " 'Erica: Bye!',\n",
       " 'Chandler: Bye!',\n",
       " \"Monica: We'll call you!\",\n",
       " 'Erica: Okay.',\n",
       " 'Chandler: Have fun at church-camp!',\n",
       " '(The nurses take Erica to the recovery room. Monica and Chandler smile',\n",
       " '  at each other.)',\n",
       " 'Monica: Oh, look at these little bunnies!',\n",
       " 'Chandler: I know! You ready to trade?',\n",
       " 'Monica: Okay.',\n",
       " 'Chandler: Okay.',\n",
       " \"Monica: Alright, let's see..\",\n",
       " '(They start trying to trade babies while holding one each. They have ',\n",
       " '  no idea how to do it, so they just shift the babies around in their ',\n",
       " '  arms. They give up pretty quickly.)',\n",
       " 'Chandler: We could trade later.',\n",
       " \"Monica: Yeah, I'm good.\",\n",
       " '\\xa0',\n",
       " \"[Scene: Monica and Chandler's apartment. Joey and Phoebe are there. \",\n",
       " '  There is a white crib decorated with balloons in the middle of the ',\n",
       " '  apartment. Also, there are boxes all over the apartment. Joey is ',\n",
       " '  working on something on the coffee table.]',\n",
       " 'Phoebe: Hey, what are you working on?',\n",
       " 'Joey: It\\'s a... It\\'s a \"welcome home\" sign for the baby.',\n",
       " '(He holds up a white poster with huge red letters. It reads, \"Welcome',\n",
       " '  Home Baby.\" There is also a huge red stain on the left of the poster.)',\n",
       " 'Phoebe: How sweet! Oh, is that the baby?',\n",
       " '(She points at the stain.)',\n",
       " 'Joey: No, I sat in the paint.',\n",
       " '(Ross enters with a gift for the baby.)',\n",
       " 'Ross: Hey.',\n",
       " 'Phoebe: Hey. So, did you talk to Rachel?',\n",
       " \"Ross: No, and I'm not going to.\",\n",
       " 'Phoebe: What?',\n",
       " 'Joey: Why not?',\n",
       " \"Ross: Because she's just going to shoot me down. You guys saw what \",\n",
       " '  happened with Gunther. That did not look like fun.',\n",
       " \"Phoebe: How can you compare yourself to Gunther? I mean, sure, he's \",\n",
       " '  sexy in a more obvious way. You have a relationship with her, you ',\n",
       " '  slept together last night.',\n",
       " \"Ross: Yeah, and she still wants to go! It's pretty clear where she is.\",\n",
       " 'Joey: Yeah, I know what you mean. I mean, sometimes...',\n",
       " '(He sits down in the wet paint again.)',\n",
       " 'Phoebe: Uh, Joe?',\n",
       " 'Joey: Damn it!',\n",
       " \"Ross: Look, even if I were gonna tell her, I don't have to do it now. \",\n",
       " \"  Okay? I'll be seeing her again. We've got time.\",\n",
       " \"Phoebe: No, you don't! She's going to Paris! She is going to meet \",\n",
       " \"  somebody. Do you know how many hot guys there are in Paris? It's... \",\n",
       " \"  It's a city of Gunthers!\",\n",
       " '(Mike enters with a roll of paper in his hand.)',\n",
       " 'Mike: Hey!',\n",
       " 'Phoebe: Hey! What do you have there?',\n",
       " 'Mike: Oh, I made a little something. If I had more time to work on it, ',\n",
       " \"  it'd be better, but..\",\n",
       " '(He shows them a beautiful banner he has made. It reads, \"Welcome to ',\n",
       " '  the World, Baby Bing.\")',\n",
       " 'Ross: Oh my God! You did that yourself?',\n",
       " \"Phoebe: Honey, that's gorgeous!\",\n",
       " \"Joey: You know, the baby can't read, Mike!\",\n",
       " '(Rachel enters.)',\n",
       " \"Rachel: Hi! You guys, the car-service just got here. I can't believe\",\n",
       " \"  they're not home yet! I have to catch my stupid plane. I wanna see the\",\n",
       " '  baby!',\n",
       " 'Joey: Monica just called from the cab. She said they should be here',\n",
       " \"  any minute. And apparently, there's some big surprise.\",\n",
       " \"Phoebe: Yeah, did she sound happy about it? 'Cause my friend Ethel's\",\n",
       " '  baby was born with a teeny, tiny beard.',\n",
       " '(Monica enters carrying her son.)',\n",
       " 'Rachel: Oh my God!',\n",
       " 'Ross: Oh my God!',\n",
       " '(They all walk over to see the baby.)',\n",
       " 'Rachel: Hi! Oh my gosh!',\n",
       " '(Chandler enters carrying his daughter.)',\n",
       " 'Chandler: Hey.',\n",
       " '(Everybody turns around.)',\n",
       " 'Phoebe, Ross, Rachel: Hey.',\n",
       " \"(They turn back around to see the baby Monica's carrying, but then \",\n",
       " '  they realise what the surprise is. Ross, Mike, Phoebe and Rachel gasp ',\n",
       " \"  and stare at Chandler and his baby. Joey hasn't figured it out yet.)\",\n",
       " 'Joey: (To Monica) Hey, so what is the big surprise?',\n",
       " 'Rachel: Oh.',\n",
       " '(Joey stares at Chandler and Monica and finally puts two and two ',\n",
       " '  together. He gasps.)',\n",
       " 'Ross: Oh my God!',\n",
       " 'Rachel: What... What...',\n",
       " 'Ross: Okay, okay, awkward question. The hospital knows you took two, ',\n",
       " '  right?',\n",
       " \"Monica: Yes, it's twins!\",\n",
       " 'Ross: Oh my God.',\n",
       " \"Joey: Oh, they're so cute! Now, what, what kinds are they?\",\n",
       " \"Monica: (points at the baby she's holding) This is a boy, (points at \",\n",
       " \"  the baby Chandler is holding) and that's a girl.\",\n",
       " 'Chandler: Her name is Erica.',\n",
       " 'Rachel: Aw..',\n",
       " \"Joey: Hey, that pregnant girl's name was Erica.\",\n",
       " \"Chandler: Yeah. It's a shame you two didn't get to spend more time\",\n",
       " '  together.',\n",
       " 'Monica: Yeah, we named the boy Jack after dad.',\n",
       " \"Ross: Aw, he's gonna be so happy.\",\n",
       " \"Phoebe: Oh, Jack Bing. I love that. Ooh, it sounds like a '40s\",\n",
       " '  newspaper guy, you know? \"Jack Bing, Morning Gazette. I\\'m gonna blow',\n",
       " '  this story wide open!\"',\n",
       " '(Chandler and Monica carry Erica and Jack over to the crib and put',\n",
       " '  them down carefully.)',\n",
       " 'Rachel: Oh my gosh. Wow, so beautiful.',\n",
       " 'Mike: (To Phoebe) I want one.',\n",
       " \"Phoebe: Oh yeah? Well, tell me which one, and I'll try slip it in my\",\n",
       " '  coat.',\n",
       " 'Mike: Seriously. Wanna make one of those?',\n",
       " 'Phoebe: One? How about a whole bunch?',\n",
       " 'Mike: Really?',\n",
       " 'Phoebe: Yeah! Ooh, we could teach them to sing, and we can be like the',\n",
       " '  Von Trapp family! Only without the Nazis. Although that sounds kinda',\n",
       " '  dull.',\n",
       " \"Rachel: Oh, you guys, I can't believe this. But I'll leave now, or I'm\",\n",
       " '  gonna miss my plane.',\n",
       " \"Monica: I'm just so glad you got to see the babies.\",\n",
       " '(They hug.)',\n",
       " \"Rachel: Me too. Oh, I'm just sorry I'm not gonna be around to watch\",\n",
       " \"  you two attempt to handle this! Alright, I can't say goodbye to you\",\n",
       " '  guys again. I love you all so much.',\n",
       " 'Monica: I love you.',\n",
       " 'Chandler: I love you.',\n",
       " 'Monica: Call us when you get there.',\n",
       " 'Rachel: I will. Ross, come here.',\n",
       " '(She pulls him over to the door.)',\n",
       " \"Rachel: I just want you to know.. Last night.. I'll never forget it.\",\n",
       " 'Ross: Neither will I.',\n",
       " '(They hug as Phoebe and Joey stare at the two of them.)',\n",
       " \"Rachel: Alright, now I really have to go. Okay. Au revoir! Oh, they're \",\n",
       " '  gonna really hate me over there.',\n",
       " '(She leaves.)',\n",
       " 'Phoebe: So, you just let her go?',\n",
       " 'Ross: Yeah.',\n",
       " \"Joey: Hey, maybe that's for the best.\",\n",
       " 'Ross: Yeah?',\n",
       " 'Joey: Yeah. You know? You just... Look, you gotta... You gotta think ',\n",
       " '  about last night the way she does, okay? Maybe, maybe sleeping ',\n",
       " '  together was the perfect way to say goodbye?',\n",
       " \"Phoebe: But now she'll never know how he feels!\",\n",
       " \"Joey: Maybe that's okay. You know? Maybe, maybe it is better this way? \",\n",
       " \"  I mean, now, now you can move on. I mean, you've been trying to for so\",\n",
       " \"  long, maybe now that you're on different continents.. (Looks at\",\n",
       " '  Phoebe) Right?',\n",
       " '(Phoebe nods.)',\n",
       " 'Joey: Maybe now you can actually do it. You know? You can finally get',\n",
       " '  over her.',\n",
       " \"Ross: Yeah, that's true. Except I don't wanna get over her.\",\n",
       " 'Joey: What?',\n",
       " \"Ross: I don't! I wanna be with her.\",\n",
       " 'Joey: Really?',\n",
       " \"Ross: Yeah, I'm gonna go after her.\",\n",
       " 'Joey: Yeah, you are!',\n",
       " 'Phoebe: Woo!',\n",
       " '(Monica and Chandler look shocked as Ross goes to leave.)',\n",
       " 'Phoebe: Wait, wait! Get your coat! Get your coat!',\n",
       " 'Ross: My coat...',\n",
       " 'Joey: This is so cool!',\n",
       " \"Chandler: I have no idea what's going on, but I am excited!\",\n",
       " \"Joey: But Ross, Ross. What do you, what do you think she's going to\",\n",
       " '  say?',\n",
       " \"Ross: I don't know, but I.. Look, even if she shoots me down, at least\",\n",
       " \"  I won't spend the rest of my life wondering what would have happened.\",\n",
       " '  Where - where is my coat?!',\n",
       " \"Phoebe: You didn't bring one! My cab's downstairs, I'll drive you to\",\n",
       " '  the airport.',\n",
       " 'Ross: Okay, guys, wish me luck.',\n",
       " 'Phoebe: Hurry!',\n",
       " 'Joey: Good luck, good luck!',\n",
       " '(Phoebe and Ross leave.)',\n",
       " '\\xa0',\n",
       " \"[Scene: The street right in front of Central Perk. Phoebe's cab is\",\n",
       " '  there. Ross and Phoebe run over and jump in.]',\n",
       " \"Ross: There's no seatbelt!\",\n",
       " \"Phoebe: That's okay. If - if we hit anything, the engine will explode, \",\n",
       " \"  so you know, it's better if you're thrown from the car.\",\n",
       " '(Ross looks terrified.)',\n",
       " \"Ross: Alright, alright, let's do this!\",\n",
       " 'Phoebe: Okay!',\n",
       " '(A guy comes up and gets into the backseat of the cab.)',\n",
       " 'Ross: Hey!',\n",
       " 'Man: 18th and East End.',\n",
       " \"Phoebe: I - I don't take passengers.\",\n",
       " 'Man: Hey! The law says you have to accept any fare.',\n",
       " \"Ross: No, you don't understand. This isn't a real cab.\",\n",
       " \"Man: Alright, I gotta report you. What's your medallion number?\",\n",
       " 'Phoebe: My medallion number is, \"Get out of the cab!\"',\n",
       " 'Man: What?',\n",
       " 'Ross: (screaming) Get out of the cab!',\n",
       " 'Phoebe: Get out of the cab!',\n",
       " '(The man jumps out, obviously a little scared. Phoebe drives off.)',\n",
       " '\\xa0',\n",
       " \"[Scene: Monica and Chandler's apartment. Monica, Chandler and Joey are\",\n",
       " '  there, packing the last boxes.]',\n",
       " 'Joey: Oh, hey, hey, can I give you guys your house-warming present ',\n",
       " '  now?',\n",
       " 'Monica: Now, that you can do.',\n",
       " 'Joey: Alright!',\n",
       " \"(Cut to Joey's apartment. Joey looks inside the cardboard box that\",\n",
       " '  used to be the home of Chick Jr. and Duck Jr., but they have',\n",
       " '  disappeared.)',\n",
       " \"Joey: Ah... Chick Jr.? Duck Jr.? Don't hide from mama!\",\n",
       " '\\xa0',\n",
       " \"[Scene: Phoebe's cab. Phoebe is driving very fast, and a terrified\",\n",
       " '  Ross has closed his eyes.]',\n",
       " 'Phoebe: You can open your eyes now.',\n",
       " 'Ross: Are we off the bridge?',\n",
       " 'Phoebe: Yes.',\n",
       " 'Ross: Is the old woman on the bicycle still alive?',\n",
       " 'Phoebe: Yes, she jumped right back up.',\n",
       " '(Ross opens his eyes.)',\n",
       " 'Ross: Oh my God, Phoebe, slow down!',\n",
       " 'Phoebe: Do you wanna get to Rachel in time?',\n",
       " \"Ross: Yes, but I don't wanna die in your cab!\",\n",
       " 'Phoebe: You should have thought of that before you got in!',\n",
       " '(They drive up to a toll-booth.)',\n",
       " 'Phoebe: Toll-booth.',\n",
       " 'Ross: What?',\n",
       " 'Phoebe: (screaming) Toll-booth! Four bucks. There are quarters in the ',\n",
       " '  glove compartment.',\n",
       " \"(Ross tries to open a plastic bag filled with quarters, but he's quite\",\n",
       " '  slow.)',\n",
       " 'Phoebe: Hurry!',\n",
       " 'Ross: Okay!',\n",
       " 'Phoebe: Okay.',\n",
       " '(Phoebe tries to throw some quarters out the window, but she has',\n",
       " '  forgotten to open the window, and she and Ross scream.)',\n",
       " 'Phoebe: Damn, that window is clean.',\n",
       " '\\xa0',\n",
       " \"[Scene: Joey's apartment. Joey is still looking for the birds.]\",\n",
       " 'Joey: Quack, quack, tweet, tweet, quack, quack, tweet, tweet, quack,',\n",
       " '  quack, tweet, tweet, quack, quack, tweet, tweet, quack, tweet, quack...',\n",
       " '(Monica and Chandler enter.)',\n",
       " 'Chandler: We were wondering what was taking so long with the gift, but',\n",
       " '  now we understand you were doing this.',\n",
       " 'Joey: Okay, I wanted to surprise you, but for your house-warming gift,',\n",
       " '  I got you a baby-chick and a baby-duck!',\n",
       " '(Chandler grins, while Monica is less enthusiastic.)',\n",
       " 'Chandler: Really? You got us a chick and a duck?',\n",
       " 'Monica: Oh, great! Just what you want for a new house with infants.',\n",
       " '  Bird feces.',\n",
       " \"Joey: Yeah, yeah, they must have jumped off the table, 'cause now\",\n",
       " \"  they're gone!\",\n",
       " \"Chandler: Oh, don't worry, we'll find them.\",\n",
       " \"Monica: Actually, I'm gonna go check on the twins.\",\n",
       " 'Chandler: Alright.',\n",
       " '(Monica turns around and is about to leave when she steps on',\n",
       " '  something.)',\n",
       " 'Monica: Oh God! What did I just step on?',\n",
       " 'Joey: Oh!',\n",
       " \"Chandler: It's okay, it's just an egg roll.\",\n",
       " 'Monica: Oh..',\n",
       " 'Joey: You stepped on my egg roll?',\n",
       " \"Monica: I'm sorry, I didn't know to look for Chinese food on the \",\n",
       " '  floor.',\n",
       " 'Joey: Just put it on a plate and leave.',\n",
       " '(She does so.)',\n",
       " \"Chandler: Okay, let's find these birds.\",\n",
       " 'Joey: Alright.',\n",
       " '(Suddenly, they hear the birds.)',\n",
       " 'Joey: Wait, wait. Do you hear that?',\n",
       " '(They realise that the birds are in the foosball table.)',\n",
       " \"Joey: Oh! They're in the table!\",\n",
       " \"Chandler: Well, that can't be good!\",\n",
       " 'Joey: We gotta get them out of there!',\n",
       " 'Chandler: How?',\n",
       " 'Joey: Oh, oh! Maybe we can lure them out. You know any birdcalls?',\n",
       " \"Chandler: Oh, tons, I'm quite the woodsman.\",\n",
       " 'Joey: Well, maybe we can just tip the table a little.',\n",
       " 'Chandler: Joey, wait! The ball!',\n",
       " 'Joey: Oh!',\n",
       " '(The ball rolls into one of the goals, and Chandler and Joey listen in ',\n",
       " '  horror as the ball makes its way inside the table. Finally, they can ',\n",
       " '  hear the birds again.)',\n",
       " 'Joey: Oh God! So what do we do?',\n",
       " \"Chandler: I don't know. Maybe we can open this up somehow.\",\n",
       " 'Joey: Okay.',\n",
       " \"Chandler: No... It's all glued together.\",\n",
       " 'Joey: Does that mean we have to bust it open?',\n",
       " \"Chandler: I don't know. Maybe.\",\n",
       " 'Joey: Oh my God!',\n",
       " \"Chandler: I know! It's.. It's the foosball table.\",\n",
       " \"Joey: All right, you know what? We don't have a choice. It's like I would \",\n",
       " '  have said in that sci-fi movie if I\\'d gotten the part. \"Those are our ',\n",
       " '  men in there, we have to get them out! Even if I have to sacrifice the ',\n",
       " '  most important thing in my life; my time-machine.\"',\n",
       " 'Chandler: Did that movie ever get made?',\n",
       " 'Joey: It did not.',\n",
       " '\\xa0',\n",
       " '[Scene: The airport. Ross and Phoebe run in.]',\n",
       " 'Phoebe: Ross, where are you going?',\n",
       " \"Ross: To talk to Rachel, isn't that why we took a ride in the \",\n",
       " '  death-cab?',\n",
       " 'Phoebe: What? What are you just gonna walk up to her at the gate? Have ',\n",
       " '  you never chased anyone through the airport before?',\n",
       " 'Ross: Not since my cop-show got cancelled.',\n",
       " 'Phoebe: You have to get a ticket to get past security.',\n",
       " \"Ross: What? We're never gonna make it!\",\n",
       " 'Phoebe: Not with that attitude! Now, haul ass!',\n",
       " '(They run to the ticket counter, but they get stuck behind a group of ',\n",
       " '  old people who are walking very slowly.)',\n",
       " \"Ross: Okay, if you could all walk slower, that'd be great. \",\n",
       " '\\xa0 ',\n",
       " '[Scene: The gate. Rachel walks up to the man at the gate and gives him ',\n",
       " 'her passport.]',\n",
       " 'Gate attendant #1: (with a French accent) Madame, your passport ',\n",
       " '  please?',\n",
       " \"Rachel: Oh my God! I was so afraid I wasn't gonna remember any of my \",\n",
       " '  high-school French, but I understood every word you just said!',\n",
       " 'Gate attendant #1: Your boarding pass, please.',\n",
       " 'Rachel: Oh.',\n",
       " \"(She starts looking through her purse, but she can't find it.)\",\n",
       " \"Rachel: Oh, shoot. I had it. Oh, I can't believe this.\",\n",
       " \"Gate attendant #1: Madame, if you don't have your boarding pass...\",\n",
       " \"Rachel: I have it, I have it, I have it. Oh, okay, I can't find it, \",\n",
       " \"  but I remember that I was in seat 32C, because that's my bra-size.\",\n",
       " 'Gate attendant #1: Madame, you must have your boarding pass..',\n",
       " 'Rachel: Okay, fine! But you know what? If I was in 36D, we would not ',\n",
       " 'be having this problem. ',\n",
       " '\\xa0 ',\n",
       " '[Scene: The ticket-counter. Ross and Phoebe come running.]',\n",
       " 'Ross: Hey, I need a ticket.',\n",
       " \"Phoebe: Just one? I drive you all the way down here, and I don't get \",\n",
       " '  to see how it works out?',\n",
       " 'Ross: Fine, two tickets, I need two tickets.',\n",
       " \"Phoebe: We're on our honeymoon.\",\n",
       " 'Ticket agent: And the destination?',\n",
       " \"Ross: I don't care. Whatever is the cheapest.\",\n",
       " \"Phoebe: I'm so lucky I married you.\",\n",
       " '\\xa0',\n",
       " '[Scene: The gate. Rachel is still searching for her boarding pass.]',\n",
       " 'Rachel: Oh! Shoot! Damn it! Where is it? Oh! Oh! I found it! I found ',\n",
       " '  it!',\n",
       " '(She runs up to the gate and the gate attendant standing there.)',\n",
       " 'Rachel: Hah! I found it! I told you I would find it! In your face! ',\n",
       " \"You're a different person. \",\n",
       " '\\xa0 ',\n",
       " '[Scene: The ticket-counter. Ross and Phoebe have their tickets and ',\n",
       " '  start looking at the screens in order to find the gate.]',\n",
       " \"Ross: Okay, flight 421 to Paris. I don't see it, do you see it?\",\n",
       " 'Phoebe: No, did we miss it?',\n",
       " \"Ross: No, no, no. That's impossible. It doesn't leave for another 20 \",\n",
       " '  minutes.',\n",
       " 'Phoebe: Maybe we have the flight-number wrong. God.',\n",
       " '(Phoebe picks up her cell-phone and calls Monica. Monica is still packing in her apartment.)',\n",
       " 'Monica: Hello.',\n",
       " \"Phoebe: Hey, it's me. Here's Ross.\",\n",
       " 'Ross: What? Hey, hey, listen..',\n",
       " \"(Monica is standing by the crib, and she's looking at her babies.)\",\n",
       " \"Monica: Oh my God! Ross, you wouldn't believe the cute little noises \",\n",
       " '  the twins are making. Listen.',\n",
       " '(She holds the phone down to the twins.)',\n",
       " 'Ross: Monica? Monica, Monica, Monica, Monica..?',\n",
       " \"Monica: Oh, I'm sorry. Shoot, they were doing it before.\",\n",
       " \"Ross: That's alright. Listen, listen.\",\n",
       " 'Monica: Oh, wait, wait, wait! Here they go again.',\n",
       " '(She holds down the phone to the twins again.)',\n",
       " 'Ross: Monica? Monica, Monica, Monica, Monica..?',\n",
       " \"Monica: Isn't that cute?\",\n",
       " \"Ross: That is precious! Listen! I need Rachel's flight information.\",\n",
       " \"Monica: Oh, okay. Alright, it's flight 421. Leaves at 8:40.\",\n",
       " \"Ross: Yes, that's what I have. It's not on the board.\",\n",
       " \"Monica: That's what it says here. Flight 421, leaves at 8:40, Newark \",\n",
       " '  airport.',\n",
       " 'Ross: What?',\n",
       " 'Monica: Newark airport. Why, where are you?',\n",
       " 'Ross: JFK.',\n",
       " '(Ross sadly hangs up the phone, while Phoebe looks at him. Cut to Rachel at the gate. She gives her boarding pass to the gate ',\n",
       " '  attendant, and she goes onboard. The gate attendant closes the door ',\n",
       " 'and locks it.) ',\n",
       " '\\xa0',\n",
       " \"[Scene: Joey's apartment. Joey and Chandler are still trying to get \",\n",
       " '  the birds out of the foosball-table.]',\n",
       " \"Joey: (yelling) Don't worry, you guys, we're gonna get you out of \",\n",
       " '  there.',\n",
       " \"Chandler: And we're also gonna buy you tiny, bird hearing-aids.\",\n",
       " '(Joey picks up a hammer and a crowbar and gets ready to destroy the ',\n",
       " '  table.)',\n",
       " 'Joey: Okay. Here goes.',\n",
       " \"Chandler: What's the matter?\",\n",
       " 'Joey: I need to say goodbye to the table first.',\n",
       " 'Chandler: I understand.',\n",
       " 'Joey: Okay. Table, you have given us so many great times. And you ',\n",
       " '  guys, Jordan, Victor, Joel... All of you guys. What can I say? You ',\n",
       " '  guys make us look good. You wanna say anything?',\n",
       " \"Chandler: I don't know. Except that, for one last time... (he touches \",\n",
       " '  the players as he says the following) Good game, good game, good game, ',\n",
       " '  good game, good game, good game, good game.',\n",
       " \"Joey: Okay, here we go. I can't do it.\",\n",
       " \"Chandler: Well, I can't do it either.\",\n",
       " '(Monica enters.)',\n",
       " 'Monica: Hey! Did you find them?',\n",
       " \"Joey: Yeah, they're stuck inside the table!\",\n",
       " 'Chandler: We have to bust it open, but neither of us can do it!',\n",
       " \"Monica: Oh, well sure. This gotta be so hard. I'll do it. Gimme!\",\n",
       " '(Monica grabs the hammer and the crowbar and gets ready to bust it ',\n",
       " 'open.) ',\n",
       " '\\xa0 ',\n",
       " \"[Scene: Phoebe's cab. She's driving faster than ever before.]\",\n",
       " 'Ross: Phoebe! Wow! No, no, no!',\n",
       " '(Phoebe screams.)',\n",
       " \"Phoebe: Well, I've never gone this fast before.\",\n",
       " 'Ross: Phoebe, forget it, okay? Newark is - is like an hour away. ',\n",
       " \"  There's no way we're gonna make it in time.\",\n",
       " \"Phoebe: She's got her cell, you could call her.\",\n",
       " 'Ross: I am not doing this over the phone.',\n",
       " \"Phoebe: You don't have any other choice!\",\n",
       " '(She lets go of the steering wheel to get her cell-phone from her ',\n",
       " '  purse. Ross screams and reaches over in order to hold onto the wheel. Cut to the plane. Rachel is sitting in her seat when her cell-phone ',\n",
       " '  rings.)',\n",
       " 'Rachel: Hello?',\n",
       " 'Phoebe: Rachel? Oh, good. Hey, by the way, did you just get on the ',\n",
       " '  plane?',\n",
       " 'Rachel: Yeah.',\n",
       " \"Phoebe: (To Ross) For what it's worth, we would have caught her if we were at the right airport.\",\n",
       " 'Ross: Yay.',\n",
       " 'Phoebe: Uh, Rach, hang on.',\n",
       " \"(Phoebe tries to give her phone to Ross, but he won't take it. He \",\n",
       " '  mouths \"no.\")',\n",
       " 'Rachel: Phoebe? Is everything okay?',\n",
       " \"Phoebe: Uhm, actually no. No, you've... You have to get off the plane.\",\n",
       " 'Rachel: What? Why?',\n",
       " \"Phoebe: I have this feeling that something's wrong with it. Something \",\n",
       " '  is wrong with the left Philange.',\n",
       " \"Rachel: Oh, honey, I'm sure there's nothing wrong with the plane.\",\n",
       " '(The passenger in the seat next to Rachel looks at her and seems a ',\n",
       " '  little nervous.)',\n",
       " 'Rachel: Alright, look, I have to go. I love you, and I will call you ',\n",
       " '  the minute I get to Paris.',\n",
       " '(Rachel hangs up.)',\n",
       " 'Passenger #1: Uhm, what was that?',\n",
       " 'Rachel: Oh, that was just my crazy friend. She told me I should get ',\n",
       " '  off the plane, because she had a feeling that there was something ',\n",
       " '  wrong with the left Philange.',\n",
       " \"Passenger #1: Okay, that doesn't sound good.\",\n",
       " \"Rachel: I wouldn't worry about it. She's always coming up with stuff \",\n",
       " \"  like this, and you know what? She's almost never right.\",\n",
       " 'Passenger #1: But she is sometimes.',\n",
       " 'Rachel: Well...',\n",
       " '(The passenger stands up and gets his suitcase from the overhead ',\n",
       " '  compartment.)',\n",
       " 'Rachel: Wait, what are you doing?',\n",
       " \"Passenger #1: Well, I can't take this plane now.\",\n",
       " 'Air stewardess: Excuse me, sir, where are you going?',\n",
       " 'Passenger #1: I have to get off this plane, okay? Her friend has a ',\n",
       " \"  feeling something's wrong with the left Philange.\",\n",
       " 'Rachel: Could I get some peanuts?',\n",
       " \"Passenger #2: What's wrong with the plane?\",\n",
       " \"Air stewardess: There's nothing wrong with the plane.\",\n",
       " 'Passenger #1: Yeah! The left Philange!',\n",
       " 'Air stewardess: There is no Philange!',\n",
       " \"Passenger #1: Oh my God. This plane doesn't even have a Philange!\",\n",
       " \"Passenger #2: I'm not flying on it!\",\n",
       " \"Air stewardess: Ma'am, please sit down!\",\n",
       " \"Passenger #3: What's going on?\",\n",
       " \"Passenger #1: We're all getting off. There is no Philange!\",\n",
       " '(Everybody walks out of the plane.)',\n",
       " 'Rachel: This is ridiculous! I...',\n",
       " '(She notices that everybody is leaving.)',\n",
       " 'Rachel: Yeah, okay.',\n",
       " '(Rachel leaves as well.)',\n",
       " '\\xa0',\n",
       " \"[Scene: Joey's apartment. Monica has completely destroyed the \",\n",
       " '  foosball-table, and Chandler and Joey are holding the birds.]',\n",
       " 'Monica: Alright. My job here is done.',\n",
       " 'Chandler: That was... Impressive.',\n",
       " \"Joey: Yeah, you didn't even use the tools for most of it!\",\n",
       " 'Monica: Yeah, they were just slowing me down. Alright, I have to get ',\n",
       " \"  back to the babies. I'll see you girls later.\",\n",
       " ...]"
      ]
     },
     "execution_count": 23,
     "metadata": {},
     "output_type": "execute_result"
    }
   ],
   "source": [
    "episode_230"
   ]
  },
  {
   "cell_type": "code",
   "execution_count": 26,
   "metadata": {
    "ExecuteTime": {
     "end_time": "2018-05-29T18:04:24.962247Z",
     "start_time": "2018-05-29T18:04:24.958163Z"
    }
   },
   "outputs": [
    {
     "data": {
      "text/plain": [
       "'The One Where Emma Cries\\n\\n\\n\\nThe One Where Emma Cries\\n\\n\\nWritten by: Dana Klein BorkowTranscribed by: Eric Aasen\\n\\n\\n[Scene: Rachel\\x92s Hospital Room, Ross is sitting next to Rachel.]\\nRoss: You said you\\x92d marry Joey?\\nRachel: Okay you have to realize, I was exhausted, I was emotional, I \\nwould have said yes to anybody. Like that time you and I got married! (Pause) \\nI\\x92m not helping.\\nRoss: So you said yes to him, and you just had our baby?\\nRachel: That is right and traditionally the daddy is supposed to give \\nthe mummy a present but I am prepared to let that go.\\nRoss: So when I came in here to see if you wanted to maybe start \\nthings up again, you were engaged to my best friend.\\nRachel: Well\\x97Really? I thought Chandler was your best friend.\\nRoss: Well, Chandler\\x92s my oldest friend, but Joey\\x92s my\\x97No! Ah! (points \\nat Rachel)\\nRachel: Ooooo!\\nJoey: (Enters) Hey you guys I\\x92m gonna take off. I just wanted to let \\nyou guys know, say goodbye.\\nRoss: Rachel said she\\x92d marry you?!\\nJoey: (He looks around the room) This isn\\x92t the right room, sorry \\nfolks. (leaves)\\nOpening Credits\\n[Scene: Ross and Rachel\\x92s, Monica, Phoebe, Joey and Chandler are waiting for \\nRoss and Rachel to come home and Monica is looking at the sign Phoebe bought \\nthat says, \"It\\x92s a Boy!\"]\\nMonica: Ok, I don\\x92t wanna be negative so I\\x92ll say that most of the \\nsigns you bought are good.\\nPhoebe: No they ran out of \"It\\x92s a girl\" but I can fix this one, (She \\nwrites \"not\" in between it\\x92s and a) See?\\nMonica: (looking at Chandler sleeping with a balloon in his mouth) So \\nsexy. (Waking him up.) Honey.\\nChandler: Yea yea. (Pulls the balloon out of his mouth)\\nMonica: Honey why don\\x92t you go lie down.\\nChandler: No, no, Ross and Rachel will be back soon and then I gotta \\ngo to the office (Pulls another balloon out of his mouth) Am I producing \\nthem?\\nJoey: Why\\x92re you so tired?\\nChandler: Couldn\\x92t sleep last night you know, then I started worrying \\nabout this big divisional meeting that I have later today, the more I worried \\nabout it the more I couldn\\x92t sleep.\\xa0 Y\\x92know? I was like, if I fall asleep \\nnow I\\x92ll get six hours sleep, but if I fall asleep now I\\x92ll get five hours \\nsleep. Not matter what I did I couldn\\x92t fall asleep.\\nJoey: You know what you should\\x92ve done, you should have told yourself \\nthat little story.\\nRachel: (enters with Emma) Hi!\\nEveryone: Hi, welcome home!\\nMonica: Phoebe did the signs!\\nRachel: Oh you guys thanks for doing this.\\nPhoebe: Look at all the stuff people sent!\\nRachel: Oh Ah! (Sees a big stuffed gorilla) Oh my gosh there\\x92s \\nsomething every mother needs, a giant stuffed gorilla that takes up the entire \\napartment! What are people think\\x85 (Reads the card) Oh you guys I love it.\\nJoey: Hey so where\\x92s Ross?\\nRachel: He\\x92s downstairs getting the rest of the stuff out of the \\ncab.\\nJoey: Is he still mad at us?\\nRachel: Well, you more then me, but he can\\x92t stay to mad at me. I \\nmean, I just had his baby.\\nJoey: That\\x92s not fair! I can\\x92t do that.\\nRachel: Yeah, I\\x92m not so sure you should be here when he comes up.\\nJoey: See this is what I was afraid of, I didn\\x92t think I should be \\nhere either but somebody (Looks at Chandler) said he\\x92d be over it by now.\\nChandler: Hey, what do I know? I wanted to get a bigger gorilla.\\n[Scene: A Boardroom, Chandler keeps drifting off to sleep at his \\nmeeting.]\\nMs. McKenna: The numbers we are seeing New York, Chicago, and London \\nare consistently solid, but many of our officers have reported disappointing \\nfields.\\n(Chandler drifts off and his arm slips off the table and he wakes back \\nup.)\\nMs. McKenna: Boston is down, Atlanta is down, Houston is down, I could \\ngo on and on but instead of boring you I\\x92ll go straight to my forty two point \\nplan.\\n(Chandler leans over to fall asleep on the man\\x92s shoulder next to him, only \\nthe man catches his attempt.)\\nChandler: Walter (nods).\\n[Scene: Ross and Rachel\\x92s, Phoebe, Monica, Ross, and Rachel are watching Emma \\nsleep.]\\nPhoebe: She\\x92s just so cute! I just wanna bite her ear off and use it \\nand a sucking candy.\\nMonica: Phoebe! But I could take one of those little feet and put it \\nin a pita pocket.\\nRoss: (enters from the bed room) Okay I put most of the stuff \\naway.\\nRachel: Oh great, the pacifiers?\\nRoss: In the closet.\\nRachel: The burping clogs?\\nRoss: Linen closet.\\nRachel: The diapers?\\nRoss: In the hospital.\\nPhoebe: Wow you guys got a hospital?\\xa0 Fancy!\\nRoss: No I left the diapers at the hospital! There\\x92s some in the bag \\nbut I\\x92ll run out and get some more.\\nRachel: Alright thanks, oh Ross could you stop by the coffee house and \\nget me a muffin?\\nRoss: Sure what kind?\\nRachel: Umm let me think...What do I want, what d-o I w-a-n-t...\\nRoss: Please take your time, it\\x92s an important decision. Not like, \\nsay, I know! deciding to marry someone, this is about a muffin.\\nRachel: Blueberry.\\nRoss: Blueberry it is.\\nRachel: Thanks.\\nMonica: Wow, he\\x92s really not letting this go, is he?\\nRachel: God how long do you think that\\x92s gonna last?\\nPhoebe: I dunno, well he got over the \"We were on a break\" thing \\nreally quickly.\\nRachel: Y\\x92know I can\\x92t even worry about that right now, cause I got \\nthe cutie little baby, oh I can\\x92t believe how much I love her, I can\\x92t get \\nenough of her, like right now I miss her.\\xa0 I actually miss her.\\nPhoebe: You know that\\x92s\\x85 that\\x92s her.\\nRachel: Oh god look at her sleeping.\\xa0 Oh, I love her so \\nmuch!\\xa0 Oh, I think I\\x92m gonna wake her up.\\nPhoebe: Oh no, Rach, no no, you know you\\x92re never \\nsupposed to wake a sleeping baby.\\nRachel: Well I can do whatever I want!\\xa0 I made her! (Waking Emma \\nup.) Come on little girl, hi!\\n(Emma starts crying)\\nPhoebe: I can say I told you so but she\\x92s kinda doing that for me.\\nRachel: Oh I\\x92m sorry mummy\\x92s so sorry go back to sleep go back to \\nsleep. Shh. \\xa0 Shhh! Go back to sleep\\n(Emma continues crying in the background)\\nMonica: Breaks your heart doesn\\x92t it\\nPhoebe: It really does\\x85 how long do you think we have to stay?\\n[Scene: A Boardroom, Chandler\\x92s meeting continues.]\\nMs. McKenna: Ok if everyone\\x92s on board, it\\x92s settled, Chandler, \\n(Walter puts his hand on Chandlers hand, Chandler sleeping puts his hand on top \\nof his, he then wakes up and pulls his hand away) Chandler?\\nChandler: Yep.\\nMs. McKenna: Are you on board?\\nChandler: (not knowing what he\\x92s saying yes to) Yes.\\nMs. McKenna: Then, problem solved. Chandler will be running our office \\nin Tulsa. You\\x92re gonna love Oklahoma.\\n(Chandler smiles and nods then realizes what he\\x92s agreed to.)\\n[Scene: Ross and Rachel\\x92s, Emma continues crying while Rachel, Monica and \\nPhoebe try different methods to stop her crying.]\\nPhoebe: Well, alright, we already tried feeding her, changing her, \\nburping her, oh try this one! Go back in time and listen to Phoebe!\\nMonica: Alright here\\x92s something, it says to try holding the baby \\nclose to your body and then swing her rapidly from side to side.\\nRachel: Ok. (Starts swinging Emma rapidly and she stops crying)\\nMonica: It worked!\\nRachel: Oh (happy) oh no just stopped to throw up a little bit. (Emma \\nstarts crying again.) Oh come on, what am I gonna do, its been hours and it \\nwon\\x92t stop crying.\\nMonica: Umm, she Rach, not it, she. \\nRachel: Yeah, I\\x92m not so sure.\\nMonica: Oh my god, I am losing my mind.\\nPhoebe: Yeah, no kidding, this just proves no good can come from \\nhaving sex with Ross!\\n[Scene: Central Perk, Ross is getting Rachel\\x92s muffin.]\\nRoss: Hey Gunther, can I get a couple of blueberry muffins to go? (He \\nputs a bag with diapers in it on the counter.)\\nGunther: Diapers huh?\\nRoss: Yep.\\nGunther: So I guess Rachel had you baby?\\nRoss: Yep, can you believe it?\\nGunther: Nope!\\xa0 I still can\\x92t believe she slept with you in the \\nfirst place.\\nRoss: Huh? Ooh (laughs) you mean like a\\x85 Huh?\\nJoey: (entering) Hey. (Ross turns to see who it is, and seeing it\\x92s \\nJoey he just ignores him and turns back around.) Ross, I know you\\x92re pissed at \\nme, but we have to talk about this.\\nRoss: Ah actually we don\\x92t. (Ross walks off) \\nJoey:\\xa0 Fine, fine okay.\\xa0 But I gotta say \\ntechnically, I didn\\x92t even do anything wrong.\\nRoss: (turns back) What! (Angrily) You didn\\x92t do anything wrong?!\\nJoey: I said I didn\\x92t technically.\\nRoss: Okay let\\x92s put aside that you (Makes quote marks with his \\nfingers.) \"accidentally\" picked up my grandmothers ring and you (Does it again) \\n\"accidentally\" proposed to Rachel.\\nJoey: Look, can I just stop you right there for a second? When people \\ndo this (Makes quote marks with his fingers.) I don\\x92t really know what that \\nmeans. (Ross just looks at him) You were saying?\\nRoss: And I can even understand that you couldn\\x92t tell Rachel, but why \\ncouldn\\x92t you tell me, huh? You had all day to and you didn\\x92t.\\nJoey: I know I should\\x92ve. (Makes quote marks again.) \"I\\x92m sorry.\" \\nRoss: Not using it right, Joe.\\n(He brings his hands in closer to his face then does it again.)\\nRoss: I\\x92m gonna go.\\nJoey: No, come on Ross! (He grabs his bag so he can\\x92t leave) Look, \\nRoss, we have to get past this.\\nRoss: Give me the bag.\\nJoey: No, look, I don\\x92t know what else to do. I said I\\x92m sorry!\\nRoss: Joey!\\nJoey: You should scream at me, or-or-or curse me, or hit me.\\nRoss: I\\x92m not gonna hit you.\\nJoey: Why not?\\xa0 You\\x92ll feel better!\\xa0 I\\x92ll feel better, and \\nyou know you want to. I can see it in your eyes.\\nRoss: No I don\\x92t.\\nJoey: A little bit.\\nRoss: No.\\nJoey: Little bit.\\nRoss: No!\\nJoey: (excited) A little bit more.\\nRoss: Give me the bag.\\nJoey: No, hit me\\nRoss: Give me the bag.\\nJoey: Hit me.\\nRoss: Joey, give me the bag.\\nJoey: Hit me!\\nRoss: Joe I\\x92m not kidding\\x85\\nJoey: (interrupting) Hit me, hit me.\\nRoss: No!\\nJoey: (shouts) Hit me! Hit me! \\n(Ross throws a punch, but Joey ducks and Ross punches the pole. Ross then \\nscreams from the pain and turns to Gunther, and Gunther has a huge smile on his \\nface.)\\nRoss: You ducked!!\\nJoey: I\\x92m sorry! It was a reflex! \\nRoss: Oh my god, this really hurts!!!\\nJoey: I couldn\\x92t help it! When a fist comes at your face, you duck! \\nLook! (He goes to punch Ross, expecting him to duck, but he doesn\\x92t and Joey \\npunches Ross. \\xa0 Gunther is amused.)\\nRoss: What is the matter with you?!?\\nJoey: You were supposed to duck!!! Why didn\\x92t you duck?\\nRoss: Why don\\x92t we talk about this on the way to the hospital?\\nJoey: Good, good yeah, (Grabs the bags) maybe while we\\x92re there, they \\ncan check your reflexes. (Joey opens the door and it hits Ross in the face with \\nit.) (Makes quote marks.) \"Oops.\"\\nCommercial Break\\n[Scene: Ross and Rachel\\x92s, Emma is still crying.]\\nMonica: Try feeding her again.\\nRachel: I already fed her.\\nMonica: I know, that\\x92s why I said again!\\nPhoebe: Alright you guys, we can\\x92t turn on each other, Okay?\\xa0 \\nThat\\x92s just what she wants.\\nChandler: (enters) Hey.\\nMonica: Hey.\\nChandler: Monica can I talk to you outside for a minute?\\nRachel: Oh no, you guys, just stay here, I\\x92m gonna go check her \\ndiaper, Pheebs you wanna come?\\nPhoebe: Oh I\\x92m kinda part of this.\\nChandler: Actually Pheebs its more of a husband and wife kinda \\nthing\\nPhoebe: I knew I should have married Chandler.\\n(Phoebe and Rachel go to the back room and Emma continues to cry in the \\nbackground while Chandler and Monica talk.)\\nMonica: Okay what\\x92s up\\nChandler: Umm, you know how we always said that it would be fun to \\nmove to Paris for a year? You know, you could study French cooking and I could \\nwrite and we could take a picnic along the Seine and go wine tasting in \\nBordeaux?\\nMonica: Oh yeah (smiles).\\nChandler: Okay, you know how that people say that Tulsa is the Paris \\nof Oklahoma?\\nMonica: What? Who says that?\\nChandler: People who\\x92ve never ever been to Paris.\\nMonica: What\\x92s going on?\\nChandler: We\\x92re moving to Tulsa! (Makes a excited expression on his \\nface)\\nMonica: Excuse me?\\nChandler: Okay, Ms. McKenna, she kind of works above my boss, she \\nasked me to move to Tulsa and be the president of our office there, and I was \\nsleeping and apparently, said yes.\\nMonica: (stands up angry) Tulsa, Oklahoma!\\nChandler: The Sooner State, whatever that is.\\nMonica: Chandler, I don\\x92t even wanna see the musical Oklahoma!\\nChandler: Really? Oh What A Beautiful Morning!\\xa0 \\nSurrey With A Fringe On Top.\\nMonica: Are you trying to tell me that we\\x92re moving to Oklahoma, or \\nthat you\\x92re gay? All right, not that this matters, but did they at least offer \\nyou a huge raise?\\nChandler: No, no, but they are going to lease us a Ford Focus. \\n(Monica\\x92s not impressed.) I\\x92ll get out of it.\\nMonica: Thank you.\\nChandler: (hears Emma crying) What is wrong with Emma?\\nMonica: Oh she misunderstood, she thought she was moving to Tulsa.\\n[Scene: Ms. McKenna\\x92s Office, Chandler enters.]\\nChandler: Umm ma\\x92am, do you have a minute? (She points for him to come \\nin) I kind of have some bad news. I don\\x92t think I can move to Tulsa.\\nMs. McKenna: What?\\nChandler: It\\x92s a funny story, actually. (coughs) I kind of fell asleep \\nin the meeting this morning so when I said I\\x92d move to Tulsa, I didn\\x92t really \\nknow what I was saying.\\nMs. McKenna: You fell asleep?\\nChandler: But only because I was up all night worried about this \\nmeeting, ain\\x92t that funny? Irony? Not a fan, alright (he sits down). See, here\\x92s \\nthe thing. I went home and told my wife about Tulsa and she won\\x92t go. See, me, I \\nlove Tulsa!\\xa0 Tulsa is heaven!\\xa0 Tulsa is Italy\\x97Please don\\x92t make me go \\nthere!\\nMs. McKenna: Chandler, I\\x85\\nChandler: No no no! Look, Carol, can I call you Carol? (Pause) Wh-why \\nwould I when your name is Elaine? Oh what a great picture of your son, \\nstrapping! (She glares at him.) That\\x92s a picture of your daughter, isn\\x92t it, \\nwell she\\x92s lovely. I like a girl with a strong jaw. I\\x92ll call you from Tulsa. \\n(Exits.)\\n[Scene: The Hospital, Joey is sitting in the lobby as Ross enters.]\\nJoey: Hey, so how is it?\\nRoss: I broke my thumb.\\nJoey: Your thumb? That\\x92s weird. (Makes a fist.) You sure you\\x92re \\npunching right? Make a fist. (Ross just looks at him with his thumb in a cast.) \\nMaybe later. Ross I feel terrible.\\nRoss: You know what, you can go, I just have to fill out some forms. \\n(Tries to hold the pen but can\\x92t)\\nJoey: You, you want me to help you with that?\\nRoss: Why, does it look like I\\x92m having trouble with my misshapen \\nclaw? (He hands Joey the form)\\nJoey: Name? (Ross looks at him.) I know Ross but what\\x92s it short for? \\nYou know like, like Rossel or Rosstepher.\\nRoss: Just Ross!\\nJoey: It\\x92s pretty, Okay date of birth?\\nRoss: You know my birthday.\\nJoey: Sure, May...tember.\\nRoss: October 18th.\\nJoey: Occupation? Dinosaurs.\\nRoss: Actually I\\x92m a palian\\x85 Dinosaurs is fine\\x85 the drawing is \\nnot.\\nJoey: Alright, who do you want as your emergency contact?\\nRoss: Ah, Rachel I guess.\\nJoey: Okay, relationship, boy this could take a while.\\nRoss: Just ah\\x85 just put roommate.\\nJoey: Come on, you guys are more then that! I mean, you\\x92re gonna get \\ntogether right?\\nRoss: I don\\x92t think that we are.\\nJoey: But you two were supposed to be together.\\nRoss: Well, I thought so too, but then she said she\\x92d marry you.\\nJoey: Come on, Ross, that didn\\x92t mean anything! She just had the baby, \\nshe was all freaked out about doing it alone, she would have said yes to \\nanybody.\\nRoss: Yeah that\\x92s what she said.\\nJoey: So?\\nRoss: So I don\\x92t wanna be just anybody.\\nJoey: Wow.\\nRoss: You know what, it\\x92s, it\\x92s better this way anyway. I mean I don\\x92t \\nknow what I was thinking, going down that road again with us. It\\x92s just much \\neasier if we\\x92re just friends who have a kid.\\nJoey: Really?\\nRoss: Yeah.\\nJoey: And you\\x92re Okay with that?\\nRoss: Yes. I mean, it\\x92s what we always planned.\\xa0 And if you have \\na plan, you should stick to it.\\xa0 That\\x92s why they call them plans.\\xa0 \\nHello? (Pause) I\\x92m fine.\\nJoey: Hey, for what it\\x92s worth, with Rachel I don\\x92t think you\\x92ll ever \\nbe just (Makes quote marks.) \"anybody.\"\\nRoss: Hey there you go! (Smiles because Joey used it correctly)\\nJoey: (makes quote marks) \"Thanks.\"\\n(Ross looks away, not bothering)\\n[Scene: Ross and Rachel\\x92s, Emma continues to cry.]\\nRachel: Oh my God! How long has she been crying?\\nMonica: About a week and a half.\\nPhoebe: Well alright, looks like you guys have got it under control so \\nI\\x92m just gonna go. (She gets up and Rachel looks at her, upset, and Monica just \\nstares.) No! Really? Misery really does love company. All right! (She sits back \\ndown.)\\nMonica: Rach, try holding her a different way.\\nRachel: You guys, I\\x92m doing the best I can, anyone else is welcome to \\ntry.\\nPhoebe: Alright, I\\x92ll try, fine! Yes, Okay!\\nRachel: Here you go. (Hands Emma to Phoebe)\\nPhoebe: Shh! Nothing works with this child! (Hands her back.)\\nRachel: Oh god what am I gonna do you guys, I can\\x92t even comfort my \\nown baby! I\\x92m the worst mother ever!\\nMonica: You\\x92re just new at this, it\\x92ll get better, think about your \\nfirst day at work. I mean, that couldn\\x92t have been easy but you figured that \\nout.\\nRachel: Yeah I don\\x92t think dressing provocatively is going to help me \\nhere! Oh my god just please take her.\\nMonica: Okay I\\x92ll take her, here. (Takes Emma)\\nRachel: I have to go to the bathroom. (Goes to the bathroom)\\nPhoebe: I have to go scream into a pillow. (Goes to scream into a \\npillow)\\nMonica: (To Emma) Bouncy baby, Bouncy baby, Ooh baby baby, Ooh baby \\nbaby, Ooh baby baby. (Emma stops crying and falls asleep)\\nPhoebe: (entering) Have I gone deaf?\\nMonica: It worked! Ooh baby baby baby, ooh baby baby baby!\\nPhoebe: You must be a fireball in bed.\\nMonica: I can\\x92t believe it!\\xa0 She\\x92s asleep!\\xa0 I got her to go \\nto sleep! \\xa0 I have actual magical powers!\\nPhoebe: I can hear traffic and birds!\\xa0 I can hear the voices in \\nmy head again! (Monica looks at her strangely) I\\x92m kidding. (She smiles \\nwickedly.)\\nRachel: Oh my God! You got her to stop crying!\\nMonica: Yes I did, I\\x92m Monica, Super Aunt\\nRachel: You are the official baby crier stopper!\\nMonica: Yes I am!!\\nRachel: You\\x92re never leaving the apartment!\\nMonica: Say what?\\nRachel: That\\x92s your new job, day and night, she starts crying I need \\nyou here.\\nMonica: (stands up to hand Emma back) Oh no no no no!\\nPhoebe: Thankfully you don\\x92t need me at all (gets up and to leave) so \\nOkay Super aunt see you later! Rachel let\\x92s give it six to eight months (she \\nleaves).\\nRachel: Okay so listen I\\x92m gonna go lay down.\\nMonica: What?\\nRachel: You know the book says that whenever she\\x92s sleeping I should \\nbe sleeping so\\x85 (She gives Monica thumbs and goes to lay down)\\nChandler: (entering, loudly) Hey!\\nMonica: Shhh! We just got her to go to sleep\\nChandler: Oh so there can\\x92t be any yelling.\\nMonica: No.\\nChandler: We\\x92re moving to Tulsa\\nMonica: (loudly) What!?\\nChandler: Shhhh! Shhhhh! Shhhhh! Shhhhh! (Walks backwards towards the \\ndoor) I can\\x92t, I can\\x92t hear you. (He runs out)\\n[Scene: Ross and Rachel\\x92s, Ross enters.]\\nRoss: Hey.\\nRachel: Heeeeey, where have you been? (He shows her his thumb) What \\nhappened to you?\\nRoss: Ah I had a little thing with Joey, if you think this is bad you \\nshould see him.\\nRachel: Oh no Ross! This is not good, we have to talk about this Joey \\nthing. Please sit. (He sits) You have got to get over this Joey thing, okay? I \\nnever really wanted to marry Joey, okay?\\nRoss: Okay.\\nRachel: You know what I really really want?\\nRoss: What, Rach?\\nRachel: I wanna sleep, I wanna eat, I wanna take a shower, I mean \\nbefore she wakes up and we gotta do this all over again.\\nRoss: (smiles) Right.\\nRachel: I mean I got news for you mister, Emma?\\xa0 Not easy.\\nRoss: Well, that\\x92s what I\\x92m here for. (Emma starts crying again) Want \\nme to get that?\\nRachel: No its really okay\\x85 Monica!\\nMonica: (comes running out the kitchen to the bedroom) Got it! Got it! \\nGot it! Got it! Got it! Got it!\\nClosing Credits\\n[Scene: Central Perk, Joey and Ross are sitting at one of the high \\ntables.]\\nJoey: You know, ah, I\\x92ve been thinking about this and I gotta tell ya, \\nit\\x92s not my fault. It\\x92s a natural instinct.\\nChandler: (enters) Hey, what you guys talking about?\\nJoey: Hey OK great, what would you do if I did this? (Swings to punch \\nChandler, he moves and he ends up punching Ross, knocking him off the stool. \\nRoss then gets up and just stares at Joey.)\\nEnd\\n\\n\\n\\n'"
      ]
     },
     "execution_count": 26,
     "metadata": {},
     "output_type": "execute_result"
    }
   ],
   "source": [
    "episode_scripts[190]"
   ]
  },
  {
   "cell_type": "code",
   "execution_count": 51,
   "metadata": {
    "ExecuteTime": {
     "end_time": "2018-05-29T18:08:41.852880Z",
     "start_time": "2018-05-29T18:08:41.850428Z"
    }
   },
   "outputs": [],
   "source": [
    "sample = episode_scripts[200]"
   ]
  },
  {
   "cell_type": "code",
   "execution_count": 52,
   "metadata": {
    "ExecuteTime": {
     "end_time": "2018-05-29T18:08:42.246253Z",
     "start_time": "2018-05-29T18:08:42.243730Z"
    }
   },
   "outputs": [],
   "source": [
    "sample = sample[sample.find('Transcribed by:')+16:]"
   ]
  },
  {
   "cell_type": "code",
   "execution_count": 53,
   "metadata": {
    "ExecuteTime": {
     "end_time": "2018-05-29T18:08:42.611118Z",
     "start_time": "2018-05-29T18:08:42.608306Z"
    }
   },
   "outputs": [],
   "source": [
    "sample = sample[sample.find('\\n')+1:]"
   ]
  },
  {
   "cell_type": "code",
   "execution_count": 54,
   "metadata": {
    "ExecuteTime": {
     "end_time": "2018-05-29T18:08:43.038479Z",
     "start_time": "2018-05-29T18:08:43.033198Z"
    }
   },
   "outputs": [
    {
     "data": {
      "text/plain": [
       "'\\n[Scene: Coffee place, Joey is there, Chandler is entering]\\nChandler: Hey\\nJoey: Hey. So where\\'s Mon?\\nChandler: Oh, she\\'s at home, putting up decorations for Rachel\\'s birthday \\n  party tonight.\\nJoey: And you\\'re not helping?\\nChandler: I tried, but apparantly singing \"I will survive\" \\n  in a helium voice - not helping.\\n(Ross and Rachel enter with Emma in Rachel\\'s hands)\\nRoss: Hey you guys!\\nJoey and Chandler: (start to sing) Hey! Happy birthday ...\\nRachel: Shhh don\\'t say that loud, Gunther\\'s gonna want to hug me.\\nRoss: Uh, good news everyone, we finally found a nanny. This is Molly \\n  (points to Molly). Molly, Chandler, Joey.\\nJoey and Chandler: Hi.\\nMolly: Hi.\\n(Emma starts to cry)\\nRoss: Ooh, somebody\\'s getting a little fussy.\\nJoey: You damn right I am, I\\'ve been waiting for a cookie for 7 minutes.\\nRachel: Ok, you know what, I\\'m just gonna take her outside.\\nMolly: No, you stay, I\\'ll do it (takes Emma from Rachel). \\nRachel: OK, thank you.\\nMolly: Nice to meet you guys (to Chandler and Joey).\\nJoey: Yeah, you too.\\n(Molly leaves)\\nRachel: Oh, wow, Molly is just great!\\nRoss: Yeah.\\nChandler: Yes, Bravo on the hot nanny.\\nRachel: What? You really think she\\'s hot?\\nChandler: Are you kidding? If I wasn\\'t married she\\'d be rejecting me \\n  right now.\\nRachel: And Joey?\\nJoey: How do you think she\\'s doing?\\nRachel: Am I the only one who doesn\\'t think that she\\'s hot? Ross?\\nRoss: Eh, I mean, I mena she\\'s not unattractive but hot? I ....\\nRachel: Thank you! (goes to get coffee)\\nChandler: Now that Rachel\\'s gone?\\nRachel: So hot I cried myself to sleep last night. (Joey and Chandler \\n  clap their hands)\\nOPENING CREDITS\\n[Scene: Mike and Phoebe in Phoebe\\'s place, Phoebe is doing a crossword puzzle]\\nPhoebe: Hey Mike, what\\'s the capital of Peru?\\nMike: Lima.\\nPhoebe: No. It starts with a \"v\" and ends with an \"x\". \\n  Helpfully with a \"to\" in the middle.\\nMike: You know, kinda think of it, the capital of Peru IS \"vtox\". \\n  (opens the kitchen cabinet) Oh god! Oh!\\nPhoebe: What?\\nMike: OK, I don\\'t want to freak you out or anything, but I think I just \\n  saw a rat in your cupboard.\\nPhoebe: (relived) Oh, whew, no, that\\'s Bob.\\nMike: What, is he your pet rat?\\nPhoebe: Well not so much a pet as, you know, an occasional visitor who \\n  I put food out for, you know. Kinda like Santa. Except Santa doesn\\'t poop on \\n  the plate of cookies.\\nMike: You can\\'t keep a rat in your appartment! They\\'re extremely unsanitary, \\n  and they transmit leptospirosis and hantavirus.\\nPhoebe: What are those?\\nMike: I don\\'t know but they don\\'t sound like spa treatments. You have \\n  to get rid of it!\\nPhoebe: OK, fine, if it means that much to you I\\'ll get rid of Bob.\\nMike: Thank you.\\nPhoebe: So weird, you think he\\'s so gross and you\\'re willing to eat \\n  his crackers. (Mike throws out everything in his mouth)\\n[Scene: Rachel\\'s office, Rachel comes in and Gavin is there]\\nRachel: Hello.\\nGavin: Hello\\nRachel: Gavin, I just wanted to say thank you again for watching Emma \\n  yesterday during the presentation. I really owe you an appology.\\nGavin: For what?\\nRachel: Well, when we first met, you know, I thought you were pompous \\n  and arrogant and obnoxious ...\\nGavin: Is this your first appology?\\nRachel: No, I just mean that, you know, first impressions don\\'t mean \\n  anything. And I-I think you\\'re a really good guy and I\\'m sorry that I misjudged \\n  you.\\n(Heather walks in)\\nHeather: Good morning! \\nRachel: Hello. (to Gavin) But you know what, hey, new day, new leaf, \\n  I am just really really happy ... (sees Gavin staring at Heather) I\\'m sorry, \\n  obviously Heather\\'s ass has something more important to say so I\\'ll just wait \\n  \\'till it\\'s finished.\\nGavin: What?\\nRachel: I was giving you an appology and you were totally checking her \\n  out!\\nGavin: I wasn\\'t checking her out. I\\'m in fashion, I was looking at her \\n  skirt. Or was it pants? I didn\\'t really see what happened below the ass area.\\nRachel: Oh wow, you are really, you\\'re really a creep.\\nGavin: Why do you even care if I was looking at her? Are you jealous?\\nRachel: Oh yeah, I\\'m jealous. \"Oh Gavin, please, please look at \\n  my ass\". (Gavin starts looking) Stop looking at my ass! I mean, I just \\n  think you are totally inappropriate, ok? This is a work environment, she\\'s your \\n  subordinate.\\nGavin: I thought it was ok when you slept with your old assistant Tag.\\nRachel: That is totally different for two reasons. One - I didn\\'t know \\n  that you knew that. And two, I wasn\\'t some creep staring at his ass, we had \\n  a deap meaningful relationship.\\nGavin: Huh. What\\'s Tag\\'s last name?\\nRachel: It was ... (can\\'t remember) oh my god. He didn\\'t have a last \\n  name. It was just \"Tag\". You know, like Cher, or, you know, Moses.\\nGavin: But it was a deap meaningful relationship.\\nRachel: Oh, you know what - my first impression of you was absolutely \\n  right. You are arrogant, you are pompous ... Morgan! Morgan! Tag\\'s last name \\n  was Morgan! Huh!\\nGavin: It was Jones.\\nRachel: Yeah well what are you, his boyfriend?\\n[Scene: Coffee place, Molly holding Emma and talking to Joey]\\nJoey: Man, I wish I had a nanny like you.\\nMolly: You mean, when you were a baby.\\nJoey: Sure.\\n(Chandler is staring at Molly)\\nMonica: Would you stop staring at her?\\nChandler: I wasn\\'t staring. I was leering.\\nMonica: What\\'s the big deal with her? Maybe she\\'s attractive in an obvious \\n  kind of way.\\nRoss: Yeah, obvious beauty\\'s the worst. You know, when it\\'s right there \\n  in your face. Me, I like to have to work to find someone attractive. Makes me \\n  feel like I earned it.\\nChandler: Looks like Joey is doing allright with her.\\nMonica: Yeah. Hey, that was nice of you guys to back off and let Joey \\n  get the girl for once.\\nMolly: (to Ross) I\\'m gonna take her back to the appartment.\\nRoss: Ok, I\\'ll be home right after work. Ok, by Emma-Wemma-Demma, I \\n  love you - wovyou dovyou ...\\nMolly: Bye\\nMonica: They\\'ve elected me to talk to you about the baby talk - it\\'s \\n  not so good.\\nMolly: I think it\\'s sweet. (goes to leave)\\nRoss, Joey and Chandler: Bye, Emma-Wemma-Demma.\\nRachel: (to Joey) Hey, listen, Joey, about Molly, I really prefer if \\n  you didn\\'t go after her.\\nJoey: Why not?\\nRachel: Because it took us months to find a good nanny and I wouldn\\'t \\n  want anything to, you know, drive her away.\\nJoey: So, what, you think I\\'m just gonna sleep with her and never call \\n  her again and things are gonna get uncomfortable? (thinks about it) Yeah, sounds \\n  about right.\\nRoss: Come on, there are plenty of other women out thereok? Just - just \\n  forget about her, ok? Just, she\\'s off limits.\\nJoey: Oh, man, why did have to go and say that for? Now that you told \\n  me I can\\'t have it makes me want her even more!\\nRoss: What are you, a child?\\nJoey: Yes!\\nRoss: Joey, come on now, for me! Please, just-just try to focus your \\n  sexual energy on someone else.\\nJoey: Fine. (looks around, then focuses on Monica)\\nMonica: (to Chandler) Take me home! (they quickly leave)\\n[Scene: Phoebe\\'s place, Phoebe and Mike are there]\\nPhoebe: Hey Mikey\\nMike: Hey P\\nPhoebe: What are you doing?\\nMike: Setting rat traps.\\nPhoebe: To kill Bob??\\nMike: No, no, to test his neck strength.\\nPhoebe: No, Mike, I don\\'t want to kill him! I thought we were just gonna \\n  capture him and, and you know, set him free in the country side where he can \\n  maybe meet a friendly possom and a wisecracking owl.\\nMike: Ok, ok, I\\'ll throw away the traps.\\nPhoebe: I\\'ll find Bob, I\\'ll get him. Bob? (starts looking) Bob! Robert! \\n  (looks at cabinet under sink) Oh wait, I think I hear him. Oh - Oh my god! Bob \\n  had babies! Bob\\'s a mom!\\nMike: Better think of a new name for him.\\nPhoebe: I don\\'t know, I kinda like Bob for a girl.\\nMike: I don\\'t know, I mean I\\'m not sure (they hear cracking voice from \\n  somewhere else in the kitchen, probably a rat caught in a trap) ...\\nPhoebe: Oh my god, we killed Bob!\\nMike: Maybe it wasn\\'t Bob, maybe it was a mouse.\\nPhoebe: Suzie? (Runs over there to check)\\n[Scene: Mon and Chan\\'s, Ross enters]\\nRoss: Whazzup??\\nChandler: Seriously dude, 3 years ago.\\nRoss: Listen, can you do me a favor? I\\'m gonna be out today. Can you \\n  just keep an eye on Joey, make sure nothing happens between him and Molly?\\nChandler: You don\\'t trust him?\\nRoss: Wh - No. Some woman who sounded a lot like Joey called earlier \\n  and asked for her daughter, the \"hot nanny\".\\nChandler: Is this really your long term plan, for me to run interference? \\n  Because I could get a job any day now.\\nRoss: You do appear right on the cusp of something. Come on man, I\\'m \\n  sure he\\'ll lose interest in a week or two, but for now can you please just do \\n  this for me?\\nChandler: Allright, fine, but don\\'t blame me if it doesn\\'t work. Because \\n  you know as well as I do that once Joey sets his mind on something, more often \\n  than not, he\\'s going to have sex with it.\\nRoss: Well we gotta do something, ok? Nannies like her don\\'t grow on \\n  trees. (pause) \\nChandler: Picturing that tree?\\nRoss: I am, yes.\\n[Scene: Hallway, Joey get out of his appartment and Chandler jumps out of \\n  his]\\nChandler: Where you going, Joe?\\n(Joey falls on floor and gets up)\\nJoey: For a walk.\\nChandler: Oh. You mind if I join you?\\nJoey: Actually, that will be long. You know, I really need to organize \\n  my thoughts.\\nChandler: Your thoughts? Plural?\\nJoey: Allright, fine, I only have one thought! It\\'s about the hot nanny, \\n  I gotta see her!\\nChandler: I\\'m afraid I can\\'t let you do that, Joe.\\nJoey: Now YOU\\'RE telling me I can\\'t see her?? You guys are killing me! \\n  She\\'s forbidden fruit! It\\'s like ... like she\\'s the princess and I\\'m the stable \\n  boy ... Why are you doing this, huh? Did Ross tell you not to let me go over \\n  there?\\nChandler: Yes, as a matter of fact he did, so I can\\'t let you go.\\nJoey: Huh. Interesting. Now there are obstacles. Hot nanny and me against \\n  the world. This is the kind of stuff great novels are made of.\\nChandler: Great novels? \\nJoey: Fine ... mediocre porn\\n[Scene: Rachel\\'s office, Rachel and Gavin there, phone rings, Gavin picks \\n  it up]\\nGavin: Gavin Mitchelle\\'s office.\\nRachel: Rachel Green\\'s office!! Give me that phone! (takes the phone) \\n  Hello, this is Rachel Green, how can I help you? Uh huh ... ok then ... I\\'ll \\n  pass you back to your son (gives phone to Gavin)\\nGavin: Hey Mom! No, that\\'s just my secretary. (Rachel is upset)\\nRachel: Um, excuse me Gavin, I have a question I need to ask you.\\nGavin: Mom, I\\'ll call you later. Yeah. (hangs up) (to Rachel) Yes?\\nRachel: If you like looking at butts so much why don\\'t you just go look \\n  at a mirror?\\nGavin: Thank god you finally said that, I saw you make a note on your \\n  pad three hours ago. (Rachel throws away that paper) Man, I really bug you, \\n  don\\'t I?\\nRachel: Oh, please, I don\\'t care about you enough to bug me. In fact, \\n  from now on, I\\'m going take the high road. And I\\'m going be very very nice to \\n  you, you \"momma\\'s boy\", starting right now.\\n(door knock, Monica enters)\\nMonica: Hey Rach!\\nRachel: Hi!\\nMonica: Ready for your birthday lunch?\\nRachel: Yeah I am, I am! Oh, but first of all, Monica, I would like \\n  to introduce you to my very talented colleage and more importantly my wonderful \\n  friend Gavin Mitchelle. \\nGavin: Pleased to meet you.\\nMonica: Pleased to meet you. So you\\'re coming to Rachel\\'s party tonight?\\nRachel: Oh no no no no no, Gavin can\\'t, he already has plans, most likely \\n  with his mother. \\nGavin: Well I don\\'t mind, I\\'ll cancel. I would never miss my secretary\\'s \\n  birthday. (leaves)\\nRachel: Why did you invite him?? I can\\'t stand that guy!\\nMonica: You were just being so nice to him!\\nRachel: I was faking it! Can\\'t you tell when I\\'m being fake?\\n(A man walks by)\\nRachel: Hey, Mr Philips, nice suit!\\nMonica: Right there! That was so fake!\\nRachel: Shh!\\n[Scene: Rachel\\'s birthday party]\\nRachel: (to Monica) I still can\\'t believe you invited Gavin. Allright, \\n  he is the last person I want to see.\\nMonica: Oh, you\\'re welcome for the party. I\\'m glad you\\'re having a good \\n  time.\\nRachel: God, I hope he doesn\\'t show up. Of course he\\'s not gonna show \\n  up, the guy hates me.\\nMonica: Does he?\\nRachel: What?\\nMonica: Maybe he\\'s bothering you so much because he likes you. It\\'s \\n  like in first grade when Skippy Langwild always pushed me on the playground \\n  because he secretly had a crush on me?\\nRachel: Oh, Monica, you think Skippy liked you? Honey, all those buys \\n  had a bet to see if he can knock you over.\\nMolly: (with Emma in a basinet) She\\'s out, I\\'m gonna take her home.\\nRachel: Oh, ok, thank you. (Molly leaves) (to Monica) Do you see what \\n  all the guys see in her?\\nMonica: Wouldn\\'t kick her out of bed. No more Vodka for me! (put her \\n  glass down)\\n(Joey comes over)\\nJoey: Hey Rach, so can I sing happy birthday to you now?\\nRachel: Yeah, sure!\\nJoey: Oh ... (Starts to sing) Happy birth ... (sees Molly leaving) oh, \\n  see you later (runs after Molly)\\nMonica: Hey Rach, somebody got you shoes!\\nRachel: Oh, give me! (opens the box happily, then gets freaked and throws \\n  away the box, she and Mon jump up the sofa)\\nPhoebe: Be careful, be careful! These are my rat babies!\\nMike: Yeah. We have rat babies now.\\nRachel: Ahhhh , you brought rats to my birthday party?\\nMonica: So this is what a stroke feels like.\\nPhoebe: I had to bring them! We killed their mother, they\\'re our responsibility \\n  now. You know, they require constant care. You should know that, Rachel, you\\'re \\n  a mother.\\nRachel: Are you comparing my daughter to a rat?\\nPhoebe: No! Seven rats! I think we should take them home, we need feed \\n  them.\\nRachel: whhh wait, you\\'re gonna leave my party to take care of a box \\n  of rats?\\nPhoebe: Well I\\'m sorry Rachel, but I\\'m not like you, ok? Not everyone \\n  can afford help. (she and Mike leave)\\n(Ross gets out of the bathroom, sees Chandler)\\nRoss: Where the hell are Joey and Molly? I asked you to watch them.\\nChandler: (In a helium voice, holding a balloon) I\\'m sorry, I got a \\n  little occupied.\\nRoss: We have to stop them before something happens!\\nChandler: (still helium voice) Right behind you, big guy! (they both \\n  head for the door) \\n[Scene: Ross\\'s place, Molly and Joey are talking on the couch]\\nJoey: So you see, Molly, what people don\\'t understand is that acting \\n  is a discipline. It takes a lot of hard work.\\nMolly: So where did you study?\\nJoey: Oh, I didn\\'t go to college.\\nMolly: No, where did you study acting?\\nJoey: Molly ... people don\\'t study acting ...\\n(Ross and Chandler walk in, Joey looks disappointed)\\nRoss: Molly, ah, do you mind giving us just a minute?\\nMolly: Sure, I\\'ll go check on Emma.\\nRoss: Thanx.\\n(Molly gets up and walks away)\\nJoey: (upset) Will the stable boy never get the princess??\\nRoss: What do you think you\\'re gonna do, have sex with her right here \\n  on my couch?\\nJoey: No ... the leather sticks to my ass. You know, this isn\\'t fair. \\n  What makes you think that I\\'m just gonna sleep with her and then blow her off? \\n  Huh? Can\\'t you guys open your minds to the possibility that I actally like her, \\n  and might want something real? (pause) Look, the truth is, I haven\\'t felt this \\n  way about anyone since Rachel, ok? I didn\\'t think I could ever love again.\\n(pause)\\nRoss and Chandler: Come on! Joe!\\nJoey: Ok (admits)\\n(knock on door, Ross opens, it\\'s a woman)\\nWoman: Hi, is Molly here?\\nRoss: Yeah, come on in. Molly?\\nMolly: (goes out of the room) Hey! Guys, this is Tabatha (they kiss \\n  on the lips in a romantic way). (to Ross) I\\'ll see you tomorrow.\\nRoss: Ok ... (they leave the room, long pause) Well, uh, Joey, I guess \\n  we have no problem.\\nJoey: It\\'s like my favorite fairy tale come true! (Chandler looks at \\n  him) The princess, the stable boy and the lesbian!\\n[Scene: Phoebe\\'s place, Phoebe and Mike enter]\\nPhoebe: Ok, ok, you start preparing the formula and I start changing \\n  the box and then we gotta put them straight to bed.\\nMike: Hey, when did we become one of those couples whose lives revolve \\n  around their rats?\\nPhoebe: Well, you know what, they\\'re our responsibility now.\\nMike: Ok, fine, these rats are our responsibility. What happens when \\n  they mate and there are hundreds of them?\\nPhoebe: Mate? They\\'re all brothers and sisters.\\nMike: Yeah - not such a problem with rats. No, they\\'re more of a \"love \\n  the one you\\'re with\" kind of animals.\\nPhoebe: No. (opens the box) wh - get off your sister! Oh my god, what \\n  are we gonna do? We have 7 rats. So what if each of them has 7 rats? And then \\n  each of those have 7 rats? That\\'s like ... (starts counting with her fingers) \\n  That\\'s math I can\\'t even do! What are we gonna do?\\nMike: Well, I know this is gonna sound crazy, but, we could not let \\n  the box of rats ruin our lives.\\nPhoebe: Yeah, ok. I guess you\\'re right. Allright, so we should just \\n  give them away. But to nice families, with children, and reduced fat wheat thins. \\n  They\\'re Bob\\'s favorites. \\nMike: It\\'s gonna be ok.\\nPhoebe: You must think I\\'m crazy.\\nMike: No, I think you\\'re sweet.\\nPhoebe: Good. It\\'s just so hard, it\\'s hard for me to ... let them go. \\n  I guess it just brings back memories, you know, from ... when I gave birth to \\n  my brother\\'s triplets and I had to give them up. (Mike is shocked) I haven\\'t \\n  told you about that yet, have I?\\n[Scene: Rachel\\'s party, Rachel is on the balcony, Monica goes there also]\\nMonica: Hey!\\nRachel: Hi. Thanks for the party, honey. Should I help you clean up?\\nMonica: No way! You had your party, now I have mine! Is everything alright?\\nRachel: Yeah, I just get a little bummed when my birthday\\'s over.\\nMonica: Well, at least you have one thing to be happy about. That jerk \\n  Gavin from your office didn\\'t show up (Gavin shows up at the balcony windows).\\nRachel: Mmm hmm.\\nGavin: Yeah, hey. (comes in to the balcony)\\nMonica: Oh, we weren\\'t talking about you. No, no way to recover.\\nRachel: No.\\n(Monica goes back inside)\\nGavin: Nice party.\\nRachel: Well, it was, and you would have seen it if you didn\\'t showed \\n  up at (looks at his watch) ... 9:30?? God! Oh, this party was lame ...\\nMonica: (from inside) Again, you\\'re welcome.\\nGavin: Look, I\\'ll just give you this and go.\\nRachel: Oh, you bought me a present! Why?\\nGavin: Well, let me explain how birthday parties usually work. There \\n  are presents, and a cake, perhaps a fourth or fifth person. Ok, I ... got you \\n  the present to make up for being such a jerk to you earlier.\\nRachel: Aww. Well, ok, well that\\'s very nice. And you wrote a card (opens \\n  the card). \"From Gavin\"\\nGavin: I really mean it.\\nRachel: (opens the present, it\\'s a green scarf) Awww, awww, it\\'s beautiful.\\nGavin: You don\\'t mind? (puts it around her neck) Well, what do you know, \\n  it fits!\\nRachel: See, Gavin, you\\'re capable of being a nice guy. Why did you \\n  give me such a hard time?\\nGavin: I\\'m not sure.\\nRachel: Well Monica seems to think it\\'s because you have feelings for \\n  me.\\nGavin: I do have feelings for you.\\nRachel: You do?\\nGavin: Yes, I feel that you are a little annoying.\\nRachel: See? Why, Gavin, why? Right when I\\'m about to change my opinion \\n  of you, you go and you ... (he kisses her) and you do that ... (they kiss again)\\n[cut to Ross from his appartment, holding baby toys and is shocked to see \\n  them kissing]\\nENDING CREDITS\\nChandler: (sings in a helium voice) First I was afraid, I was petrified \\n  (very happy)\\nPhoebe: (walks in) Hey\\nChandler: (normal voice) Hi\\nPhoebe: Listen, I think I\\'ve left something here.\\nChandler: Oh, well someone left this (shows a green jacket). This is \\n  yours?\\nPhoebe: (likes the jacket) No, but I like it. I think I left one of \\n  my rat babies.\\nChandler: Oh, uh, well, I haven\\'t seem it but if I do I\\'ll let you know.\\nMonica: Ohmygod! Rat baby! Rat baby! Rat baby! (screams from another \\n  room)\\nPhoebe: (realizes) Ooh, maybe that\\'s him!\\nEND\\n'"
      ]
     },
     "execution_count": 54,
     "metadata": {},
     "output_type": "execute_result"
    }
   ],
   "source": [
    "sample"
   ]
  },
  {
   "cell_type": "code",
   "execution_count": 128,
   "metadata": {
    "ExecuteTime": {
     "end_time": "2018-05-29T19:13:40.393445Z",
     "start_time": "2018-05-29T19:13:40.389383Z"
    }
   },
   "outputs": [],
   "source": [
    "found_transcribed_pos = []\n",
    "for i,episode in enumerate(episode_scripts):\n",
    "    found_transcribed_pos.append((episode.find('Transcribed'),episode_names[i],i))"
   ]
  },
  {
   "cell_type": "code",
   "execution_count": 129,
   "metadata": {
    "ExecuteTime": {
     "end_time": "2018-05-29T19:13:41.027750Z",
     "start_time": "2018-05-29T19:13:41.024188Z"
    }
   },
   "outputs": [
    {
     "data": {
      "text/plain": [
       "231"
      ]
     },
     "execution_count": 129,
     "metadata": {},
     "output_type": "execute_result"
    }
   ],
   "source": [
    "len(found_transcribed_pos)"
   ]
  },
  {
   "cell_type": "code",
   "execution_count": 130,
   "metadata": {
    "ExecuteTime": {
     "end_time": "2018-05-29T19:13:41.617295Z",
     "start_time": "2018-05-29T19:13:41.600390Z"
    }
   },
   "outputs": [
    {
     "data": {
      "text/plain": [
       "[(191, 'Episode 101: The Pilot-The Uncut Version', 0),\n",
       " (125, 'Episode 102: The One With The Sonogram At the End', 1),\n",
       " (100, 'Episode 103: The One With The Thumb', 2),\n",
       " (103, 'Episode 104: The One With George Stephanopoulos', 3),\n",
       " (146, 'Episode 105: The One With The East German Laundry Detergant', 4),\n",
       " (94, 'Episode 106: The One With The Butt', 5),\n",
       " (106, 'Episode 107: The One With The Blackout', 6),\n",
       " (109, 'Episode 108: The One Where Nana Dies Twice', 7),\n",
       " (118, 'Episode 109: The One Where Underdog Gets Away', 8),\n",
       " (98, 'Episode 110: The One With The Monkey', 9),\n",
       " (78, 'Episode 111: The One With Mrs. Bing', 10),\n",
       " (145, 'Episode 112: The One With The Dozen Lasagnas', 11),\n",
       " (82, 'Episode 113: The One With The Boobies', 12),\n",
       " (95, 'Episode 114: The One With The Candy Hearts', 13),\n",
       " (108, 'Episode 115: The One With The Stoned Guy', 14),\n",
       " (113, 'Episode 116: The One With Two Parts: Part One', 15),\n",
       " (112, 'Episode 117: The One With Two Parts: Part Two', 16),\n",
       " (111, 'Episode 118: The One With All The Poker', 17),\n",
       " (121, 'Episode 119: The One Where The Monkey Gets Away', 18),\n",
       " (103, 'Episode 120: The One With The Evil Orthodontist', 19),\n",
       " (109, 'Episode 121: The One With The Fake Monica', 20),\n",
       " (89, 'Episode 122: The One The Ick Factor', 21),\n",
       " (137, 'Episode 123: The One With The Birth', 22),\n",
       " (95, 'Episode 124: The One Where Rachel Finds Out', 23),\n",
       " (118, \"Episode 201: The One With Ross's New Girlfriend\", 24),\n",
       " (107, 'Episode 202: The One With The Breast Milk', 25),\n",
       " (114, 'Episode 203: The One Where Heckles Dies', 26),\n",
       " (93, \"Episode 204: The One With Phoebe's Husband\", 27),\n",
       " (116, 'Episode 205: The One With Five Steaks and an Eggplant', 28),\n",
       " (98, 'Episode 206: The One With The Baby On the Bus', 29),\n",
       " (93, 'Episode 207: The One Where Ross Finds Out', 30),\n",
       " (-1, 'Episode 208: The One With The List', 31),\n",
       " (105, \"Episode 209: The One With Phoebe's Dad\", 32),\n",
       " (73, 'Episode 210: The One With Russ', 33),\n",
       " (99, 'Episode 211: The One With The Lesbian Wedding', 34),\n",
       " (135, 'Episode 212: The One After the Superbowl', 35),\n",
       " (-1, 'Episode 214: The One With The Prom Video', 36),\n",
       " (115, 'Episode 215: The One Where Ross and Rachel...You Know', 37),\n",
       " (92, 'Episode 216: The One Where Joey Moves Out', 38),\n",
       " (90, 'Episode 217: The One Where Eddie Moves In', 39),\n",
       " (82, 'Episode 218: The One Where Dr. Remoray Dies', 40),\n",
       " (91, \"Episode 219: The One Where Eddie Won't Go\", 41),\n",
       " (93, 'Episode 220: The One Where Old Yeller Dies', 42),\n",
       " (112, 'Episode 221: The One With The Bullies', 43),\n",
       " (91, 'Episode 222: The One With The Two Parties', 44),\n",
       " (93, 'Episode 223: The One With The Chicken Pox', 45),\n",
       " (139, \"Episode 224: The One With Barry and Mindy's Wedding\", 46),\n",
       " (136, 'Episode 301: The One With The Princess Leia Fantasy', 47),\n",
       " (96, \"Episode 302: The One Where No One's Ready\", 48),\n",
       " (75, 'Episode 303: The One With All The Jam', 49),\n",
       " (107, 'Episode 304: The One With The Metophorical Tunnel', 50),\n",
       " (106, 'Episode 305: The One With Frank Jr.', 51),\n",
       " (104, 'Episode 306: The One With The Flashback', 52),\n",
       " (93, 'Episode 307: The One With The Racecar Bed', 53),\n",
       " (106, 'Episode 308: The One With The Giant Poking Device', 54),\n",
       " (89, 'Episode 309: The One With The Football', 55),\n",
       " (112, 'Episode 310: The One Where Rachel Quits', 56),\n",
       " (136, \"Episode 311: The One Where Chandler Can't Remember Which Sister\", 57),\n",
       " (92, 'Episode 312: The One With All The Jealousy', 58),\n",
       " (125, 'Episode 313: The One Where Monica And Richard Are Friends', 59),\n",
       " (98, \"Episode 314: The One With Phoebe's Ex-Partner\", 60),\n",
       " (121, 'Episode 315: The One Where Ross and Rachel Take A Break', 61),\n",
       " (101, 'Episode 316: The One The Morning After', 62),\n",
       " (117, 'Episode 317: The One Without The Ski Trip', 63),\n",
       " (95, 'Episode 318: The One With The Hypnosis Tape', 64),\n",
       " (91, 'Episode 319: The One With The Tiny T-Shirt', 65),\n",
       " (86, 'Episode 320: The One With The Dollhouse', 66),\n",
       " (98, 'Episode 321: The One With A Chick.\\xa0 And A Duck', 67),\n",
       " (110, 'Episode 322: The One With The Screamer', 68),\n",
       " (97, \"Episode 323: The One With Ross's Thing\", 69),\n",
       " (191, 'Episode 324: The One With The Ultimate Fighting Championship', 70),\n",
       " (118, 'Episode 325: The One At The Beach', 71),\n",
       " (87, 'Episode 401: The One With The Jellyfish', 72),\n",
       " (88, 'Episode 402: The One With The Cat', 73),\n",
       " (85, \"Episode 403: The One With The 'Cuffs\", 74),\n",
       " (116, 'Episode 404: The One With The Ballroom Dancing', 75),\n",
       " (127, \"Episode 405: The One With Joey's New Girlfriend\", 76),\n",
       " (117, 'Episode 406: The One With The Dirty Girl', 77),\n",
       " (109, 'Episode 407: The One Where Chandler Crosses the Line', 78),\n",
       " (99, 'Episode 408: The One With Chandler In A Box', 79),\n",
       " (117, \"Episode 409: The One Where They're Gonna PARTY!\", 80),\n",
       " (116, 'Episode 410: The One With The Girl From Poughkeepsie', 81),\n",
       " (95, \"Episode 411: The One With Phoebe's Uterus\", 82),\n",
       " (98, 'Episode 412: The One With The Embryos', 83),\n",
       " (101, \"Episode 413: The One With Rachel's Crush\", 84),\n",
       " (95, \"Episdoe 414: The One With Joey's Dirty Day\", 85),\n",
       " (127, 'Episode 415: The One With All The Rugby', 86),\n",
       " (149, 'Episode 416: The One With The Fake Party', 87),\n",
       " (120, 'Episode 417: The One With The Free Porn', 88),\n",
       " (148, \"Episode 418: The One With Rachel's New Dress\", 89),\n",
       " (105, 'Episode 419: The One With All The Haste', 90),\n",
       " (154, 'Episode 420: The One With All The Wedding Dreses', 91),\n",
       " (93, 'Episode 421: The One With The Invitation', 92),\n",
       " (136, 'Episode 422: The One With The Worst Best Man Ever', 93),\n",
       " (237, \"Episode 423: The One With Ross's Wedding Parts I and II\", 94),\n",
       " (283, \"Episode 423: The One With Ross's Wedding - The Uncut Version\", 95),\n",
       " (98, 'Episode 501: The One After Ross Says Rachel', 96),\n",
       " (93, 'Episode 502: The One With All The Kissing', 97),\n",
       " (88, 'Episode 503: The One Hundredth', 98),\n",
       " (100, 'Episode 504: The One Where Phoebe Hates PBS', 99),\n",
       " (89, 'Episode 505: The One With All the Kips', 100),\n",
       " (79, 'Episode 506: The One With The Yeti', 101),\n",
       " (106, 'Episode 507: The One Where Ross Moves In', 102),\n",
       " (117, 'Episode 508: The One With The Thanksgiving Flashbacks', 103),\n",
       " (106, \"Episode 509: The One With Ross's Sandwich\", 104),\n",
       " (121, 'Episode 510: The One With The Inappropriate Sister', 105),\n",
       " (128, 'Episode 511: The One With All The Resolutions', 106),\n",
       " (115, \"Episode 512: The One With Chandler's Work Laugh\", 107),\n",
       " (111, \"Episode 513: The One With Joey's Bag\", 108),\n",
       " (101, 'Episode 514: The One Where Everyone Finds Out', 109),\n",
       " (106, 'Episode 515: The One With The Girl Who Hits Joey', 110),\n",
       " (121, 'Episode 516: The One With A Cop', 111),\n",
       " (126, \"Episode 517: The One With Rachel's Inadvertant Kiss\", 112),\n",
       " (94, 'Episode 518: The One Where Rachel Smokes', 113),\n",
       " (97, \"Episode 519: The One Where Ross Can't Flirt\", 114),\n",
       " (116, 'Episode 520: The One With The Ride Along', 115),\n",
       " (104, 'Episode 521: The One With The Ball', 116),\n",
       " (128, \"Episode 522: The One With Joey's Big Break\", 117),\n",
       " (138, 'Episode 523: The One In Vegas', 118),\n",
       " (74, 'Episode 601: The One After Vegas', 119),\n",
       " (107, 'Episode 602: The One Where Ross Hugs Rachel', 120),\n",
       " (90, \"Episode 603: The One With Ross's Denial\", 121),\n",
       " (126, 'Episode 604: The One Where Joey Loses His Insurance', 122),\n",
       " (106, \"Episode 605: The One With Joey's Porsche\", 123),\n",
       " (84, 'Episode 606: The One The Last Night', 124),\n",
       " (112, 'Episode 607: The One Where Phoebe Runs', 125),\n",
       " (104, \"Episode 608: The One With Ross's Teeth\", 126),\n",
       " (88, 'Episode 609: The One Where Ross Got High', 127),\n",
       " (86, 'Episode 610: The One With The Routine', 128),\n",
       " (133, 'Episode 611: The One With The Apothecary Table', 129),\n",
       " (125, 'Episode 612: The One With The Joke', 130),\n",
       " (136, \"Episode 613: The One With Rachel's Sister\", 131),\n",
       " (114, \"Episode 614: The One Where Chandler Can't Cry\", 132),\n",
       " (175, 'Episode 615: The One That Could Have Been', 133),\n",
       " (110, 'Episode 617: The One With The Unagi', 134),\n",
       " (106, 'Episode 618: The One Where Ross Dates A Student', 135),\n",
       " (128, \"Episode 619: The One With Joey's Fridge\", 136),\n",
       " (104, 'Episode 620: The One With Mac And C.H.E.E.S.E.', 137),\n",
       " (145, \"Episode 621: The One Where Ross Meets Elizabeth's Dad\", 138),\n",
       " (139, \"Episode 622: The One Where Paul's The Man\", 139),\n",
       " (92, 'Episode 623: The One With The Ring', 140),\n",
       " (180, 'Episode 624: The One With The Proposal', 141),\n",
       " (135, \"Episode 701: The One With Monica's Thunder\", 142),\n",
       " (102, \"Episode 702: The One With Rachel's Book\", 143),\n",
       " (114, \"Episode 703: The One With Phoebe's Cookies\", 144),\n",
       " (128, \"Episode 704: The One With Rachel's Assistant\", 145),\n",
       " (127, 'Episode 705: The One With The Engagement Picture', 146),\n",
       " (115, 'Episode 706: The One With The Nap Partners', 147),\n",
       " (116, \"Episode 707: The One With Ross's Library Book\", 148),\n",
       " (114, \"Episode 708: The One Where Chandler Doesn't Like Dogs\", 149),\n",
       " (118, 'Episode 709: The One With All The Candy', 150),\n",
       " (105, 'Episode 710: The One With The Christmas Armadilio', 151),\n",
       " (111, 'Episode 711: The One With All The Cheesecakes', 152),\n",
       " (109, \"Episode 712: The One Where They're Up All Night\", 153),\n",
       " (149, 'Episode 713: The One Where Rosita Dies', 154),\n",
       " (153, 'Episode 714: The One Where They All Turn Thirty', 155),\n",
       " (150, \"Episode 715: The One With Joey's New Brain\", 156),\n",
       " (186, 'Episode 716: The One With The Truth About London', 157),\n",
       " (165, 'Episode 717: The One With The Cheap Wedding Dress', 158),\n",
       " (129, \"Episode 718: The One With Joey's Award\", 159),\n",
       " (124, \"Episode 719: The One With Ross and Monica's Cousin\", 160),\n",
       " (125, \"Episode 720: The One With Rachel's Big Kiss\", 161),\n",
       " (79, 'Episode 721: The One With The Vows', 162),\n",
       " (134, \"Episode 722: The One With Chandler's Dad\", 163),\n",
       " (190, \"Episode 723: The One With Monica and Chandler's Wedding\", 164),\n",
       " (110, \"Friends: The Stuff You've Never Seen\", 165),\n",
       " (94, 'Episode 801: The One After \"I Do\"', 166),\n",
       " (128, 'Episode 802: The One With The Red Sweater', 167),\n",
       " (119, 'Episode 803: The One Where Rachel Tells...', 168),\n",
       " (91, 'Episode 804: The One With The Videotape', 169),\n",
       " (109, \"Episode 805: The One With Rachel's Date\", 170),\n",
       " (102, 'Episode 806: The One With The Halloween Party', 171),\n",
       " (89, 'Episode 807: The One With The Stain', 172),\n",
       " (129, 'Episode 808: The One With The Stripper', 173),\n",
       " (91, 'Episode 809: The One With The Rumor', 174),\n",
       " (137, \"Episode 810: The One With Monica's Boots\", 175),\n",
       " (110, \"Episode 811: The One With Ross's Big Step Forward\", 176),\n",
       " (154, 'Episode 812: The One Where Joey Dates Rachel', 177),\n",
       " (111, 'Episode 813: The One Where Chandler Takes A Bath', 178),\n",
       " (117, 'Episode 814: The One With The Secret Closet', 179),\n",
       " (106, 'Episode 815: The One With The Birthing Video', 180),\n",
       " (112, 'Episode 816: The One Where Joey Tells Rachel', 181),\n",
       " (128, 'Episode 817: The One With The Tea Leaves', 182),\n",
       " (104, 'Episode 818: The One In Massapequa', 183),\n",
       " (95, \"Episode 819: The One With Joey's Interview\", 184),\n",
       " (119, 'Episode 820: The One With The Baby Shower', 185),\n",
       " (146, 'Episode 821: The One With The Cooking Class', 186),\n",
       " (103, 'Episode 822: The One Where Rachel Is Late', 187),\n",
       " (170, 'Episode 823: The One Where Rachel Has A Baby', 188),\n",
       " (115, 'Episode 901: The One Where No One Proposes', 189),\n",
       " (84, 'Episode 902: The One Where Emma Cries', 190),\n",
       " (-1, 'Episode 903: The One With The Pediatrician', 191),\n",
       " (-1, 'Episode 904: The One With The Sharks', 192),\n",
       " (352, \"Episode 905: The One With Phoebe's Birthday Dinner\", 193),\n",
       " (367, 'Episode 906: The One With The Male Nanny', 194),\n",
       " (344, \"Episode 907: The One With Ross's Inappropriate Song\", 195),\n",
       " (357, \"Episode 908: The One With Rachel's Other Sister\", 196),\n",
       " (313, \"Episode 909: The One With Rachel's Phone Number\", 197),\n",
       " (200, 'Episode 910: The One With Christmas In Tulsa', 198),\n",
       " (-1, 'Episode 911: The One Where Rachel Goes Back To Work', 199),\n",
       " (124, \"Episode 912: The One With Phoebe's Rats\", 200),\n",
       " (135, 'Episode 913: The One Where Monica Sings', 201),\n",
       " (77, 'Episode 914: The One With The Blind Dates', 202),\n",
       " (86, 'Episode 915: The One With The Mugging', 203),\n",
       " (41, 'Episode 916: The One With The Boob Job', 204),\n",
       " (636, 'Episode 917: The One With The Memorial Service', 205),\n",
       " (177, 'Episode 918: The One With The Lottery', 206),\n",
       " (558, \"Episode 919: The One With Rachel's Dream\", 207),\n",
       " (969, 'Episode 920: The One With The Soap Opera Party', 208),\n",
       " (1364, 'Episode 921: The One With The Fertility Test', 209),\n",
       " (522, 'Episode 922: The One With The Donor', 210),\n",
       " (601, 'Episode 923: The One In Barbados (1)', 211),\n",
       " (601, 'Episode 924: The One In Barbados (2)', 212),\n",
       " (2537, 'Episode 1001: The One After Joey and Rachel Kiss', 213),\n",
       " (2668, 'Episode 1002: The One Where Ross is Fine', 214),\n",
       " (2605, \"Episode 1003: The One With Ross' Tan\", 215),\n",
       " (2784, 'Episode 1004: The One With The Cake', 216),\n",
       " (2696, \"Epsiode 1005: The One Where Rachel's Sister Babysits\", 217),\n",
       " (2708, \"Epsiode 1006: The One With Ross' Grant\", 218),\n",
       " (2709, 'Episode 1007:The One With The Home Study', 219),\n",
       " (2732, 'Episode 1008: The One With The Late Thanksgiving', 220),\n",
       " (2714, 'Episode 1009: The One With The Birth Mother', 221),\n",
       " (2730, 'Episode 1010: The One Where Chandler Gets Caught', 222),\n",
       " (2733, 'Episode 1011: The One Where the Stripper Cries', 223),\n",
       " (2728, \"Episode 1012: The One With Phoebe's Wedding\", 224),\n",
       " (2770, 'Episode 1013: The One Where Joey Speaks French', 225),\n",
       " (2767, 'Epsiode 1014: The One With Princess Consuela', 226),\n",
       " (2650, 'Episode 1015: The One Where Estelle Dies', 227),\n",
       " (2673, \"Episode 1016: The One With Rachel's Going Away Party\", 228),\n",
       " (2510, 'Episode 1017: The Last One (1)', 229),\n",
       " (2510, 'Episode 1018: The Last One (2)', 230)]"
      ]
     },
     "execution_count": 130,
     "metadata": {},
     "output_type": "execute_result"
    }
   ],
   "source": [
    "found_transcribed_pos"
   ]
  },
  {
   "cell_type": "code",
   "execution_count": 131,
   "metadata": {
    "ExecuteTime": {
     "end_time": "2018-05-29T19:13:55.007684Z",
     "start_time": "2018-05-29T19:13:55.004909Z"
    }
   },
   "outputs": [],
   "source": [
    "have_transcribed = [x[2] for x in found_transcribed_pos if x[0]>0]"
   ]
  },
  {
   "cell_type": "code",
   "execution_count": 132,
   "metadata": {
    "ExecuteTime": {
     "end_time": "2018-05-29T19:13:55.581690Z",
     "start_time": "2018-05-29T19:13:55.575301Z"
    }
   },
   "outputs": [
    {
     "data": {
      "text/plain": [
       "[0,\n",
       " 1,\n",
       " 2,\n",
       " 3,\n",
       " 4,\n",
       " 5,\n",
       " 6,\n",
       " 7,\n",
       " 8,\n",
       " 9,\n",
       " 10,\n",
       " 11,\n",
       " 12,\n",
       " 13,\n",
       " 14,\n",
       " 15,\n",
       " 16,\n",
       " 17,\n",
       " 18,\n",
       " 19,\n",
       " 20,\n",
       " 21,\n",
       " 22,\n",
       " 23,\n",
       " 24,\n",
       " 25,\n",
       " 26,\n",
       " 27,\n",
       " 28,\n",
       " 29,\n",
       " 30,\n",
       " 32,\n",
       " 33,\n",
       " 34,\n",
       " 35,\n",
       " 37,\n",
       " 38,\n",
       " 39,\n",
       " 40,\n",
       " 41,\n",
       " 42,\n",
       " 43,\n",
       " 44,\n",
       " 45,\n",
       " 46,\n",
       " 47,\n",
       " 48,\n",
       " 49,\n",
       " 50,\n",
       " 51,\n",
       " 52,\n",
       " 53,\n",
       " 54,\n",
       " 55,\n",
       " 56,\n",
       " 57,\n",
       " 58,\n",
       " 59,\n",
       " 60,\n",
       " 61,\n",
       " 62,\n",
       " 63,\n",
       " 64,\n",
       " 65,\n",
       " 66,\n",
       " 67,\n",
       " 68,\n",
       " 69,\n",
       " 70,\n",
       " 71,\n",
       " 72,\n",
       " 73,\n",
       " 74,\n",
       " 75,\n",
       " 76,\n",
       " 77,\n",
       " 78,\n",
       " 79,\n",
       " 80,\n",
       " 81,\n",
       " 82,\n",
       " 83,\n",
       " 84,\n",
       " 85,\n",
       " 86,\n",
       " 87,\n",
       " 88,\n",
       " 89,\n",
       " 90,\n",
       " 91,\n",
       " 92,\n",
       " 93,\n",
       " 94,\n",
       " 95,\n",
       " 96,\n",
       " 97,\n",
       " 98,\n",
       " 99,\n",
       " 100,\n",
       " 101,\n",
       " 102,\n",
       " 103,\n",
       " 104,\n",
       " 105,\n",
       " 106,\n",
       " 107,\n",
       " 108,\n",
       " 109,\n",
       " 110,\n",
       " 111,\n",
       " 112,\n",
       " 113,\n",
       " 114,\n",
       " 115,\n",
       " 116,\n",
       " 117,\n",
       " 118,\n",
       " 119,\n",
       " 120,\n",
       " 121,\n",
       " 122,\n",
       " 123,\n",
       " 124,\n",
       " 125,\n",
       " 126,\n",
       " 127,\n",
       " 128,\n",
       " 129,\n",
       " 130,\n",
       " 131,\n",
       " 132,\n",
       " 133,\n",
       " 134,\n",
       " 135,\n",
       " 136,\n",
       " 137,\n",
       " 138,\n",
       " 139,\n",
       " 140,\n",
       " 141,\n",
       " 142,\n",
       " 143,\n",
       " 144,\n",
       " 145,\n",
       " 146,\n",
       " 147,\n",
       " 148,\n",
       " 149,\n",
       " 150,\n",
       " 151,\n",
       " 152,\n",
       " 153,\n",
       " 154,\n",
       " 155,\n",
       " 156,\n",
       " 157,\n",
       " 158,\n",
       " 159,\n",
       " 160,\n",
       " 161,\n",
       " 162,\n",
       " 163,\n",
       " 164,\n",
       " 165,\n",
       " 166,\n",
       " 167,\n",
       " 168,\n",
       " 169,\n",
       " 170,\n",
       " 171,\n",
       " 172,\n",
       " 173,\n",
       " 174,\n",
       " 175,\n",
       " 176,\n",
       " 177,\n",
       " 178,\n",
       " 179,\n",
       " 180,\n",
       " 181,\n",
       " 182,\n",
       " 183,\n",
       " 184,\n",
       " 185,\n",
       " 186,\n",
       " 187,\n",
       " 188,\n",
       " 189,\n",
       " 190,\n",
       " 193,\n",
       " 194,\n",
       " 195,\n",
       " 196,\n",
       " 197,\n",
       " 198,\n",
       " 200,\n",
       " 201,\n",
       " 202,\n",
       " 203,\n",
       " 204,\n",
       " 205,\n",
       " 206,\n",
       " 207,\n",
       " 208,\n",
       " 209,\n",
       " 210,\n",
       " 211,\n",
       " 212,\n",
       " 213,\n",
       " 214,\n",
       " 215,\n",
       " 216,\n",
       " 217,\n",
       " 218,\n",
       " 219,\n",
       " 220,\n",
       " 221,\n",
       " 222,\n",
       " 223,\n",
       " 224,\n",
       " 225,\n",
       " 226,\n",
       " 227,\n",
       " 228,\n",
       " 229,\n",
       " 230]"
      ]
     },
     "execution_count": 132,
     "metadata": {},
     "output_type": "execute_result"
    }
   ],
   "source": [
    "have_transcribed"
   ]
  },
  {
   "cell_type": "code",
   "execution_count": 133,
   "metadata": {
    "ExecuteTime": {
     "end_time": "2018-05-29T19:13:59.793623Z",
     "start_time": "2018-05-29T19:13:59.790696Z"
    }
   },
   "outputs": [],
   "source": [
    "no_transcribed = [x[2] for x in found_transcribed_pos if x[0]<0]"
   ]
  },
  {
   "cell_type": "code",
   "execution_count": 134,
   "metadata": {
    "ExecuteTime": {
     "end_time": "2018-05-29T19:14:00.546555Z",
     "start_time": "2018-05-29T19:14:00.542701Z"
    }
   },
   "outputs": [
    {
     "data": {
      "text/plain": [
       "[31, 36, 191, 192, 199]"
      ]
     },
     "execution_count": 134,
     "metadata": {},
     "output_type": "execute_result"
    }
   ],
   "source": [
    "no_transcribed"
   ]
  },
  {
   "cell_type": "code",
   "execution_count": 135,
   "metadata": {
    "ExecuteTime": {
     "end_time": "2018-05-29T19:14:01.045286Z",
     "start_time": "2018-05-29T19:14:01.042431Z"
    }
   },
   "outputs": [],
   "source": [
    "found_trascribed_pos = [(episode_scripts[p].find('Trascribed'),episode_names[p],p) for p in no_transcribed]"
   ]
  },
  {
   "cell_type": "code",
   "execution_count": 136,
   "metadata": {
    "ExecuteTime": {
     "end_time": "2018-05-29T19:14:01.490040Z",
     "start_time": "2018-05-29T19:14:01.486225Z"
    }
   },
   "outputs": [
    {
     "data": {
      "text/plain": [
       "[(106, 'Episode 208: The One With The List', 31),\n",
       " (89, 'Episode 214: The One With The Prom Video', 36),\n",
       " (-1, 'Episode 903: The One With The Pediatrician', 191),\n",
       " (-1, 'Episode 904: The One With The Sharks', 192),\n",
       " (-1, 'Episode 911: The One Where Rachel Goes Back To Work', 199)]"
      ]
     },
     "execution_count": 136,
     "metadata": {},
     "output_type": "execute_result"
    }
   ],
   "source": [
    "found_trascribed_pos"
   ]
  },
  {
   "cell_type": "code",
   "execution_count": 137,
   "metadata": {
    "ExecuteTime": {
     "end_time": "2018-05-29T19:14:02.101660Z",
     "start_time": "2018-05-29T19:14:02.099011Z"
    }
   },
   "outputs": [],
   "source": [
    "have_trascribed = [x[2] for x in found_trascribed_pos if x[0]>0]"
   ]
  },
  {
   "cell_type": "code",
   "execution_count": 138,
   "metadata": {
    "ExecuteTime": {
     "end_time": "2018-05-29T19:14:02.582045Z",
     "start_time": "2018-05-29T19:14:02.578470Z"
    }
   },
   "outputs": [
    {
     "data": {
      "text/plain": [
       "[31, 36]"
      ]
     },
     "execution_count": 138,
     "metadata": {},
     "output_type": "execute_result"
    }
   ],
   "source": [
    "have_trascribed"
   ]
  },
  {
   "cell_type": "code",
   "execution_count": 139,
   "metadata": {
    "ExecuteTime": {
     "end_time": "2018-05-29T19:14:03.108914Z",
     "start_time": "2018-05-29T19:14:03.106340Z"
    }
   },
   "outputs": [],
   "source": [
    "no_transcribed_trascribed = [x[2] for x in found_trascribed_pos if x[0]<0]"
   ]
  },
  {
   "cell_type": "code",
   "execution_count": 140,
   "metadata": {
    "ExecuteTime": {
     "end_time": "2018-05-29T19:14:03.501975Z",
     "start_time": "2018-05-29T19:14:03.497541Z"
    }
   },
   "outputs": [
    {
     "data": {
      "text/plain": [
       "[191, 192, 199]"
      ]
     },
     "execution_count": 140,
     "metadata": {},
     "output_type": "execute_result"
    }
   ],
   "source": [
    "no_transcribed_trascribed"
   ]
  },
  {
   "cell_type": "code",
   "execution_count": 141,
   "metadata": {
    "ExecuteTime": {
     "end_time": "2018-05-29T19:14:04.244602Z",
     "start_time": "2018-05-29T19:14:04.241598Z"
    }
   },
   "outputs": [],
   "source": [
    "found_TRANSCRIBED_pos = [(episode_scripts[p].find('TRANSCRIBED'),episode_names[p],p) for p in no_transcribed_trascribed]"
   ]
  },
  {
   "cell_type": "code",
   "execution_count": 142,
   "metadata": {
    "ExecuteTime": {
     "end_time": "2018-05-29T19:14:04.948798Z",
     "start_time": "2018-05-29T19:14:04.944976Z"
    }
   },
   "outputs": [
    {
     "data": {
      "text/plain": [
       "[(139, 'Episode 903: The One With The Pediatrician', 191),\n",
       " (-1, 'Episode 904: The One With The Sharks', 192),\n",
       " (-1, 'Episode 911: The One Where Rachel Goes Back To Work', 199)]"
      ]
     },
     "execution_count": 142,
     "metadata": {},
     "output_type": "execute_result"
    }
   ],
   "source": [
    "found_TRANSCRIBED_pos"
   ]
  },
  {
   "cell_type": "code",
   "execution_count": 143,
   "metadata": {
    "ExecuteTime": {
     "end_time": "2018-05-29T19:14:07.822748Z",
     "start_time": "2018-05-29T19:14:07.819866Z"
    }
   },
   "outputs": [],
   "source": [
    "have_TRANSCRIBED = [x[2] for x in found_TRANSCRIBED_pos if x[0]>0]"
   ]
  },
  {
   "cell_type": "code",
   "execution_count": 144,
   "metadata": {
    "ExecuteTime": {
     "end_time": "2018-05-29T19:14:08.292366Z",
     "start_time": "2018-05-29T19:14:08.288705Z"
    }
   },
   "outputs": [
    {
     "data": {
      "text/plain": [
       "[191]"
      ]
     },
     "execution_count": 144,
     "metadata": {},
     "output_type": "execute_result"
    }
   ],
   "source": [
    "have_TRANSCRIBED"
   ]
  },
  {
   "cell_type": "code",
   "execution_count": 145,
   "metadata": {
    "ExecuteTime": {
     "end_time": "2018-05-29T19:14:09.155807Z",
     "start_time": "2018-05-29T19:14:09.152620Z"
    }
   },
   "outputs": [],
   "source": [
    "no_transcribed_trascribed_TRANSCRIBED = [x[2] for x in found_TRANSCRIBED_pos if x[0]<0]"
   ]
  },
  {
   "cell_type": "code",
   "execution_count": 146,
   "metadata": {
    "ExecuteTime": {
     "end_time": "2018-05-29T19:14:09.756708Z",
     "start_time": "2018-05-29T19:14:09.752585Z"
    }
   },
   "outputs": [
    {
     "data": {
      "text/plain": [
       "[192, 199]"
      ]
     },
     "execution_count": 146,
     "metadata": {},
     "output_type": "execute_result"
    }
   ],
   "source": [
    "no_transcribed_trascribed_TRANSCRIBED"
   ]
  },
  {
   "cell_type": "code",
   "execution_count": 153,
   "metadata": {
    "ExecuteTime": {
     "end_time": "2018-05-29T19:14:55.896451Z",
     "start_time": "2018-05-29T19:14:55.890009Z"
    }
   },
   "outputs": [],
   "source": [
    "for episode_num in have_transcribed:\n",
    "    episode_scripts[episode_num] = episode_scripts[episode_num][episode_scripts[episode_num].find('Transcribed')+18:]"
   ]
  },
  {
   "cell_type": "code",
   "execution_count": 155,
   "metadata": {
    "ExecuteTime": {
     "end_time": "2018-05-29T19:16:15.840454Z",
     "start_time": "2018-05-29T19:16:15.837417Z"
    }
   },
   "outputs": [],
   "source": [
    "for episode_num in have_trascribed:\n",
    "    episode_scripts[episode_num] = episode_scripts[episode_num][episode_scripts[episode_num].find('Trascribed')+18:]"
   ]
  },
  {
   "cell_type": "code",
   "execution_count": 156,
   "metadata": {
    "ExecuteTime": {
     "end_time": "2018-05-29T19:16:17.227805Z",
     "start_time": "2018-05-29T19:16:17.224100Z"
    }
   },
   "outputs": [],
   "source": [
    "for episode_num in have_TRANSCRIBED:\n",
    "    episode_scripts[episode_num] = episode_scripts[episode_num][episode_scripts[episode_num].find('TRANSCRIBED')+18:]"
   ]
  },
  {
   "cell_type": "code",
   "execution_count": 160,
   "metadata": {
    "ExecuteTime": {
     "end_time": "2018-05-29T19:16:54.355110Z",
     "start_time": "2018-05-29T19:16:54.350462Z"
    }
   },
   "outputs": [
    {
     "data": {
      "text/plain": [
       "'ic Aasen\\nWith Help from: Darcy Partridge\\nEpisodes Orginally Transcribed by: guineapig,\\nRuth Curran, Mindy Mattingly Phillips, Josh\\nHodge,\\xa0 Dan Silverstein, and Eric Aasen.\\n\\n\\n\\n[Scene: Central Perk, Joey and Chandler are sitting and talking.]\\n\\nChandler: Y’know what? It seems like all of the sudden; so much has\\nhappened.\\n\\nJoey: I know. Ross is getting married.\\n\\nChandler: Phoebe is, making people.\\n\\nJoey: Everybody’s doing stuff!\\n\\nChandler: And we just sit here. I mean if I die the only way people would even\\nknow I was here, would be by the ass print on this chair! Look, we have to do something.\\nOkay? Something huge!\\n\\nJoey: (snaps his fingers) We could climb Mt. Everest!\\n\\nChandler: No-no, not something stupid, something huge.\\n\\nJoey: No-no-no-no-no, I saw an ad for this video, people climb that thing\\neveryday! We could totally do that!\\n\\nChandler: Why not?! I mean it’s just, it’s just climbing! It’s\\njust, it’s just steep!\\n\\nJoey: Yeah!\\n\\nChandler: We’re going to Everest! Okay, it would be nice to leave an ass\\nprint on Everest!\\n\\nPhoebe: (entering) Hey!\\n\\nJoey: Hey!\\n\\nPhoebe: What-what’s up?\\n\\nJoey: We’re gonna climb Mt. Everest!\\n\\nChandler: Yeah baby!\\n\\nPhoebe: Really?! I looked into that. Yeah, but, I mean it costs like $60,000 and\\ny’know you can die. And, you would die!\\n\\nChandler: (dejected) Yeah, well…\\n\\nJoey: We could get that Everest video though.\\n\\nChandler: Yeah, we could do that without y’know risking our lives at all!\\n\\nJoey: And while we’re down at the video store, you know what else we could\\nrent? Die Hard! (Chandler’s excited.) Oh, y’know what? I just remembered,\\nthat Everest thing is only available through mail order.\\n\\nChandler: (dejected) Oh, well…\\n\\nPhoebe: So you guys’ll stay here and hang out with me?\\n\\nChandler: Yeeeeahhhh.\\n\\nJoey: Yeah. Yeah.\\n\\nChandler: But I’ll tell you something. One of these days we’re get off\\nof our buts and rent Die Hard again!\\n\\nJoey: Yeah we are!\\n\\nOpening Credits\\n\\n[Scene: Ross’s apartment, he and Emily are addressing their invitations.]\\n\\nEmily: So what did he decide? Does your Uncle Nathan get an invite or not?\\n\\nRoss: Ohh, God, nobody likes him, and he’s so cheap, he’d never fly to\\nLondon in a million years. Yeah, invite him? Hey, did I do these neat enough? (Hands her\\nsome envelopes.)\\n\\nEmily: Yeah, they’re fine.\\n\\nRoss: Yeah?\\n\\nEmily: If anyone asks, we’ll just say Ben addressed them. (Looking through\\nthe envelopes.) Oh! So you invited Rachel then?\\n\\nRoss: Sure. Why not?\\n\\nEmily: Really?\\n\\nRoss: Yeah?\\n\\nEmily: I don’t think I’d be comfortable with any of my old lovers\\nthere.\\n\\nRoss: Wait-wait-wait, do you, do you think, maybe we shouldn’t invite her?\\n\\nEmily: Oh, no-no, y’know I absolutely adore Rachel it’s just that,\\nwell it might be a awkward for you. But it’s absolutely your decision. (Gets up.)\\nMore tea?\\n\\nRoss: Yeah sure.\\n\\nEmily: Earl Grey?\\n\\nRoss: Huh? Yeah, fine, invite whoever you want.\\n\\n[And with that we start off on a series of clips from the entire history of Ross and\\nRachel, from Ross’s point of view. The first clip is from The Pilot.]\\n\\n[Scene: Central Perk, Ross is complaining about Carol.]\\n\\nRoss: I don\\'t want to be single, okay? I just... I just- I just wanna be married\\nagain!\\n\\n(A woman enters wearing a wet wedding dress and frantically starts to look around.)\\n\\nChandler: And I just want a million dollars! (He extends his hand hopefully.)\\n\\nMonica: Rachel?!\\n\\nRachel: Oh God Monica hi! I just went to your building and you weren\\'t there and\\nthen this guy with a big hammer said you might be here and you are, you are!\\n\\n[cut to later]\\n\\nMonica: Okay, everybody, this is Rachel, another Lincoln High survivor. (To\\nRachel) This is everybody, this is Chandler, and Phoebe, and Joey, and- you remember my\\nbrother Ross? \\n\\nRachel: Hi, sure!\\n\\nRoss: Hi. \\n\\n(They go to hug but Ross\\' umbrella opens.\\xa0 He sits, defeated again.)\\n\\n[cut to later]\\n\\n[Scene: Monica and Rachel\\'s, Ross and Rachel are finishing up some cookies.]\\n\\nRoss: You know you probably didn\\'t know this, but back in high school, I had a,\\num, major crush on you.\\n\\nRachel: I knew.\\n\\nRoss: You did! Oh.... I always figured you just thought I was Monica\\'s geeky\\nolder brother.\\n\\nRachel: I did.\\n\\nRoss: Oh. Listen, do you think- and try not to let my intense vulnerability\\nbecome any kind of a factor here—but do you think it would be okay if I asked you\\nout? Sometime? Maybe?\\n\\nRachel: Yeah, maybe...\\n\\nRoss: Okay... okay, maybe I will...\\n\\n[The next clip is from The One With The Blackout.]\\n\\n[Scene: Monica and Rachel\\'s, Ross and Rachel are talking about passion.]\\n\\nRoss:\\xa0 See, I see.... big passion in your future.\\n\\nRachel: Really?\\n\\nRoss: I do.\\n\\nRachel: Oh Ross, you\\'re so great. [she playfully rubs his head and gets up]\\n\\n[Ross gets up, pleased with himself and starts to walk past Joey.]\\n\\nJoey: It\\'s never gonna happen.\\n\\n[cut to later]\\n\\n[Scene: Monica and Rachel\\'s balcony, Ross is about to be attacked by Paulo\\'s cat.]\\n\\nRoss: Hey, I have a question. Well, actually, it\\'s not so much a question as..\\nmore of a general wondering... ment.\\n\\nRachel: Okay.\\n\\nRoss: Okay. Umm, for a while now, I\\'ve been wanting to, um....\\n\\nRachel: Ohhh!!!! [looking at something behind Ross]\\n\\nRoss: Yes, yes, that\\'s right...\\n\\nRachel: Oh, look at the little cat! [a small kitten is on the roof behind Ross]\\nLook at it!\\n\\nRoss: What? [the cat jumps on his shoulders] Ow!\\n\\n[Cut to inside, Monica, Joey and Phoebe are singing while outside, Ross and Rachel are\\ntrying to get the cat off of Ross\\' shoulder.]\\n\\nMonica, Joey, and Phoebe: [singing] I\\'m on top of the world,\\nlooking down on creation and the only explanation I can find...\\n\\n[The next clip is from The One With The East German Laundry Detergent.]\\n\\n[Scene: The Laundromat, Rachel is fighting with that old, annoying woman for a cart.]\\n\\nRachel: All right, listen, missy. If you want this cart, you\\'re gonna have to\\ntake me with it! \\n\\n(She thinks it over, and then walks away.)\\n\\nRachel: (to Ross) Yes! Did you see that?\\n\\nRoss: You were incredible! Brand new woman, ladies and gentlemen.\\n\\nRachel: I could not have done this without you.\\n\\n(Rachel stands up and kisses Ross. He is stunned. A moment of silence follows.)\\n\\nRoss: Ok, um, uh, more clothes in the dryer? (Ross turns and bangs his head on\\nan open dryer door.) I\\'m fine, I\\'m fine.\\n\\n[The next clip is from The One Where Ross Finds Out]\\n\\n[Scene: Central Perk, I\\'m sure you\\'ve guessed, it\\'s the famous fight scene between Ross\\nand Rachel.]\\n\\nRoss: You had no right to tell me you ever had feelings for me.\\n\\nRachel: (hurt) What?\\n\\nRoss: I was doing great with Julie before I found out about you.\\n\\nRachel: Hey, I was doin\\' great before I found out about you. You think it\\'s easy\\nfor me to see you with Julie?\\n\\n[cut to later]\\n\\nRoss: The point is I... I don\\'t need this right now, OK. It, it\\'s too late, I\\'m\\nwith somebody else, I\\'m happy. This ship has sailed.\\n\\n[cut to later]\\n\\nRachel: Alright, fine, you go ahead and you do that, alright Ross.\\n\\nRoss: Fine.\\n\\nRachel: \\'Cause I don\\'t need your stupid ship.\\n\\nRoss: Good.\\n\\nRachel: Good. (Ross leaves)\\n\\n[cut to later]\\n\\n(Rachel slams the door and locks it. She sits down, visibly upset. She puts her head in\\nher hands and begins to cry. Ross comes back and is standing outside the window. When\\nRachel regroups and gets back up to finish closing, she sees him.)\\n\\n[cut to later]\\n\\n(She opens the door and they kiss.)\\n\\n[The next clip is the second famous fight in The One Where Ross and Rachel Take A\\nBreak.]\\n\\n[Scene: Monica and Rachel\\'s, Ross and Rachel are arguing.]\\n\\nRachel: Ross do you realise this is the first time in my life I’m doing\\nsomething I actually care about. This is the first time in my life I’m doing\\nsomething that I’m actually good at. I mean. if you don’t get that...\\n\\nRoss: No, hey, I get that, okay, I get that big time. And I’m happy for ya,\\nbut I’m tired of having a relationship with your answering machine! Okay, I\\ndon’t know what to do anymore.\\n\\nRachel: Well neither do I!\\n\\nRoss: Is this about Mark?\\n\\nRachel: (shocked) Oh my God.\\n\\nRoss: Okay, it’s not, it’s not.\\n\\nRachel: Oh my God. I cannot keep having this same fight over and over again,\\nRoss, no, you’re, you’re, you’re making this too hard.\\n\\nRoss: Oh I’m, I’m making this too hard. Okay, what do you want me to\\ndo.\\n\\nRachel: I don’t know, I don’t know. Urrrgh! Look, maybe we should take\\na break.\\n\\nRoss: Okay, okay, fine, you’re right. Let’s ah, let’s take a\\nbreak, (goes to the door) let’s cool off, okay, let’s get some frozen yogart, or\\nsomething.. (opens the door)\\n\\nRachel: No. (Ross is standing in the doorway.) A break from us.\\n\\n(Ross looks at her, then leaves slamming the door behind him.)\\n\\n[The next clip is from The One The Morning After]\\n\\n[Scene: Ross\\'s apartment, Ross is hurrying Chloe out the door.]\\n\\nChloe: Do I know why we’re rushing?\\n\\nRoss: Yeah, y\\'know the ah, the girlfriend I told you about last night?\\n(He’s frantically throwing the cushions off of the couch looking for her other shoe)\\nWell it turns out she ah, she wants to get back together with me. Oh, I found it!! \\n\\nChloe: That’s so great for you guys!\\n\\nRoss: Yeah! \\n\\n[cut to later]\\n\\nChloe: Good luck, with your girlfriend. \\n\\nRoss: Oh, thank you. (She goes to kiss him, but he holds her coat up between\\ntheir faces to stop her.) Hey, hey. (opens the door, sees Rachel, and hides Chloe behind\\nthe door) Rachel!!!!\\n\\nRachel: Hi. Ohhh, you got my message.\\n\\nRoss: Yeah, oh hey, you are right on time.\\n\\nRachel: So what do you say? Can I be your girlfriend again?\\n\\nRoss: Yes, you can, very much.\\n\\n(Chloe gives Ross the thumbs up while still standing behind the door.)\\n\\nRoss: (seeing the thumbs up) Ahhhh!! (Hugs Rachel tighter.)\\n\\n[cut to later]\\n\\n[Scene: Monica and Rachel\\'s, Rachel has just found out about Chloe and is screaming at\\nRoss.\\xa0 The rest of the gang is trapped in Monica\\'s bedroom.]\\n\\nRachel: (opening the door) Y\\'know what, I want you to leave! Get outta here! \\n\\nRoss: No!!\\n\\nRachel: Just get out! Now!!\\n\\nRoss: No!! No!! I wanna stay. I wanna talk about this.\\n\\nRachel: Okay! All right! How was she?\\n\\n[Cut to Monica\\'s bedroom]\\n\\nChandler: Uh-oh.\\n\\n[Cut to Living Room]\\n\\nRoss: What?\\n\\nRachel: Was she good?\\n\\n[Cut to Monica\\'s bedroom]\\n\\nJoey: Don’t answer that.\\n\\n[Cut to Living Room]\\n\\nRachel: Come on Ross! You said you wanted to talk about it, let’s talk\\nabout it!! How was she?\\n\\nRoss: She was...\\n\\n[Cut to Monica\\'s bedroom]\\n\\nJoey: Awful! Horrible!\\n\\nChandler: She was not good. Not good.\\n\\nJoey: She was nothing compared to you.\\n\\n[Cut to Living Room]\\n\\nRoss: She, she was different.\\n\\n[Cut to Monica\\'s bedroom]\\n\\nJoey: Ewwwww!\\n\\nChandler: Uh-oh.\\n\\n[Cut to Living Room]\\n\\nRachel: Good different?\\n\\nRoss: Nobody likes change.\\n\\n(Rachel picks up a newspaper and starts beating him with it.)\\n\\nRoss: What? Okay, okay, okay, okay.\\n\\n[The next clip is from The One With The Jellyfish.]\\n\\n[Scene: Rachel\\'s bedroom, Rachel, entering selfish mode, is thanking Ross for wrongly\\ntaking the entire blame of the breakup; as if she had absolutely nothing to do with it.]\\n\\nRachel:\\xa0 ...the way you owned up to everything, it just showed me how much\\nyou’ve grown. Y\\'know?\\xa0 I mean my Mom never thought this would work out.\\nIt was all, “Once a cheater, always a cheater.”\\xa0 Ooh, I just wish we\\nhadn’t lost those four months, but if time was what you needed just to gain a little\\nperspective...\\n\\nRoss: WE WERE ON A BREAK!!!!!!!\\n\\n[Cut back to the present.]\\n\\n[Scene: A mailbox, Ross is mailing the invitations.\\xa0 He throws a bunch into the\\nmailbox, but pauses with Rachel\\'s.\\xa0 And it starts another round of clips.]\\n\\n[The One With The Fake Party]\\n\\n[Scene: The hallway, Rachel is convincing Ross that Emily is good for him.]\\n\\nRachel: You seem to really like her.\\n\\nRoss: Yeah, I really do. Yeah, but what am I gonna do, I mean we-we both agreed\\nthat it was gonna be a two-week thing, y’know no commitment.\\n\\nRachel: Ross, that girl just spent the entire evening talking to your friends,\\nasking to hear stories about you, looking through Monica’s photo albums, I mean you\\ndon’t do that if you’re just in it for two weeks.\\n\\nRoss: You think?\\n\\nRachel: Yeah, you got like 14 hours until she has to be at the airport, and\\nyou’re sitting here in the hallway with a 28-year-old cheerleader with a fat lip.\\n\\nRoss: Hey, you’re right.\\n\\nRachel: Yeah.\\n\\n[Cut back to the present, Ross is still looking at Rachel\\'s invitation.\\xa0 Finally,\\nhe makes up his mind and mails it.]\\n\\nCommercial Break\\n\\n[Scene: Monica and Rachel\\'s, Joey, Monica, and Phoebe are opening their invitations.]\\n\\nMonica: Ohh, this is soo amazing! I can’t believe my brother’s getting\\nmarried! And in London! It’s so romantic!\\n\\nJoey: (taking apart the invitation) Hey, pretty smart! Tissue paper! You’re\\nat the wedding, you have to cry, \"Handkerchief?\" \"No-no, I got my\\ninvitation.\"\\n\\nPhoebe: Oooh look! Isn’t this adorable, Ross let Ben address mine!\\n\\nChandler: (entering) Hello!\\n\\nJoey: Hey!\\n\\nMonica: Hey!\\n\\nPhoebe: Hey! Hey, did you get your invitation to Ross’s wedding?\\n\\nChandler: (sarcastic) Noo.\\n\\nJoey: Don’t worry man, I get to bring a guest. We’ll show him.\\n\\nPhoebe: I’m so jealous you’re all going! I can’t believe I never\\nknew that you can’t fly in your third trimester!\\n\\nChandler: I didn’t know that.\\n\\nMonica: I never knew that either.\\n\\nJoey: I knew that! (They all look at him) I sooo didn’t know that, but you\\nshould see your faces.\\n\\nRachel: (entering) Hey guys! What’s up?\\n\\nJoey: Heyyy. (They all try and hide their invitations.)\\n\\nMonica: We’re hanging out.\\n\\n(Rachel starts going through her mail, and come across her invitation.)\\n\\nRachel: What’s this? Is this Ross’s wedding invitation?\\n\\nChandler: See, maybe that’s the one we should’ve actually hidden.\\n\\nRachel: Oh, no! No you guys! Come on, you don’t have to do that! I’m\\nhappy for him! I am! I really—I’m-I’m happ—I’ll work on it.\\n\\nMonica: I’m sorry honey.\\n\\nRachel: Yeah.\\n\\nMonica: Rach, you’re gonna come though aren’t you?\\n\\nRachel: Oh, honey, I don’t know. I…\\n\\nChandler: This isn’t one of those uh, y’know \"If she doesn’t\\ncome, we-we don’t, we don’t come?\" Right? Because I already bought my\\nticket…\\n\\nMonica: You know what would be real weird? Is if you weren’t there. Just\\nsay you’ll think about it, okay?\\n\\nRachel: No, I’ll think about it. Yeah.\\n\\n[And with that, we go into another set of clips, this time from Rachel’s point of\\nview.]\\n\\n[The first clip is from The One Where Rachel Finds Out.]\\n\\n[Scene: Monica and Rachel\\'s, it\\'s Rachel birthday party and Chandler is about to spill\\nthe beans.]\\n\\nRachel: Who\\'s this from?\\n\\nChandler: Oh, that\\'s Ross\\'s. \\n\\nRachel: Oh... (opens it and sees it is a pin) Oh my God. He remembered.\\n\\nPhoebe: Remembered what?\\n\\nRachel: It was like months ago. We were walking by this antique store, and I saw\\nthis pin in the window, and I told him that it was just like one my grandmother had when I\\nwas a little girl. Oh! I can\\'t believe he remembered!\\n\\nPhoebe: Oh, it\\'s so pretty. This must have cost him a fortune.\\n\\nMonica: I can\\'t believe he did this.\\n\\nChandler: Come on, Ross? Remember back in college, when he fell in love with\\nCarol and bought her that ridiculously expensive crystal duck?\\n\\n(Everyone looks at him. He realizes he just spilled the beans about Ross\\'s crush on\\nRachel.)\\n\\nRachel: What did you just say?\\n\\nChandler: (stuttering incoherently) F-hah.... flennin....\\n\\nRachel: Oh.... my God.\\n\\n[The next clip is from The One With Ross\\'s New Girlfriend.]\\n\\n[Scene: The airport, Ross is about to walk off of the plane with Julie.]\\n\\nRachel:\\xa0 (seeing Ross come off the plane with another woman.) Oh my God.\\n\\n[cut to later]\\n\\n[Scene: Monica and Rachel\\'s, Ross is introducing Julie to the gang.]\\n\\nJulie: Well, Ross and I were in grad school together.\\n\\nRoss: But we haven\\'t seen each other since then. Well I land in China, guess\\nwho\\'s in charge of the dig. \\n\\nRachel: Julie! Julie, isn\\'t that great? I mean, isn\\'t that just kick-\\nyou-in-the-crotch, spit-on-your-neck fantastic?\\n\\n[cut to later]\\n\\n[Scene: Monica and Rachel\\'s, Ross is trying to hang up on Julie.]\\n\\nRoss: Oh, that is so sweet.(listens) No, no, ok, you hang up. Ok, ok, one, two,\\nthree.(He doesn\\'t hang up and motions for Rachel to be quiet.) Well you didn\\'t hang up\\neither. \\n\\nRachel:\\xa0 She didn\\'t hang up either...\\n\\nRoss:\\xa0 Ok, no, no, you hang up. You, you, y—(Rachel grabs the phone\\nand hangs it up for him.)\\n\\n[The next clip is from The One Where Ross Finds Out.]\\n\\n[Scene, A Restaurant, Rachel is on her date, drunk, and is leaving that answering\\nmachine message.]\\n\\nRachel: (on phone) Ross, hi, it\\'s Rachel. I\\'m just calling to say that um,\\neverything\\'s fine and I\\'m really happy for you and your cat...(cut)...I\\nam over you. I am over you and that, my friend, is what they call closure. (She hangs up\\nand tosses phone in the ice bucket.)\\n\\n[cut to later]\\n\\n[Scene, Monica and Rachel\\'s, the next morning, Ross is checking his messages.]\\n\\nRoss: Rach, I got a message from you.\\n\\n(Rachel comes out of her room, suddenly she remembers leaving the message.)\\n\\nRachel: Oh my God. Oh my God Ross, no, hang up the phone, give me the phone\\nRoss, give me the phone, give me the phone, give me the. . . (She jumps the couch and\\nlands on Ross\\'s back, finally getting the phone from him. Ross has a confused expression\\non his face.)\\n\\nRoss: You\\'re over me?\\n\\nRachel: Ohhhhhhhh God. (climbs off his back)\\n\\nRoss: Wha... you\\'re uh, you\\'re, you\\'re over me?\\n\\nRachel: Ohh, ohh.\\n\\nRoss: When, when were you... under me?\\n\\nRachel: Well, basically, lately, I\\'ve uh, I\\'ve uh, sort of had feelings for you.\\n\\n[cut to later in the same scene]\\n\\nRoss: OK, I need to lie down. \\n\\n[The next clip is from The One With The List.]\\n\\n[Scene: Chandler and Joey\\'s, Ross has just broken up with Julie and is about to get\\nwith Rachel.]\\n\\nJoey: He broke up with Julie. Well, go hug her, for god\\'s sakes.\\n\\nRachel: Really?\\n\\nRoss: Really. It\\'s always been you, Rach.\\n\\nRachel: Oh, god.\\n\\n(Ross and Rachel hug.)\\n\\nChandler and Joey: Ohhh.\\n\\n[The next clip is from The One Where Ross and Rachel.... You Know.]\\n\\n[Scene: The Auditorium, Ross and Rachel are about to... you know.]\\n\\nRoss: I\\'ve no idea, could be. Listen, I\\'m sorry I had to work tonight.\\n\\nRachel: Oh it\\'s OK. You were worth the wait, and I don\\'t just mean tonight.\\n\\n(They kiss and start undressing. As Rachel tries to pull off Ross\\'s tie she catches it\\nin his mouth. Then they roll across the fur rug.)\\n\\nRachel: Ah, oh God. Oh, honey, oh that\\'s OK.\\n\\nRoss: What. Oh no, you just rolled over the juice box.\\n\\n[The next clip is from The One The Morning After.]\\n\\n[Scene: Central Perk, Ross is trying to prevent Gunther from spilling the beans.]\\n\\nRoss: Gunther! Gunther. Gunther, please tell me you didn’t say anything to\\nRachel about me and the girl from the Xerox place.\\n\\nGunther: I’m sorry. Was I not supposed to?\\n\\n(Ross turns around and sees Rachel sitting by the window. She is just glaring at him.)\\n\\n[The next clip is from The One At The Beach.]\\n\\n[Scene: The beachhouse, Ross and Rachel are argueing about the breakup.]\\n\\nRoss: Y\\'know, hey! You’re the one who ended it, remember?\\n\\nRachel: Yeah, because I was mad at you, not because I stopped loving you!\\n\\nRoss: You still love me?\\n\\nRachel: Noo.\\n\\n[cut to later]\\n\\nRoss: What does this mean? What do you, I mean do you wanna, get back together?\\n\\nRachel: Noo! Maybe! I, I don’t know. \\n\\nRoss: What?!\\n\\nRachel: I just, I feel, I-I just...\\n\\n(Ross leans in and kisses her. They both look at each other for a moment, and then\\nembrace in a more passionate kiss.)\\n\\n[The next clip is from The One With The Jellyfish.]\\n\\n[Scene: Monica and Rachel\\'s, Rachel and Ross are finally breaking up for good, or is\\nit?]\\n\\nRachel: Y\\'know I can’t believe I even thought about getting back\\ntogether again! We are so over!!\\n\\nRoss: (starts to cry) FINE BY ME!! (he opens the door and traps Chandler behind\\nit)\\n\\n[cut to later]\\n\\nRachel: And hey! Just so you know, it’s not that common! It doesn’t\\nhappen to every guy! And it is a big deal!!\\n\\nChandler: I KNEW IT!!!!\\n\\n[cut back to the present.]\\n\\n[Scene: Central Perk, Rachel is deciding on whether or not to go to the wedding.]\\n\\n[cut to another clip, this one is from The One With The Prom Video]\\n\\n[Scene: Monica and Rachel\\'s, the gang is watching the Prom Video and Rachel is about to\\nmake her entrance on the video.\\xa0 The italics are portions of the prom video.]\\n\\nMrs. Geller: Rachel\\'s coming up the path.\\xa0 Doesn\\'t she look\\npretty. Jack... (Rachel enters with a huge nose)\\n\\nRachel: Oh my God.\\n\\nMonica: You know what this is, this is us getting ready for the prom.\\n\\nRachel: Oh.\\n\\nRoss: You know what, you guys, we don\\'t have to watch this.\\n\\nAll: Oh yeah we do. C\\'mon.\\n\\nMrs. Geller: Get a shot of Monica. Where\\'s Monica.\\n\\nMr. Geller: Wait, how do you zoom out? (zooms out and we see an\\nextremely overweight Monica eating a big sandwich) There she is.\\n\\nMonica: Shut up, the camera adds ten pounds.\\n\\nChandler: Ahh, so how many cameras are actually on you?\\n\\n[cut to later]\\n\\nMonica: Oh, dad, turn it off.\\n\\nMr. Geller: It is off.\\xa0 Right Ross? (pans over to see Ross with\\nan afro and moustache)\\n\\nJoey: Lookin\\' good Mr. Cotter.\\n\\n[cut to later]\\n\\nRachel: I can\\'t go to my own prom without a date, I can\\'t, it\\'s too\\nlate.\\n\\nMonica: If you\\'re not going then I don\\'t want to go either.\\n\\nMrs. Geller: (to Ross on the stairs) I have a wonderful idea. You\\nshould take Rachel to the prom.\\n\\n[cut to later]\\n\\nRoss: Y\\'know what?\\xa0 I think we\\'ve seen enough, let\\'s turn it off.\\n\\nAll: No, no, no.\\n\\nRoss: OK, fine, well I\\'m not gonna watch, alright.\\n\\nMr. Geller: C\\'mon kid, let\\'s go.\\n\\nMrs. Geller: Ahh, are you hadsome.\\n\\nMr. Geller: Let\\'s show \\'em.\\n\\nRoss: (walks down the stairs and grabs the flowers out of the vase on\\nthe endtable) Okay dad.\\n\\nMr. Geller: (going downstairs) Rachel, ready or not, here comes your\\nknight in shining—Oh no. (Chip has shown up and the four are leaving.)\\n\\nRachel, Monica, Roy, and Chip: Bye.\\n\\nMrs. Geller: Oh, dear. Jack, how do I turn this off?\\n\\nMonica: (to Ross) I can\\'t believe you did that.\\n\\nRoss: Yeah, well.\\n\\n[Rachel, seeing what he did for her, gets up, walks across the room, and kisses Ross]\\n\\nPhoebe: See, he\\'s her lobster.\\n\\n[Cut back to the present, Rachel has made her decision.]\\n\\nMonica: (seeing the decision) Nooooo. You’re really not going?\\n\\nRachel: Yeah. It’s just gonna be too hard. Y’know? I mean, it’s\\nRoss. How can I watch him get married? Y’know it’s just, it’s for the best,\\ny’know it is, it’s… Y’know, plus, somebody’s got to stay here\\nwith Phoebe! Y’know she’s gonna be pretty big by then, and she needs someone to\\nhelp her tie her shoes; drive her to the hospital in case she goes into labour.\\n\\nMonica: You don’t have a car. And your license expired. \\n\\nRachel: I know. (Starts to cry) Yeah, see, there’s so much to do and I have\\nso little time to do it in.\\n\\nClosing Credits\\n\\n[Scene: Central Perk, Chandler, Joey, and Phoebe are reading a book about things to do\\nwhilst in London.]\\n\\nChandler: All right, check it out. Check this out. It says here that\\nthere’s a place you can go to rent videos of all the museums! (Reading from the\\nbook.) \"It’s almost as good as being there.\"\\n\\nJoey: It’s better! You can’t go to a museum in your underwear!\\n\\nChandler: Well, You could, but... probably just the one\\ntime.\\n\\nJoey: I bet we could get videos of all the sites, get a VCR in our\\nhotel room... we\\'d never even have to go outside!\\n\\nChandler: If we do that, we gotta get Die Hard.\\n\\nJoey: Oh-ho! I bet the British version is gooooood!\\n\\nEnd\\n\\n\\n'"
      ]
     },
     "execution_count": 160,
     "metadata": {},
     "output_type": "execute_result"
    }
   ],
   "source": [
    "episode_scripts[92]"
   ]
  },
  {
   "cell_type": "code",
   "execution_count": 161,
   "metadata": {
    "ExecuteTime": {
     "end_time": "2018-05-29T19:48:11.387377Z",
     "start_time": "2018-05-29T19:48:11.382926Z"
    }
   },
   "outputs": [],
   "source": [
    "min_i = 0\n",
    "min_length = len(episode_scripts[0])\n",
    "for i,episode in enumerate(episode_scripts):\n",
    "    if len(episode) < min_length:\n",
    "        min_i = i\n",
    "        min_length = len(episode)"
   ]
  },
  {
   "cell_type": "code",
   "execution_count": 162,
   "metadata": {
    "ExecuteTime": {
     "end_time": "2018-05-29T19:48:15.699439Z",
     "start_time": "2018-05-29T19:48:15.695926Z"
    }
   },
   "outputs": [
    {
     "data": {
      "text/plain": [
       "13"
      ]
     },
     "execution_count": 162,
     "metadata": {},
     "output_type": "execute_result"
    }
   ],
   "source": [
    "min_i"
   ]
  },
  {
   "cell_type": "code",
   "execution_count": 163,
   "metadata": {
    "ExecuteTime": {
     "end_time": "2018-05-29T19:48:19.557971Z",
     "start_time": "2018-05-29T19:48:19.554529Z"
    }
   },
   "outputs": [
    {
     "data": {
      "text/plain": [
       "16435"
      ]
     },
     "execution_count": 163,
     "metadata": {},
     "output_type": "execute_result"
    }
   ],
   "source": [
    "min_length"
   ]
  },
  {
   "cell_type": "code",
   "execution_count": 164,
   "metadata": {
    "ExecuteTime": {
     "end_time": "2018-05-29T19:48:28.715294Z",
     "start_time": "2018-05-29T19:48:28.711154Z"
    }
   },
   "outputs": [
    {
     "data": {
      "text/plain": [
       "'ndy Mattingly Phillips\\nWith Minor Adjustments by: Eric Aasen\\n\\n\\n\\n\\n[Scene: Central Perk, Ross is eyeing a beautiful woman at the counter, and Joey and\\nChandler are egging him on to go talk to her. No pun intended. I mean it.]\\n\\nJoey: I\\'m tellin\\' you Ross, she wants you.\\n\\nRoss: She barely knows me. We just live in the same building.\\n\\nChandler: Any contact?\\n\\nRoss: She lent me an egg once.\\n\\nJoey: You\\'re in!\\n\\nRoss: Aw, right.\\n\\nWoman: Hi, Ross.\\n\\nRoss: Hey. (stutters something incoherent)\\n\\nChandler: Come on, Ross, you gotta get back in the game here, ok? The Rachel\\nthing\\'s not happening, your ex-wife is a lesbian—I don\\'t think we need a third... \\n\\nJoey: Excuse me, could we get an egg over here, still in the shell? Thanks.\\n\\nRoss: An egg?\\n\\nJoey: Yeah, you\\'re gonna go up to her and say, \"Here\\'s your egg back, I\\'m\\nreturning your egg.\"\\n\\nChandler: I think it\\'s winning.\\n\\nRoss: I think it\\'s insane.\\n\\nChandler: She\\'ll love it. Go with the egg, my friend.\\n\\n(Ross walks over to the woman, egg in hand.)\\n\\nJoey: Think it\\'ll work?\\n\\nChandler: No, it\\'s suicide. The man\\'s got an egg.\\n\\nOpening Credits\\n\\n[Scene: Central Perk, Monica, Rachel, Phoebe, Joey, Chandler are there. Ross is still\\ntalking to the beautiful woman.]\\n\\nMonica: You can not do this.\\n\\nRachel: Do what, do what?\\n\\nMonica: Roger wants to take her out tomorrow night.\\n\\nRachel: No! Phoebes! Don\\'t you remember why you dumped the guy?\\n\\nPhoebe: \\'Cause he was creepy, and mean, and a little frightening... alright,\\nstill, it\\'s nice to have a date on Valentine\\'s Day!\\n\\nMonica: But Phoebe, you can go out with a creepy guy any night of the year. I\\nknow I do. \\n\\nRachel: Well, what are you guys doing tomorrow night?\\n\\nJoey: Actually, tomorrow night kinda depends on how tonight goes.\\n\\nChandler: Oh, uh, listen, about tonight...\\n\\nJoey: No, no, no, don\\'t you dare bail on me. The only reason she\\'s goin\\' out\\nwith me is because I said I could bring a friend for her friend.\\n\\nChandler: Yes, I know, but her friend sounds like such a...\\n\\nJoey: Pathetic mess? I know, but—come on, man, she\\'s needy, she\\'s\\nvulnerable. I\\'m thinkin\\', cha-ching! (Rachel throws a roll at Joey. He picks it up and\\neats it.) Thanks. Look, you have not been out with a woman since Janice. You\\'re doin\\'\\nthis.\\n\\nRoss: Hi. She said yes.\\n\\nChandler: Yes! Way to go, man! (Chandler and Ross hug. Something crunches in\\nRoss\\' shirt pocket.) Still got the egg, huh?\\n\\n[Scene: A Restaurant, Joey and Chandler are there, waiting for their dates to show up.]\\n\\nJoey: (Looking at himself in the reflection on a knife) How do I look?\\n\\nChandler: Oh, uh, I... don\\'t... care. (Joey\\'s date shows up) Ok, now, remember,\\nno trading. You get the pretty one, I get the mess.\\n\\nLorraine: Hi, Joey. Well well, look what you brought. Very nice.\\n\\nChandler: ...And what did you bring?\\n\\nLorraine: She\\'s checking the coats. Joey, I\\'m gonna go wash the cab smell off my\\nhands. Will you get me a white Zinfandel, and a glass of red for Janice.\\n\\nChandler: Janice?\\n\\n(Lorraine leaves. Joey shakes his head as though to say, \\'It can\\'t be the same Janice.\\'\\nJanice enters.)\\n\\nJanice: Oh.... my.... God.\\n\\nChandler: (angrily) Hey, it\\'s Janice.\\n\\n[Scene: The bathroom at the restaurant, Chandler and Joey are talking.]\\n\\nChandler: Ok, I\\'m makin\\' a break for it, I\\'m goin\\' out the window. \\n\\nJoey: No, no, no, don\\'t! I\\'ve been waitin\\' for like, forever to go out with\\nLorraine. Just calm down. \\n\\nChandler: Calm down? Calm down? You set me up with the woman that I\\'ve dumped\\ntwice in the last five months!\\n\\nJoey: (at the urinal) Can you stop yellin\\'? You\\'re makin\\' me nervous, and I\\ncan\\'t go when I\\'m nervous.\\n\\nChandler: I\\'m sorry, I\\'m sorry, you\\'re right. (gets up right behind Joey and\\nyells in his ear) Come on, do it, do it, go, come on!!!\\n\\n[Scene: Monica and Rachel\\'s, the girls are all there, discussing their bad luck with\\nmen.]\\n\\nRachel: Ok, ok, Roger was creepy, but he was nothing compared to Pete Carney.\\n\\nMonica: Which one was Pete Carney?\\n\\nRachel: Pete the Weeper? Remember that guy who used to cry every time we had\\nsex. (imitating) \"Was it good for you?\"\\n\\nMonica: Yeah, well, I\\'ll take a little crying any day over\\nHoward-the-\"I-win\"-guy. (imitating) \"I win! I win!\" I went out with\\nthe guy for two months—I didn\\'t get to win once.\\n\\nRachel: How did we end up with these jerks? We\\'re good people!\\n\\nMonica: I don\\'t know. Maybe we\\'re some kinda magnets.\\n\\nPhoebe: I know I am. That\\'s why I can\\'t wear a digital watch.\\n\\nMonica: There\\'s more beer, right?\\n\\nPhoebe: Oh! You know my friend Abby who shaves her head? She said that if you\\nwant to break the bad boyfriend cycle, you can do like a cleansing ritual.\\n\\nRachel: Pheebes, this woman is voluntarily bald.\\n\\nPhoebe: Yeah. So, we can do it tomorrow night, you guys. It\\'s Valentine\\'s Day.\\nIt\\'s perfect.\\n\\nMonica: Ok, well, what kind of ritual?\\n\\nPhoebe: Ok. We can, um, we can burn the stuff they gave us.\\n\\nRachel: Or?\\n\\nPhoebe: Or...or we can chant and dance around naked, you know, with sticks.\\n\\nMonica: Burning\\'s good.\\n\\nRachel: Burning\\'s good. Yeah, I got stuff to burn.\\n\\n[Scene: The Restaurant, Joey, Lorraine, Chandler, and Janice are at the table. Joey and\\nLorraine are seated very close, Chandler and Janice have backed their chairs away from one\\nanother.]\\n\\nLorraine: You know, ever since I was little, I\\'ve been able to pick up quarters\\nwith my toes.\\n\\nJoey: Good for you. (jumps suddenly) Uh, quarters or rolls of quarters?\\n\\nJanice: By the way, Chandler. I cut you out of all my pictures. So if you want,\\nI have a bag with just your heads.\\n\\nChandler: That\\'s OK.\\n\\nJanice: Oh, are you sure? Really? Because you know, you could make little\\npuppets out of them, and you could use them in your theater of cruelty.\\n\\n(Lorraine whispers into Joey\\'s ear.)\\n\\nJoey: (to Lorraine) We can\\'t do that.\\n\\nChandler: (disgusted) What? What can\\'t you do?\\n\\nJoey: Uh, can I talk to you for a second, over there?\\n\\n(Chandler and Joey leave the table.)\\n\\nJoey: Uh, we might be leaving now.\\n\\nChandler: Tell me it\\'s \"you and me\" we.\\n\\nJoey: She said she wants to slather my body with stuff and then lick it off. I\\'m\\nnot even sure what slathering is, but I definitely want to be a part of it.\\n\\nChandler: Ok, you can not do this to me.\\n\\nJoey: You\\'re right, I\\'m sorry. You\\'re right.\\n\\nLorraine: (to waiter) Uh, can we have three chocolate mousses to go please?\\n\\nJoey: I\\'m outta here. Here\\'s my credit card. Dinner\\'s on me. I\\'m sorry,\\nChandler.\\n\\nChandler: I hope she throws up on you.\\n\\n(Joey leaves with Lorraine. Chandler sits back down with Janice.)\\n\\nChandler: So...\\n\\nJanice: Just us.\\n\\nChandler: Oh, what a crappy night!\\n\\nJanice: Although, I have enjoyed the fact that, uh your shirt\\'s been stickin\\'\\noutta your zipper ever since you came back from the bathroom. \\n\\nChandler: Excuse me. (gets up, jumps up and down while he zips his zipper up...\\nother patrons look at him) How ya doin\\'?\\n\\nJanice: So, do we have the best friends or what?\\n\\nChandler: Joey\\'s not a friend. He\\'s...a stupid man who left us his credit card.\\nAnother drink? Some dessert? A big screen TV?\\n\\nJanice: I will go for that drink.\\n\\nChandler: You got it. Good woman! (the waiter turns around, it\\'s a man) Could we\\nget a bottle of your most overpriced champagne?\\n\\nJanice: Each.\\n\\nChandler: That\\'s right, each. Oh, and a uh Rob Roy. (to Janice) I\\'ve always\\nwanted to know...\\n\\n[Scene: Chandler\\'s bedroom, Chandler wakes up, and finds someone else\\'s hand on his\\nchest. He rolls over and is shocked to see Janice there.]\\n\\nJanice: Happy Valentine\\'s Day!\\n\\nCommercial Break\\n\\n[Scene: The Hallway, Chandler is trying to get Janice out of his apartment.]\\n\\nJanice: Oh, I miss you already. Can you believe this happened?\\n\\nChandler: No... no! And yet it did. Good-bye, Janice.\\n\\nJanice: Kiss me!\\n\\n(Janice kisses him. Monica comes out for the newspaper.}\\n\\nMonica: Oh, Chandler, sorry.\\n\\n(Janice turns around, Monica sees who it is.)\\n\\nMonica: Ohhh, Chandler, sorry! Hey, Janice.\\n\\nJanice: Hi, Monica.\\n\\nChandler: Ok, well, this was very special.\\n\\nMonica: Rach, come see who\\'s out here!\\n\\n(Rachel comes out.)\\n\\nRachel: Oh my god. Janice, hi!\\n\\nChandler: Janice is gonna go away now.\\n\\nMonica: I\\'ll be right back.\\n\\n(Joey enters from the stairs.)\\n\\nRachel: Oh, Joey, look who it is.\\n\\nJoey: (in disbelief) Whoa.\\n\\nChandler: Oh, good, Joey\\'s home now.\\n\\nJanice: This is so fun. This is like a reunion in the hall.\\n\\n(Monica comes out with her cordless phone.)\\n\\nMonica: Oh, hi, Ross. Yeah. There\\'s someone I want you to say hi to. (to\\nChandler) He just happened to call.\\n\\nJanice: Hi, Ross. Yes, it\\'s me. How did you know? (she laughs obnoxiously) \\n\\n[Scene: A Chinese Restaurant, Ross is there with his date.]\\n\\nRoss: I\\'m just sayin\\' if dogs do experience jet lag, then, because of the whole\\num, seven dog years to one human year thing, then, when a dog flies from New York to Los\\nAngeles, he doesn\\'t just lose three hours, he loses like a week and a half.\\n\\n(Ross starts to laugh, and then makes a face like \\'Why did I just say that?\\' Ross\\'\\nex-wife, Carol, and her lesbian lover, Susan, enter the restaurant. Ross stares at them.)\\n\\nKristin: That\\'s funny. Who are they?\\n\\nRoss: The blond woman is my ex-wife, and the woman touching her is her... close,\\npersonal friend.\\n\\nKristin: You mean they\\'re lovers.\\n\\nRoss: If you wanna put a label on it.\\n\\nKristin: Wow, uh, anything else I should know?\\n\\nRoss: Nope, nope, that\\'s it. \\n\\n(Carol takes off her jacket, her pregnant belly is exposed.)\\n\\nRoss: Oh, and she\\'s pregnant with my baby. I always forget that part. (to Carol\\nand Susan) Helloo!\\n\\n[Scene: Monica and Rachel\\'s, the girls are holding their boyfriend bonfire.]\\n\\nPhoebe: Ok, so now we need, um sage branches and the sacramental wine.\\n\\nMonica: All I have is, is oregano and a Fresca.\\n\\nPhoebe: Um, that\\'s ok! (throws it in fire) Ok. All right. Now we need the semen\\nof a righteous man.\\n\\nRachel: Ok, Pheebs, you know what, if we had that, we wouldn\\'t be doing the\\nritual in the first place.\\n\\nMonica: Can we just start throwing things in?\\n\\nPhoebe: Ok, yeah, ok. (she throws the directions in) Oh, OK.\\n\\nRachel: (tossing things in the fire) Ok, Barry\\'s letters. Adam Ritter\\'s boxer\\nshorts.\\n\\nPhoebe: Ok, and I have the, uh receipt for my dinner with Nokululu Oon Ah Ah.\\n\\nMonica: Look, here\\'s a picture of Scotty Jared naked.\\n\\nRachel: (looking at picture) Hey he\\'s wearing a sweater.\\n\\nMonica: No.\\n\\nRachel and Phoebe: Eww!\\n\\nRachel: And here we have the last of Paulo\\'s grappa.\\n\\nMonica: Hey, Rachel, isn\\'t that stuff almost pure...\\n\\n(Rachel throws the alcohol in the fire. A burst of flames shoots up from it.)\\n\\n[Scene: Central Perk, Chandler and Joey are there. Chandler is preparing to dump Janice\\nagain.]\\n\\nChandler: How can I dump this woman on Valentine\\'s day?\\n\\nJoey: I don\\'t know. You dumped her on New Year\\'s.\\n\\nChandler: Oh, man. In my next life, I\\'m coming back as a toilet brush.\\n\\n(Janice enters.)\\n\\nJanice: Hello, funny Valentine.\\n\\nChandler: Hi, Just Janice.\\n\\nJanice: Hello, Joey, our little matchmaker. I could just kiss you all over, and\\nI\\'m gonna!\\n\\n(Janice kisses Joey all over. Chandler smiles.)\\n\\nJoey: (to Chandler) If you don\\'t do it, I will.\\n\\n[Scene: The Chinese Restaurant.]\\n\\nRoss: So, um, what do you do for a living?\\n\\nKristin: Well, um, for the past few years I\\'ve been working..(Ross is watching\\nCarol and Susan, not listening to Kristin. Susan gets up, and has to go. Carol is left\\nstranded)...which is funny because, that wasn\\'t even my major.\\n\\nCarol: Oh no. I thought you said they could shoot the spot without you. \\n\\nSusan: I thought they could...I\\'ll try to get back as soon as I can. I\\'m sorry.\\n(Ross realizes Kristin was expecting him to laugh, so he starts to laugh hysterically.)\\n\\nRoss: Now that is funny. Hey, do you think...would it be too weird if I invited\\nCarol over to join us? \\'Cause she\\'s, she\\'s alone now, and pregnant, and, and sad. \\n\\nKristin: (reluctantly) I guess.\\n\\nRoss: Are you sure? Great. Carol? Wanna come over and join us?\\n\\nCarol: Oh, no no no. I\\'m fine. I\\'m fine.\\n\\nRoss: Come on. These people\\'ll scooch down. You guys\\'ll scooch, won\\'t you? Let\\'s\\ntry scooching! Come on. Come on. Uh, Kristen Riggs, this is Carol Willick. Carol, Kristin.\\nUh, Carol teaches sixth grade. And, Kristin, Kristin...(struggling)...does something that,\\nfunnily enough, wasn\\'t even her major!\\n\\n[Scene: Monica and Rachel\\'s, firemen are there to handle the bonfire that got out of\\ncontrol.]\\n\\nFireman No. 1: What do we got there?\\n\\nFireman No. 2: A piece of something: boxer shorts, greeting cards, and what\\nlooks like a half-charred picture—Wow, that guy\\'s hairier than the Chief!\\n\\nMonica: You know, it\\'s a really funny story how this happened.\\n\\nFireman No. 3: It\\'s all right. It\\'s all right. You don\\'t have to explain. This\\nisn\\'t the first boyfriend bonfire that we\\'ve seen get out of control.\\n\\nFireman No. 1: You\\'re our third call tonight.\\n\\nRachel: Really?\\n\\nFireman No. 2: Oh, sure, Valentine\\'s is our busiest night of the year.\\n\\n[Scene: Central Perk.]\\n\\nJanice: I brought you something.\\n\\nChandler: Is it loaded? Oh, little candy hearts. (reading the candy) Chan and\\nJan Forever.\\n\\nJanice: I had them made special.\\n\\nChandler: Ok, Janice. Janice. Hey, Janice. Look, there\\'s no way for me to tell\\nyou this. At least there\\'s no new way for me to tell you this. I just don\\'t things\\nare gonna work out.\\n\\nJanice: That\\'s fine.\\n\\nChandler: (surprised) It is?\\n\\nJanice: Mmm-hmm. Because I know that this isn\\'t the end.\\n\\nChandler: Oh no, you see, actually it is.\\n\\nJanice: No, it isn\\'t, because you won\\'t let that happen. Don\\'t you know it yet?\\nYou love me, Chandler Bing.\\n\\nChandler: Oh, no I don\\'t.\\n\\nJanice: Well then ask yourself this. Why do you think we keep ending up\\ntogether? New Year\\'s? Who invited who? Valentine\\'s? Who asked who into whose bed? \\n\\nChandler: I did, but...\\n\\nJanice: You seek me out. Something deep in your soul calls out to me like a\\nfoghorn. Janice, Janice. You want me. You need me. You can\\'t live without me. And you know\\nit. You just don\\'t know you know it. See ya.\\n\\n(She kisses him passionately,then leaves.)\\n\\nChandler: Call me!\\n\\n[Scene: The Chinese Restaurant, Ross and Carol are talking. Kristin is not there.]\\n\\nCarol: It\\'s not true. I never called your mother a wolverine.\\n\\nRoss: You did so. I swear, I swear—(noticing Kristin\\'s absence) How long\\nhas she been in the bathroom?\\n\\nCarol: Uh, I don\\'t think she\\'s in the bathroom. Her coat is gone.\\n\\nRoss: Well maybe it\\'s cold in there. Or maybe I screwed up the first date I had\\nin 9 years. \\n\\nCarol: That could be it.\\n\\nRoss: Oh, god. (He puts his head down on the grill) You know, this is still\\npretty hot. (He picks his head up, and a mushroom sticks to his head. Carol picks it off\\nand eats it.)\\n\\nCarol: Mushroom. Smile. They won\\'t all be like this. Some women might even stay\\nthrough dinner. Sorry, that\\'s not funny\\n\\nRoss: No, it\\'s just...you know the whole \"getting on with your life\"\\nthing. Well, do I have to? I mean, I\\'m sitting here with this cute woman, and, and, and\\nshe\\'s perfectly nice, and, but that there\\'s, that\\'s it. And um, and then I\\'m here talkin\\'\\nto you, and, and it\\'s easy, and it\\'s fun, and, and I don\\'t, I don\\'t have to...You know,\\nhere\\'s a wacky thought. Um, what\\'s say you and I give it another shot? No no no, I know\\nwhat you\\'re gonna say, you\\'re a lesbian. But what do you say we just put that aside for\\nnow you know? Let\\'s just stick a pin in it, ok? Because, we\\'re great together, you know.\\nYou can\\'t deny it. Besides, you\\'re carrying my baby. I mean, how perfect is that? But see,\\nyou know, you keep sayin\\' that, but there\\'s somethin\\' right here. I love you.\\n\\n(They kiss.)\\n\\nCarol: Oh, I love you too. But...\\n\\nRoss: No but, no but.\\n\\nCarol: You know that thing you put over here with the pin in it? It\\'s time to\\ntake the pin out. You\\'ll find someone, I know you will. The right woman is just waiting\\nfor you.\\n\\nRoss: That\\'s easy for you to say, you found one already.\\n\\nCarol: All you need is a woman who likes men and you\\'ll be set.\\n\\n(A beautiful woman walks by Ross, he stares at her.)\\n\\nCarol: Not her.\\n\\nClosing Credits\\n\\n[Scene: Monica and Rachel\\'s, The girls are talking with the firemen.]\\n\\nFireman No. 3: We get off around midnight, why don\\'t we pick you up then?\\n\\nRachel: So, um, will you bring the truck?\\n\\nFireman No. 3: I\\'ll even let you ring the bell.\\n\\nRachel: Oh, my god.\\n\\nPhoebe: See, there you go, the cleansing works!\\n\\nMonica: They\\'re nice guys.\\n\\nRachel: Oh, they\\'re firemen guys.\\n\\n[Scene: Out in the hall, the firemen are talking.]\\n\\nFireman No. 1: You guys tell them you were married?\\n\\nFireman No. 2: No way!\\n\\nFireman No. 3: Are you kidding? My girlfriend doesn\\'t know, I\\'m not gonna tell\\nthem!\\n\\n\\nEnd\\n\\n\\n'"
      ]
     },
     "execution_count": 164,
     "metadata": {},
     "output_type": "execute_result"
    }
   ],
   "source": [
    "episode_scripts[13]"
   ]
  },
  {
   "cell_type": "code",
   "execution_count": 166,
   "metadata": {
    "ExecuteTime": {
     "end_time": "2018-05-29T19:53:37.785041Z",
     "start_time": "2018-05-29T19:53:37.768392Z"
    }
   },
   "outputs": [],
   "source": [
    "with open('episode_scripts_cleaned.pkl', 'wb') as picklefile:\n",
    "    pickle.dump(episode_scripts, picklefile)"
   ]
  },
  {
   "cell_type": "code",
   "execution_count": null,
   "metadata": {},
   "outputs": [],
   "source": []
  }
 ],
 "metadata": {
  "kernelspec": {
   "display_name": "Python 3",
   "language": "python",
   "name": "python3"
  },
  "language_info": {
   "codemirror_mode": {
    "name": "ipython",
    "version": 3
   },
   "file_extension": ".py",
   "mimetype": "text/x-python",
   "name": "python",
   "nbconvert_exporter": "python",
   "pygments_lexer": "ipython3",
   "version": "3.6.4"
  }
 },
 "nbformat": 4,
 "nbformat_minor": 2
}
