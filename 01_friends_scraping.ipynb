{
 "cells": [
  {
   "cell_type": "code",
   "execution_count": 11,
   "metadata": {
    "ExecuteTime": {
     "end_time": "2018-05-29T17:53:44.926191Z",
     "start_time": "2018-05-29T17:53:44.922150Z"
    }
   },
   "outputs": [],
   "source": [
    "import pandas as pd\n",
    "import numpy as np\n",
    "import requests\n",
    "import re\n",
    "import pickle\n",
    "from bs4 import BeautifulSoup"
   ]
  },
  {
   "cell_type": "code",
   "execution_count": 2,
   "metadata": {
    "ExecuteTime": {
     "end_time": "2018-05-29T17:51:12.082347Z",
     "start_time": "2018-05-29T17:51:11.885716Z"
    }
   },
   "outputs": [],
   "source": [
    "url = 'http://www.livesinabox.com/friends/scripts.shtml'\n",
    "response = requests.get(url)"
   ]
  },
  {
   "cell_type": "code",
   "execution_count": 3,
   "metadata": {
    "ExecuteTime": {
     "end_time": "2018-05-29T17:51:13.591473Z",
     "start_time": "2018-05-29T17:51:13.511195Z"
    }
   },
   "outputs": [],
   "source": [
    "page = response.text\n",
    "soup = BeautifulSoup(page,'html5lib')"
   ]
  },
  {
   "cell_type": "code",
   "execution_count": 4,
   "metadata": {
    "ExecuteTime": {
     "end_time": "2018-05-29T17:51:14.606159Z",
     "start_time": "2018-05-29T17:51:14.464752Z"
    }
   },
   "outputs": [
    {
     "data": {
      "text/plain": [
       "<html><head>\n",
       "<title>Crazy For Friends - Scripts</title>\n",
       "<meta content=\"A Friends fan site featuring transcripts, episode guides, cast pictures, wallpapers, spoilers, and much more.\" name=\"DESCRIPTION\"/>\n",
       "<meta content=\"chandler, bing, joey, tribbiani, ross, geller, gellar, rachel, green, greene, phoebe, buffay, monica, fan fiction, friends, F*R*I*E*N*D*S, f.r.i.e.n.d.s, friend, nbc, pix, wb, sitcom, sitcoms, tbs, tv, C&amp;M, R&amp;R, J&amp;P, fun facts, matthew, matt, matty, perry, leblanc, le blanc, david, dave, schwimmer, lisa, kundrow, jennifer, jenn, jen, aniston, courteney, cox, arquette, message, board, forum, pictures, pics, news, articles, scripts, transcripts, spoilers, fan fic, fan fiction, highlights, fun facts, triva, links, photos, polls\" name=\"KEYWORDS\"/>\n",
       "<meta content=\"Nikki\" name=\"AUTHOR\"/>\n",
       "<meta content=\"\" http-equiv=\"EXPIRES\"/>\n",
       "<meta content=\"ISO-8859-1\" http-equiv=\"CHARSET\"/>\n",
       "<meta content=\"English\" http-equiv=\"CONTENT-LANGUAGE\"/>\n",
       "<meta content=\"General\" name=\"RATING\"/>\n",
       "<meta content=\"index,follow\" name=\"ROBOTS\"/>\n",
       "\n",
       "<link href=\"st.css\" rel=\"stylesheet\" type=\"text/css\"/>\n",
       "</head><body alink=\"#CCCCFF\" bgcolor=\"#000000\" leftmargin=\"0\" link=\"#0066FF\" marginheight=\"0\" marginwidth=\"0\" text=\"#CCCCFF\" topmargin=\"0\" vlink=\"#0066FF\">\n",
       "<table border=\"0\" cellpadding=\"0\" cellspacing=\"0\" width=\"771\">\n",
       "  <tbody><tr> \n",
       "    <td align=\"left\" height=\"424\" valign=\"top\"> \n",
       "      <table border=\"0\" cellpadding=\"0\" cellspacing=\"0\" width=\"100%\">\n",
       "        <tbody><tr> \n",
       "          <td width=\"1%\"><img height=\"66\" src=\"topleft2.jpg\" width=\"179\"/></td>\n",
       "          <td bgcolor=\"navy\" width=\"99%\"> \n",
       "            <table border=\"0\" cellpadding=\"0\" cellspacing=\"0\" width=\"100%\">\n",
       "              <tbody><tr> \n",
       "                <td width=\"45%\"><a href=\"http://www.livesinabox.com/friends/\"><img border=\"0\" height=\"56\" src=\"topbanner.gif\" width=\"258\"/></a></td>\n",
       "                \n",
       "              <td align=\"center\" valign=\"top\" width=\"55%\"> Last Episode of Friends \n",
       "                May 6th!<br/>\n",
       "                <font color=\"#CCCCFF\" face=\"Tahoma\" size=\"2\">Recent Updates: <a href=\"season10.shtml\">Scripts</a>|<a href=\"spoilers.shtml\">Spoliers</a>|<a href=\"officalpics.shtml\">Pictures</a></font> \n",
       "              </td>\n",
       "              </tr>\n",
       "            </tbody></table>\n",
       "          </td>\n",
       "        </tr>\n",
       "      </tbody></table>\n",
       "      <table border=\"0\" cellpadding=\"0\" cellspacing=\"0\" width=\"100%\">\n",
       "        <tbody><tr> \n",
       "          <td><img height=\"53\" src=\"pt9.jpg\" width=\"771\"/></td>\n",
       "        </tr>\n",
       "      </tbody></table>\n",
       "      <table border=\"0\" cellpadding=\"0\" cellspacing=\"0\" height=\"2%\" width=\"100%\">\n",
       "        <tbody><tr> \n",
       "          <td align=\"left\" height=\"558\" valign=\"top\"> \n",
       "            <table border=\"0\" cellpadding=\"0\" cellspacing=\"0\" width=\"100%\">\n",
       "              <tbody><tr> \n",
       "                <td align=\"left\" background=\"line6.jpg\" valign=\"top\" width=\"159\"> \n",
       "                 <table border=\"0\" cellpadding=\"0\" cellspacing=\"0\" height=\"21\" width=\"100%\">\n",
       "  <tbody><tr> \n",
       "    <td align=\"left\" background=\"headbck6.jpg\" height=\"21\"><font face=\"Tahoma\" size=\"2\"><b>Friends</b></font></td>\n",
       "  </tr>\n",
       "</tbody></table>\n",
       "<table border=\"0\" cellpadding=\"0\" cellspacing=\"0\" height=\"20\" width=\"134\">\n",
       "  <tbody><tr> \n",
       "    <td height=\"123\"> \n",
       "      <div align=\"center\"> \n",
       "        <div align=\"left\"> \n",
       "          <div align=\"center\"><font face=\"Tahoma\" size=\"2\"> \n",
       "            <div align=\"left\">-<a href=\"fanfic.shtml\">Fan Fiction</a> <br/>\n",
       "              - <a href=\"cast.shtml\">Cast</a> <br/>\n",
       "              - <a href=\"links.shtml\">Links</a> <br/>\n",
       "                          - <a href=\"spoilers.shtml\">Spoilers</a> <br/>\n",
       "              <a href=\"scripts.shtml\">Scripts</a><img height=\"15\" src=\"updated.jpg\" width=\"50\"/><br/>\n",
       "              <select class=\"combobox\" name=\"SiteMap\" onchange=\"if(options[selectedIndex].value){location = options[selectedIndex].value}\" size=\"1\">\n",
       "                <option selected=\"\">Select Season </option>\n",
       "                <option value=\"season1.shtml\">Season One</option>\n",
       "                <option value=\"season2.shtml\">Season Two</option>\n",
       "                <option value=\"season3.shtml\">Season Three</option>\n",
       "                <option value=\"season4.shtml\">Season Four</option>\n",
       "                <option value=\"season5.shtml\">Season Five</option>\n",
       "                <option value=\"season6.shtml\">Season Six</option>\n",
       "                <option value=\"season7.shtml\">Season Seven</option>\n",
       "                <option value=\"season8.shtml\">Season Eight</option>\n",
       "                <option value=\"season9.shtml\">Season Nine</option>\n",
       "                <option value=\"season10.shtml\">Season Ten</option>\n",
       "              </select>\n",
       "              <br/>\n",
       "              - <a href=\"quotes.shtml\">Quote Of the Day</a> <br/>\n",
       "                          - <a href=\"episodeguide.shtml\">Episode Guide</a> <br/>\n",
       "              - <a href=\"index.shtml\">Home</a> </div>\n",
       "            </font> </div>\n",
       "        </div>\n",
       "      </div>\n",
       "    </td>\n",
       "  </tr>\n",
       "</tbody></table>\n",
       "<table border=\"0\" cellpadding=\"0\" cellspacing=\"0\" width=\"100%\">\n",
       "  <tbody><tr> \n",
       "    <td background=\"headbck6.jpg\" height=\"21\"><font face=\"Tahoma\" size=\"2\"><b>The \n",
       "      Friends</b></font></td>\n",
       "  </tr>\n",
       "</tbody></table>\n",
       "<table border=\"0\" cellpadding=\"0\" cellspacing=\"0\" height=\"83\" width=\"135\">\n",
       "  <tbody><tr> \n",
       "    <td height=\"102\">- <a href=\"matthew.shtml\"><font face=\"Tahoma\" size=\"2\">Chandler \n",
       "      Bing</font></a> <font face=\"Tahoma\" size=\"2\"><br/>\n",
       "      - <a href=\"matt.shtml\">Joey Tribbiani </a> <br/>\n",
       "      - <a href=\"david.shtml\">Ross Geller</a> <br/>\n",
       "      - <a href=\"lisa.shtml\">Phoebe Buffay</a> <br/>\n",
       "      - <a href=\"jen.shtml\">Rachel Green</a> <br/>\n",
       "                  - <a href=\"cox.shtml\">Monica Bing</a> </font></td>\n",
       "  </tr>\n",
       "</tbody></table>\n",
       "<table border=\"0\" cellpadding=\"0\" cellspacing=\"0\" width=\"100%\">\n",
       "  <tbody><tr> \n",
       "    <td background=\"headbck6.jpg\" height=\"21\"><font size=\"2\"><b><font face=\"Tahoma\">Pictures</font></b></font></td>\n",
       "  </tr>\n",
       "</tbody></table>\n",
       "<table border=\"0\" cellpadding=\"0\" cellspacing=\"0\" height=\"85\" width=\"135\">\n",
       "  <tbody><tr> \n",
       "    <td height=\"108\"><font face=\"Tahoma\" size=\"2\">- <a href=\"chandlerpics.shtml\">Matthew \n",
       "      Perry</a><br/>\n",
       "      - <a href=\"joeypics.shtml\">Matt LeBlanc</a> <br/>\n",
       "      - <a href=\"rosspics.shtml\">David Schwimmer</a> <br/>\n",
       "      - <a href=\"phoebepics.shtml\">Lisa Kudrow</a> <br/>\n",
       "      - <a href=\"rachelpics.shtml\">Jennifer Aniston</a> <br/>\n",
       "      - <a href=\"monicapics.shtml\">Courteney Cox </a> <br/>\n",
       "      - <a href=\"castpics.shtml\">Cast Together</a> <br/>\n",
       "      - <a href=\"officalpics.shtml\">Offical Pictures </a><br/>\n",
       "      - <a href=\"wallpapers.shtml\">Wallpapers</a></font></td>\n",
       "  </tr>\n",
       "</tbody></table>\n",
       "<table border=\"0\" cellpadding=\"0\" cellspacing=\"0\" width=\"100%\">\n",
       "  <tbody><tr> \n",
       "    <td background=\"headbck6.jpg\" height=\"21\"><font face=\"Tahoma\" size=\"2\"><b>Highlights</b></font></td>\n",
       "  </tr>\n",
       "</tbody></table>\n",
       "<table border=\"0\" cellpadding=\"0\" cellspacing=\"0\" height=\"104\" width=\"134\">\n",
       "  <tbody><tr> \n",
       "    <td height=\"75\"><font face=\"Tahoma\" size=\"2\">- <a href=\"highlight1.shtml\">Season \n",
       "      One</a><br/>\n",
       "      - <a href=\"highlight2.shtml\">Season Two</a> <br/>\n",
       "      - <a href=\"highlight3.shtml\">Season Three</a> <br/>\n",
       "      - <a href=\"highlight4.shtml\">Season Four</a> <br/>\n",
       "      - <a href=\"highlight5.shtml\">Season Five</a> <br/>\n",
       "      - <a href=\"highlight6.shtml\">Season Six</a> <br/>\n",
       "      - <a href=\"highlight7.shtml\">Season Seven</a> <br/>\n",
       "      - <a href=\"highlight8.shtml\">Season Eight</a> <br/>\n",
       "      - <a href=\"highlight9.shtml\">Season Nine</a></font></td>\n",
       "  </tr>\n",
       "</tbody></table>\n",
       "<table border=\"0\" cellpadding=\"0\" cellspacing=\"0\" width=\"100%\">\n",
       "  <tbody><tr> \n",
       "    <td background=\"headbck6.jpg\" height=\"21\"><font face=\"Tahoma\" size=\"2\"><b>Misc</b></font></td>\n",
       "  </tr>\n",
       "</tbody></table>\n",
       "<table border=\"0\" cellpadding=\"0\" cellspacing=\"0\" width=\"135\">\n",
       "  <tbody><tr> \n",
       "    <td><font face=\"Tahoma\" size=\"2\">- <a href=\"facts.shtml\">Fun Facts</a> <br/>\n",
       "      - <a href=\"fanlisting.shtml\">Fanlistings</a><br/>\n",
       "      - <a href=\"phoebesongs.shtml\">Phoebe's Songs</a><br/>\n",
       "      - <a href=\"quote.shtml\">Quotes</a> </font><font size=\"2\">(Large)</font><br/>\n",
       "      - <a href=\"nicknames.shtml\"><font face=\"Tahoma\" size=\"2\">Nick Names</font></a><br/>\n",
       "                  <font face=\"Tahoma\" size=\"2\">- <a href=\"quiz.shtml\">Quiz's</a></font> \n",
       "                  <img height=\"15\" src=\"new.jpg\" width=\"40\"/><br/>\n",
       "      - <a href=\"contact.shtml\"><font face=\"Tahoma\" size=\"2\">Contact Me</font></a><br/>\n",
       "      \n",
       "    </td>\n",
       "  </tr>\n",
       "</tbody></table>\n",
       "<table border=\"0\" cellpadding=\"0\" cellspacing=\"0\" width=\"100%\">\n",
       "  <tbody><tr> \n",
       "    <td background=\"headbck6.jpg\" height=\"21\"><font face=\"Tahoma\" size=\"2\"><b>Coming \n",
       "      Soon</b></font></td>\n",
       "  </tr>\n",
       "</tbody></table>\n",
       "<table border=\"0\" cellpadding=\"0\" cellspacing=\"0\" width=\"135\">\n",
       "  <tbody><tr> \n",
       "    <td> \n",
       "      <p align=\"left\"> <font face=\"Tahoma\" size=\"2\">- More Quiz's<br/>- General Updates\n",
       "<br/>\n",
       "      \n",
       "    </font></p></td>\n",
       "  </tr>\n",
       "</tbody></table>\n",
       "<table border=\"0\" cellpadding=\"0\" cellspacing=\"0\" width=\"100%\">\n",
       "  <tbody><tr> \n",
       "    <td background=\"headbck6.jpg\" height=\"21\"><font face=\"Tahoma\" size=\"2\"><b>Donate</b></font></td>\n",
       "  </tr>\n",
       "</tbody></table>\n",
       "<table border=\"0\" cellpadding=\"0\" cellspacing=\"0\" width=\"135\">\n",
       "  <tbody><tr> \n",
       "    <td> \n",
       "      <p align=\"left\"> <font face=\"Tahoma\" size=\"2\">-\n",
       "\n",
       "<a href=\"/friends/donate.shtml\">Support This Site!</a><br/>\n",
       "</font></p><center><form action=\"https://www.paypal.com/cgi-bin/webscr\" method=\"post\">\n",
       "<font face=\"Tahoma\" size=\"2\"><input name=\"cmd\" type=\"hidden\" value=\"_s-xclick\"/>\n",
       "<input name=\"encrypted\" type=\"hidden\" value=\"-----BEGIN PKCS7-----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-----END PKCS7-----\n",
       "\"/>\n",
       "<input alt=\"PayPal - The safer, easier way to pay online!\" border=\"0\" name=\"submit\" src=\"https://www.paypalobjects.com/en_US/i/btn/btn_donate_LG.gif\" type=\"image\"/>\n",
       "<img alt=\"\" border=\"0\" height=\"1\" src=\"https://www.paypalobjects.com/en_US/i/scr/pixel.gif\" width=\"1\"/>\n",
       "\n",
       "</font></form></center>\n",
       "\n",
       " \n",
       "      <p align=\"center\"> <font face=\"Tahoma\" size=\"2\">\n",
       "        </font> \n",
       "                        \n",
       "      \n",
       " \n",
       "    </p></td>\n",
       "  </tr>\n",
       "</tbody></table>\n",
       "\n",
       "                </td>\n",
       "                <td align=\"left\" background=\"pptbodyback6.gif\" valign=\"top\"> \n",
       "                  <table border=\"0\" cellpadding=\"0\" cellspacing=\"0\" width=\"98%\">\n",
       "                    <tbody><tr> \n",
       "                      <td> \n",
       "\n",
       "                        <div align=\"center\"> \n",
       "                          <p align=\"center\"><b>Scripts</b></p>\n",
       "                          <p align=\"center\"><font size=\"2\">These scripts are not \n",
       "                            the original scripts, only transcripts as they have \n",
       "                            been transcribed from the show.<br/>\n",
       "                            Thanks to Eric Aasen for the scripts. Vist <a href=\"http://www.thecfsi.com/home.htm\">The \n",
       "                            Complete Friends Script Index</a>.</font></p>\n",
       "                          <p align=\"left\"><strong><font size=\"2\">Season 1:</font></strong></p>\n",
       "                          <div align=\"left\"> \n",
       "                            <ul>\n",
       "                              <li><a href=\"season1/101pilot.htm\">Episode 101: \n",
       "                                The Pilot-The Uncut Version</a></li>\n",
       "                              <li><a href=\"season1/102towsg.htm\">Episode 102: \n",
       "                                The One With The Sonogram At the End</a></li>\n",
       "                              <li><a href=\"season1/103thumb.htm\">Episode 103: \n",
       "                                The One With The Thumb</a></li>\n",
       "                              <li><a href=\"season1/104towgs.htm\">Episode 104: \n",
       "                                The One With George Stephanopoulos</a></li>\n",
       "                              <li><a href=\"season1/105egld.htm\">Episode 105: The \n",
       "                                One With The East German Laundry Detergant</a></li>\n",
       "                              <li><a href=\"season1/106butt.htm\">Episode 106: The \n",
       "                                One With The Butt</a></li>\n",
       "                              <li><a href=\"season1/107towbo.htm\">Episode 107: \n",
       "                                The One With The Blackout</a></li>\n",
       "                              <li><a href=\"season1/108ndt.htm\">Episode 108: The \n",
       "                                One Where Nana Dies Twice</a></li>\n",
       "                              <li><a href=\"season1/109uga.htm\">Episode 109: The \n",
       "                                One Where Underdog Gets Away</a></li>\n",
       "                              <li><a href=\"season1/110monk.htm\">Episode 110: The \n",
       "                                One With The Monkey</a></li>\n",
       "                              <li><a href=\"season1/111mbing.htm\">Episode 111: \n",
       "                                The One With Mrs. Bing</a></li>\n",
       "                              <li><a href=\"season1/112towdl.htm\">Episode 112: \n",
       "                                The One With The Dozen Lasagnas</a></li>\n",
       "                              <li><a href=\"season1/113tits.htm\">Episode 113: The \n",
       "                                One With The Boobies</a></li>\n",
       "                              <li><a href=\"season1/114towch.htm\">Episode 114: \n",
       "                                The One With The Candy Hearts</a></li>\n",
       "                              <li><a href=\"season1/115towsg.htm\">Episode 115: \n",
       "                                The One With The Stoned Guy</a></li>\n",
       "                              <li><a href=\"season1/116part1.htm\">Episode 116: \n",
       "                                The One With Two Parts: Part One</a></li>\n",
       "                              <li><a href=\"season1/117part2.htm\">Episode 117: \n",
       "                                The One With Two Parts: Part Two</a></li>\n",
       "                              <li><a href=\"season1/118poke.htm\">Episode 118: The \n",
       "                                One With All The Poker</a></li>\n",
       "                              <li><a href=\"season1/119mga.htm\">Episode 119: The \n",
       "                                One Where The Monkey Gets Away</a></li>\n",
       "                              <li><a href=\"season1/120toweo.htm\">Episode 120: \n",
       "                                The One With The Evil Orthodontist</a></li>\n",
       "                              <li><a href=\"season1/121towfm.htm\">Episode 121: \n",
       "                                The One With The Fake Monica</a></li>\n",
       "                              <li><a href=\"season1/122ick.htm\">Episode 122: The \n",
       "                                One The Ick Factor</a></li>\n",
       "                              <li><a href=\"season1/123birth.htm\">Episode 123: \n",
       "                                The One With The Birth</a></li>\n",
       "                              <li><a href=\"season1/124rafo.htm\">Episode 124: The \n",
       "                                One Where Rachel Finds Out</a></li>\n",
       "                            </ul>\n",
       "                          \n",
       "                          <p align=\"left\"><font size=\"2\"><strong>Season 2:</strong></font></p>\n",
       "                          <div align=\"left\"> \n",
       "                            <ul>\n",
       "                               <li><a href=\"season2/201rng.htm\">Episode 201: The One With Ross's New Girlfriend</a></li>\n",
       "  <li><a href=\"season2/202brst.htm\">Episode 202: The One With The Breast Milk</a></li>\n",
       "  <li><a href=\"season2/203towhd.htm\">Episode 203: The One Where Heckles Dies</a></li>\n",
       "  <li><a href=\"season2/204towph.htm\">Episode 204: The One With Phoebe's Husband</a></li>\n",
       "  <li><a href=\"season2/205fsae.htm\">Episode 205: The One With Five Steaks and an Eggplant</a></li>\n",
       "  <li><a href=\"season2/206baby.htm\">Episode 206: The One With The Baby On the Bus</a></li>\n",
       "  <li><a href=\"season2/207rofo.htm\">Episode 207: The One Where Ross Finds Out</a></li>\n",
       "  <li><a href=\"season2/208list.htm\">Episode 208: The One With The List</a></li>\n",
       "  <li><a href=\"season2/209towpd.htm\">Episode 209: The One With Phoebe's Dad</a></li>\n",
       "  <li><a href=\"season2/210russ.htm\">Episode 210: The One With Russ</a></li>\n",
       "  <li><a href=\"season2/211towlw.htm\">Episode 211: The One With The Lesbian Wedding</a></li>\n",
       "  <li><a href=\"season2/212toasb.htm\">Episode 212: The One After the Superbowl</a></li>\n",
       "  <li><a href=\"season2/214towpv.htm\">Episode 214: The One With The Prom Video</a></li>\n",
       "  <li><a href=\"season2/215rryk.htm\">Episode 215: The One Where Ross and Rachel...You Know</a></li>\n",
       "  <li><a href=\"season2/216jmo.htm\">Episode 216: The One Where Joey Moves Out</a></li>\n",
       "  <li><a href=\"season2/217emi.htm\">Episode 217: The One Where Eddie Moves In</a></li>\n",
       "  <li><a href=\"season2/218drd.htm\">Episode 218: The One Where Dr. Remoray Dies</a></li>\n",
       "  <li><a href=\"season2/219ewg.htm\">Episode 219: The One Where Eddie Won't Go</a></li>\n",
       "  <li><a href=\"season2/220oyd.htm\">Episode 220: The One Where Old Yeller Dies</a></li>\n",
       "  <li><a href=\"season2/221towtb.htm\">Episode 221: The One With The Bullies</a></li>\n",
       "  <li><a href=\"season2/222towtp.htm\">Episode 222: The One With The Two Parties</a></li>\n",
       "  <li><a href=\"season2/223towcp.htm\">Episode 223: The One With The Chicken Pox</a></li>\n",
       "  <li><a href=\"season2/224bamw.htm\">Episode 224: The One With Barry and Mindy's Wedding</a></li>\n",
       "                            </ul>\n",
       "                          </div>\n",
       "                          <p align=\"center\"> \n",
       "                            </p><center>\n",
       "                            </center>\n",
       "                          <p align=\"left\"><font size=\"2\"><strong>Season 3:</strong></font></p>\n",
       "                          <div align=\"left\"> \n",
       "                            <ul>\n",
       "                             <li><a href=\"season3/301plf.htm\">Episode 301: The One With The Princess\n",
       "    Leia Fantasy</a></li>\n",
       "  <li><a href=\"season3/302nor.htm\">Episode 302: The One Where No One's\n",
       "    Ready</a></li>\n",
       "  <li><a href=\"season3/303jam.htm\">Episode 303: The One With All The Jam</a></li>\n",
       "  <li><a href=\"season3/304towmt.htm\">Episode 304: The One With The\n",
       "    Metophorical Tunnel</a></li>\n",
       "  <li><a href=\"season3/305frank.htm\">Episode 305: The One With Frank Jr.</a></li>\n",
       "  <li><a href=\"season3/306flash.htm\">Episode 306: The One With The\n",
       "    Flashback</a></li>\n",
       "  <li><a href=\"season3/307rcb.htm\">Episode 307: The One With The Racecar\n",
       "    Bed</a></li>\n",
       "  <li><a href=\"season3/308gpd.htm\">Episode 308: The One With The Giant\n",
       "    Poking Device</a></li>\n",
       "  <li><a href=\"season3/309towfb.htm\">Episode 309: The One With The Football</a></li>\n",
       "  <li><a href=\"season3/310rquit.htm\">Episode 310: The One Where Rachel\n",
       "    Quits</a></li>\n",
       "  <li><a href=\"season3/311crws.htm\">Episode 311: The One Where Chandler\n",
       "    Can't Remember Which Sister</a></li>\n",
       "  <li><a href=\"season3/312towj.htm\">Episode 312: The One With All The\n",
       "    Jealousy</a></li>\n",
       "  <li><a href=\"season3/313maraf.htm\">Episode 313: The One Where Monica And\n",
       "    Richard Are Friends</a></li>\n",
       "  <li><a href=\"season3/314pexp.htm\">Episode 314: The One With Phoebe's\n",
       "    Ex-Partner</a></li>\n",
       "  <li><a href=\"season3/315rrtb.htm\">Episode 315: The One Where Ross and\n",
       "    Rachel Take A Break</a></li>\n",
       "  <li><a href=\"season3/316toama.htm\">Episode 316: The One The Morning After</a></li>\n",
       "  <li><a href=\"season3/317towst.htm\">Episode 317: The One Without The Ski\n",
       "    Trip</a></li>\n",
       "  <li><a href=\"season3/318towht.htm\">Episode 318: The One With The Hypnosis\n",
       "    Tape</a></li>\n",
       "  <li><a href=\"season3/319tiny.htm\">Episode 319: The One With The Tiny\n",
       "    T-Shirt</a></li>\n",
       "  <li><a href=\"season3/320towdh.htm\">Episode 320: The One With The\n",
       "    Dollhouse</a></li>\n",
       "  <li><a href=\"season3/321pets.htm\">Episode 321: The One With A\n",
       "    Chick.  And A Duck</a></li>\n",
       "  <li><a href=\"season3/322screm.htm\">Episode 322: The One With The Screamer</a></li>\n",
       "  <li><a href=\"season3/323towrt.htm\">Episode 323: The One With Ross's Thing</a></li>\n",
       "  <li><a href=\"season3/324ufc.htm\">Episode 324: The One With The Ultimate\n",
       "    Fighting Championship</a></li>\n",
       "  <li><a href=\"season3/325toab.htm\">Episode 325: The One At The Beach</a></li>\n",
       "                            </ul>\n",
       "                          </div>\n",
       "                          <p align=\"left\"><font size=\"2\"><strong>Season 4:</strong></font></p>\n",
       "                          <div align=\"left\"> \n",
       "                            <ul>\n",
       "                              <li><a href=\"season4/401jelly.htm\">Episode 401: The One With The Jellyfish</a></li>\n",
       "  <li><a href=\"season4/402cat.htm\">Episode 402: The One With The Cat</a></li>\n",
       "  <li><a href=\"season4/403cuffs.htm\">Episode 403: The One With The 'Cuffs</a></li>\n",
       "  <li><a href=\"season4/404dance.htm\">Episode 404: The One With The Ballroom Dancing</a></li>\n",
       "  <li><a href=\"season4/405jng.htm\">Episode 405: The One With Joey's New Girlfriend</a></li>\n",
       "  <li><a href=\"season4/406dirty.htm\">Episode 406: The One With The Dirty Girl</a></li>\n",
       "  <li><a href=\"season4/407line.htm\">Episode 407: The One Where Chandler Crosses the Line</a></li>\n",
       "  <li><a href=\"season4/408box.htm\">Episode 408: The One With Chandler In A Box</a></li>\n",
       "  <li><a href=\"season4/409party.htm\">Episode 409: The One Where They're Gonna PARTY!</a></li>\n",
       "  <li><a href=\"season4/410girl.htm\">Episode 410: The One With The Girl From Poughkeepsie</a></li>\n",
       "  <li><a href=\"season4/411towpu.htm\">Episode 411: The One With Phoebe's Uterus</a></li>\n",
       "  <li><a href=\"season4/412towte.htm\">Episode 412: The One With The Embryos</a></li>\n",
       "  <li><a href=\"season4/413towrc.htm\">Episode 413: The One With Rachel's Crush</a></li>\n",
       "  <li><a href=\"season4/414jdd.htm\">Episdoe 414: The One With Joey's Dirty Day</a></li>\n",
       "  <li><a href=\"season4/415rugby.htm\">Episode 415: The One With All The Rugby</a></li>\n",
       "  <li><a href=\"season4/416party.htm\">Episode 416: The One With The Fake Party</a></li>\n",
       "  <li><a href=\"season4/417porn.htm\">Episode 417: The One With The Free Porn</a></li>\n",
       "  <li><a href=\"season4/418dress.htm\">Episode 418: The One With Rachel's New Dress</a></li>\n",
       "  <li><a href=\"season4/419haste.htm\">Episode 419: The One With All The Haste</a></li>\n",
       "  <li><a href=\"season4/420towwd.htm\">Episode 420: The One With All The Wedding Dreses</a></li>\n",
       "  <li><a href=\"season4/421invit.htm\">Episode 421: The One With The Invitation</a></li>\n",
       "  <li><a href=\"season4/422wbme.htm\">Episode 422: The One With The Worst Best Man Ever</a> </li>\n",
       "  <li><a href=\"season4/423rowed.htm\">Episode 423: The One With Ross's Wedding Parts I and II</a></li>\n",
       "  <li><a href=\"season4/423uncut.htm\">Episode 423: The One With Ross's Wedding - The Uncut\n",
       "    Version</a></li>\n",
       "                            </ul>\n",
       "                          </div>\n",
       "                          <p align=\"left\"><font size=\"2\"><strong>Season 5:</strong></font></p>\n",
       "                          <div align=\"left\"> \n",
       "                            <ul>\n",
       "                              <li><a href=\"season5/501arsr.htm\">Episode 501: The \n",
       "                                One After Ross Says Rachel</a> </li>\n",
       "                              <li><a href=\"season5/502kiss.htm\">Episode 502: The \n",
       "                                One With All The Kissing</a></li>\n",
       "                              <li><a href=\"season5/503t100.htm\">Episode 503: The \n",
       "                                One Hundredth</a></li>\n",
       "                              <li><a href=\"season5/504pbs.htm\">Episode 504: The \n",
       "                                One Where Phoebe Hates PBS</a> </li>\n",
       "                              <li><a href=\"season5/505kips.htm\">Episode 505: The \n",
       "                                One With All the Kips</a> </li>\n",
       "                              <li><a href=\"season5/506yeti.htm\">Episode 506: The \n",
       "                                One With The Yeti</a></li>\n",
       "                              <li><a href=\"season5/507rmi.htm\">Episode 507: The \n",
       "                                One Where Ross Moves In</a></li>\n",
       "                              <li><a href=\"season5/508towtf.htm\">Episode 508: \n",
       "                                The One With The Thanksgiving Flashbacks</a> </li>\n",
       "                              <li><a href=\"season5/509towrs.htm\">Episode 509: \n",
       "                                The One With Ross's Sandwich</a> </li>\n",
       "                              <li><a href=\"season5/510towas.htm\">Episode 510: \n",
       "                                The One With The Inappropriate Sister</a> </li>\n",
       "                              <li><a href=\"season5/511towr.htm\">Episode 511: The \n",
       "                                One With All The Resolutions</a> </li>\n",
       "                              <li><a href=\"season5/512cwl.htm\">Episode 512: The \n",
       "                                One With Chandler's Work Laugh</a> </li>\n",
       "                              <li><a href=\"season5/513bag.htm\">Episode 513: The \n",
       "                                One With Joey's Bag</a> </li>\n",
       "                              <li><a href=\"season5/514efo.htm\">Episode 514: The \n",
       "                                One Where Everyone Finds Out</a> </li>\n",
       "                              <li><a href=\"season5/515ghj.htm\">Episode 515: The \n",
       "                                One With The Girl Who Hits Joey</a> </li>\n",
       "                              <li><a href=\"season5/516cop.htm\">Episode 516: The \n",
       "                                One With A Cop</a> </li>\n",
       "                              <li><a href=\"season5/517rik.htm\">Episode 517: The \n",
       "                                One With Rachel's Inadvertant Kiss</a> </li>\n",
       "                              <li><a href=\"season5/518towrs.htm\">Episode 518: \n",
       "                                The One Where Rachel Smokes</a></li>\n",
       "                              <li><a href=\"season5/519rcf.htm\">Episode 519: The \n",
       "                                One Where Ross Can't Flirt</a> </li>\n",
       "                              <li><a href=\"season5/520tra.htm\">Episode 520: The \n",
       "                                One With The Ride Along</a> </li>\n",
       "                              <li><a href=\"season5/521ball.htm\">Episode 521: The \n",
       "                                One With The Ball</a> </li>\n",
       "                              <li><a href=\"season5/522jbb.htm\">Episode 522: The \n",
       "                                One With Joey's Big Break</a> </li>\n",
       "                              <li><a href=\"season5/523toiv.htm\">Episode 523: The \n",
       "                                One In Vegas</a><font size=\"2\"> </font></li>\n",
       "                            </ul>\n",
       "                          </div>\n",
       "                          <p align=\"left\"><font size=\"2\"><strong>Season 6:</strong></font></p>\n",
       "                          <div align=\"left\"> \n",
       "                            <ul>\n",
       "                              <li><a href=\"season6/601vegas.htm\">Episode 601: \n",
       "                                The One After Vegas</a> </li>\n",
       "                              <li><a href=\"season6/602rhr.htm\">Episode 602: The \n",
       "                                One Where Ross Hugs Rachel</a></li>\n",
       "                              <li><a href=\"season6/603towrd.htm\">Episode 603: \n",
       "                                The One With Ross's Denial</a></li>\n",
       "                              <li><a href=\"season6/604jlhi.htm\">Episode 604: The \n",
       "                                One Where Joey Loses His Insurance</a></li>\n",
       "                              <li><a href=\"season6/605towjp.htm\">Episode 605: \n",
       "                                The One With Joey's Porsche</a> </li>\n",
       "                              <li><a href=\"season6/606totln.htm\">Episode 606: \n",
       "                                The One The Last Night</a> </li>\n",
       "                              <li><a href=\"season6/607towpr.htm\">Episode 607: \n",
       "                                The One Where Phoebe Runs</a> </li>\n",
       "                              <li><a href=\"season6/608towrt.htm\">Episode 608: \n",
       "                                The One With Ross's Teeth</a> </li>\n",
       "                              <li><a href=\"season6/609rgh.htm\">Episode 609: The \n",
       "                                One Where Ross Got High</a> </li>\n",
       "                              <li><a href=\"season6/610towtr.htm\">Episode 610: \n",
       "                                The One With The Routine</a> </li>\n",
       "                              <li><a href=\"season6/611towat.htm\">Episode 611: \n",
       "                                The One With The Apothecary Table</a> </li>\n",
       "                              <li><a href=\"season6/612joke.htm\">Episode 612: The \n",
       "                                One With The Joke</a> </li>\n",
       "                              <li><a href=\"season6/613towrs.htm\">Episode 613: \n",
       "                                The One With Rachel's Sister</a> </li>\n",
       "                              <li><a href=\"season6/614ccc.htm\">Episode 614: The \n",
       "                                One Where Chandler Can't Cry</a> </li>\n",
       "                              <li><a href=\"season6/615maybe.htm\">Episode 615: \n",
       "                                The One That Could Have Been</a> </li>\n",
       "                              <li><a href=\"season6/617towtu.htm\">Episode 617: \n",
       "                                The One With The Unagi</a> </li>\n",
       "                              <li><a href=\"season6/618rds.htm\">Episode 618: The \n",
       "                                One Where Ross Dates A Student</a></li>\n",
       "                              <li><a href=\"season6/619towjf.htm\">Episode 619: \n",
       "                                The One With Joey's Fridge</a> </li>\n",
       "                              <li><a href=\"season6/620mac.htm\">Episode 620: The \n",
       "                                One With Mac And C.H.E.E.S.E.</a> </li>\n",
       "                              <li><a href=\"season6/621rmed.htm\">Episode 621: The \n",
       "                                One Where Ross Meets Elizabeth's Dad</a></li>\n",
       "                              <li><a href=\"season6/622pdm.htm\">Episode 622: The \n",
       "                                One Where Paul's The Man</a></li>\n",
       "                              <li><a href=\"season6/623ring.htm\">Episode 623: The \n",
       "                                One With The Ring</a></li>\n",
       "                              <li><a href=\"season6/624towtp.htm\">Episode 624: \n",
       "                                The One With The Proposal</a>\n",
       "                            </li></ul>\n",
       "                          </div>\n",
       "                          <p align=\"left\"><font size=\"2\"><strong>Season 7:</strong></font></p>\n",
       "                          <div align=\"left\"> \n",
       "                            <ul>\n",
       "                              <li><a href=\"season7/701towmt.htm\">Episode 701: The One With Monica's Thunder</a></li>\n",
       "  <li><a href=\"season7/702towrb.htm\">Episode 702: The One With Rachel's Book</a></li>\n",
       "  <li><a href=\"season7/703towpc.htm\">Episode 703: The One With Phoebe's Cookies</a></li>\n",
       "  <li><a href=\"season7/704towra.htm\">Episode 704: The One With Rachel's Assistant</a></li>\n",
       "  <li><a href=\"season7/705towep.htm\">Episode 705: The One With The Engagement Picture</a> </li>\n",
       "  <li><a href=\"season7/706my100.htm\">Episode 706: The One With The Nap Partners</a></li>\n",
       "  <li><a href=\"season7/707towrb.htm\">Episode 707: The One With Ross's Library Book</a></li>\n",
       "  <li><a href=\"season7/708cdld.htm\">Episode 708: The One Where Chandler Doesn't Like Dogs</a></li>\n",
       "  <li><a href=\"season7/709candy.htm\">Episode 709: The One With All The Candy</a></li>\n",
       "  <li><a href=\"season7/710towha.htm\">Episode 710: The One With The Christmas Armadilio</a></li>\n",
       "  <li><a href=\"season7/711towcc.htm\">Episode 711: The One With All The Cheesecakes</a></li>\n",
       "  <li><a href=\"season7/712tuan.htm\">Episode 712: The One Where They're Up All Night</a></li>\n",
       "  <li><a href=\"season7/713towrd.htm\">Episode 713: The One Where Rosita Dies</a></li>\n",
       "  <li><a href=\"season7/714tat30.htm\">Episode 714: The One Where They All Turn Thirty</a></li>\n",
       "  <li><a href=\"season7/715jnb.htm\">Episode 715: The One With Joey's New Brain</a></li>\n",
       "  <li><a href=\"season7/716tal.htm\">Episode 716: The One With The Truth About London</a></li>\n",
       "  <li><a href=\"season7/717cwd.htm\">Episode 717: The One With The Cheap Wedding Dress</a></li>\n",
       "  <li><a href=\"season7/718towja.htm\">Episode 718: The One With Joey's Award</a></li>\n",
       "  <li><a href=\"season7/719rmac.htm\">Episode 719: The One With Ross and Monica's Cousin</a></li>\n",
       "  <li><a href=\"season7/720rbk.htm\">Episode 720: The One With Rachel's Big Kiss</a></li>\n",
       "  <li><a href=\"season7/721vows.htm\">Episode 721: The One With The Vows</a></li>\n",
       "  <li><a href=\"season7/722towcd.htm\">Episode 722: The One With Chandler's Dad</a></li>\n",
       "  <li><a href=\"season7/723camw.htm\">Episode 723: The One With Monica and Chandler's Wedding</a></li>\n",
       "  <li><a href=\"season7/outtakes.htm\">Friends: The Stuff You've Never Seen</a></li>\n",
       "                            </ul>\n",
       "                          </div>\n",
       "                          <p align=\"left\"><strong><font size=\"2\">Season 8:</font></strong></p>\n",
       "                          <div align=\"left\"> \n",
       "                            <ul>\n",
       "                              <li><a href=\"season8/801ido.htm\">Episode 801: The One After \"I Do\"</a> </li>\n",
       "  <li><a href=\"season8/802towrs.htm\">Episode 802: The One With The Red Sweater</a> </li>\n",
       "  <li><a href=\"season8/803towrt.htm\">Episode 803: The One Where Rachel Tells...</a></li>\n",
       "  <li><a href=\"season8/804towvt.htm\">Episode 804: The One With The Videotape</a></li>\n",
       "  <li><a href=\"season8/805towrd.htm\">Episode 805: The One With Rachel's Date</a></li>\n",
       "  <li><a href=\"season8/806towhp.htm\">Episode 806: The One With The Halloween Party</a></li>\n",
       "  <li><a href=\"season8/807stain.htm\">Episode 807: The One With The Stain</a></li>\n",
       "  <li><a href=\"season8/808strip.htm\">Episode 808: The One With The Stripper</a></li>\n",
       "  <li><a href=\"season8/809rumor.htm\">Episode 809: The One With The Rumor</a></li>\n",
       "  <li><a href=\"season8/810boots.htm\">Episode 810: The One With Monica's Boots</a></li>\n",
       "  <li><a href=\"season8/811rbsf.htm\">Episode 811: The One With Ross's Big Step Forward</a> </li>\n",
       "  <li><a href=\"season8/812jdr.htm\">Episode 812: The One Where Joey Dates Rachel</a> </li>\n",
       "  <li><a href=\"season8/813ctab.htm\">Episode 813: The One Where Chandler Takes A Bath</a></li>\n",
       "  <li><a href=\"season8/814towsc.htm\">Episode 814: The One With The Secret Closet</a> </li>\n",
       "  <li><a href=\"season8/815towbv.htm\">Episode 815: The One With The Birthing Video</a></li>\n",
       "  <li><a href=\"season8/816jtr.htm\">Episode 816: The One Where Joey Tells Rachel</a> </li>\n",
       "  <li><a href=\"season8/817towtl.htm\">Episode 817: The One With The Tea Leaves</a> </li>\n",
       "  <li><a href=\"season8/818toim.htm\">Episode 818: The One In Massapequa</a> </li>\n",
       "  <li><a href=\"season8/819towji.htm\">Episode 819: The One With Joey's Interview</a> </li>\n",
       "  <li><a href=\"season8/820towbs.htm\">Episode 820: The One With The Baby Shower</a> </li>\n",
       "  <li><a href=\"season8/821towcc.htm\">Episode 821: The One With The Cooking Class</a></li>\n",
       "  <li><a href=\"season8/822ril.htm\">Episode 822: The One Where Rachel Is Late</a></li>\n",
       "  <li><a href=\"season8/823rhab.htm\">Episode 823: The One Where Rachel Has A Baby</a></li>\n",
       "                            </ul>\n",
       "                          </div>\n",
       "                          <p align=\"left\"><strong><font size=\"2\">Season 9:</font></strong></p>\n",
       "                          <div align=\"left\"> \n",
       "                            <ul>\n",
       "                              <li><font size=\"2\"><a href=\"season9/901nop.htm\">Episode \n",
       "                                901: The One Where No One Proposes</a></font></li>\n",
       "                              <li><font size=\"2\"><a href=\"season9/902towec.htm\">Episode \n",
       "                                902: The One Where Emma Cries</a> </font> \n",
       "                              </li><li><font size=\"2\"><a href=\"season9/903ped.htm\">Episode \n",
       "                                903: The One With The Pediatrician</a> </font> \n",
       "                              </li><li><font size=\"2\"><a href=\"season9/904sharks.htm\">Episode \n",
       "                                904: The One With The Sharks</a> </font> \n",
       "                              </li><li><font size=\"2\"><a href=\"season9/905.htm\">Episode \n",
       "                                905: The One With Phoebe's Birthday Dinner</a> \n",
       "                                </font> \n",
       "                              </li><li><font size=\"2\"><a href=\"season9/906nanny.htm\">Episode \n",
       "                                906: The One With The Male Nanny</a></font> \n",
       "                              </li><li><font size=\"2\"><a href=\"season9/907song.htm\">Episode \n",
       "                                907: The One With Ross's Inappropriate Song</a></font> \n",
       "                              </li><li><font size=\"2\"><a href=\"season9/908rachelsister.htm\">Episode \n",
       "                                908: The One With Rachel's Other Sister</a></font> \n",
       "                              </li><li><font size=\"2\"><a href=\"season9/909rachelnumber.htm\">Episode \n",
       "                                909: The One With Rachel's Phone Number</a></font> \n",
       "                              </li><li><font size=\"2\"><a href=\"season9/910xmas.htm\">Episode \n",
       "                                910: The One With Christmas In Tulsa</a></font> \n",
       "                              </li><li><font size=\"2\"><a href=\"season9/911work.htm\">Episode \n",
       "                                911: The One Where Rachel Goes Back To Work</a></font> \n",
       "                              </li><li><font size=\"2\"><a href=\"season9/912rats.htm\">Episode \n",
       "                                912: The One With Phoebe's Rats</a></font> \n",
       "                              </li><li><font size=\"2\"><a href=\"season9/913sings.htm\">Episode \n",
       "                                913: The One Where Monica Sings</a></font> \n",
       "                              </li><li><font size=\"2\"><a href=\"season9/914dates.htm\">Episode \n",
       "                                914: The One With The Blind Dates</a></font> \n",
       "                              </li><li><font size=\"2\"><a href=\"season9/915mug.htm\">Episode \n",
       "                                915: The One With The Mugging</a> </font> \n",
       "                              </li><li><font size=\"2\"><a href=\"season9/916boob.htm\">Episode \n",
       "                                916: The One With The Boob Job</a> </font> \n",
       "                              </li><li><font size=\"2\"><a href=\"season9/917service.htm\">Episode \n",
       "                                917: The One With The Memorial Service</a></font> \n",
       "                              </li><li> <font size=\"2\"><a href=\"season9/918lottery.htm\">Episode \n",
       "                                918: The One With The Lottery</a></font> \n",
       "                              </li><li><font size=\"2\"><a href=\"season9/919dream.htm\">Episode \n",
       "                                919: The One With Rachel's Dream</a></font> \n",
       "                              </li><li><font size=\"2\"><a href=\"season9/920party.htm\">Episode \n",
       "                                920: The One With The Soap Opera Party</a></font> \n",
       "                              </li><li><font size=\"2\"><a href=\"season9/921test.htm\">Episode \n",
       "                                921: The One With The Fertility Test</a></font></li>\n",
       "                              <li><font size=\"2\"><a href=\"season9/0922.html\">Episode \n",
       "                                922: The One With The Donor</a></font></li>\n",
       "                              <li><font size=\"2\"><a href=\"season9/0923-0924.html\">Episode \n",
       "                                923: The One In Barbados (1)</a></font></li>\n",
       "                              <li><font size=\"2\"><a href=\"season9/0923-0924.html\">Episode \n",
       "                                924: The One In Barbados (2)</a></font></li>\n",
       "                            </ul>\n",
       "                            <p><font size=\"2\"><b>Season 10:</b></font></p>\n",
       "                          </div>\n",
       "                          <ul>\n",
       "                            <li> \n",
       "                              <div align=\"left\"><a href=\"1001.shtml\"><font size=\"2\">Episode \n",
       "                                1001: The One After Joey and Rachel Kiss</font></a></div>\n",
       "                            </li>\n",
       "                            <li> \n",
       "                              <div align=\"left\"><a href=\"1002.shtml\"><font size=\"2\">Episode \n",
       "                                1002: The One Where Ross is Fine</font></a></div>\n",
       "                            </li>\n",
       "                            <li> \n",
       "                              <div align=\"left\"><font size=\"2\"><a href=\"1003.shtml\">Episode \n",
       "                                1003: The One With Ross' Tan</a> </font></div>\n",
       "                            </li>\n",
       "                            <li> \n",
       "                              <div align=\"left\"><font size=\"2\"><a href=\"1004.shtml\">Episode \n",
       "                                1004: The One With The Cake</a></font></div>\n",
       "                            </li>\n",
       "                            <li> \n",
       "                              <div align=\"left\"><a href=\"1005.shtml\"><font size=\"2\">Epsiode \n",
       "                                1005: The One Where Rachel's Sister Babysits</font></a></div>\n",
       "                            </li>\n",
       "                            <li> \n",
       "                              <div align=\"left\"><a href=\"1006.shtml\">Epsiode 1006: \n",
       "                                The One With Ross' Grant</a></div>\n",
       "                            </li>\n",
       "                            <li> \n",
       "                              <div align=\"left\"><a href=\"1007.shtml\">Episode 1007:The \n",
       "                                One With The Home Study</a></div>\n",
       "                            </li>\n",
       "                            <li> \n",
       "                              <div align=\"left\"><a href=\"1008.shtml\">Episode 1008: \n",
       "                                The One With The Late Thanksgiving</a></div>\n",
       "                            </li>\n",
       "                            <li> \n",
       "                              <div align=\"left\"><a href=\"1009.shtml\">Episode 1009: \n",
       "                                The One With The Birth Mother</a></div>\n",
       "                            </li>\n",
       "                            <li> \n",
       "                              <div align=\"left\"><a href=\"1010.shtml\">Episode 1010: \n",
       "                                The One Where Chandler Gets Caught</a></div>\n",
       "                            </li>\n",
       "                            <li> \n",
       "                              <div align=\"left\"><a href=\"1011.shtml\">Episode 1011: \n",
       "                                The One Where the Stripper Cries</a></div>\n",
       "                            </li>\n",
       "                            <li> \n",
       "                              <div align=\"left\"><a href=\"1012.shtml\">Episode 1012: \n",
       "                                The One With Phoebe's Wedding</a></div>\n",
       "                            </li>\n",
       "                            <li> \n",
       "                              <div align=\"left\"><a href=\"1013.shtml\">Episode 1013: \n",
       "                                The One Where Joey Speaks French</a></div>\n",
       "                            </li>\n",
       "                            <li> \n",
       "                              <div align=\"left\"><a href=\"1014.shtml\">Epsiode 1014: \n",
       "                                The One With Princess Consuela</a></div>\n",
       "                            </li>\n",
       "                            <li><a href=\"1015.shtml\">Episode 1015: The One Where \n",
       "                              Estelle Dies</a></li>\n",
       "                            <li><a href=\"1016.shtml\">Episode 1016: The One With \n",
       "                              Rachel's Going Away Party</a></li>\n",
       "                            <li><a href=\"1017.shtml\">Episode 1017: The Last One \n",
       "                              (1)</a></li>\n",
       "                            <li><a href=\"1017.shtml\">Episode 1018: The Last One \n",
       "                              (2)</a></li>\n",
       "                          </ul>\n",
       "                      </div>\n",
       "                                         <hr color=\"navy\" noshade=\"\" width=\"90%\"/>\n",
       "                        \n",
       "<div align=\"center\"><font size=\"2\"><em>Crazy For Friends</em> is best viewed at \n",
       "  800x600 with Internet Explorer 6.0. Contact Nikki <a href=\"contact.shtml\">here</a>.</font><br/>\n",
       "                          <font size=\"1\">© 2004 <a href=\"http://www.livesinabox.com\">http://www.livesinabox.com</a> \n",
       "                          is in no way associated with Friends, Warner Bros, NBC \n",
       "                          or Bright/Kauffman/Crane Productions.<br/>\n",
       "  Crazy for Friends is an American web site. All times, dates, and schedules are \n",
       "  in Eastern Standard Time.</font> </div>\n",
       "\t\t\t\t </div></td>\n",
       "                    </tr>\n",
       "                  </tbody></table>\n",
       "                </td>\n",
       "              </tr>\n",
       "            </tbody></table>\n",
       "            <img border=\"0\" height=\"95\" src=\"bottom8.jpg\" usemap=\"#Map\" width=\"771\"/></td>\n",
       "        </tr>\n",
       "      </tbody></table>\n",
       "    </td>\n",
       "  </tr>\n",
       "</tbody></table></body></html>"
      ]
     },
     "execution_count": 4,
     "metadata": {},
     "output_type": "execute_result"
    }
   ],
   "source": [
    "soup"
   ]
  },
  {
   "cell_type": "code",
   "execution_count": 5,
   "metadata": {
    "ExecuteTime": {
     "end_time": "2018-05-29T17:51:24.585463Z",
     "start_time": "2018-05-29T17:51:24.569257Z"
    }
   },
   "outputs": [],
   "source": [
    "episode_names = []\n",
    "episode_links = []\n",
    "base_url = 'http://www.livesinabox.com/friends/'\n",
    "for season in soup.find_all('ul'):\n",
    "    for episode in season.find_all('li'):\n",
    "        episode_names.append(re.sub(' +',' ',episode.text.replace('\\n','').strip()))\n",
    "        episode_links.append(base_url + episode.find('a')['href'])"
   ]
  },
  {
   "cell_type": "code",
   "execution_count": 6,
   "metadata": {
    "ExecuteTime": {
     "end_time": "2018-05-29T17:51:25.834571Z",
     "start_time": "2018-05-29T17:51:25.830929Z"
    }
   },
   "outputs": [
    {
     "data": {
      "text/plain": [
       "231"
      ]
     },
     "execution_count": 6,
     "metadata": {},
     "output_type": "execute_result"
    }
   ],
   "source": [
    "len(episode_names)"
   ]
  },
  {
   "cell_type": "code",
   "execution_count": 7,
   "metadata": {
    "ExecuteTime": {
     "end_time": "2018-05-29T17:51:26.373319Z",
     "start_time": "2018-05-29T17:51:26.369882Z"
    }
   },
   "outputs": [
    {
     "data": {
      "text/plain": [
       "231"
      ]
     },
     "execution_count": 7,
     "metadata": {},
     "output_type": "execute_result"
    }
   ],
   "source": [
    "len(episode_links)"
   ]
  },
  {
   "cell_type": "code",
   "execution_count": 8,
   "metadata": {
    "ExecuteTime": {
     "end_time": "2018-05-29T17:51:33.074012Z",
     "start_time": "2018-05-29T17:51:33.071448Z"
    }
   },
   "outputs": [],
   "source": [
    "stop_words = ['written','by','transcribed']"
   ]
  },
  {
   "cell_type": "code",
   "execution_count": 9,
   "metadata": {
    "ExecuteTime": {
     "end_time": "2018-05-29T17:52:24.784959Z",
     "start_time": "2018-05-29T17:51:40.228881Z"
    }
   },
   "outputs": [],
   "source": [
    "episode_scripts = []\n",
    "for episode in episode_links:\n",
    "    response = requests.get(episode)\n",
    "    soup = BeautifulSoup(response.text,'html5lib')\n",
    "    episode_scripts.append(soup.text)"
   ]
  },
  {
   "cell_type": "code",
   "execution_count": 12,
   "metadata": {
    "ExecuteTime": {
     "end_time": "2018-05-29T17:54:11.265616Z",
     "start_time": "2018-05-29T17:54:11.231790Z"
    }
   },
   "outputs": [],
   "source": [
    "with open('episode_names.pkl', 'wb') as picklefile:\n",
    "    pickle.dump(episode_names, picklefile)\n",
    "with open('episode_links.pkl', 'wb') as picklefile:\n",
    "    pickle.dump(episode_links, picklefile)\n",
    "with open('episode_scripts.pkl', 'wb') as picklefile:\n",
    "    pickle.dump(episode_scripts, picklefile)"
   ]
  },
  {
   "cell_type": "code",
   "execution_count": 10,
   "metadata": {
    "ExecuteTime": {
     "end_time": "2018-05-29T17:52:32.484454Z",
     "start_time": "2018-05-29T17:52:32.480191Z"
    }
   },
   "outputs": [
    {
     "data": {
      "text/plain": [
       "'\\nThe One Where Monica Gets a New Roomate (The Pilot-The Uncut Version)\\n\\n\\n\\n\\nThe One Where Monica Gets a New Roommate (The Pilot-The Uncut Version)\\n\\n\\n\\n\\nWritten by: Marta Kauffman & David Crane\\nTranscribed by: guineapig\\nAdditional transcribing by: Eric Aasen\\n(Note: The previously unseen parts of this episode are shown in blue text.)\\n\\n\\n\\n\\n[Scene: Central Perk, Chandler, Joey, Phoebe, and Monica are there.]\\n\\nMonica: There\\'s nothing to tell! He\\'s just some guy\\nI work with!\\n\\nJoey: C\\'mon, you\\'re going out with the guy! There\\'s\\ngotta be something wrong with him!\\n\\nChandler: All right Joey, be\\nnice.\\xa0 So does he have a hump? A hump and a hairpiece?\\n\\nPhoebe: Wait, does he eat chalk?\\n\\n(They all stare, bemused.)\\n\\nPhoebe: Just, \\'cause, I don\\'t want her to go through\\nwhat I went through with Carl- oh!\\n\\nMonica: Okay, everybody relax. This is not even a\\ndate. It\\'s just two people going out to dinner and- not having sex.\\n\\nChandler: Sounds like a date to me.\\n\\n[Time Lapse]\\n\\nChandler: Alright, so I\\'m back in high school, I\\'m\\nstanding in the middle of the cafeteria, and I realize I am totally naked.\\n\\nAll: Oh, yeah. Had that dream.\\n\\nChandler: Then I look down, and I realize there\\'s a\\nphone... there.\\n\\nJoey: Instead of...?\\n\\nChandler: That\\'s right.\\n\\nJoey: Never had that dream.\\n\\nPhoebe: No.\\n\\nChandler: All of a sudden, the phone starts to ring.\\nNow I don\\'t know what to do, everybody starts looking at me. \\n\\nMonica: And they weren\\'t looking at\\nyou before?!\\n\\nChandler: Finally, I figure\\nI\\'d better answer it, and it turns out it\\'s my mother,\\nwhich is very-very weird, because- she never calls me!\\n\\n[Time Lapse, Ross has entered.]\\n\\nRoss: (mortified) Hi.\\n\\nJoey: This guy says hello, I wanna kill myself.\\n\\nMonica: Are you okay, sweetie?\\n\\nRoss: I just feel like someone reached down my\\nthroat, grabbed my small intestine, pulled it out of my mouth and tied it around my\\nneck...\\n\\nChandler: Cookie?\\n\\nMonica: (explaining to the others) Carol moved her\\nstuff out today. \\n\\nJoey: Ohh.\\n\\nMonica: (to Ross) Let me get you some coffee.\\n\\nRoss: Thanks.\\n\\nPhoebe: Ooh! Oh! (She starts to pluck at the air\\njust in front of Ross.)\\n\\nRoss: No, no don\\'t! Stop cleansing my aura! No, just\\nleave my aura alone, okay?\\n\\nPhoebe: Fine!\\xa0 Be murky!\\n\\nRoss: I\\'ll be fine,\\nalright? Really, everyone. I hope she\\'ll be very happy.\\n\\nMonica: No you don\\'t.\\n\\nRoss: No I don\\'t, to hell with her, she left me!\\n\\nJoey: And you never knew she was a lesbian...\\n\\nRoss: No!! Okay?! Why does everyone keep fixating on\\nthat? She didn\\'t know, how should I know?\\n\\nChandler: Sometimes I wish I was a lesbian... (They\\nall stare at him.) Did I say that out loud?\\n\\nRoss: I told mom and dad last night,\\nthey seemed to take it pretty well.\\n\\nMonica: Oh really, so that\\nhysterical phone call I got from a woman at sobbing 3:00 A.M., \"I\\'ll never have\\ngrandchildren, I\\'ll never have grandchildren.\" was what?\\xa0 A wrong number?\\n\\nRoss: Sorry.\\n\\nJoey: Alright Ross, look. You\\'re feeling a lot of\\npain right now. You\\'re angry. You\\'re hurting. Can I tell you what the answer is?\\n\\n(Ross gestures his consent.)\\n\\nJoey: Strip joint! C\\'mon, you\\'re single! Have some\\nhormones!\\n\\nRoss: I don\\'t want to be single, okay? I just... I\\njust- I just wanna be married again!\\n\\n(Rachel enters in a wet wedding dress and starts to search\\nthe room.)\\n\\nChandler: And I just want a million dollars! (He\\nextends his hand hopefully.)\\n\\nMonica: Rachel?!\\n\\nRachel: Oh God Monica hi! Thank God! I just went to\\nyour building and you weren\\'t there and then this guy with a big hammer said you might be\\nhere and you are, you are!\\n\\nWaitress: Can I get you some coffee?\\n\\nMonica: (pointing at Rachel) De-caff. (to All) Okay,\\neverybody, this is Rachel, another Lincoln High survivor. (to Rachel) This is everybody,\\nthis is Chandler, and Phoebe, and Joey, and- you remember my brother Ross? \\n\\nRachel: Hi, sure!\\n\\nRoss: Hi. \\n\\n(They go to hug but Ross\\'s umbrella opens.\\xa0 He sits\\nback down defeated again.\\xa0 A moment of silence follows as Rachel sits and the others\\nexpect her to explain.)\\n\\nMonica: So you wanna tell us now, or are we waiting\\nfor four wet bridesmaids?\\n\\nRachel: Oh God... well, it started about a half hour\\nbefore the wedding. I was in the room where we were keeping all the presents, and I was\\nlooking at this gravy boat. This really gorgeous Lamauge gravy boat. When all of a sudden-\\n(to the waitress that brought her coffee)Sweet \\'n\\' Lo?- I realized that I was more turned\\non by this gravy boat than by Barry! And then I got really freaked out, and that\\'s when it\\nhit me: how much Barry looks like Mr. Potato Head. Y\\'know, I mean, I always knew looked\\nfamiliar, but... Anyway, I just had to get out of there, and I started wondering \\'Why am I\\ndoing this, and who am I doing this for?\\'. (to Monica) So anyway I just didn\\'t know where\\nto go, and I know that you and I have kinda drifted apart, but you\\'re the only person I\\nknew who lived here in the city.\\n\\nMonica: Who wasn\\'t invited to the wedding.\\n\\nRachel: Ooh, I was kinda hoping that wouldn\\'t be an\\nissue... [Scene: Monica\\'s Apartment, everyone is there and watching a Spanish Soap on TV\\nand are trying to figure out what is going on.]\\n\\nMonica: Now I\\'m guessing that he bought her the big\\npipe organ, and she\\'s really not happy about it. \\n\\nChandler: (imitating the characters)\\nTuna or egg salad?\\xa0 Decide!\\n\\nRoss: (in a deep voice) I\\'ll have\\nwhatever Christine is having.\\n\\nRachel: (on phone) Daddy, I just... I can\\'t marry\\nhim! I\\'m sorry. I just don\\'t love him. Well, it matters to me! \\n\\n(The scene on TV has changed to show two\\nwomen, one is holding her hair.)\\n\\nPhoebe:\\xa0 If I let go of\\nmy hair, my head will fall off. \\n\\nChandler: (re TV) Ooh, she should not be wearing\\nthose pants. \\n\\nJoey: I say push her down the stairs. \\n\\nPhoebe, Ross, Chandler, and Joey:\\xa0\\nPush her down the stairs! Push her down the stairs! Push her down the stairs!\\n\\n(She is pushed down the stairs and everyone cheers.)\\n\\nRachel: C\\'mon Daddy, listen to me! It\\'s like, it\\'s\\nlike, all of my life, everyone has always told me, \\'You\\'re a shoe! You\\'re a shoe, you\\'re a\\nshoe, you\\'re a shoe!\\'. And today I just stopped and I said, \\'What if I don\\'t wanna be a\\nshoe? What if I wanna be a- a purse, y\\'know? Or a- or a hat! No, I\\'m not saying I want you\\nto buy me a hat, I\\'m saying I am a ha- It\\'s a metaphor, Daddy!\\n\\nRoss: You can see where he\\'d have trouble.\\n\\nRachel: Look Daddy, it\\'s my life. Well maybe I\\'ll\\njust stay here with Monica. \\n\\nMonica: Well, I guess we\\'ve established who\\'s\\nstaying here with Monica...\\n\\nRachel: Well, maybe that\\'s my decision. Well, maybe\\nI don\\'t need your money. Wait!! Wait, I said maybe!!\\n\\n[Time Lapse, Rachel is breating into a paper bag.]\\n\\nMonica: Just breathe, breathe.. that\\'s it. Just try\\nto think of nice calm things...\\n\\nPhoebe: (sings) Raindrops on roses and rabbits and\\nkittens, (Rachel and Monica turn to look at her.) bluebells and sleighbells and- something\\nwith mittens... La la la la...something and noodles with\\nstring.\\xa0 These are a few...\\n\\nRachel: I\\'m all better now.\\n\\nPhoebe: (grins and walks to the kitchen and says to\\nChandler and Joey.) I helped!\\n\\nMonica: Okay, look, this is probably for the best,\\ny\\'know? Independence. Taking control of your life.\\xa0 The whole,\\n\\'hat\\' thing.\\n\\nJoey: (comforting her) And hey, you need anything,\\nyou can always come to Joey. Me and Chandler live across the hall. And he\\'s away a lot.\\n\\nMonica: Joey, stop hitting on her! It\\'s her wedding\\nday!\\n\\nJoey: What, like there\\'s a rule or something?\\n\\n(The door buzzer sounds and Chandler gets it.)\\n\\nChandler: Please don\\'t do that again, it\\'s a\\nhorrible sound.\\n\\nPaul: (over the intercom) It\\'s, uh,\\nit\\'s Paul.\\n\\nMonica: Oh God, is it\\n6:30?\\xa0 Buzz him in!\\n\\nJoey: Who\\'s Paul?\\n\\nRoss: Paul the Wine Guy, Paul?\\n\\nMonica: Maybe. Joey: Wait. Your \\'not a real\\ndate\\' tonight is with Paul the Wine Guy?\\n\\nRoss: He finally asked you out?\\n\\nMonica: Yes!\\n\\nChandler: Ooh, this is a Dear Diary moment.\\n\\nMonica: Rach, wait, I can cancel...\\n\\nRachel: Please, no, go, that\\'d be fine!\\n\\nMonica: (to Ross) Are, are you okay? I mean, do you\\nwant me to stay?\\n\\nRoss: (choked voice) That\\'d be good...\\n\\nMonica: (horrified) Really?\\n\\nRoss: (normal voice) No, go on! It\\'s Paul the Wine\\nGuy!\\n\\nPhoebe: What does that mean? \\xa0\\nDoes he sell it, drink it, or just complain a lot? (Chandler doesn\\'t know.)\\n\\n(There\\'s a knock on the door and it\\'s Paul.)\\n\\nMonica: Hi, come in! Paul, this is.. (They are all\\nlined up next to the door.)... everybody, everybody, this is Paul.\\n\\nAll: Hey! Paul! Hi! The Wine Guy! Hey!\\n\\nChandler: I\\'m sorry, I didn\\'t catch your name. Paul,\\nwas it?\\n\\nMonica: Okay, umm-umm, I\\'ll\\njust--I\\'ll be right back, I just gotta go ah, go ah...\\n\\nRoss: A wandering?\\n\\nMonica: Change!\\xa0 Okay,\\nsit down. (Shows Paul in) Two seconds.\\n\\nPhoebe: Ooh, I just pulled out four eyelashes. That\\ncan\\'t be good.\\n\\n(Monica goes to change.)\\n\\nJoey:\\xa0 Hey, Paul!\\n\\nPaul: Yeah?\\n\\nJoey: Here\\'s a little tip, she\\nreally likes it when you rub her neck in the same spot over and over and over again until\\nit starts to get a little red.\\n\\nMonica: (yelling from the bedroom)\\nShut up, Joey!\\n\\nRoss: So Rachel, what\\'re you, uh... what\\'re you up\\nto tonight?\\n\\nRachel: Well, I was kinda supposed to be headed for\\nAruba on my honeymoon, so nothing!\\n\\nRoss: Right, you\\'re not even getting your honeymoon,\\nGod.. No, no, although, Aruba, this time of year... talk about your- (thinks) -big\\nlizards... Anyway, if you don\\'t feel like being alone tonight, Joey and Chandler are\\ncoming over to help me put together my new furniture.\\n\\nChandler: (deadpan) Yes, and we\\'re very excited\\nabout it. \\n\\nRachel: Well actually thanks, but I think I\\'m just\\ngonna hang out here tonight.\\xa0 It\\'s been kinda a long day.\\n\\nRoss: Okay, sure.\\n\\nJoey: Hey Pheebs, you wanna help?\\n\\nPhoebe: Oh, I wish I could, but I don\\'t want to.\\n\\nCommercial Break\\n\\n[Scene: The Subway, Phoebe is singing for\\nchange.]\\n\\nPhoebe: (singing) Love is sweet as\\nsummer showers, love is a wondrous work of art, but your love oh your love, your love...is\\nlike a giant pigeon...crapping on my heart.\\xa0 La-la-la-la-la- (some guy gives her some\\nchange and to that guy) Thank you. (sings) La-la-la-la...ohhh!\\n\\n[Scene: Ross\\'s Apartment, the guys are there assembling\\nfurniture.]\\n\\nRoss: (squatting and reading the instructions) I\\'m\\nsupposed to attach a brackety thing to the side things, using a bunch of these little worm\\nguys. I have no brackety thing, I see no whim guys whatsoever and- I cannot feel my legs.\\n\\n(Joey and Chandler are finishing assembling\\nthe bookcase.)\\n\\nJoey: I\\'m thinking we\\'ve got a\\nbookcase here.\\n\\nChandler: It\\'s a beautiful thing.\\n\\nJoey: (picking up a leftover part) What\\'s this?\\n\\nChandler: I would have to\\nsay that is an \\'L\\'-shaped bracket.\\n\\nJoey: Which goes where?\\n\\nChandler: I have no\\nidea.\\n\\n(Joey checks that Ross is not looking and dumps it in a\\nplant.)\\n\\nJoey: Done with the bookcase!\\n\\nChandler: All finished!\\n\\nRoss: (clutching a beer can and sniffing) This was\\nCarol\\'s favorite beer. She always drank it out of the can, I should have known.\\n\\nJoey: Hey-hey-hey-hey, if you\\'re\\ngonna start with that stuff we\\'re outta here.\\n\\nChandler: Yes, please don\\'t spoil\\nall this fun.\\n\\nJoey: Ross, let me ask you a question. She got the\\nfurniture, the stereo, the good TV- what did you get?\\n\\nRoss: You guys.\\n\\nChandler: Oh, God.\\n\\nJoey: You got screwed.\\n\\nChandler: Oh my God!\\n\\n[Scene: A Restaurant, Monica and Paul are eating.]\\n\\nMonica: Oh my God!\\n\\nPaul: I know, I know, I\\'m such an idiot. I guess I\\nshould have caught on when she started going to the dentist four and five times a week. I\\nmean, how clean can teeth get?\\n\\nMonica: My brother\\'s going through that right now,\\nhe\\'s such a mess. How did you get through it?\\n\\nPaul: Well, you might try accidentally breaking\\nsomething valuable of hers, say her-\\n\\nMonica: -leg?\\n\\nPaul: (laughing) That\\'s one way! Me, I- I went for\\nthe watch.\\n\\nMonica: You actually broke her watch?\\xa0 Wow!\\xa0 The worst thing I ever did was, I-I shredded by\\nboyfriend\\'s favorite bath towel.\\n\\nPaul: Ooh, steer clear of you.\\n\\nMonica: That\\'s right.\\n[Scene: Monica\\'s Apartment, Rachel is talking on the phone and pacing.]\\n\\nRachel: Barry, I\\'m sorry... I am so sorry... I know\\nyou probably think that this is all about what I said the other day about you making love\\nwith your socks on, but it isn\\'t... it isn\\'t, it\\'s about me, and I ju- (She stops talking\\nand dials the phone.) Hi, machine cut me off again... anyway...look,\\nlook, I know that some girl is going to be incredibly lucky to become Mrs. Barry Finkel,\\nbut it isn\\'t me, it\\'s not me.\\xa0 And not that I have any idea who me is right now, but\\nyou just have to give me a chance too... (The maching cuts her off again and she redials.)\\n\\n[Scene: Ross\\'s Apartment; Ross is pacing while Joey and\\nChandler are working on some more furniture.]\\n\\nRoss: I\\'m divorced!\\xa0 I\\'m only\\n26 and I\\'m divorced!\\n\\nJoey: Shut up!\\n\\nChandler: You must stop! (Chandler\\nhits what he is working on with a hammer and it collapses.)\\n\\nRoss: That only took me an hour.\\n\\nChandler: Look, Ross, you gotta\\nunderstand, between us we haven\\'t had a relationship that has lasted longer than a Mento.\\n\\xa0 You, however have had the love of a woman for four years. \\xa0\\nFour years of closeness and sharing at the end of which she ripped your heart out, and\\nthat is why we don\\'t do it!\\xa0 I don\\'t think that was my point!\\n\\nRoss: You know what the scariest part is? What if\\nthere\\'s only one woman for everybody, y\\'know? I mean what if you get one woman- and that\\'s\\nit? Unfortunately in my case, there was only one woman- for her...\\n\\nJoey: What are you talking about? \\'One woman\\'?\\nThat\\'s like saying there\\'s only one flavor of ice cream for you. Lemme tell you something,\\nRoss. There\\'s lots of flavors out there. There\\'s Rocky Road, and Cookie Dough, and Bing!\\nCherry Vanilla. You could get \\'em with Jimmies, or nuts, or whipped cream! This is the\\nbest thing that ever happened to you! You got married, you were, like, what, eight?\\nWelcome back to the world! Grab a spoon!\\n\\nRoss: I honestly don\\'t know if I\\'m hungry or horny.\\n\\nChandler: Stay out of my freezer! [Scene: A\\nRestaurant, Monica and Paul are still eating.]\\n\\nPaul: Ever since she walked out on me, I, uh...\\n\\nMonica: What?..... What, you wanna spell it out with\\nnoodles?\\n\\nPaul: No, it\\'s, it\\'s more of a fifth date kinda\\nrevelation.\\n\\nMonica: Oh, so there is gonna be a fifth date?\\n\\nPaul: Isn\\'t there?\\n\\nMonica: Yeah... yeah, I think there is. -What were\\nyou gonna say?\\n\\nPaul: Well, ever-ev-... ever since she left me, um,\\nI haven\\'t been able to, uh, perform. (Monica takes a sip of her drink.) ...Sexually. \\n\\nMonica: (spitting out her drink in shock) Oh God, oh\\nGod, I am sorry... I am so sorry...\\n\\nPaul: It\\'s okay...\\n\\nMonica: I know being spit on is probably not what\\nyou need right now. Um... how long?\\n\\nPaul: Two years.\\n\\nMonica: Wow! I\\'m-I\\'m-I\\'m glad you smashed her watch!\\n\\n\\nPaul: So you still think you, um... might want that\\nfifth date?\\n\\nMonica: (pause)...Yeah. Yeah, I do.\\n\\n[Scene: Monica\\'s Apartment, Rachel is watching Joanne\\nLoves Chaci.]\\n\\nPriest on TV:\\nWe are gathered here today to join Joanne Louise Cunningham and\\nCharles, Chachi-Chachi-Chachi, Arcola in the bound of holy matrimony.\\n\\nRachel: Oh...see... but Joanne loved Chachi! That\\'s\\nthe difference!\\n\\n[Scene: Ross\\'s Apartment, they\\'re all sitting around and\\ntalking.]\\n\\nRoss: (scornful) Grab a spoon. Do you know how long\\nit\\'s been since I\\'ve grabbed a spoon? Do the words \\'Billy, don\\'t be a hero\\' mean anything\\nto you? \\n\\nJoey: Great story!\\xa0 But, I uh,\\nI gotta go, I got a date with Andrea--Angela--Andrea...\\xa0 Oh man, (looks to Chandler)\\n\\nChandler: Angela\\'s the screamer,\\nAndrea has cats.\\n\\nJoey: Right.\\xa0 Thanks.\\xa0\\nIt\\'s June.\\xa0 I\\'m outta here. (Exits.)\\n\\nRoss: Y\\'know, here\\'s the thing. Even if I could get\\nit together enough to- to ask a woman out,... who am I gonna ask? (He gazes out of the\\nwindow.)\\n\\n[Cut to Rachel staring out of her window.]\\n\\nCommercial Break\\n\\n[Scene: Monica\\'s Apartment, Rachel is making coffee for\\nJoey and Chandler.]\\n\\nRachel: Isn\\'t this amazing? I mean, I have never\\nmade coffee before in my entire life.\\n\\nChandler: That is amazing.\\n\\nJoey: Congratulations. \\n\\nRachel: Y\\'know, I figure if I can\\nmake coffee, there isn\\'t anything I can\\'t do.\\n\\nChandler: If can invade Poland,\\nthere isn\\'t anything I can\\'t do.\\n\\nJoey: Listen, while you\\'re on a roll, if you feel\\nlike you gotta make like a Western omelet or something... (Joey and Chandler taste the\\ncoffee, grimace, and pour it into a plant pot.) Although actually I\\'m really not that\\nhungry...\\n\\nMonica: (entering, to herself) Oh\\ngood, Lenny and Squigy are here.\\n\\nAll: Morning. Good morning.\\n\\nPaul: (entering from Monica\\'s room)\\nMorning.\\n\\nJoey: Morning, Paul.\\n\\nRachel: Hello, Paul.\\n\\nChandler: Hi, Paul, is it?\\n\\n(Monica and Paul walk to the door and talk in a low voice\\nso the others can\\'t hear.\\xa0 The others move Monica\\'s table closer to the door so that\\nthey can.)\\n\\nPaul: Thank you!\\xa0 Thank you so\\nmuch!\\n\\nMonica: Stop!\\n\\nPaul: No, I\\'m telling you last night\\nwas like umm, all my birthdays, both graduations, plus the barn raising scene in Witness.\\n\\nMonica: We\\'ll talk later.\\n\\nPaul: Yeah. (They kiss) Thank you. (Exits)\\n\\nJoey: That wasn\\'t a real date?! What the hell do you\\ndo on a real date?\\n\\nMonica: Shut up, and put my table back.\\n\\nAll: Okayyy! (They do so.)\\n\\nChandler: All right, kids, I gotta get to work. If I\\ndon\\'t input those numbers,... it doesn\\'t make much of a difference... \\n\\nRachel: So, like, you guys all have jobs?\\n\\nMonica: Yeah, we all have jobs. See, that\\'s how we\\nbuy stuff.\\n\\nJoey: Yeah, I\\'m an actor.\\n\\nRachel: Wow! Would I have seen you in anything?\\n\\nJoey: I doubt it. Mostly regional work.\\n\\nMonica: Oh wait, wait, unless you happened to catch\\nthe Reruns\\' production of Pinocchio, at the little theater in the\\npark.\\n\\nJoey: Look, it was a job all right?\\n\\nChandler: \\'Look, Gippetto, I\\'m a real live boy.\\'\\n\\nJoey: I will not take this abuse. (Walks to the door\\nand opens it to leave.)\\n\\nChandler: You\\'re right, I\\'m sorry. (Burst into song\\nand dances out of the door.) \"Once I was a wooden boy, a little wooden boy...\"\\n\\nJoey: You should both know,\\nthat he\\'s a dead man.\\xa0 Oh, Chandler? (Starts after Chandler.) \\n\\nMonica: So how you doing today? Did you sleep okay?\\nTalk to Barry? I can\\'t stop smiling.\\n\\nRachel: I can see that. You look like you slept with\\na hanger in your mouth.\\n\\nMonica: I know, he\\'s just so, so... Do you remember\\nyou and Tony DeMarco?\\n\\nRachel: Oh, yeah.\\n\\nMonica: Well, it\\'s like that. With feelings.\\n\\nRachel: Oh wow. Are you in trouble.\\n\\nMonica: Big time!\\n\\nRachel: Want a wedding dress? \\xa0\\nHardly used.\\n\\nMonica: I think we are getting\\na little ahead of selves here. Okay. Okay. I am just going to get up, go to work\\nand not think about him all day. Or else I\\'m just gonna get up and go to work.\\n\\nRachel: Oh, look, wish me luck!\\n\\nMonica: What for?\\n\\nRachel: I\\'m gonna go get one of those (Thinks) job\\nthings.\\n\\n(Monica exits.)\\n\\n[Scene: Iridium, Monica is working as Frannie enters.] \\n\\nFrannie: Hey, Monica! \\n\\nMonica: Hey Frannie, welcome back! How was Florida? \\n\\nFrannie: You had sex, didn\\'t you? \\n\\nMonica: How do you do that?\\n\\nFrannie: Oh, I hate you, I\\'m pushing my Aunt Roz through\\nParrot Jungle and you\\'re having sex!\\xa0 So? Who? \\n\\nMonica: You know Paul? \\n\\nFrannie: Paul the Wine Guy? Oh yeah, I know Paul. \\n\\nMonica: You mean you know Paul like I know Paul? \\n\\nFrannie: Are you kidding? I take credit for Paul. Y\\'know before me, there was no\\nsnap in his turtle for two years. \\n\\n[Scene: Central Perk, everyone but Rachel is there.]\\n\\nJoey: (sitting on the arm of the couch)Of course it was a line! \\n\\nMonica: Why?! Why? Why, why would anybody do something like that? \\n\\nRoss: I assume we\\'re looking for an answer more sophisticated than \\'to get you\\ninto bed\\'. \\n\\nMonica: I hate men!\\xa0 I hate men!\\n\\nPhoebe: Oh no, don\\'t hate, you don\\'t\\nwant to put that out into the universe.\\n\\nMonica: Is it me? Is it like I have some sort of\\nbeacon that only dogs and men with severe emotional problems can hear? \\n\\nPhoebe: All right, c\\'mere, gimme your feet. (She starts massaging them.) \\n\\nMonica: I just thought he was nice, y\\'know? \\n\\nJoey: (bursts out laughing again) I can\\'t believe you didn\\'t know it was a line!\\n\\n\\n(Monica pushes him off of the sofa as Rachel enters with a shopping bag.) \\n\\nRachel: Guess what? \\n\\nRoss: You got a job? \\n\\nRachel: Are you kidding? I\\'m trained for nothing! I was laughed out of twelve\\ninterviews today. \\n\\nChandler: And yet you\\'re surprisingly upbeat. \\n\\nRachel: You would be too if you found John and David boots on sale, fifty\\npercent off! \\n\\nChandler: Oh, how well you know me... \\n\\nRachel: They\\'re my new \\'I don\\'t need a job, I don\\'t need my parents, I\\'ve got\\ngreat boots\\' boots! \\n\\nMonica: How\\'d you pay for them? \\n\\nRachel: Uh, credit card. \\n\\nMonica: And who pays for that? \\n\\nRachel: Um... my... father. \\n\\n[Scene: Monica and Rachel\\'s, everyone is sitting around the kitchen table. \\xa0\\nRachel\\'s credit cards are spread out on the table along with a pair of scissors.]\\n\\nRachel: Oh God, come on you\\nguys, is this really necessary?\\xa0 I mean, I can stop charging anytime I want. \\n\\nMonica: C\\'mon, you can\\'t live off your parents your whole life. \\n\\nRachel: I know that. That\\'s why I was getting married. \\n\\nPhoebe: Give her a break, it\\'s hard being on your own for the first time. \\n\\nRachel: Thank you. \\n\\nPhoebe: You\\'re welcome. I remember when I first came to this city. I was\\nfourteen. My mom had just killed herself and my step-dad was back in prison, and I got\\nhere, and I didn\\'t know anybody. And I ended up living with this albino guy who was, like,\\ncleaning windshields outside port authority, and then he killed himself, and then I found\\naromatherapy. So believe me, I know exactly how you feel. \\n\\n(Pause) \\n\\nRoss: The word you\\'re looking for is \\'Anyway\\'... \\n\\nMonica: All right, you ready?\\n\\nRachel: No.\\xa0 No, no, I\\'m not\\nready!\\xa0 How can I be ready?\\xa0 \"Hey, Rach!\\xa0 You ready to jump out the\\nairplane without your parachute?\"\\xa0 Come on, I can\\'t do this!\\n\\nMonica: You can, I know you\\ncan! \\n\\nRachel: I don\\'t think so.\\n\\nRoss: Come on, you made\\ncoffee! \\xa0 You can do anything! (Chandler slowly tries to hide the now dead plant from\\nthat morning when he and Joey poured their coffee into it.)\\n\\nRoss: C\\'mon, cut. Cut, cut, cut,... \\n\\nAll: Cut, cut, cut, cut, cut, cut, cut... (She cuts one of them and they cheer.)\\n\\nRachel: Y\\'know what?\\xa0 I think\\nwe can just leave it at that.\\xa0 It\\'s kinda like a symbolic gesture...\\n\\nMonica:\\xa0 Rachel!\\xa0\\nThat was a library card! \\n\\nAll: Cut, cut, cut, cut, cut, cut, cut..\\n\\nChandler: (as Rachel is cutting up\\nher cards) Y\\'know, if you listen closely, you can hear a thousand retailers scream. \\n\\n(She finishes cutting them up and they all\\ncheer.)\\n\\nMonica: Welcome to the real world! It sucks. You\\'re\\ngonna love it! \\n\\n[Time Lapse, Rachel and Ross are watching a TV channel finishes it\\'s broadcast day by\\nplaying the national anthem.] \\n\\nMonica: Well, that\\'s it (To Ross) You gonna crash on the couch? \\n\\nRoss: No. No, I gotta go home sometime. \\n\\nMonica: You be okay? \\n\\nRoss: Yeah. \\n\\nRachel: Hey Mon, look what I just found on the floor. (Monica smiles.) What? \\n\\nMonica: That\\'s Paul\\'s watch. You just put it back where you found it. Oh boy.\\nAlright. Goodnight, everybody. \\n\\nRoss and Rachel: Goodnight.\\n\\n(Monica stomps on Paul\\'s watch and goes into her room.)\\n\\nRoss: Mmm. (They both reach for the last cookie) Oh, no- \\n\\nRachel: Sorry- \\n\\nRoss: No no no, go- \\n\\nRachel: No, you have it, really, I don\\'t want it- \\n\\nRoss: Split it? \\n\\nRachel: Okay. \\n\\nRoss: Okay. (They split it.) You know you probably didn\\'t know this, but back in\\nhigh school, I had a, um, major crush on you. \\n\\nRachel: I knew. \\n\\nRoss: You did! Oh.... I always figured you just thought I was Monica\\'s geeky\\nolder brother. \\n\\nRachel: I did. \\n\\nRoss: Oh. Listen, do you think- and try not to let my intense vulnerability\\nbecome any kind of a factor here- but do you think it would be okay if I asked you out?\\nSometime? Maybe? \\n\\nRachel: Yeah, maybe... \\n\\nRoss: Okay... okay, maybe I will... \\n\\nRachel: Goodnight. \\n\\nRoss: Goodnight. \\n\\n(Rachel goes into her room and Monica enters the living room as Ross is leaving.) \\n\\nMonica: See ya.... Waitwait, what\\'s with you? \\n\\nRoss: I just grabbed a spoon. (Ross exits and Monica has no idea what that\\nmeans.) \\n\\nClosing Credits\\n\\n[Scene: Central Perk, everyone is there.] \\n\\nJoey: I can\\'t believe what I\\'m hearing here. \\n\\nPhoebe: (sings) I can\\'t believe what I\\'m hearing here... \\n\\nMonica: What? I-I said you had a- \\n\\nPhoebe: (sings) What I said you had... \\n\\nMonica: (to Phoebe) Would you stop? \\n\\nPhoebe: Oh, was I doing it again?\\n\\nAll: Yes!\\n\\nMonica: I said that you had a nice\\nbutt, it\\'s just not a great butt.\\n\\nJoey: Oh, you wouldn\\'t know a great\\nbutt if it came up and bit ya.\\n\\nRoss: There\\'s an image.\\n\\n\\nRachel: (walks up with a pot of coffee) Would anybody like more coffee? \\n\\nChandler: Did you make it, or are you just serving it? \\n\\nRachel: I\\'m just serving it. \\n\\nAll: Yeah. Yeah, I\\'ll have a cup of coffee. \\n\\nChandler: Kids, new dream... I\\'m in Las Vegas. (Rachel\\nsits down to hear Chandler\\'s dream.)\\n\\nCustomer: (To\\nRachel) Ahh, miss? \\xa0 More coffee? \\n\\nRachel: Ugh. (To another customer that\\'s leaving.) Excuse me, could you give\\nthis to that guy over there? (Hands him the coffee pot.) Go ahead. (He does so.) Thank\\nyou. (To the gang.) Sorry.\\xa0 Okay, Las Vegas.\\n\\nChandler: Okay, so, I\\'m in Las\\nVegas... I\\'m Liza Minelli- \\n\\nEnd\\n\\n\\n'"
      ]
     },
     "execution_count": 10,
     "metadata": {},
     "output_type": "execute_result"
    }
   ],
   "source": [
    "episode_scripts[0]"
   ]
  },
  {
   "cell_type": "code",
   "execution_count": 65,
   "metadata": {
    "ExecuteTime": {
     "end_time": "2018-05-25T21:17:20.063253Z",
     "start_time": "2018-05-25T21:17:20.059386Z"
    }
   },
   "outputs": [],
   "source": [
    "episode_scripts = [episode.replace('\\n',' ') for episode in episode_scripts]\n",
    "#episode_scripts = [episode.replace(\"'\",'') for episode in episode_scripts]"
   ]
  },
  {
   "cell_type": "code",
   "execution_count": null,
   "metadata": {},
   "outputs": [],
   "source": [
    "for episode in episode_scripts:\n",
    "    episode = episode.replace('\\n','')\n",
    "    episode.replace()"
   ]
  },
  {
   "cell_type": "code",
   "execution_count": 55,
   "metadata": {
    "ExecuteTime": {
     "end_time": "2018-05-25T21:15:28.895344Z",
     "start_time": "2018-05-25T21:15:28.892931Z"
    }
   },
   "outputs": [],
   "source": [
    "a = ' C\\'mon'"
   ]
  },
  {
   "cell_type": "code",
   "execution_count": 56,
   "metadata": {
    "ExecuteTime": {
     "end_time": "2018-05-25T21:15:30.167526Z",
     "start_time": "2018-05-25T21:15:30.163428Z"
    }
   },
   "outputs": [
    {
     "data": {
      "text/plain": [
       "\" C'mon\""
      ]
     },
     "execution_count": 56,
     "metadata": {},
     "output_type": "execute_result"
    }
   ],
   "source": [
    "a"
   ]
  },
  {
   "cell_type": "code",
   "execution_count": 66,
   "metadata": {
    "ExecuteTime": {
     "end_time": "2018-05-25T21:17:21.444785Z",
     "start_time": "2018-05-25T21:17:21.440460Z"
    }
   },
   "outputs": [
    {
     "data": {
      "text/plain": [
       "'The One Where Monica Gets a New Roomate (The Pilot-The Uncut Version)The One Where Monica Gets a New Roommate (The Pilot-The Uncut Version)Written by: Marta Kauffman & David CraneTranscribed by: guineapigAdditional transcribing by: Eric Aasen(Note: The previously unseen parts of this episode are shown in blue text.)[Scene: Central Perk, Chandler, Joey, Phoebe, and Monica are there.]Monica: Theres nothing to tell! Hes just some guyI work with!Joey: Cmon, youre going out with the guy! Theresgotta be something wrong with him!Chandler: All right Joey, benice.\\xa0 So does he have a hump? A hump and a hairpiece?Phoebe: Wait, does he eat chalk?(They all stare, bemused.)Phoebe: Just, cause, I dont want her to go throughwhat I went through with Carl- oh!Monica: Okay, everybody relax. This is not even adate. Its just two people going out to dinner and- not having sex.Chandler: Sounds like a date to me.[Time Lapse]Chandler: Alright, so Im back in high school, Imstanding in the middle of the cafeteria, and I realize I am totally naked.All: Oh, yeah. Had that dream.Chandler: Then I look down, and I realize theres aphone... there.Joey: Instead of...?Chandler: Thats right.Joey: Never had that dream.Phoebe: No.Chandler: All of a sudden, the phone starts to ring.Now I dont know what to do, everybody starts looking at me. Monica: And they werent looking atyou before?!Chandler: Finally, I figureId better answer it, and it turns out its my mother,which is very-very weird, because- she never calls me![Time Lapse, Ross has entered.]Ross: (mortified) Hi.Joey: This guy says hello, I wanna kill myself.Monica: Are you okay, sweetie?Ross: I just feel like someone reached down mythroat, grabbed my small intestine, pulled it out of my mouth and tied it around myneck...Chandler: Cookie?Monica: (explaining to the others) Carol moved herstuff out today. Joey: Ohh.Monica: (to Ross) Let me get you some coffee.Ross: Thanks.Phoebe: Ooh! Oh! (She starts to pluck at the airjust in front of Ross.)Ross: No, no dont! Stop cleansing my aura! No, justleave my aura alone, okay?Phoebe: Fine!\\xa0 Be murky!Ross: Ill be fine,alright? Really, everyone. I hope shell be very happy.Monica: No you dont.Ross: No I dont, to hell with her, she left me!Joey: And you never knew she was a lesbian...Ross: No!! Okay?! Why does everyone keep fixating onthat? She didnt know, how should I know?Chandler: Sometimes I wish I was a lesbian... (Theyall stare at him.) Did I say that out loud?Ross: I told mom and dad last night,they seemed to take it pretty well.Monica: Oh really, so thathysterical phone call I got from a woman at sobbing 3:00 A.M., \"Ill never havegrandchildren, Ill never have grandchildren.\" was what?\\xa0 A wrong number?Ross: Sorry.Joey: Alright Ross, look. Youre feeling a lot ofpain right now. Youre angry. Youre hurting. Can I tell you what the answer is?(Ross gestures his consent.)Joey: Strip joint! Cmon, youre single! Have somehormones!Ross: I dont want to be single, okay? I just... Ijust- I just wanna be married again!(Rachel enters in a wet wedding dress and starts to searchthe room.)Chandler: And I just want a million dollars! (Heextends his hand hopefully.)Monica: Rachel?!Rachel: Oh God Monica hi! Thank God! I just went toyour building and you werent there and then this guy with a big hammer said you might behere and you are, you are!Waitress: Can I get you some coffee?Monica: (pointing at Rachel) De-caff. (to All) Okay,everybody, this is Rachel, another Lincoln High survivor. (to Rachel) This is everybody,this is Chandler, and Phoebe, and Joey, and- you remember my brother Ross? Rachel: Hi, sure!Ross: Hi. (They go to hug but Rosss umbrella opens.\\xa0 He sitsback down defeated again.\\xa0 A moment of silence follows as Rachel sits and the othersexpect her to explain.)Monica: So you wanna tell us now, or are we waitingfor four wet bridesmaids?Rachel: Oh God... well, it started about a half hourbefore the wedding. I was in the room where we were keeping all the presents, and I waslooking at this gravy boat. This really gorgeous Lamauge gravy boat. When all of a sudden-(to the waitress that brought her coffee)Sweet n Lo?- I realized that I was more turnedon by this gravy boat than by Barry! And then I got really freaked out, and thats when ithit me: how much Barry looks like Mr. Potato Head. Yknow, I mean, I always knew lookedfamiliar, but... Anyway, I just had to get out of there, and I started wondering Why am Idoing this, and who am I doing this for?. (to Monica) So anyway I just didnt know whereto go, and I know that you and I have kinda drifted apart, but youre the only person Iknew who lived here in the city.Monica: Who wasnt invited to the wedding.Rachel: Ooh, I was kinda hoping that wouldnt be anissue... [Scene: Monicas Apartment, everyone is there and watching a Spanish Soap on TVand are trying to figure out what is going on.]Monica: Now Im guessing that he bought her the bigpipe organ, and shes really not happy about it. Chandler: (imitating the characters)Tuna or egg salad?\\xa0 Decide!Ross: (in a deep voice) Ill havewhatever Christine is having.Rachel: (on phone) Daddy, I just... I cant marryhim! Im sorry. I just dont love him. Well, it matters to me! (The scene on TV has changed to show twowomen, one is holding her hair.)Phoebe:\\xa0 If I let go ofmy hair, my head will fall off. Chandler: (re TV) Ooh, she should not be wearingthose pants. Joey: I say push her down the stairs. Phoebe, Ross, Chandler, and Joey:\\xa0Push her down the stairs! Push her down the stairs! Push her down the stairs!(She is pushed down the stairs and everyone cheers.)Rachel: Cmon Daddy, listen to me! Its like, itslike, all of my life, everyone has always told me, Youre a shoe! Youre a shoe, youre ashoe, youre a shoe!. And today I just stopped and I said, What if I dont wanna be ashoe? What if I wanna be a- a purse, yknow? Or a- or a hat! No, Im not saying I want youto buy me a hat, Im saying I am a ha- Its a metaphor, Daddy!Ross: You can see where hed have trouble.Rachel: Look Daddy, its my life. Well maybe Illjust stay here with Monica. Monica: Well, I guess weve established whosstaying here with Monica...Rachel: Well, maybe thats my decision. Well, maybeI dont need your money. Wait!! Wait, I said maybe!![Time Lapse, Rachel is breating into a paper bag.]Monica: Just breathe, breathe.. thats it. Just tryto think of nice calm things...Phoebe: (sings) Raindrops on roses and rabbits andkittens, (Rachel and Monica turn to look at her.) bluebells and sleighbells and- somethingwith mittens... La la la la...something and noodles withstring.\\xa0 These are a few...Rachel: Im all better now.Phoebe: (grins and walks to the kitchen and says toChandler and Joey.) I helped!Monica: Okay, look, this is probably for the best,yknow? Independence. Taking control of your life.\\xa0 The whole,hat thing.Joey: (comforting her) And hey, you need anything,you can always come to Joey. Me and Chandler live across the hall. And hes away a lot.Monica: Joey, stop hitting on her! Its her weddingday!Joey: What, like theres a rule or something?(The door buzzer sounds and Chandler gets it.)Chandler: Please dont do that again, its ahorrible sound.Paul: (over the intercom) Its, uh,its Paul.Monica: Oh God, is it6:30?\\xa0 Buzz him in!Joey: Whos Paul?Ross: Paul the Wine Guy, Paul?Monica: Maybe. Joey: Wait. Your not a realdate tonight is with Paul the Wine Guy?Ross: He finally asked you out?Monica: Yes!Chandler: Ooh, this is a Dear Diary moment.Monica: Rach, wait, I can cancel...Rachel: Please, no, go, thatd be fine!Monica: (to Ross) Are, are you okay? I mean, do youwant me to stay?Ross: (choked voice) Thatd be good...Monica: (horrified) Really?Ross: (normal voice) No, go on! Its Paul the WineGuy!Phoebe: What does that mean? \\xa0Does he sell it, drink it, or just complain a lot? (Chandler doesnt know.)(Theres a knock on the door and its Paul.)Monica: Hi, come in! Paul, this is.. (They are alllined up next to the door.)... everybody, everybody, this is Paul.All: Hey! Paul! Hi! The Wine Guy! Hey!Chandler: Im sorry, I didnt catch your name. Paul,was it?Monica: Okay, umm-umm, Illjust--Ill be right back, I just gotta go ah, go ah...Ross: A wandering?Monica: Change!\\xa0 Okay,sit down. (Shows Paul in) Two seconds.Phoebe: Ooh, I just pulled out four eyelashes. Thatcant be good.(Monica goes to change.)Joey:\\xa0 Hey, Paul!Paul: Yeah?Joey: Heres a little tip, shereally likes it when you rub her neck in the same spot over and over and over again untilit starts to get a little red.Monica: (yelling from the bedroom)Shut up, Joey!Ross: So Rachel, whatre you, uh... whatre you upto tonight?Rachel: Well, I was kinda supposed to be headed forAruba on my honeymoon, so nothing!Ross: Right, youre not even getting your honeymoon,God.. No, no, although, Aruba, this time of year... talk about your- (thinks) -biglizards... Anyway, if you dont feel like being alone tonight, Joey and Chandler arecoming over to help me put together my new furniture.Chandler: (deadpan) Yes, and were very excitedabout it. Rachel: Well actually thanks, but I think Im justgonna hang out here tonight.\\xa0 Its been kinda a long day.Ross: Okay, sure.Joey: Hey Pheebs, you wanna help?Phoebe: Oh, I wish I could, but I dont want to.Commercial Break[Scene: The Subway, Phoebe is singing forchange.]Phoebe: (singing) Love is sweet assummer showers, love is a wondrous work of art, but your love oh your love, your love...islike a giant pigeon...crapping on my heart.\\xa0 La-la-la-la-la- (some guy gives her somechange and to that guy) Thank you. (sings) La-la-la-la...ohhh![Scene: Rosss Apartment, the guys are there assemblingfurniture.]Ross: (squatting and reading the instructions) Imsupposed to attach a brackety thing to the side things, using a bunch of these little wormguys. I have no brackety thing, I see no whim guys whatsoever and- I cannot feel my legs.(Joey and Chandler are finishing assemblingthe bookcase.)Joey: Im thinking weve got abookcase here.Chandler: Its a beautiful thing.Joey: (picking up a leftover part) Whats this?Chandler: I would have tosay that is an L-shaped bracket.Joey: Which goes where?Chandler: I have noidea.(Joey checks that Ross is not looking and dumps it in aplant.)Joey: Done with the bookcase!Chandler: All finished!Ross: (clutching a beer can and sniffing) This wasCarols favorite beer. She always drank it out of the can, I should have known.Joey: Hey-hey-hey-hey, if youregonna start with that stuff were outta here.Chandler: Yes, please dont spoilall this fun.Joey: Ross, let me ask you a question. She got thefurniture, the stereo, the good TV- what did you get?Ross: You guys.Chandler: Oh, God.Joey: You got screwed.Chandler: Oh my God![Scene: A Restaurant, Monica and Paul are eating.]Monica: Oh my God!Paul: I know, I know, Im such an idiot. I guess Ishould have caught on when she started going to the dentist four and five times a week. Imean, how clean can teeth get?Monica: My brothers going through that right now,hes such a mess. How did you get through it?Paul: Well, you might try accidentally breakingsomething valuable of hers, say her-Monica: -leg?Paul: (laughing) Thats one way! Me, I- I went forthe watch.Monica: You actually broke her watch?\\xa0 Wow!\\xa0 The worst thing I ever did was, I-I shredded byboyfriends favorite bath towel.Paul: Ooh, steer clear of you.Monica: Thats right.[Scene: Monicas Apartment, Rachel is talking on the phone and pacing.]Rachel: Barry, Im sorry... I am so sorry... I knowyou probably think that this is all about what I said the other day about you making lovewith your socks on, but it isnt... it isnt, its about me, and I ju- (She stops talkingand dials the phone.) Hi, machine cut me off again... anyway...look,look, I know that some girl is going to be incredibly lucky to become Mrs. Barry Finkel,but it isnt me, its not me.\\xa0 And not that I have any idea who me is right now, butyou just have to give me a chance too... (The maching cuts her off again and she redials.)[Scene: Rosss Apartment; Ross is pacing while Joey andChandler are working on some more furniture.]Ross: Im divorced!\\xa0 Im only26 and Im divorced!Joey: Shut up!Chandler: You must stop! (Chandlerhits what he is working on with a hammer and it collapses.)Ross: That only took me an hour.Chandler: Look, Ross, you gottaunderstand, between us we havent had a relationship that has lasted longer than a Mento.\\xa0 You, however have had the love of a woman for four years. \\xa0Four years of closeness and sharing at the end of which she ripped your heart out, andthat is why we dont do it!\\xa0 I dont think that was my point!Ross: You know what the scariest part is? What iftheres only one woman for everybody, yknow? I mean what if you get one woman- and thatsit? Unfortunately in my case, there was only one woman- for her...Joey: What are you talking about? One woman?Thats like saying theres only one flavor of ice cream for you. Lemme tell you something,Ross. Theres lots of flavors out there. Theres Rocky Road, and Cookie Dough, and Bing!Cherry Vanilla. You could get em with Jimmies, or nuts, or whipped cream! This is thebest thing that ever happened to you! You got married, you were, like, what, eight?Welcome back to the world! Grab a spoon!Ross: I honestly dont know if Im hungry or horny.Chandler: Stay out of my freezer! [Scene: ARestaurant, Monica and Paul are still eating.]Paul: Ever since she walked out on me, I, uh...Monica: What?..... What, you wanna spell it out withnoodles?Paul: No, its, its more of a fifth date kindarevelation.Monica: Oh, so there is gonna be a fifth date?Paul: Isnt there?Monica: Yeah... yeah, I think there is. -What wereyou gonna say?Paul: Well, ever-ev-... ever since she left me, um,I havent been able to, uh, perform. (Monica takes a sip of her drink.) ...Sexually. Monica: (spitting out her drink in shock) Oh God, ohGod, I am sorry... I am so sorry...Paul: Its okay...Monica: I know being spit on is probably not whatyou need right now. Um... how long?Paul: Two years.Monica: Wow! Im-Im-Im glad you smashed her watch!Paul: So you still think you, um... might want thatfifth date?Monica: (pause)...Yeah. Yeah, I do.[Scene: Monicas Apartment, Rachel is watching JoanneLoves Chaci.]Priest on TV:We are gathered here today to join Joanne Louise Cunningham andCharles, Chachi-Chachi-Chachi, Arcola in the bound of holy matrimony.Rachel: Oh...see... but Joanne loved Chachi! Thatsthe difference![Scene: Rosss Apartment, theyre all sitting around andtalking.]Ross: (scornful) Grab a spoon. Do you know how longits been since Ive grabbed a spoon? Do the words Billy, dont be a hero mean anythingto you? Joey: Great story!\\xa0 But, I uh,I gotta go, I got a date with Andrea--Angela--Andrea...\\xa0 Oh man, (looks to Chandler)Chandler: Angelas the screamer,Andrea has cats.Joey: Right.\\xa0 Thanks.\\xa0Its June.\\xa0 Im outta here. (Exits.)Ross: Yknow, heres the thing. Even if I could getit together enough to- to ask a woman out,... who am I gonna ask? (He gazes out of thewindow.)[Cut to Rachel staring out of her window.]Commercial Break[Scene: Monicas Apartment, Rachel is making coffee forJoey and Chandler.]Rachel: Isnt this amazing? I mean, I have nevermade coffee before in my entire life.Chandler: That is amazing.Joey: Congratulations. Rachel: Yknow, I figure if I canmake coffee, there isnt anything I cant do.Chandler: If can invade Poland,there isnt anything I cant do.Joey: Listen, while youre on a roll, if you feellike you gotta make like a Western omelet or something... (Joey and Chandler taste thecoffee, grimace, and pour it into a plant pot.) Although actually Im really not thathungry...Monica: (entering, to herself) Ohgood, Lenny and Squigy are here.All: Morning. Good morning.Paul: (entering from Monicas room)Morning.Joey: Morning, Paul.Rachel: Hello, Paul.Chandler: Hi, Paul, is it?(Monica and Paul walk to the door and talk in a low voiceso the others cant hear.\\xa0 The others move Monicas table closer to the door so thatthey can.)Paul: Thank you!\\xa0 Thank you somuch!Monica: Stop!Paul: No, Im telling you last nightwas like umm, all my birthdays, both graduations, plus the barn raising scene in Witness.Monica: Well talk later.Paul: Yeah. (They kiss) Thank you. (Exits)Joey: That wasnt a real date?! What the hell do youdo on a real date?Monica: Shut up, and put my table back.All: Okayyy! (They do so.)Chandler: All right, kids, I gotta get to work. If Idont input those numbers,... it doesnt make much of a difference... Rachel: So, like, you guys all have jobs?Monica: Yeah, we all have jobs. See, thats how webuy stuff.Joey: Yeah, Im an actor.Rachel: Wow! Would I have seen you in anything?Joey: I doubt it. Mostly regional work.Monica: Oh wait, wait, unless you happened to catchthe Reruns production of Pinocchio, at the little theater in thepark.Joey: Look, it was a job all right?Chandler: Look, Gippetto, Im a real live boy.Joey: I will not take this abuse. (Walks to the doorand opens it to leave.)Chandler: Youre right, Im sorry. (Burst into songand dances out of the door.) \"Once I was a wooden boy, a little wooden boy...\"Joey: You should both know,that hes a dead man.\\xa0 Oh, Chandler? (Starts after Chandler.) Monica: So how you doing today? Did you sleep okay?Talk to Barry? I cant stop smiling.Rachel: I can see that. You look like you slept witha hanger in your mouth.Monica: I know, hes just so, so... Do you rememberyou and Tony DeMarco?Rachel: Oh, yeah.Monica: Well, its like that. With feelings.Rachel: Oh wow. Are you in trouble.Monica: Big time!Rachel: Want a wedding dress? \\xa0Hardly used.Monica: I think we are gettinga little ahead of selves here. Okay. Okay. I am just going to get up, go to workand not think about him all day. Or else Im just gonna get up and go to work.Rachel: Oh, look, wish me luck!Monica: What for?Rachel: Im gonna go get one of those (Thinks) jobthings.(Monica exits.)[Scene: Iridium, Monica is working as Frannie enters.] Frannie: Hey, Monica! Monica: Hey Frannie, welcome back! How was Florida? Frannie: You had sex, didnt you? Monica: How do you do that?Frannie: Oh, I hate you, Im pushing my Aunt Roz throughParrot Jungle and youre having sex!\\xa0 So? Who? Monica: You know Paul? Frannie: Paul the Wine Guy? Oh yeah, I know Paul. Monica: You mean you know Paul like I know Paul? Frannie: Are you kidding? I take credit for Paul. Yknow before me, there was nosnap in his turtle for two years. [Scene: Central Perk, everyone but Rachel is there.]Joey: (sitting on the arm of the couch)Of course it was a line! Monica: Why?! Why? Why, why would anybody do something like that? Ross: I assume were looking for an answer more sophisticated than to get youinto bed. Monica: I hate men!\\xa0 I hate men!Phoebe: Oh no, dont hate, you dontwant to put that out into the universe.Monica: Is it me? Is it like I have some sort ofbeacon that only dogs and men with severe emotional problems can hear? Phoebe: All right, cmere, gimme your feet. (She starts massaging them.) Monica: I just thought he was nice, yknow? Joey: (bursts out laughing again) I cant believe you didnt know it was a line!(Monica pushes him off of the sofa as Rachel enters with a shopping bag.) Rachel: Guess what? Ross: You got a job? Rachel: Are you kidding? Im trained for nothing! I was laughed out of twelveinterviews today. Chandler: And yet youre surprisingly upbeat. Rachel: You would be too if you found John and David boots on sale, fiftypercent off! Chandler: Oh, how well you know me... Rachel: Theyre my new I dont need a job, I dont need my parents, Ive gotgreat boots boots! Monica: Howd you pay for them? Rachel: Uh, credit card. Monica: And who pays for that? Rachel: Um... my... father. [Scene: Monica and Rachels, everyone is sitting around the kitchen table. \\xa0Rachels credit cards are spread out on the table along with a pair of scissors.]Rachel: Oh God, come on youguys, is this really necessary?\\xa0 I mean, I can stop charging anytime I want. Monica: Cmon, you cant live off your parents your whole life. Rachel: I know that. Thats why I was getting married. Phoebe: Give her a break, its hard being on your own for the first time. Rachel: Thank you. Phoebe: Youre welcome. I remember when I first came to this city. I wasfourteen. My mom had just killed herself and my step-dad was back in prison, and I gothere, and I didnt know anybody. And I ended up living with this albino guy who was, like,cleaning windshields outside port authority, and then he killed himself, and then I foundaromatherapy. So believe me, I know exactly how you feel. (Pause) Ross: The word youre looking for is Anyway... Monica: All right, you ready?Rachel: No.\\xa0 No, no, Im notready!\\xa0 How can I be ready?\\xa0 \"Hey, Rach!\\xa0 You ready to jump out theairplane without your parachute?\"\\xa0 Come on, I cant do this!Monica: You can, I know youcan! Rachel: I dont think so.Ross: Come on, you madecoffee! \\xa0 You can do anything! (Chandler slowly tries to hide the now dead plant fromthat morning when he and Joey poured their coffee into it.)Ross: Cmon, cut. Cut, cut, cut,... All: Cut, cut, cut, cut, cut, cut, cut... (She cuts one of them and they cheer.)Rachel: Yknow what?\\xa0 I thinkwe can just leave it at that.\\xa0 Its kinda like a symbolic gesture...Monica:\\xa0 Rachel!\\xa0That was a library card! All: Cut, cut, cut, cut, cut, cut, cut..Chandler: (as Rachel is cutting upher cards) Yknow, if you listen closely, you can hear a thousand retailers scream. (She finishes cutting them up and they allcheer.)Monica: Welcome to the real world! It sucks. Youregonna love it! [Time Lapse, Rachel and Ross are watching a TV channel finishes its broadcast day byplaying the national anthem.] Monica: Well, thats it (To Ross) You gonna crash on the couch? Ross: No. No, I gotta go home sometime. Monica: You be okay? Ross: Yeah. Rachel: Hey Mon, look what I just found on the floor. (Monica smiles.) What? Monica: Thats Pauls watch. You just put it back where you found it. Oh boy.Alright. Goodnight, everybody. Ross and Rachel: Goodnight.(Monica stomps on Pauls watch and goes into her room.)Ross: Mmm. (They both reach for the last cookie) Oh, no- Rachel: Sorry- Ross: No no no, go- Rachel: No, you have it, really, I dont want it- Ross: Split it? Rachel: Okay. Ross: Okay. (They split it.) You know you probably didnt know this, but back inhigh school, I had a, um, major crush on you. Rachel: I knew. Ross: You did! Oh.... I always figured you just thought I was Monicas geekyolder brother. Rachel: I did. Ross: Oh. Listen, do you think- and try not to let my intense vulnerabilitybecome any kind of a factor here- but do you think it would be okay if I asked you out?Sometime? Maybe? Rachel: Yeah, maybe... Ross: Okay... okay, maybe I will... Rachel: Goodnight. Ross: Goodnight. (Rachel goes into her room and Monica enters the living room as Ross is leaving.) Monica: See ya.... Waitwait, whats with you? Ross: I just grabbed a spoon. (Ross exits and Monica has no idea what thatmeans.) Closing Credits[Scene: Central Perk, everyone is there.] Joey: I cant believe what Im hearing here. Phoebe: (sings) I cant believe what Im hearing here... Monica: What? I-I said you had a- Phoebe: (sings) What I said you had... Monica: (to Phoebe) Would you stop? Phoebe: Oh, was I doing it again?All: Yes!Monica: I said that you had a nicebutt, its just not a great butt.Joey: Oh, you wouldnt know a greatbutt if it came up and bit ya.Ross: Theres an image.Rachel: (walks up with a pot of coffee) Would anybody like more coffee? Chandler: Did you make it, or are you just serving it? Rachel: Im just serving it. All: Yeah. Yeah, Ill have a cup of coffee. Chandler: Kids, new dream... Im in Las Vegas. (Rachelsits down to hear Chandlers dream.)Customer: (ToRachel) Ahh, miss? \\xa0 More coffee? Rachel: Ugh. (To another customer thats leaving.) Excuse me, could you givethis to that guy over there? (Hands him the coffee pot.) Go ahead. (He does so.) Thankyou. (To the gang.) Sorry.\\xa0 Okay, Las Vegas.Chandler: Okay, so, Im in LasVegas... Im Liza Minelli- End'"
      ]
     },
     "execution_count": 66,
     "metadata": {},
     "output_type": "execute_result"
    }
   ],
   "source": [
    "episode_scripts[0]"
   ]
  },
  {
   "cell_type": "code",
   "execution_count": 67,
   "metadata": {
    "ExecuteTime": {
     "end_time": "2018-05-26T22:35:04.927927Z",
     "start_time": "2018-05-26T22:35:04.906470Z"
    }
   },
   "outputs": [
    {
     "data": {
      "text/plain": [
       "'The One With The Sonogram at the EndThe One With the Sonogram at the EndWritten by: Marta Kauffman & David Crane Transcribed by: guineapig[Scene Central Perk, everyones there.]Monica: What you guys dont understand is, for us,kissing is as important as any part of it. Joey: Yeah, right!.......Yserious? Phoebe: Oh, yeah! Rachel: Everything you need to know is in that first kiss. Monica: Absolutely. Chandler: Yeah, I think for us, kissing is pretty much like an opening act,yknow? I mean its like the stand-up comedian you have to sit through before Pink Floydcomes out. Ross: Yeah, and-and its not that we dont like the comedian, its that-that...thats not why we bought the ticket. Chandler: The problem is, though, after the concerts over, no matter how greatthe show was, you girls are always looking for the comedian again, yknow? I mean, werein the car, were fighting traffic... basically just trying to stay awake. Rachel: Yeah, well, word of advice: Bring back the comedian. Otherwise next timeyoure gonna find yourself sitting at home, listening to that album alone. Joey: (pause)....Are we still talking about sex?Opening Credits[Scene: Museum of Prehistoric History, Ross and a co-worker(Marsha) are setting up an exhibit which includes some mannequins of cave people.] Ross: No, its good, it is good, its just that- mm- doesnt she seem a littleangry? Marsha: Well, she has issues. Ross: Does she. Marsha: Hes out banging other women over the head with a club, while she sitsat home trying to get the mastodon smell out of the carpet! Ross: Marsha, these are cave people. Okay? They have issues like Gee, thatglaciers getting kinda close. See? Marsha: Speaking of issues, isnt that your ex-wife? (Carol, Rosss ex-wife, has entered behind them and is standing outstide the exhibit.) Ross: (trying to ignore her) No. No. Marsha: Yes, it is. Carol! Hi! Ross: Okay, okay, yes, it is. (waves) How about Ill, uh, catch up with you inthe Ice Age. (Marsha extis and Ross waves Carol into the exhibit.) Ross:Hi. Carol: So. Ross: You look great. I, uh... I hate that. Carol: Sorry. You look good too. Ross: Ah, well, in here, anyone who... stands erect... So whats new? Still,uh... Carol: A lesbian? Ross: Well... you never know. Hows, um.. hows the family? Carol: Martys still totally paranoid. Oh, and, uh- Ross: Why- why are you here, Carol? Carol: Im pregnant. Ross: Pregnant?! [Scene: Monica and Rachels, Chandler, Joey, Phoebe, and Monica are watching ThreesCompany.]Chandler: Oh, I think this is the episode of ThreesCompany where theres some kind of misunderstanding. Phoebe:...Then Ive already seen this one! (Turns off the TV.) Monica: (taking a drink from Joey) Are you through with that? Joey: Yeah, sorry, the swallowing slowed me down. Monica: Whose little ball of paper is this?! Chandler: Oh, uh, that would be mine. See, I wrote a note to myself, and then Irealised I didnt need it, so I balled it up and... (sees that Monica is glaring at him)...now I wish I was dead. (Monica starts to fluff a pillow.) Phoebe: Shes already fluffed that pillow... Monica, you know, youve alreadyfluffed that- (Monica glares at her.) -but, its fine! Monica: Look , Im sorry, guys, I just dont wanna give them any more ammunitionthan they already have. Chandler: Yes, and we all know how cruel a parent can be about the flatness of achilds pillow. Phoebe: Monica- Hi! Um, Monica, youre scaring me. I mean, youre like, yourelike all chaotic and twirly. And not-not in a good way. Joey: Yeah, calm down. You dont see Ross getting all chaotic and twirly everytime they come. Monica: Thats because as far as my parents are concerned, Ross can do no wrong.Ysee, hes the Prince. Apparently they had some big ceremony before I was born. Chandler: (looking out the window) Ew, ew, ew, ew ew ew ew ew! Monica: What? Chandler: Ugly Naked Guy got a Thighmaster! All: Eeaagh! (Rachel enters from her room.) Rachel: Has anybody seen my engagement ring? Phoebe: Yeah, its beautiful. Rachel: Oh God, oh God, oh God oh God oh God oh God.... (Starts to look underthe couch cushions.) Phoebe: No, look, dont touch that! Rachel: Oh, like I wasnt dreading tomorrow enough, having to give it back tohim... Hi Barry! Remember me? Im the girl in the veil who stomped on your heart in frontof your entire family! Oh God and now Im gonna have to return the ring, without thering, which makes it so much harder... Monica: Easy Rach, well find it. (To all) Wont we! Chandler and Joey: Oh! Yeah!Joey: Alright, whendya have it on last?Phoebe: Doy! Probably right before she lost it! Chandler: You dont get a lot of doy these days... Rachel: I know I had it this morning, and I know I had it when I was in thekitchen with... Chandler: ...Dinah? Rachel: (looks at the lasagne and realizes something) Ohhhhh, dont be mad... Monica: You didnt. Rachel: Oh, I am sorry... Monica: I gave you one job! (Starts to examin the lasagne through the bottom ofthe glass pan.) Rachel: Oh, but look how straight those noodles are! Chandler: Now, Monica, you know thats not how you look for an engagement ringin a lasagne... Monica: (puts down the lasagne) I just... cant do it. Chandler: Boys? Were going in. (Chandler, Joey, and Phoebe start to pick through the lasagne as theres a knock on thedoor which Monica answers.) Ross: (standing outside the door).....Hi. Monica: Wow. That is not a happy hi. Ross: Carols pregnant. Phoebe: (while everyone else is stunned) Ooh! I found it! Monica: W-w-wh-... wha-... w-w-w-... Ross: Yeah. Do that for another two hours, you might be where I am right aboutnow. (He enters.) Chandler: Kinda puts that whole pillow thing in perspective, huh, Mon? Rachel: Well now, how-how do you fit into this whole thing? Ross: Well, Carol says she and Susan want me to be involved, but if Im notcomfortable with it, I dont have to be involved.. basically its entirely up to me. Phoebe: She is so great! I miss her. Monica: What does she mean by involved? Chandler: I mean presumably, the biggest part of your job is done. Ross: Anyway, they want me to go down to this- sonogram thing with themtomorrow. Rachel: So what are you gonna do? Ross: I have no idea. No matter what I do, though, Im still gonna be a father. (Joey starts to eat the rest of the lasagne and everyone turns and stares at him.) Joey: .....Well, this is still ruined, right?[Scene, Monica and Rachels, Monica and Ross are pouring wine for theirparents.] Mrs. Geller: Oh, Martha Ludwins daughter is gonna call you. (Tastes a snack)Mmm! Whats that curry taste? Monica: Curry. Mrs. Geller: Mmmm! Ross: I- I think theyre great! I, I really do. Mr. Geller: (To Ross) Do you remember the Ludwins? The big one had a thing foryou, didnt she? Mrs. Geller: They all had a thing for him. Ross: Aw, Mom... Monica: Im sorry, why is this girl going to call me? Mrs. Geller: Oh, she just graduated, and she wants to be something in cooking,or food, or.... I dont know. Anyway, I told her you had a restaurant- Monica: No Mom, I dont have a restaurant, I work in a restaurant. Mrs. Geller: Well, they dont have to know that... (She starts to fluff the samepillow Monica fluffed multiple times earlier.) Monica: Ross, could you come and help me with the spaghetti, please? Ross: Yeah. (They go to the kitchen.) Mrs. Geller: Oh, were having spaghetti! Thats.... easy. Monica: I know this is going to sound unbelievably selfish, but, were youplanning on bringing up the whole baby/lesbian thing? Because I think it might take someof the heat off me. [Time Lapse, everyone is now eating.] Mrs. Geller: What that Rachel did to her life.... We ran into her parents at theclub, they were not playing very well. Mr. Geller: Im not gonna tell you what they spent on that wedding... but fortythousand dollars is a lot of money! Mrs. Geller: Well, at least she had the chance to leave a man at the altar... Monica: Whats that supposed to mean? Mrs. Geller: Nothing! Its an expression. Monica: No its not. Mr. Geller: Dont listen to your mother. Youre independent, and you always havebeen! Even when you were a kid... and you were chubby, and you had no friends, you werejust fine! And you would read alone in your room, and your puzzles... [Time Lapse.]Mr. Geller: Look, there are people like Ross whoneed to shoot for the stars, with his museum, and his papers getting published. Otherpeople are satisfied with staying where they are- Im telling you, these are the peoplewho never get cancer. [Time Lapse.] Mr. Geller: ...And I read about these women trying to have it all, and I thankGod Our Little Harmonica doesnt seem to have that problem. Monica: (trying desperately to change the subject) So, Ross, whats going onwith you? Any stories? (Digs her elbow into his hand.) No news, no little anecdotes toshare with the folks? Ross: (pulls his hand away) Okay! Okay. (To his parents) Look, I, uh- I realiseyou guys have been wondering what exactly happened between Carol and me, and, so, well,heres the deal. Carols a lesbian. Shes living with a woman named Susan. Shes pregnantwith my child, and she and Susan are going to raise the baby. (Stunned silence ensues.) Mrs. Geller: (To Monica) And you knew about this?! Commercial Break[Scene: Central Park, everyones there.] Joey: Your folks are really that bad, huh? Ross: Well, yknow, these people are pros. They know what theyre doing, theytake their time, they get the job done. Monica: Boy, I know they say you cant change your parents,... boy, if youcould- (To Ross) -Id want yours. Ross: Must pee. (Goes to pee.) Phoebe: Yknow, its even worse when youre twins. Rachel: Youre twins? Phoebe: Yeah. We dont speak. Shes like this high-powered, driven career type. Chandler: What does she do? Phoebe: Shes a waitress. Rachel: All right, you guys, I kinda gotta clean up now. (They all start toleave.) Monica: Chandler, youre an only child, right? You dont have any of this. Chandler: Well, no, although I did have an imaginary friend, who... my parentsactually preferred. Rachel: The lights, please..(Joey turns off the lights, and they all leave as Rachel starts to clean up.\\xa0 Rossenters from the bathroom.) Ross: ...How long was I in there? Rachel: Im just cleaning up. Ross: Dya.. uh.. dya need any help? Rachel: Uh.. okay, sure! Thanks! (She hands him the broom and sits down.) Ross: Anyway.. um.. (Starts to sweep.) So, you- uh- you nervous about Barrytomorrow? Rachel: Oh.. a little.. Ross: Mm-hmm.. Rachel: A lot. Ross: Mm. Rachel: So, got any advice? Yknow, as someone whos recently been- dumped? Ross: Well, you may wanna steer clear of the word dumped. Chances are hesgonna be this, this broken shell of a man, yknow, so you should try not to look tooterrific, I know itll be hard. Or, yknow, uh, hey!, Ill go down there, and Ill giveBarry back his ring, and you can go with Carol and Susan to the OB/GYN... Rachel: Oh, youve got Carol tomorrow.. When did it get so complicated? Ross: Got me. Rachel: Remember when we were in high school together? Ross: Yeah. Rachel: I mean, didnt you think you were just gonna meet somone, fall in love-and thatd be it? (Ross gazes at her.) ..Ross? Ross: Yes, yes! Rachel: Oh! Man, I never thought Id be here.. (She leans back onto his hand.) Ross: Me either... (He pulls up a stool so that he doesnt have to move hishand.) [Scene: Carols OB/GYN, Carol is waiting.] Ross: (entering) Sorry Im late, I was stuck at work. There was this bigdinosaur.. thing.. anyway. (Susan enters holding a drink.) Susan: Hi. Carol: Ross, you remember Susan. Ross: How could I forget? Susan: Ross. Ross: (they shake hands) Hello, Susan. (To Carol) Good shake. Good shake. So,uh, were just waiting for...? Carol: Dr. Oberman. Ross: ..Dr. Oberman. Okay. And is he- Susan: She. Ross: -she, of course, she- uh- familiar with our.. special situation? Carol: Yes, and shes very supportive. Ross: Okay, thats great. (Susan gives her drink to Carol.) No, Im- Oh.\\xa0 Carol: Thanks. Ross: (picks up a surgical instrament and mimes a duck with it) Quack, quack.. Carol: Ross? That opens my cervix. (He drops it in horror.) [Scene Barrys office, Barry is working on patient, Robbie, as Rachel enters.] Rachel: Barry? Barry: Cmon in. Rachel: (hesitates) Are you sure? Barry: Yeah! Its fine, its fine. Robbies gonna be here for hours. Robbie: Huh?! Barry: So, how ya doin? Rachel: Im- uh- Im okay... You look great! Barry: Yeah, well.. Bernice: (over intercom) Dr. Farber, Jason Greensteins gagging. Barry: (answering the intercom) Be right there. (To Robbie and Rachel) Be backin a sec. (As Barry exits Robbie stares at Rachel.) Rachel: I dumped him. Robbie: Okay. [Scene: Carols OB/GYN, theyre talking about how this is going to work.] Ross: So, um- so hows this, uh, hows this gonna work? Yknow, with us? Yknow,when, like, important decisions have to be made? Carol: Give me a for instance. Ross: Well, uh, uh, I dont know, okay, okay, how about with the, uh, with thebabys name? Carol: Marlon- Ross: Marlon?! Carol: -if its a boy, Minnie if its a girl. Ross: ...As in Mouse? Carol: As in my grandmother. Ross: Still, you- you say Minnie, you hear Mouse. Um, how about, um.. how aboutJulia? Carol: Julia.. Susan: We agreed on Minnie. Ross: Sfunny, um, uh, we agreed wed spend the rest of our lives together.Things change, roll with the punches. I believe Julias on the table..? [Scene: Barrys office, Rachel is doing her makeup in the mirror on Barrys lamp asBarry enters.] Barry: Sorry about that. So. What have you been up to? Rachel: Oh, not much. I-I got a job. Barry: Oh, thats great. Rachel: Why are- why are you so tanned? Barry: Oh, I, uh- I went to Aruba. Rachel: Oh no. You went on our honeymoon alone? Barry: No. I went with, uh.. Now, this may hurt. Robbie: Me?! Barry: No! (To Rachel) I went with Mindy. Rachel: Mindy?! My maid of honour, Mindy?! Barry: Yeah, well, uh, were kind of a thing now. Rachel: Oh! Well, um.. (Grabs his forehand) Youve got plugs! Barry: Careful! They havent quite taken yet. Rachel: And youve got lenses! But you hate sticking your finger in your eye! Barry: Not for her. Listen, I really wanted to thank you. Rachel: Okay.. Barry: See, about a month ago, I wanted to hurt you. More than Ive ever wantedto hurt anyone in my life. And Im an orthodontist. Rachel: Wow. Barry: You know, you were right? I mean, I thought we were happy. We werenthappy. But with Mindy, now Im happy. Spit. Rachel: What? Robbie: Me. (Spits.) Rachel: Anyway, um, (Gets the ring out of her purse.) I guess this belongs toyou. And thank you for giving it to me. Barry: Well, thank you for giving it back. (Barry and Rachel look at each other.) Robbie: Hello?! [Scene: Carols OB/GYN, theyre still arguing about what to name the baby.] Susan: Oh, please! Whats wrong with Helen? Ross: Helen Geller? I dont think so. Carol: Hello? Its not gonna be Helen Geller. Ross: Thank you! Carol: No, I mean its not Geller. Ross: What, its gonna be Helen Willick? Carol: No, actually, um, we talked about Helen Willick-Bunch. Ross: Well, wait a minute, wha- why is she in the title? Susan: Its my baby too. Ross: Oh, sfunny, really? Um, I dont remember you making any sperm. Susan: Yeah, and we all know what a challenge that is! Carol: All right, you two, stop it! Ross: No no no, she gets a credit, hey, Im in there too. Carol: Ross. Youre not actually suggesting Helen Willick-Bunch-Geller? Cause Ithink that borders on child abuse. Ross: Of course not, Im... suggesting Geller-Willick-Bunch. Susan: Oh, no, nonononono, you see what hes doing? He knows no-ones gonna sayall those names, so theyll wind up calling her Geller, then he gets his way! Ross: My way?! You-you think this is my way? Believe me, of all the ways I everimagined this moment in my life being, this is not my way- yknow what? Uh, um, this istoo hard. Im not, I cant do- Dr. Oberman: (entering) Knock knock!How are we today? Any nausea? All: Yeah. Yeah. A little. Dr. Oberman: Well, I was just wondering about the mother-to-be, but.. thanks forsharing. (To Carol) Uh, lie back.. Ross: You- uh- yknow what, Im gonna go. I dont- I dont think I can beinvolved in this particular thing right now. (He turns to go, but the sound of the sonogram catches hes ear.\\xa0 He returns andstares at it.)Ross: Oh my God. Susan: Look at that. Carol: I know. Closing Credits[Scene: Monica and Rachels apartment, everyone is watching the tape of the sonogram.\\xa0 Rachel is on the phone.]Ross: Well? Isnt that amazing? Joey: What are we supposed to be seeing here? Chandler: I dunno, but.. I think its about to attack the Enterprise. Phoebe: You know, if you tilt your head to the left, and relax your eyes, itkinda looks like an old potato. Ross: Then dont do that, alright? Phoebe: Okay! Ross: (walks over to where Monica is standing)Monica. Whaddya think? Monica: (welling up) Mm-hmm. Ross: Wh- are you welling up? Monica: No. Ross: You are, youre welling up. Monica: Am not! Ross: Youre gonna be an aunt. Monica: (pushes him and starts to cry) Oh shut up! Rachel: (on phone) Hi, Mindy. Hi, it-its Rachel. Yeah, Im fine. I-I saw Barrytoday. Oh, yeah, yeah he-he told me. No, no, its okay. I hope you two are very happy, Ireally do. Oh, oh, and Mind, yknow, if-if everything works out, and you guys end upgetting married and having kids- and everything- I just hope they have his old hairlineand your old nose. (Slams the phone down.) (To everyone) Okay, I know it was a cheap shot,but I feel so much better now. End'"
      ]
     },
     "execution_count": 67,
     "metadata": {},
     "output_type": "execute_result"
    }
   ],
   "source": [
    "episode_scripts[1]"
   ]
  },
  {
   "cell_type": "code",
   "execution_count": 68,
   "metadata": {
    "ExecuteTime": {
     "end_time": "2018-05-26T22:44:19.031870Z",
     "start_time": "2018-05-26T22:44:19.022391Z"
    }
   },
   "outputs": [],
   "source": [
    "import pickle"
   ]
  },
  {
   "cell_type": "code",
   "execution_count": 69,
   "metadata": {
    "ExecuteTime": {
     "end_time": "2018-05-26T22:44:23.156838Z",
     "start_time": "2018-05-26T22:44:23.092935Z"
    }
   },
   "outputs": [],
   "source": [
    "with open('episode_names.pkl', 'wb') as picklefile:\n",
    "    pickle.dump(episode_names, picklefile)\n",
    "with open('episode_links.pkl', 'wb') as picklefile:\n",
    "    pickle.dump(episode_links, picklefile)\n",
    "with open('episode_scripts.pkl', 'wb') as picklefile:\n",
    "    pickle.dump(episode_scripts, picklefile)"
   ]
  },
  {
   "cell_type": "code",
   "execution_count": null,
   "metadata": {},
   "outputs": [],
   "source": []
  }
 ],
 "metadata": {
  "kernelspec": {
   "display_name": "Python 3",
   "language": "python",
   "name": "python3"
  },
  "language_info": {
   "codemirror_mode": {
    "name": "ipython",
    "version": 3
   },
   "file_extension": ".py",
   "mimetype": "text/x-python",
   "name": "python",
   "nbconvert_exporter": "python",
   "pygments_lexer": "ipython3",
   "version": "3.6.4"
  }
 },
 "nbformat": 4,
 "nbformat_minor": 2
}
