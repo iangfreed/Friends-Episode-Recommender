{
 "cells": [
  {
   "cell_type": "code",
   "execution_count": 16,
   "metadata": {
    "ExecuteTime": {
     "end_time": "2018-05-29T19:39:12.553004Z",
     "start_time": "2018-05-29T19:39:12.550462Z"
    }
   },
   "outputs": [],
   "source": [
    "import pandas as pd\n",
    "import pickle\n",
    "import re"
   ]
  },
  {
   "cell_type": "code",
   "execution_count": 17,
   "metadata": {
    "ExecuteTime": {
     "end_time": "2018-05-29T19:39:12.883553Z",
     "start_time": "2018-05-29T19:39:12.869207Z"
    }
   },
   "outputs": [],
   "source": [
    "with open('episode_scripts.pkl','rb') as picklefile:\n",
    "    episode_scripts = pickle.load(picklefile)"
   ]
  },
  {
   "cell_type": "code",
   "execution_count": 18,
   "metadata": {
    "ExecuteTime": {
     "end_time": "2018-05-29T19:39:13.385975Z",
     "start_time": "2018-05-29T19:39:13.381746Z"
    }
   },
   "outputs": [],
   "source": [
    "with open('episode_names.pkl','rb') as picklefile:\n",
    "    episode_names = pickle.load(picklefile)"
   ]
  },
  {
   "cell_type": "code",
   "execution_count": 19,
   "metadata": {
    "ExecuteTime": {
     "end_time": "2018-05-29T19:39:13.881691Z",
     "start_time": "2018-05-29T19:39:13.877435Z"
    },
    "scrolled": true
   },
   "outputs": [
    {
     "data": {
      "text/plain": [
       "'\\nThe One Where Monica Gets a New Roomate (The Pilot-The Uncut Version)\\n\\n\\n\\n\\nThe One Where Monica Gets a New Roommate (The Pilot-The Uncut Version)\\n\\n\\n\\n\\nWritten by: Marta Kauffman & David Crane\\nTranscribed by: guineapig\\nAdditional transcribing by: Eric Aasen\\n(Note: The previously unseen parts of this episode are shown in blue text.)\\n\\n\\n\\n\\n[Scene: Central Perk, Chandler, Joey, Phoebe, and Monica are there.]\\n\\nMonica: There\\'s nothing to tell! He\\'s just some guy\\nI work with!\\n\\nJoey: C\\'mon, you\\'re going out with the guy! There\\'s\\ngotta be something wrong with him!\\n\\nChandler: All right Joey, be\\nnice.\\xa0 So does he have a hump? A hump and a hairpiece?\\n\\nPhoebe: Wait, does he eat chalk?\\n\\n(They all stare, bemused.)\\n\\nPhoebe: Just, \\'cause, I don\\'t want her to go through\\nwhat I went through with Carl- oh!\\n\\nMonica: Okay, everybody relax. This is not even a\\ndate. It\\'s just two people going out to dinner and- not having sex.\\n\\nChandler: Sounds like a date to me.\\n\\n[Time Lapse]\\n\\nChandler: Alright, so I\\'m back in high school, I\\'m\\nstanding in the middle of the cafeteria, and I realize I am totally naked.\\n\\nAll: Oh, yeah. Had that dream.\\n\\nChandler: Then I look down, and I realize there\\'s a\\nphone... there.\\n\\nJoey: Instead of...?\\n\\nChandler: That\\'s right.\\n\\nJoey: Never had that dream.\\n\\nPhoebe: No.\\n\\nChandler: All of a sudden, the phone starts to ring.\\nNow I don\\'t know what to do, everybody starts looking at me. \\n\\nMonica: And they weren\\'t looking at\\nyou before?!\\n\\nChandler: Finally, I figure\\nI\\'d better answer it, and it turns out it\\'s my mother,\\nwhich is very-very weird, because- she never calls me!\\n\\n[Time Lapse, Ross has entered.]\\n\\nRoss: (mortified) Hi.\\n\\nJoey: This guy says hello, I wanna kill myself.\\n\\nMonica: Are you okay, sweetie?\\n\\nRoss: I just feel like someone reached down my\\nthroat, grabbed my small intestine, pulled it out of my mouth and tied it around my\\nneck...\\n\\nChandler: Cookie?\\n\\nMonica: (explaining to the others) Carol moved her\\nstuff out today. \\n\\nJoey: Ohh.\\n\\nMonica: (to Ross) Let me get you some coffee.\\n\\nRoss: Thanks.\\n\\nPhoebe: Ooh! Oh! (She starts to pluck at the air\\njust in front of Ross.)\\n\\nRoss: No, no don\\'t! Stop cleansing my aura! No, just\\nleave my aura alone, okay?\\n\\nPhoebe: Fine!\\xa0 Be murky!\\n\\nRoss: I\\'ll be fine,\\nalright? Really, everyone. I hope she\\'ll be very happy.\\n\\nMonica: No you don\\'t.\\n\\nRoss: No I don\\'t, to hell with her, she left me!\\n\\nJoey: And you never knew she was a lesbian...\\n\\nRoss: No!! Okay?! Why does everyone keep fixating on\\nthat? She didn\\'t know, how should I know?\\n\\nChandler: Sometimes I wish I was a lesbian... (They\\nall stare at him.) Did I say that out loud?\\n\\nRoss: I told mom and dad last night,\\nthey seemed to take it pretty well.\\n\\nMonica: Oh really, so that\\nhysterical phone call I got from a woman at sobbing 3:00 A.M., \"I\\'ll never have\\ngrandchildren, I\\'ll never have grandchildren.\" was what?\\xa0 A wrong number?\\n\\nRoss: Sorry.\\n\\nJoey: Alright Ross, look. You\\'re feeling a lot of\\npain right now. You\\'re angry. You\\'re hurting. Can I tell you what the answer is?\\n\\n(Ross gestures his consent.)\\n\\nJoey: Strip joint! C\\'mon, you\\'re single! Have some\\nhormones!\\n\\nRoss: I don\\'t want to be single, okay? I just... I\\njust- I just wanna be married again!\\n\\n(Rachel enters in a wet wedding dress and starts to search\\nthe room.)\\n\\nChandler: And I just want a million dollars! (He\\nextends his hand hopefully.)\\n\\nMonica: Rachel?!\\n\\nRachel: Oh God Monica hi! Thank God! I just went to\\nyour building and you weren\\'t there and then this guy with a big hammer said you might be\\nhere and you are, you are!\\n\\nWaitress: Can I get you some coffee?\\n\\nMonica: (pointing at Rachel) De-caff. (to All) Okay,\\neverybody, this is Rachel, another Lincoln High survivor. (to Rachel) This is everybody,\\nthis is Chandler, and Phoebe, and Joey, and- you remember my brother Ross? \\n\\nRachel: Hi, sure!\\n\\nRoss: Hi. \\n\\n(They go to hug but Ross\\'s umbrella opens.\\xa0 He sits\\nback down defeated again.\\xa0 A moment of silence follows as Rachel sits and the others\\nexpect her to explain.)\\n\\nMonica: So you wanna tell us now, or are we waiting\\nfor four wet bridesmaids?\\n\\nRachel: Oh God... well, it started about a half hour\\nbefore the wedding. I was in the room where we were keeping all the presents, and I was\\nlooking at this gravy boat. This really gorgeous Lamauge gravy boat. When all of a sudden-\\n(to the waitress that brought her coffee)Sweet \\'n\\' Lo?- I realized that I was more turned\\non by this gravy boat than by Barry! And then I got really freaked out, and that\\'s when it\\nhit me: how much Barry looks like Mr. Potato Head. Y\\'know, I mean, I always knew looked\\nfamiliar, but... Anyway, I just had to get out of there, and I started wondering \\'Why am I\\ndoing this, and who am I doing this for?\\'. (to Monica) So anyway I just didn\\'t know where\\nto go, and I know that you and I have kinda drifted apart, but you\\'re the only person I\\nknew who lived here in the city.\\n\\nMonica: Who wasn\\'t invited to the wedding.\\n\\nRachel: Ooh, I was kinda hoping that wouldn\\'t be an\\nissue... [Scene: Monica\\'s Apartment, everyone is there and watching a Spanish Soap on TV\\nand are trying to figure out what is going on.]\\n\\nMonica: Now I\\'m guessing that he bought her the big\\npipe organ, and she\\'s really not happy about it. \\n\\nChandler: (imitating the characters)\\nTuna or egg salad?\\xa0 Decide!\\n\\nRoss: (in a deep voice) I\\'ll have\\nwhatever Christine is having.\\n\\nRachel: (on phone) Daddy, I just... I can\\'t marry\\nhim! I\\'m sorry. I just don\\'t love him. Well, it matters to me! \\n\\n(The scene on TV has changed to show two\\nwomen, one is holding her hair.)\\n\\nPhoebe:\\xa0 If I let go of\\nmy hair, my head will fall off. \\n\\nChandler: (re TV) Ooh, she should not be wearing\\nthose pants. \\n\\nJoey: I say push her down the stairs. \\n\\nPhoebe, Ross, Chandler, and Joey:\\xa0\\nPush her down the stairs! Push her down the stairs! Push her down the stairs!\\n\\n(She is pushed down the stairs and everyone cheers.)\\n\\nRachel: C\\'mon Daddy, listen to me! It\\'s like, it\\'s\\nlike, all of my life, everyone has always told me, \\'You\\'re a shoe! You\\'re a shoe, you\\'re a\\nshoe, you\\'re a shoe!\\'. And today I just stopped and I said, \\'What if I don\\'t wanna be a\\nshoe? What if I wanna be a- a purse, y\\'know? Or a- or a hat! No, I\\'m not saying I want you\\nto buy me a hat, I\\'m saying I am a ha- It\\'s a metaphor, Daddy!\\n\\nRoss: You can see where he\\'d have trouble.\\n\\nRachel: Look Daddy, it\\'s my life. Well maybe I\\'ll\\njust stay here with Monica. \\n\\nMonica: Well, I guess we\\'ve established who\\'s\\nstaying here with Monica...\\n\\nRachel: Well, maybe that\\'s my decision. Well, maybe\\nI don\\'t need your money. Wait!! Wait, I said maybe!!\\n\\n[Time Lapse, Rachel is breating into a paper bag.]\\n\\nMonica: Just breathe, breathe.. that\\'s it. Just try\\nto think of nice calm things...\\n\\nPhoebe: (sings) Raindrops on roses and rabbits and\\nkittens, (Rachel and Monica turn to look at her.) bluebells and sleighbells and- something\\nwith mittens... La la la la...something and noodles with\\nstring.\\xa0 These are a few...\\n\\nRachel: I\\'m all better now.\\n\\nPhoebe: (grins and walks to the kitchen and says to\\nChandler and Joey.) I helped!\\n\\nMonica: Okay, look, this is probably for the best,\\ny\\'know? Independence. Taking control of your life.\\xa0 The whole,\\n\\'hat\\' thing.\\n\\nJoey: (comforting her) And hey, you need anything,\\nyou can always come to Joey. Me and Chandler live across the hall. And he\\'s away a lot.\\n\\nMonica: Joey, stop hitting on her! It\\'s her wedding\\nday!\\n\\nJoey: What, like there\\'s a rule or something?\\n\\n(The door buzzer sounds and Chandler gets it.)\\n\\nChandler: Please don\\'t do that again, it\\'s a\\nhorrible sound.\\n\\nPaul: (over the intercom) It\\'s, uh,\\nit\\'s Paul.\\n\\nMonica: Oh God, is it\\n6:30?\\xa0 Buzz him in!\\n\\nJoey: Who\\'s Paul?\\n\\nRoss: Paul the Wine Guy, Paul?\\n\\nMonica: Maybe. Joey: Wait. Your \\'not a real\\ndate\\' tonight is with Paul the Wine Guy?\\n\\nRoss: He finally asked you out?\\n\\nMonica: Yes!\\n\\nChandler: Ooh, this is a Dear Diary moment.\\n\\nMonica: Rach, wait, I can cancel...\\n\\nRachel: Please, no, go, that\\'d be fine!\\n\\nMonica: (to Ross) Are, are you okay? I mean, do you\\nwant me to stay?\\n\\nRoss: (choked voice) That\\'d be good...\\n\\nMonica: (horrified) Really?\\n\\nRoss: (normal voice) No, go on! It\\'s Paul the Wine\\nGuy!\\n\\nPhoebe: What does that mean? \\xa0\\nDoes he sell it, drink it, or just complain a lot? (Chandler doesn\\'t know.)\\n\\n(There\\'s a knock on the door and it\\'s Paul.)\\n\\nMonica: Hi, come in! Paul, this is.. (They are all\\nlined up next to the door.)... everybody, everybody, this is Paul.\\n\\nAll: Hey! Paul! Hi! The Wine Guy! Hey!\\n\\nChandler: I\\'m sorry, I didn\\'t catch your name. Paul,\\nwas it?\\n\\nMonica: Okay, umm-umm, I\\'ll\\njust--I\\'ll be right back, I just gotta go ah, go ah...\\n\\nRoss: A wandering?\\n\\nMonica: Change!\\xa0 Okay,\\nsit down. (Shows Paul in) Two seconds.\\n\\nPhoebe: Ooh, I just pulled out four eyelashes. That\\ncan\\'t be good.\\n\\n(Monica goes to change.)\\n\\nJoey:\\xa0 Hey, Paul!\\n\\nPaul: Yeah?\\n\\nJoey: Here\\'s a little tip, she\\nreally likes it when you rub her neck in the same spot over and over and over again until\\nit starts to get a little red.\\n\\nMonica: (yelling from the bedroom)\\nShut up, Joey!\\n\\nRoss: So Rachel, what\\'re you, uh... what\\'re you up\\nto tonight?\\n\\nRachel: Well, I was kinda supposed to be headed for\\nAruba on my honeymoon, so nothing!\\n\\nRoss: Right, you\\'re not even getting your honeymoon,\\nGod.. No, no, although, Aruba, this time of year... talk about your- (thinks) -big\\nlizards... Anyway, if you don\\'t feel like being alone tonight, Joey and Chandler are\\ncoming over to help me put together my new furniture.\\n\\nChandler: (deadpan) Yes, and we\\'re very excited\\nabout it. \\n\\nRachel: Well actually thanks, but I think I\\'m just\\ngonna hang out here tonight.\\xa0 It\\'s been kinda a long day.\\n\\nRoss: Okay, sure.\\n\\nJoey: Hey Pheebs, you wanna help?\\n\\nPhoebe: Oh, I wish I could, but I don\\'t want to.\\n\\nCommercial Break\\n\\n[Scene: The Subway, Phoebe is singing for\\nchange.]\\n\\nPhoebe: (singing) Love is sweet as\\nsummer showers, love is a wondrous work of art, but your love oh your love, your love...is\\nlike a giant pigeon...crapping on my heart.\\xa0 La-la-la-la-la- (some guy gives her some\\nchange and to that guy) Thank you. (sings) La-la-la-la...ohhh!\\n\\n[Scene: Ross\\'s Apartment, the guys are there assembling\\nfurniture.]\\n\\nRoss: (squatting and reading the instructions) I\\'m\\nsupposed to attach a brackety thing to the side things, using a bunch of these little worm\\nguys. I have no brackety thing, I see no whim guys whatsoever and- I cannot feel my legs.\\n\\n(Joey and Chandler are finishing assembling\\nthe bookcase.)\\n\\nJoey: I\\'m thinking we\\'ve got a\\nbookcase here.\\n\\nChandler: It\\'s a beautiful thing.\\n\\nJoey: (picking up a leftover part) What\\'s this?\\n\\nChandler: I would have to\\nsay that is an \\'L\\'-shaped bracket.\\n\\nJoey: Which goes where?\\n\\nChandler: I have no\\nidea.\\n\\n(Joey checks that Ross is not looking and dumps it in a\\nplant.)\\n\\nJoey: Done with the bookcase!\\n\\nChandler: All finished!\\n\\nRoss: (clutching a beer can and sniffing) This was\\nCarol\\'s favorite beer. She always drank it out of the can, I should have known.\\n\\nJoey: Hey-hey-hey-hey, if you\\'re\\ngonna start with that stuff we\\'re outta here.\\n\\nChandler: Yes, please don\\'t spoil\\nall this fun.\\n\\nJoey: Ross, let me ask you a question. She got the\\nfurniture, the stereo, the good TV- what did you get?\\n\\nRoss: You guys.\\n\\nChandler: Oh, God.\\n\\nJoey: You got screwed.\\n\\nChandler: Oh my God!\\n\\n[Scene: A Restaurant, Monica and Paul are eating.]\\n\\nMonica: Oh my God!\\n\\nPaul: I know, I know, I\\'m such an idiot. I guess I\\nshould have caught on when she started going to the dentist four and five times a week. I\\nmean, how clean can teeth get?\\n\\nMonica: My brother\\'s going through that right now,\\nhe\\'s such a mess. How did you get through it?\\n\\nPaul: Well, you might try accidentally breaking\\nsomething valuable of hers, say her-\\n\\nMonica: -leg?\\n\\nPaul: (laughing) That\\'s one way! Me, I- I went for\\nthe watch.\\n\\nMonica: You actually broke her watch?\\xa0 Wow!\\xa0 The worst thing I ever did was, I-I shredded by\\nboyfriend\\'s favorite bath towel.\\n\\nPaul: Ooh, steer clear of you.\\n\\nMonica: That\\'s right.\\n[Scene: Monica\\'s Apartment, Rachel is talking on the phone and pacing.]\\n\\nRachel: Barry, I\\'m sorry... I am so sorry... I know\\nyou probably think that this is all about what I said the other day about you making love\\nwith your socks on, but it isn\\'t... it isn\\'t, it\\'s about me, and I ju- (She stops talking\\nand dials the phone.) Hi, machine cut me off again... anyway...look,\\nlook, I know that some girl is going to be incredibly lucky to become Mrs. Barry Finkel,\\nbut it isn\\'t me, it\\'s not me.\\xa0 And not that I have any idea who me is right now, but\\nyou just have to give me a chance too... (The maching cuts her off again and she redials.)\\n\\n[Scene: Ross\\'s Apartment; Ross is pacing while Joey and\\nChandler are working on some more furniture.]\\n\\nRoss: I\\'m divorced!\\xa0 I\\'m only\\n26 and I\\'m divorced!\\n\\nJoey: Shut up!\\n\\nChandler: You must stop! (Chandler\\nhits what he is working on with a hammer and it collapses.)\\n\\nRoss: That only took me an hour.\\n\\nChandler: Look, Ross, you gotta\\nunderstand, between us we haven\\'t had a relationship that has lasted longer than a Mento.\\n\\xa0 You, however have had the love of a woman for four years. \\xa0\\nFour years of closeness and sharing at the end of which she ripped your heart out, and\\nthat is why we don\\'t do it!\\xa0 I don\\'t think that was my point!\\n\\nRoss: You know what the scariest part is? What if\\nthere\\'s only one woman for everybody, y\\'know? I mean what if you get one woman- and that\\'s\\nit? Unfortunately in my case, there was only one woman- for her...\\n\\nJoey: What are you talking about? \\'One woman\\'?\\nThat\\'s like saying there\\'s only one flavor of ice cream for you. Lemme tell you something,\\nRoss. There\\'s lots of flavors out there. There\\'s Rocky Road, and Cookie Dough, and Bing!\\nCherry Vanilla. You could get \\'em with Jimmies, or nuts, or whipped cream! This is the\\nbest thing that ever happened to you! You got married, you were, like, what, eight?\\nWelcome back to the world! Grab a spoon!\\n\\nRoss: I honestly don\\'t know if I\\'m hungry or horny.\\n\\nChandler: Stay out of my freezer! [Scene: A\\nRestaurant, Monica and Paul are still eating.]\\n\\nPaul: Ever since she walked out on me, I, uh...\\n\\nMonica: What?..... What, you wanna spell it out with\\nnoodles?\\n\\nPaul: No, it\\'s, it\\'s more of a fifth date kinda\\nrevelation.\\n\\nMonica: Oh, so there is gonna be a fifth date?\\n\\nPaul: Isn\\'t there?\\n\\nMonica: Yeah... yeah, I think there is. -What were\\nyou gonna say?\\n\\nPaul: Well, ever-ev-... ever since she left me, um,\\nI haven\\'t been able to, uh, perform. (Monica takes a sip of her drink.) ...Sexually. \\n\\nMonica: (spitting out her drink in shock) Oh God, oh\\nGod, I am sorry... I am so sorry...\\n\\nPaul: It\\'s okay...\\n\\nMonica: I know being spit on is probably not what\\nyou need right now. Um... how long?\\n\\nPaul: Two years.\\n\\nMonica: Wow! I\\'m-I\\'m-I\\'m glad you smashed her watch!\\n\\n\\nPaul: So you still think you, um... might want that\\nfifth date?\\n\\nMonica: (pause)...Yeah. Yeah, I do.\\n\\n[Scene: Monica\\'s Apartment, Rachel is watching Joanne\\nLoves Chaci.]\\n\\nPriest on TV:\\nWe are gathered here today to join Joanne Louise Cunningham and\\nCharles, Chachi-Chachi-Chachi, Arcola in the bound of holy matrimony.\\n\\nRachel: Oh...see... but Joanne loved Chachi! That\\'s\\nthe difference!\\n\\n[Scene: Ross\\'s Apartment, they\\'re all sitting around and\\ntalking.]\\n\\nRoss: (scornful) Grab a spoon. Do you know how long\\nit\\'s been since I\\'ve grabbed a spoon? Do the words \\'Billy, don\\'t be a hero\\' mean anything\\nto you? \\n\\nJoey: Great story!\\xa0 But, I uh,\\nI gotta go, I got a date with Andrea--Angela--Andrea...\\xa0 Oh man, (looks to Chandler)\\n\\nChandler: Angela\\'s the screamer,\\nAndrea has cats.\\n\\nJoey: Right.\\xa0 Thanks.\\xa0\\nIt\\'s June.\\xa0 I\\'m outta here. (Exits.)\\n\\nRoss: Y\\'know, here\\'s the thing. Even if I could get\\nit together enough to- to ask a woman out,... who am I gonna ask? (He gazes out of the\\nwindow.)\\n\\n[Cut to Rachel staring out of her window.]\\n\\nCommercial Break\\n\\n[Scene: Monica\\'s Apartment, Rachel is making coffee for\\nJoey and Chandler.]\\n\\nRachel: Isn\\'t this amazing? I mean, I have never\\nmade coffee before in my entire life.\\n\\nChandler: That is amazing.\\n\\nJoey: Congratulations. \\n\\nRachel: Y\\'know, I figure if I can\\nmake coffee, there isn\\'t anything I can\\'t do.\\n\\nChandler: If can invade Poland,\\nthere isn\\'t anything I can\\'t do.\\n\\nJoey: Listen, while you\\'re on a roll, if you feel\\nlike you gotta make like a Western omelet or something... (Joey and Chandler taste the\\ncoffee, grimace, and pour it into a plant pot.) Although actually I\\'m really not that\\nhungry...\\n\\nMonica: (entering, to herself) Oh\\ngood, Lenny and Squigy are here.\\n\\nAll: Morning. Good morning.\\n\\nPaul: (entering from Monica\\'s room)\\nMorning.\\n\\nJoey: Morning, Paul.\\n\\nRachel: Hello, Paul.\\n\\nChandler: Hi, Paul, is it?\\n\\n(Monica and Paul walk to the door and talk in a low voice\\nso the others can\\'t hear.\\xa0 The others move Monica\\'s table closer to the door so that\\nthey can.)\\n\\nPaul: Thank you!\\xa0 Thank you so\\nmuch!\\n\\nMonica: Stop!\\n\\nPaul: No, I\\'m telling you last night\\nwas like umm, all my birthdays, both graduations, plus the barn raising scene in Witness.\\n\\nMonica: We\\'ll talk later.\\n\\nPaul: Yeah. (They kiss) Thank you. (Exits)\\n\\nJoey: That wasn\\'t a real date?! What the hell do you\\ndo on a real date?\\n\\nMonica: Shut up, and put my table back.\\n\\nAll: Okayyy! (They do so.)\\n\\nChandler: All right, kids, I gotta get to work. If I\\ndon\\'t input those numbers,... it doesn\\'t make much of a difference... \\n\\nRachel: So, like, you guys all have jobs?\\n\\nMonica: Yeah, we all have jobs. See, that\\'s how we\\nbuy stuff.\\n\\nJoey: Yeah, I\\'m an actor.\\n\\nRachel: Wow! Would I have seen you in anything?\\n\\nJoey: I doubt it. Mostly regional work.\\n\\nMonica: Oh wait, wait, unless you happened to catch\\nthe Reruns\\' production of Pinocchio, at the little theater in the\\npark.\\n\\nJoey: Look, it was a job all right?\\n\\nChandler: \\'Look, Gippetto, I\\'m a real live boy.\\'\\n\\nJoey: I will not take this abuse. (Walks to the door\\nand opens it to leave.)\\n\\nChandler: You\\'re right, I\\'m sorry. (Burst into song\\nand dances out of the door.) \"Once I was a wooden boy, a little wooden boy...\"\\n\\nJoey: You should both know,\\nthat he\\'s a dead man.\\xa0 Oh, Chandler? (Starts after Chandler.) \\n\\nMonica: So how you doing today? Did you sleep okay?\\nTalk to Barry? I can\\'t stop smiling.\\n\\nRachel: I can see that. You look like you slept with\\na hanger in your mouth.\\n\\nMonica: I know, he\\'s just so, so... Do you remember\\nyou and Tony DeMarco?\\n\\nRachel: Oh, yeah.\\n\\nMonica: Well, it\\'s like that. With feelings.\\n\\nRachel: Oh wow. Are you in trouble.\\n\\nMonica: Big time!\\n\\nRachel: Want a wedding dress? \\xa0\\nHardly used.\\n\\nMonica: I think we are getting\\na little ahead of selves here. Okay. Okay. I am just going to get up, go to work\\nand not think about him all day. Or else I\\'m just gonna get up and go to work.\\n\\nRachel: Oh, look, wish me luck!\\n\\nMonica: What for?\\n\\nRachel: I\\'m gonna go get one of those (Thinks) job\\nthings.\\n\\n(Monica exits.)\\n\\n[Scene: Iridium, Monica is working as Frannie enters.] \\n\\nFrannie: Hey, Monica! \\n\\nMonica: Hey Frannie, welcome back! How was Florida? \\n\\nFrannie: You had sex, didn\\'t you? \\n\\nMonica: How do you do that?\\n\\nFrannie: Oh, I hate you, I\\'m pushing my Aunt Roz through\\nParrot Jungle and you\\'re having sex!\\xa0 So? Who? \\n\\nMonica: You know Paul? \\n\\nFrannie: Paul the Wine Guy? Oh yeah, I know Paul. \\n\\nMonica: You mean you know Paul like I know Paul? \\n\\nFrannie: Are you kidding? I take credit for Paul. Y\\'know before me, there was no\\nsnap in his turtle for two years. \\n\\n[Scene: Central Perk, everyone but Rachel is there.]\\n\\nJoey: (sitting on the arm of the couch)Of course it was a line! \\n\\nMonica: Why?! Why? Why, why would anybody do something like that? \\n\\nRoss: I assume we\\'re looking for an answer more sophisticated than \\'to get you\\ninto bed\\'. \\n\\nMonica: I hate men!\\xa0 I hate men!\\n\\nPhoebe: Oh no, don\\'t hate, you don\\'t\\nwant to put that out into the universe.\\n\\nMonica: Is it me? Is it like I have some sort of\\nbeacon that only dogs and men with severe emotional problems can hear? \\n\\nPhoebe: All right, c\\'mere, gimme your feet. (She starts massaging them.) \\n\\nMonica: I just thought he was nice, y\\'know? \\n\\nJoey: (bursts out laughing again) I can\\'t believe you didn\\'t know it was a line!\\n\\n\\n(Monica pushes him off of the sofa as Rachel enters with a shopping bag.) \\n\\nRachel: Guess what? \\n\\nRoss: You got a job? \\n\\nRachel: Are you kidding? I\\'m trained for nothing! I was laughed out of twelve\\ninterviews today. \\n\\nChandler: And yet you\\'re surprisingly upbeat. \\n\\nRachel: You would be too if you found John and David boots on sale, fifty\\npercent off! \\n\\nChandler: Oh, how well you know me... \\n\\nRachel: They\\'re my new \\'I don\\'t need a job, I don\\'t need my parents, I\\'ve got\\ngreat boots\\' boots! \\n\\nMonica: How\\'d you pay for them? \\n\\nRachel: Uh, credit card. \\n\\nMonica: And who pays for that? \\n\\nRachel: Um... my... father. \\n\\n[Scene: Monica and Rachel\\'s, everyone is sitting around the kitchen table. \\xa0\\nRachel\\'s credit cards are spread out on the table along with a pair of scissors.]\\n\\nRachel: Oh God, come on you\\nguys, is this really necessary?\\xa0 I mean, I can stop charging anytime I want. \\n\\nMonica: C\\'mon, you can\\'t live off your parents your whole life. \\n\\nRachel: I know that. That\\'s why I was getting married. \\n\\nPhoebe: Give her a break, it\\'s hard being on your own for the first time. \\n\\nRachel: Thank you. \\n\\nPhoebe: You\\'re welcome. I remember when I first came to this city. I was\\nfourteen. My mom had just killed herself and my step-dad was back in prison, and I got\\nhere, and I didn\\'t know anybody. And I ended up living with this albino guy who was, like,\\ncleaning windshields outside port authority, and then he killed himself, and then I found\\naromatherapy. So believe me, I know exactly how you feel. \\n\\n(Pause) \\n\\nRoss: The word you\\'re looking for is \\'Anyway\\'... \\n\\nMonica: All right, you ready?\\n\\nRachel: No.\\xa0 No, no, I\\'m not\\nready!\\xa0 How can I be ready?\\xa0 \"Hey, Rach!\\xa0 You ready to jump out the\\nairplane without your parachute?\"\\xa0 Come on, I can\\'t do this!\\n\\nMonica: You can, I know you\\ncan! \\n\\nRachel: I don\\'t think so.\\n\\nRoss: Come on, you made\\ncoffee! \\xa0 You can do anything! (Chandler slowly tries to hide the now dead plant from\\nthat morning when he and Joey poured their coffee into it.)\\n\\nRoss: C\\'mon, cut. Cut, cut, cut,... \\n\\nAll: Cut, cut, cut, cut, cut, cut, cut... (She cuts one of them and they cheer.)\\n\\nRachel: Y\\'know what?\\xa0 I think\\nwe can just leave it at that.\\xa0 It\\'s kinda like a symbolic gesture...\\n\\nMonica:\\xa0 Rachel!\\xa0\\nThat was a library card! \\n\\nAll: Cut, cut, cut, cut, cut, cut, cut..\\n\\nChandler: (as Rachel is cutting up\\nher cards) Y\\'know, if you listen closely, you can hear a thousand retailers scream. \\n\\n(She finishes cutting them up and they all\\ncheer.)\\n\\nMonica: Welcome to the real world! It sucks. You\\'re\\ngonna love it! \\n\\n[Time Lapse, Rachel and Ross are watching a TV channel finishes it\\'s broadcast day by\\nplaying the national anthem.] \\n\\nMonica: Well, that\\'s it (To Ross) You gonna crash on the couch? \\n\\nRoss: No. No, I gotta go home sometime. \\n\\nMonica: You be okay? \\n\\nRoss: Yeah. \\n\\nRachel: Hey Mon, look what I just found on the floor. (Monica smiles.) What? \\n\\nMonica: That\\'s Paul\\'s watch. You just put it back where you found it. Oh boy.\\nAlright. Goodnight, everybody. \\n\\nRoss and Rachel: Goodnight.\\n\\n(Monica stomps on Paul\\'s watch and goes into her room.)\\n\\nRoss: Mmm. (They both reach for the last cookie) Oh, no- \\n\\nRachel: Sorry- \\n\\nRoss: No no no, go- \\n\\nRachel: No, you have it, really, I don\\'t want it- \\n\\nRoss: Split it? \\n\\nRachel: Okay. \\n\\nRoss: Okay. (They split it.) You know you probably didn\\'t know this, but back in\\nhigh school, I had a, um, major crush on you. \\n\\nRachel: I knew. \\n\\nRoss: You did! Oh.... I always figured you just thought I was Monica\\'s geeky\\nolder brother. \\n\\nRachel: I did. \\n\\nRoss: Oh. Listen, do you think- and try not to let my intense vulnerability\\nbecome any kind of a factor here- but do you think it would be okay if I asked you out?\\nSometime? Maybe? \\n\\nRachel: Yeah, maybe... \\n\\nRoss: Okay... okay, maybe I will... \\n\\nRachel: Goodnight. \\n\\nRoss: Goodnight. \\n\\n(Rachel goes into her room and Monica enters the living room as Ross is leaving.) \\n\\nMonica: See ya.... Waitwait, what\\'s with you? \\n\\nRoss: I just grabbed a spoon. (Ross exits and Monica has no idea what that\\nmeans.) \\n\\nClosing Credits\\n\\n[Scene: Central Perk, everyone is there.] \\n\\nJoey: I can\\'t believe what I\\'m hearing here. \\n\\nPhoebe: (sings) I can\\'t believe what I\\'m hearing here... \\n\\nMonica: What? I-I said you had a- \\n\\nPhoebe: (sings) What I said you had... \\n\\nMonica: (to Phoebe) Would you stop? \\n\\nPhoebe: Oh, was I doing it again?\\n\\nAll: Yes!\\n\\nMonica: I said that you had a nice\\nbutt, it\\'s just not a great butt.\\n\\nJoey: Oh, you wouldn\\'t know a great\\nbutt if it came up and bit ya.\\n\\nRoss: There\\'s an image.\\n\\n\\nRachel: (walks up with a pot of coffee) Would anybody like more coffee? \\n\\nChandler: Did you make it, or are you just serving it? \\n\\nRachel: I\\'m just serving it. \\n\\nAll: Yeah. Yeah, I\\'ll have a cup of coffee. \\n\\nChandler: Kids, new dream... I\\'m in Las Vegas. (Rachel\\nsits down to hear Chandler\\'s dream.)\\n\\nCustomer: (To\\nRachel) Ahh, miss? \\xa0 More coffee? \\n\\nRachel: Ugh. (To another customer that\\'s leaving.) Excuse me, could you give\\nthis to that guy over there? (Hands him the coffee pot.) Go ahead. (He does so.) Thank\\nyou. (To the gang.) Sorry.\\xa0 Okay, Las Vegas.\\n\\nChandler: Okay, so, I\\'m in Las\\nVegas... I\\'m Liza Minelli- \\n\\nEnd\\n\\n\\n'"
      ]
     },
     "execution_count": 19,
     "metadata": {},
     "output_type": "execute_result"
    }
   ],
   "source": [
    "episode_scripts[0]"
   ]
  },
  {
   "cell_type": "code",
   "execution_count": 34,
   "metadata": {
    "ExecuteTime": {
     "end_time": "2018-05-29T19:45:16.960042Z",
     "start_time": "2018-05-29T19:45:16.956912Z"
    }
   },
   "outputs": [],
   "source": [
    "scene_pos = []\n",
    "for i,episode in enumerate(episode_scripts):\n",
    "    scene_pos.append((episode.find('Scene'),episode_names[i],i))"
   ]
  },
  {
   "cell_type": "code",
   "execution_count": 35,
   "metadata": {
    "ExecuteTime": {
     "end_time": "2018-05-29T19:45:17.675476Z",
     "start_time": "2018-05-29T19:45:17.662847Z"
    }
   },
   "outputs": [
    {
     "data": {
      "text/plain": [
       "[(337, 'Episode 101: The Pilot-The Uncut Version', 0),\n",
       " (156, 'Episode 102: The One With The Sonogram At the End', 1),\n",
       " (131, 'Episode 103: The One With The Thumb', 2),\n",
       " (134, 'Episode 104: The One With George Stephanopoulos', 3),\n",
       " (234, 'Episode 105: The One With The East German Laundry Detergant', 4),\n",
       " (125, 'Episode 106: The One With The Butt', 5),\n",
       " (139, 'Episode 107: The One With The Blackout', 6),\n",
       " (170, 'Episode 108: The One Where Nana Dies Twice', 7),\n",
       " (206, 'Episode 109: The One Where Underdog Gets Away', 8),\n",
       " (129, 'Episode 110: The One With The Monkey', 9),\n",
       " (109, 'Episode 111: The One With Mrs. Bing', 10),\n",
       " (229, 'Episode 112: The One With The Dozen Lasagnas', 11),\n",
       " (113, 'Episode 113: The One With The Boobies', 12),\n",
       " (179, 'Episode 114: The One With The Candy Hearts', 13),\n",
       " (141, 'Episode 115: The One With The Stoned Guy', 14),\n",
       " (191, 'Episode 116: The One With Two Parts: Part One', 15),\n",
       " (208, 'Episode 117: The One With Two Parts: Part Two', 16),\n",
       " (927, 'Episode 118: The One With All The Poker', 17),\n",
       " (372, 'Episode 119: The One Where The Monkey Gets Away', 18),\n",
       " (134, 'Episode 120: The One With The Evil Orthodontist', 19),\n",
       " (139, 'Episode 121: The One With The Fake Monica', 20),\n",
       " (125, 'Episode 122: The One The Ick Factor', 21),\n",
       " (226, 'Episode 123: The One With The Birth', 22),\n",
       " (132, 'Episode 124: The One Where Rachel Finds Out', 23),\n",
       " (202, \"Episode 201: The One With Ross's New Girlfriend\", 24),\n",
       " (190, 'Episode 202: The One With The Breast Milk', 25),\n",
       " (198, 'Episode 203: The One Where Heckles Dies', 26),\n",
       " (125, \"Episode 204: The One With Phoebe's Husband\", 27),\n",
       " (200, 'Episode 205: The One With Five Steaks and an Eggplant', 28),\n",
       " (181, 'Episode 206: The One With The Baby On the Bus', 29),\n",
       " (162, 'Episode 207: The One Where Ross Finds Out', 30),\n",
       " (226, 'Episode 208: The One With The List', 31),\n",
       " (180, \"Episode 209: The One With Phoebe's Dad\", 32),\n",
       " (1653, 'Episode 210: The One With Russ', 33),\n",
       " (-1, 'Episode 211: The One With The Lesbian Wedding', 34),\n",
       " (561, 'Episode 212: The One After the Superbowl', 35),\n",
       " (212, 'Episode 214: The One With The Prom Video', 36),\n",
       " (192, 'Episode 215: The One Where Ross and Rachel...You Know', 37),\n",
       " (168, 'Episode 216: The One Where Joey Moves Out', 38),\n",
       " (123, 'Episode 217: The One Where Eddie Moves In', 39),\n",
       " (115, 'Episode 218: The One Where Dr. Remoray Dies', 40),\n",
       " (124, \"Episode 219: The One Where Eddie Won't Go\", 41),\n",
       " (126, 'Episode 220: The One Where Old Yeller Dies', 42),\n",
       " (145, 'Episode 221: The One With The Bullies', 43),\n",
       " (124, 'Episode 222: The One With The Two Parties', 44),\n",
       " (126, 'Episode 223: The One With The Chicken Pox', 45),\n",
       " (171, \"Episode 224: The One With Barry and Mindy's Wedding\", 46),\n",
       " (169, 'Episode 301: The One With The Princess Leia Fantasy', 47),\n",
       " (128, \"Episode 302: The One Where No One's Ready\", 48),\n",
       " (108, 'Episode 303: The One With All The Jam', 49),\n",
       " (140, 'Episode 304: The One With The Metophorical Tunnel', 50),\n",
       " (139, 'Episode 305: The One With Frank Jr.', 51),\n",
       " (260, 'Episode 306: The One With The Flashback', 52),\n",
       " (125, 'Episode 307: The One With The Racecar Bed', 53),\n",
       " (139, 'Episode 308: The One With The Giant Poking Device', 54),\n",
       " (122, 'Episode 309: The One With The Football', 55),\n",
       " (145, 'Episode 310: The One Where Rachel Quits', 56),\n",
       " (169, \"Episode 311: The One Where Chandler Can't Remember Which Sister\", 57),\n",
       " (125, 'Episode 312: The One With All The Jealousy', 58),\n",
       " (158, 'Episode 313: The One Where Monica And Richard Are Friends', 59),\n",
       " (131, \"Episode 314: The One With Phoebe's Ex-Partner\", 60),\n",
       " (154, 'Episode 315: The One Where Ross and Rachel Take A Break', 61),\n",
       " (256, 'Episode 316: The One The Morning After', 62),\n",
       " (149, 'Episode 317: The One Without The Ski Trip', 63),\n",
       " (126, 'Episode 318: The One With The Hypnosis Tape', 64),\n",
       " (123, 'Episode 319: The One With The Tiny T-Shirt', 65),\n",
       " (117, 'Episode 320: The One With The Dollhouse', 66),\n",
       " (130, 'Episode 321: The One With A Chick.\\xa0 And A Duck', 67),\n",
       " (141, 'Episode 322: The One With The Screamer', 68),\n",
       " (128, \"Episode 323: The One With Ross's Thing\", 69),\n",
       " (223, 'Episode 324: The One With The Ultimate Fighting Championship', 70),\n",
       " (150, 'Episode 325: The One At The Beach', 71),\n",
       " (1316, 'Episode 401: The One With The Jellyfish', 72),\n",
       " (119, 'Episode 402: The One With The Cat', 73),\n",
       " (148, \"Episode 403: The One With The 'Cuffs\", 74),\n",
       " (147, 'Episode 404: The One With The Ballroom Dancing', 75),\n",
       " (158, \"Episode 405: The One With Joey's New Girlfriend\", 76),\n",
       " (161, 'Episode 406: The One With The Dirty Girl', 77),\n",
       " (140, 'Episode 407: The One Where Chandler Crosses the Line', 78),\n",
       " (130, 'Episode 408: The One With Chandler In A Box', 79),\n",
       " (148, \"Episode 409: The One Where They're Gonna PARTY!\", 80),\n",
       " (147, 'Episode 410: The One With The Girl From Poughkeepsie', 81),\n",
       " (126, \"Episode 411: The One With Phoebe's Uterus\", 82),\n",
       " (129, 'Episode 412: The One With The Embryos', 83),\n",
       " (132, \"Episode 413: The One With Rachel's Crush\", 84),\n",
       " (126, \"Episdoe 414: The One With Joey's Dirty Day\", 85),\n",
       " (158, 'Episode 415: The One With All The Rugby', 86),\n",
       " (180, 'Episode 416: The One With The Fake Party', 87),\n",
       " (151, 'Episode 417: The One With The Free Porn', 88),\n",
       " (179, \"Episode 418: The One With Rachel's New Dress\", 89),\n",
       " (136, 'Episode 419: The One With All The Haste', 90),\n",
       " (185, 'Episode 420: The One With All The Wedding Dreses', 91),\n",
       " (287, 'Episode 421: The One With The Invitation', 92),\n",
       " (167, 'Episode 422: The One With The Worst Best Man Ever', 93),\n",
       " (309, \"Episode 423: The One With Ross's Wedding Parts I and II\", 94),\n",
       " (658, \"Episode 423: The One With Ross's Wedding - The Uncut Version\", 95),\n",
       " (129, 'Episode 501: The One After Ross Says Rachel', 96),\n",
       " (124, 'Episode 502: The One With All The Kissing', 97),\n",
       " (119, 'Episode 503: The One Hundredth', 98),\n",
       " (131, 'Episode 504: The One Where Phoebe Hates PBS', 99),\n",
       " (120, 'Episode 505: The One With All the Kips', 100),\n",
       " (110, 'Episode 506: The One With The Yeti', 101),\n",
       " (137, 'Episode 507: The One Where Ross Moves In', 102),\n",
       " (148, 'Episode 508: The One With The Thanksgiving Flashbacks', 103),\n",
       " (137, \"Episode 509: The One With Ross's Sandwich\", 104),\n",
       " (181, 'Episode 510: The One With The Inappropriate Sister', 105),\n",
       " (159, 'Episode 511: The One With All The Resolutions', 106),\n",
       " (146, \"Episode 512: The One With Chandler's Work Laugh\", 107),\n",
       " (142, \"Episode 513: The One With Joey's Bag\", 108),\n",
       " (132, 'Episode 514: The One Where Everyone Finds Out', 109),\n",
       " (137, 'Episode 515: The One With The Girl Who Hits Joey', 110),\n",
       " (152, 'Episode 516: The One With A Cop', 111),\n",
       " (157, \"Episode 517: The One With Rachel's Inadvertant Kiss\", 112),\n",
       " (125, 'Episode 518: The One Where Rachel Smokes', 113),\n",
       " (128, \"Episode 519: The One Where Ross Can't Flirt\", 114),\n",
       " (147, 'Episode 520: The One With The Ride Along', 115),\n",
       " (135, 'Episode 521: The One With The Ball', 116),\n",
       " (159, \"Episode 522: The One With Joey's Big Break\", 117),\n",
       " (169, 'Episode 523: The One In Vegas', 118),\n",
       " (105, 'Episode 601: The One After Vegas', 119),\n",
       " (138, 'Episode 602: The One Where Ross Hugs Rachel', 120),\n",
       " (121, \"Episode 603: The One With Ross's Denial\", 121),\n",
       " (157, 'Episode 604: The One Where Joey Loses His Insurance', 122),\n",
       " (137, \"Episode 605: The One With Joey's Porsche\", 123),\n",
       " (174, 'Episode 606: The One The Last Night', 124),\n",
       " (184, 'Episode 607: The One Where Phoebe Runs', 125),\n",
       " (147, \"Episode 608: The One With Ross's Teeth\", 126),\n",
       " (119, 'Episode 609: The One Where Ross Got High', 127),\n",
       " (121, 'Episode 610: The One With The Routine', 128),\n",
       " (164, 'Episode 611: The One With The Apothecary Table', 129),\n",
       " (156, 'Episode 612: The One With The Joke', 130),\n",
       " (167, \"Episode 613: The One With Rachel's Sister\", 131),\n",
       " (145, \"Episode 614: The One Where Chandler Can't Cry\", 132),\n",
       " (549, 'Episode 615: The One That Could Have Been', 133),\n",
       " (141, 'Episode 617: The One With The Unagi', 134),\n",
       " (137, 'Episode 618: The One Where Ross Dates A Student', 135),\n",
       " (159, \"Episode 619: The One With Joey's Fridge\", 136),\n",
       " (136, 'Episode 620: The One With Mac And C.H.E.E.S.E.', 137),\n",
       " (176, \"Episode 621: The One Where Ross Meets Elizabeth's Dad\", 138),\n",
       " (170, \"Episode 622: The One Where Paul's The Man\", 139),\n",
       " (123, 'Episode 623: The One With The Ring', 140),\n",
       " (211, 'Episode 624: The One With The Proposal', 141),\n",
       " (166, \"Episode 701: The One With Monica's Thunder\", 142),\n",
       " (133, \"Episode 702: The One With Rachel's Book\", 143),\n",
       " (145, \"Episode 703: The One With Phoebe's Cookies\", 144),\n",
       " (159, \"Episode 704: The One With Rachel's Assistant\", 145),\n",
       " (158, 'Episode 705: The One With The Engagement Picture', 146),\n",
       " (146, 'Episode 706: The One With The Nap Partners', 147),\n",
       " (147, \"Episode 707: The One With Ross's Library Book\", 148),\n",
       " (171, \"Episode 708: The One Where Chandler Doesn't Like Dogs\", 149),\n",
       " (149, 'Episode 709: The One With All The Candy', 150),\n",
       " (136, 'Episode 710: The One With The Christmas Armadilio', 151),\n",
       " (178, 'Episode 711: The One With All The Cheesecakes', 152),\n",
       " (140, \"Episode 712: The One Where They're Up All Night\", 153),\n",
       " (180, 'Episode 713: The One Where Rosita Dies', 154),\n",
       " (184, 'Episode 714: The One Where They All Turn Thirty', 155),\n",
       " (181, \"Episode 715: The One With Joey's New Brain\", 156),\n",
       " (217, 'Episode 716: The One With The Truth About London', 157),\n",
       " (196, 'Episode 717: The One With The Cheap Wedding Dress', 158),\n",
       " (160, \"Episode 718: The One With Joey's Award\", 159),\n",
       " (155, \"Episode 719: The One With Ross and Monica's Cousin\", 160),\n",
       " (156, \"Episode 720: The One With Rachel's Big Kiss\", 161),\n",
       " (199, 'Episode 721: The One With The Vows', 162),\n",
       " (165, \"Episode 722: The One With Chandler's Dad\", 163),\n",
       " (221, \"Episode 723: The One With Monica and Chandler's Wedding\", 164),\n",
       " (637, \"Friends: The Stuff You've Never Seen\", 165),\n",
       " (125, 'Episode 801: The One After \"I Do\"', 166),\n",
       " (159, 'Episode 802: The One With The Red Sweater', 167),\n",
       " (150, 'Episode 803: The One Where Rachel Tells...', 168),\n",
       " (122, 'Episode 804: The One With The Videotape', 169),\n",
       " (140, \"Episode 805: The One With Rachel's Date\", 170),\n",
       " (133, 'Episode 806: The One With The Halloween Party', 171),\n",
       " (153, 'Episode 807: The One With The Stain', 172),\n",
       " (160, 'Episode 808: The One With The Stripper', 173),\n",
       " (122, 'Episode 809: The One With The Rumor', 174),\n",
       " (168, \"Episode 810: The One With Monica's Boots\", 175),\n",
       " (141, \"Episode 811: The One With Ross's Big Step Forward\", 176),\n",
       " (185, 'Episode 812: The One Where Joey Dates Rachel', 177),\n",
       " (171, 'Episode 813: The One Where Chandler Takes A Bath', 178),\n",
       " (148, 'Episode 814: The One With The Secret Closet', 179),\n",
       " (139, 'Episode 815: The One With The Birthing Video', 180),\n",
       " (191, 'Episode 816: The One Where Joey Tells Rachel', 181),\n",
       " (159, 'Episode 817: The One With The Tea Leaves', 182),\n",
       " (158, 'Episode 818: The One In Massapequa', 183),\n",
       " (239, \"Episode 819: The One With Joey's Interview\", 184),\n",
       " (150, 'Episode 820: The One With The Baby Shower', 185),\n",
       " (177, 'Episode 821: The One With The Cooking Class', 186),\n",
       " (134, 'Episode 822: The One Where Rachel Is Late', 187),\n",
       " (201, 'Episode 823: The One Where Rachel Has A Baby', 188),\n",
       " (145, 'Episode 901: The One Where No One Proposes', 189),\n",
       " (114, 'Episode 902: The One Where Emma Cries', 190),\n",
       " (-1, 'Episode 903: The One With The Pediatrician', 191),\n",
       " (89, 'Episode 904: The One With The Sharks', 192),\n",
       " (386, \"Episode 905: The One With Phoebe's Birthday Dinner\", 193),\n",
       " (592, 'Episode 906: The One With The Male Nanny', 194),\n",
       " (474, \"Episode 907: The One With Ross's Inappropriate Song\", 195),\n",
       " (386, \"Episode 908: The One With Rachel's Other Sister\", 196),\n",
       " (341, \"Episode 909: The One With Rachel's Phone Number\", 197),\n",
       " (321, 'Episode 910: The One With Christmas In Tulsa', 198),\n",
       " (145, 'Episode 911: The One Where Rachel Goes Back To Work', 199),\n",
       " (152, \"Episode 912: The One With Phoebe's Rats\", 200),\n",
       " (219, 'Episode 913: The One Where Monica Sings', 201),\n",
       " (110, 'Episode 914: The One With The Blind Dates', 202),\n",
       " (121, 'Episode 915: The One With The Mugging', 203),\n",
       " (131, 'Episode 916: The One With The Boob Job', 204),\n",
       " (684, 'Episode 917: The One With The Memorial Service', 205),\n",
       " (230, 'Episode 918: The One With The Lottery', 206),\n",
       " (616, \"Episode 919: The One With Rachel's Dream\", 207),\n",
       " (1027, 'Episode 920: The One With The Soap Opera Party', 208),\n",
       " (1422, 'Episode 921: The One With The Fertility Test', 209),\n",
       " (580, 'Episode 922: The One With The Donor', 210),\n",
       " (669, 'Episode 923: The One In Barbados (1)', 211),\n",
       " (669, 'Episode 924: The One In Barbados (2)', 212),\n",
       " (2566, 'Episode 1001: The One After Joey and Rachel Kiss', 213),\n",
       " (2717, 'Episode 1002: The One Where Ross is Fine', 214),\n",
       " (2749, \"Episode 1003: The One With Ross' Tan\", 215),\n",
       " (3053, 'Episode 1004: The One With The Cake', 216),\n",
       " (2811, \"Epsiode 1005: The One Where Rachel's Sister Babysits\", 217),\n",
       " (2974, \"Epsiode 1006: The One With Ross' Grant\", 218),\n",
       " (2892, 'Episode 1007:The One With The Home Study', 219),\n",
       " (2915, 'Episode 1008: The One With The Late Thanksgiving', 220),\n",
       " (2897, 'Episode 1009: The One With The Birth Mother', 221),\n",
       " (3133, 'Episode 1010: The One Where Chandler Gets Caught', 222),\n",
       " (3021, 'Episode 1011: The One Where the Stripper Cries', 223),\n",
       " (2971, \"Episode 1012: The One With Phoebe's Wedding\", 224),\n",
       " (3013, 'Episode 1013: The One Where Joey Speaks French', 225),\n",
       " (2950, 'Epsiode 1014: The One With Princess Consuela', 226),\n",
       " (5661, 'Episode 1015: The One Where Estelle Dies', 227),\n",
       " (2829, \"Episode 1016: The One With Rachel's Going Away Party\", 228),\n",
       " (2534, 'Episode 1017: The Last One (1)', 229),\n",
       " (2534, 'Episode 1018: The Last One (2)', 230)]"
      ]
     },
     "execution_count": 35,
     "metadata": {},
     "output_type": "execute_result"
    }
   ],
   "source": [
    "scene_pos"
   ]
  },
  {
   "cell_type": "code",
   "execution_count": 36,
   "metadata": {
    "ExecuteTime": {
     "end_time": "2018-05-29T19:45:19.673314Z",
     "start_time": "2018-05-29T19:45:19.669770Z"
    }
   },
   "outputs": [
    {
     "data": {
      "text/plain": [
       "[(-1, 'Episode 211: The One With The Lesbian Wedding', 34),\n",
       " (-1, 'Episode 903: The One With The Pediatrician', 191)]"
      ]
     },
     "execution_count": 36,
     "metadata": {},
     "output_type": "execute_result"
    }
   ],
   "source": [
    "[x for x in scene_pos if x[0]<0]"
   ]
  },
  {
   "cell_type": "code",
   "execution_count": 12,
   "metadata": {
    "ExecuteTime": {
     "end_time": "2018-05-29T19:38:12.925992Z",
     "start_time": "2018-05-29T19:38:12.917936Z"
    }
   },
   "outputs": [],
   "source": [
    "for i,episode in enumerate(episode_scripts):\n",
    "    episode_scripts[i] = episode[episode.find('Scene')-1:]"
   ]
  },
  {
   "cell_type": "code",
   "execution_count": 15,
   "metadata": {
    "ExecuteTime": {
     "end_time": "2018-05-29T19:39:02.748668Z",
     "start_time": "2018-05-29T19:39:02.744027Z"
    }
   },
   "outputs": [
    {
     "data": {
      "text/plain": [
       "'[Scene: Chandler and Joey\\'s, 3:02 A.M., Chandler is up. There\\'s a knock on the door and\\nChandler answers it.]\\n\\nMonica: (quietly) Hi!\\n\\nChandler: (quietly) Hi! (They both start kissing.)\\n\\n(Joey enters and Chandler pushes her away.)\\n\\nJoey: Monica? What time is it?\\n\\nChandler: Uhh, 9. (He pushes the clock into the sink.)\\n\\nJoey: But it\\'s dark out.\\n\\nMonica: Well that\\'s because you always sleep to noon, silly! This is what 9\\nlooks like.\\n\\nJoey: I guess I\\'ll get washed up then. Watch that sunrise. (He goes into the\\nbathroom.)\\n\\nMonica: I\\'m really getting tired of sneaking around.\\n\\nChandler: I know, me too. Hey! Y\\'know what if we went away for a whole weekend?\\nY\\'know we\\'d have no interruptions and we could be naked the entire time.\\n\\nMonica: All weekend? That\\'s a whole lotta naked.\\n\\nChandler: Yeah, I can say that I have a conference and you can say you have a\\nchef thing.\\n\\nMonica: Ohh, I\\'ve always wanted to go to this culinary fair that they have in\\nJersey!\\n\\nChandler: Okay, y\\'know your not though. Let\\'s go. (He starts for his bedroom.)\\n\\nMonica: Wait! What about Joey?\\n\\n(Chandler opens the bathroom door to reveal Joey passed out on the toilet with a\\ntoothbrush in his mouth.)\\n\\nOpening Credits\\n\\n[Scene: Monica and Rachel\\'s, the next morning, Chandler, Joey, and Phoebe are eating\\nbreakfast.]\\n\\nMonica: (entering from her room) Hey, guess what I\\'m doing this weekend! I\\'m\\ngoing to this culinary fair in New Jersey.\\n\\nPhoebe: Oh weird, Chandler just told us he\\'s got a conference there!\\n\\nMonica: Oh now that-that-that\\'s funny, it seems like Chandler\\'s conference\\ncould\\'ve been in Connecticut or Vermont.\\n\\nChandler: I\\'m not in charge of where the conference is held. Do you want people\\nto think it\\'s a fake conference? It\\'s a real conference.\\n\\nRoss: (entering) Hey.\\n\\nJoey: Hey!\\n\\nMonica: Hey.\\n\\nRoss: Is Rachel here? I gotta talk to her.\\n\\nMonica: No, she\\'s out shopping.\\n\\nRoss: Damn!\\n\\nChandler: What\\'s going on?\\n\\nRoss: I told Emily to come. And I just need to y\\'know, talk to Rachel about it.\\n\\nPhoebe: Wait a minute! So when Emily comes you\\'re just, you\\'re not gonna see\\nRachel anymore?\\n\\nRoss: Well look, I\\'m just trying to focus on the \"I get to see my\\nwife,\" part, all right? And not the part that makes me do this. (He takes a big swig\\nof Pepto Bismol.)\\n\\nMonica: Wow, so you guys are, you\\'re never gonna be in the same room together?\\nHow is that even gonna work?\\n\\nRoss: I have no idea. I mean… But-but I assure you I will figure it out.\\n\\n(They all reflect briefly on what was said.)\\n\\nJoey: Doesn’t seem like it\\'s going to work, I mean…\\n\\nRachel: (entering) Hi, guys!\\n\\nJoey: Hi!\\n\\nChandler: Uh, hey!\\n\\nRachel: What\\'s going on?\\n\\nChandler: We\\'re flipping Monica\\'s mattress.\\n\\nJoey: So I\\'m thinking, basically we pick it up and then we flip it.\\n\\nPhoebe: Yeah that\\'s better than my way.\\n\\n(They all agree and head to Monica\\'s room.)\\n\\nRachel: Oh okay, hey guys, would you flip mine too?\\n\\nChandler: Aww, man! (They go into Monica\\'s room.)\\n\\nRachel: (going through the mail) Oh look! A letter from my mom.\\n\\nRoss: So, Rach, y\\'know-y\\'know how Emily\\'s coming right?\\n\\nRachel: Oh yeah! I know.\\n\\n[Cut to Monica\\'s bedroom, Chandler is trying to listen through the door.]\\n\\nPhoebe: (To Chandler) Can you hear anything?\\n\\nChandler: Oh yes, somebody just said, \"Can you hear anything?\"\\n\\n(Joey is bent over at the waist and is looking for something under Monica\\'s bed.)\\n\\nMonica: Hey, Joey\\'s ass! What are you doing?\\n\\nJoey: (holding a box) Well, remember when they got in that big fight and broke\\nup and we were all stuck in her with no food or anything? Well, when Ross said Rachel at\\nthe wedding, I figured it was gonna happen again, so I hid this in here.\\n\\nMonica: Ooh, candy bars, crossword puzzles…\\n\\nPhoebe: Ooh, Madlibs, mine! (Grabs it.)\\n\\nChandler: Condoms?\\n\\nJoey: You don\\'t know how long we\\'re gonna be in here! We may have to\\nrepopulate the Earth.\\n\\nChandler: And condoms are the way to do that?\\n\\n[Cut to the living room.]\\n\\nRoss: Anyway it-it kinda-it all boils down to this, the last time I talked to\\nEmily…\\n\\nRachel: (interrupting) Oh my God! My dog died!\\n\\nRoss: What?!\\n\\nRachel: Oh my God, Le Poo, our dog!\\n\\nRoss: Le Poo\\'s still alive?!\\n\\nRachel: Oh God, it says he was hit by an ice cream truck and dragged for\\nnine-(turns over the note)-teen blocks. Oh. (They all come out from Monica\\'s bedroom) Oh\\nmy God.\\n\\nMonica: Sweetie, we heard you crying. Please don\\'t cry.\\n\\nRachel: It\\'s Le Poo.\\n\\nPhoebe: I know it\\'s le poo right now, but it\\'ll get better.\\n\\n[Scene: Atlantic City, New Jersey, Chandler and Monica are about to start their weekend\\nof sex, sex, nothing but sex.]\\n\\nChandler: (jumping on the bed) I can\\'t believe it! We\\'re here!\\n\\nMonica: Ooh, chocolates on the pillows! I love that!\\n\\nChandler: Oh, you should live with Joey, Roll-os everywhere.\\n\\nMonica: Come here. (He does, and they kiss.) Okay, be right back. \\n\\n(Goes to the bathroom and Chandler turns on the TV and finds a high-speed police\\nchase.)\\n\\nChandler: Oh yes! Monica, get in here! There\\'s a high-speed car chase on!\\n\\n(Monica returns, carrying a glass.)\\n\\nMonica: We\\'re switching rooms.\\n\\nChandler: (looks at what she\\'s holding and shies away) Oh dear God, they gave us\\nglasses!\\n\\nMonica: No, they gave us glasses with lipstick on them! I mean, if they didn\\'t\\nchange the glasses, who knows what else they didn\\'t change. (He glares at her.) Come on\\nsweetie, I just want this weekend to be perfect, I mean we can change rooms, can\\'t we?\\n\\nChandler: Okay, but let\\'s do it now though, because Chopper 5 just lost it\\'s\\nfeed! (He grabs their bags and sprints out.)\\n\\n[Scene: Central Perk, Ross is trying to tell Rachel about Emily\\'s ultimatum again.]\\n\\nRoss: Hey, so uh, y\\'know how there\\'s something I wanted to talk to you about?\\n\\nRachel: Oh yeah! (Turns to face him.)\\n\\nRoss: Well, y\\'know how I\\'m trying to work things out with Emily. Well, there\\'s\\nthis one thing… Okay, (Rachel has her back turned to the camera, and Ross isn\\'t\\nlooking at her.) here goes. I made a promise that-(they cut to the other camera and Ross\\nnotices something coming out of Rachel\\'s nose)-Oh hey!\\n\\nRachel: What?\\n\\nRoss: You\\'re nose is bleeding!\\n\\nRachel: Oh God. (He hands her some tissues.) No! Oh not again! (Wiping her\\nnose.) This-this happened when my grandfather died. It\\'s ugh! Sorry. (She puts her head\\nback.) Oh, okay, so I\\'m sorry, what-what were you-what did you want to tell me?\\n\\nRoss: Umm… (Rachel blows her nose.)\\n\\nRachel: Sorry. Sorry.\\n\\nRoss: Okay, I uh, I can\\'t see you anymore.\\n\\nRachel: Yeah, I know. It\\'s ridiculous! I can\\'t see you either.\\n\\n[Scene: Chandler and Monica\\'s weekend, a hotel clerk is showing them their new room.]\\n\\nHotel Clerk: I think you\\'ll find this room more to your liking.\\n\\nChandler: Okay, great. (He grabs the remote and turns on the TV to the chase.)\\n\\nHotel Clerk: (watching the chase) They say he\\'s only got half a tank left.\\n\\nChandler: Half a tank? We still got a lot of high-speed chasing to do!\\n\\nMonica: We\\'re switching rooms again.\\n\\nChandler: What? Why?\\n\\nMonica: This is a garden view room, and we paid for an ocean view room.\\n\\nHotel Clerk: Our last ocean view room was unacceptable to you.\\n\\nMonica: (To Chandler) Excuse me, umm, can I talk to you over here for just a\\nsecond?\\n\\nChandler: Uh-huh. (He doesn\\'t take his eyes off the TV.)\\n\\nMonica: Chandler!\\n\\nChandler: (turning to face her) Yeah.\\n\\nMonica: Look, these clowns are trying to take us for a ride and I\\'m not gonna\\nlet \\'em! And we\\'re not a couple of suckers!\\n\\nChandler: I hear ya, Mugsy! But look, all these rooms are fine okay? Can you\\njust pick one so I can watch-(realizes)-have a perfect, magical weekend together with you.\\n\\n[Time lapse, Monica and Chandler have changed rooms yet again.]\\n\\nMonica: Okay, this one I like!\\n\\nChandler: (watching TV, in fact, ER is on.) Nothing! It\\'s over! Dammit! This is\\nregularly scheduled programming!\\n\\nMonica: Can we turn the TV off? Okay? Do we really want to spend the entire\\nweekend like this?\\n\\nChandler: Oh, I\\'m sorry, am I getting in the way of all the room switching fun?\\n\\nMonica: Hey, don\\'t blame me for wigging tonight!\\n\\nChandler: Oh, who should I blame? The nice bell man who had to drag out luggage\\nto 10 different rooms?\\n\\nMonica: I don\\'t know, how about the idiot who thought he could drive from Albany\\nto Canada on a half a tank of gas!\\n\\nChandler: Do not speak ill of the dead.\\n\\nMonica: We\\'re supposed to uh, be spending a romantic weekend together, it-it,\\nwhat is the matter with you?\\n\\nChandler: I just want to watch a little television. What is the big deal? Geez,\\nrelax mom.\\n\\nMonica: What did you say?\\n\\nChandler: I said, \"Geez, relax Monnnnn.\"\\n\\n[Scene: Monica and Rachel\\'s, Rachel is reading a magazine and has two tissues stuck up\\nher nose in an attempt to stop the bleeding and as she hears Ross enter, she quickly hides\\nher face behind the magazine and removes the tissues.]\\n\\nRachel: Hi!\\n\\nRoss: Hey. Rachel, I-I-I\\'ve been wanting to tell you something for a while now\\nand I really, I just have to get it out.\\n\\nRachel: Okay, what\\'s up?\\n\\nRoss: Okay, y\\'know how you told me I should do whatever it takes to fix my\\nmarriage?\\n\\nRachel: Yeah, I told you to give Emily whatever she wants.\\n\\nRoss: And while that was good advice, you should know that what-what she\\nwants… \\n\\nRachel: Yeah?\\n\\nRoss: …is for me not to see you anymore.\\n\\nRachel: That\\'s crazy! You can\\'t do that! What are you going to tell her? (Pause)\\n(Realizes) Oh God. Ohh, you already agreed to this, haven\\'t you?\\n\\nRoss: It\\'s awful I know, I mean, I feel terrible but I have to do this if I want\\nmy marriage to work. And I do, I have to make this marriage work. I have too. But\\nthe good thing is we can still see each other until she gets here.\\n\\nRachel: Ohh! Lucky me! Oh my God! That is good news, Ross! I think that\\'s\\nthe best news I\\'ve heard since Le Poo died!\\n\\nRoss: You have no idea what a nightmare this has been. This is so hard.\\n\\nRachel: Oh yeah, really? Is it Ross? Yeah? Okay, well let me make this a just a\\nlittle bit easier for you.\\n\\nRoss: What are you doing?\\n\\nRachel: Storming out!\\n\\nRoss: Rachel, this is your apartment.\\n\\nRachel: Yeah, well that\\'s how mad I am!!\\n\\nCommercial Break\\n\\n[Scene: Chandler and Joey\\'s, Chandler is returning from his disastrous weekend. He\\nthrows his bag down and sits down on one of the leather chairs, but he sits on something\\nand picks it up and throws it away.]\\n\\nChandler: Damn Rollos!\\n\\nJoey: Hey, you\\'re back!\\n\\nChandler: Hey.\\n\\nJoey: How was your conference?\\n\\nChandler: It was terrible. I fought with (Pause) my colleagues y\\'know, the\\nentire time. Are you kidding with this? (Throws away another Rollo)\\n\\nJoey: Oh, so your weekend was a total bust?\\n\\nChandler: Uh, no, I got to see Donald Trump waiting for an elevator.\\n\\nMonica: (entering) Hi!\\n\\nJoey: Hey, you\\'re back too!\\n\\nMonica: Yeah. Umm, Chandler can I talk to you outside for a second?\\n\\nJoey: Hey, how was your chef thing?\\n\\nMonica: Oh, it was awful. (To Chandler) I guess some people just don\\'t\\nappreciate really good food.\\n\\nChandler: Well, maybe it was the kind of food that tasted good at first but then\\nmade everybody vomit and have diarrhea.\\n\\nMonica: Chandler! (Motions for him to come outside.)\\n\\nChandler: Monica. (Follows her out.)\\n\\n[In the hall.]\\n\\nMonica: Okay, I\\'d like to know how much the room was because I\\'d like to pay my\\nhalf.\\n\\nChandler: Okay, fine, $300.\\n\\nMonica: 300 dollars?!\\n\\nChandler: Yeah, just think of it as $25 per room!\\n\\nMonica: Urghh!!\\n\\nJoey: (sticking his head out the door) What are you guys woofing about?\\n\\nMonica: Chandler stole a twenty from my purse!\\n\\nJoey: Nooooo!!! Y\\'know what? Now that I think about it, I constantly find myself\\nwithout twenties and you always have lots!\\n\\n[Scene: Central Perk, Ross is drinking some Alka-Seltzer. The rest of the gang,\\nminus Rachel is there as well.]\\n\\nRoss: You should\\'ve seen the look on her face. I don\\'t want Rachel to hate me! I\\ndon\\'t know what to do.\\n\\nJoey: You want my advice?\\n\\nRoss: Yes! Please!\\n\\nJoey: You\\'re not gonna like it.\\n\\nRoss: That\\'s okay.\\n\\nJoey: You got married to fast.\\n\\nRoss: That\\'s not advice!\\n\\nJoey: I told ya.\\n\\nRoss: I\\'m going to the bathroom. (Gets up and exits.)\\n\\nJoey: Man, if anyone asked me to give up any of you, I couldn\\'t do it.\\n\\n\\nChandler and Phoebe: Yeah, me either.\\n\\nMonica: Maybe I could do it.\\n\\nRachel: (entering) Hi!\\n\\nJoey: Hi, Rach.\\n\\nChandler: Hi!\\n\\nPhoebe: Hey.\\n\\nMonica: Hey.\\n\\nRachel: Look, I know you guys heard about the whole thing with me and Ross but\\ny\\'know, I\\'ve been obsessing about it all day and I\\'d just love not to talk about\\nit. All right?\\n\\nJoey: I-I-I don\\'t know if this falls under this category, but uh, Ross is right\\nback there. (Points over his shoulder.)\\n\\nRachel: That\\'s not Ross!\\n\\nPhoebe: Oh no! Not that guy! He does look like him though.\\n\\nChandler: Okay, Ross is in the bathroom.\\n\\nRachel: Oh my God, its happening. It\\'s already started. I\\'m Kip.\\n\\nJoey: Hey, you\\'re not Kip!\\n\\nRachel: (To Joey) Do you even know who Kip is?\\n\\nJoey: Who cares? You\\'re Rachel! (To Chandler) Who\\'s Kip?\\n\\nChandler: Kip, my old roommate, y\\'know we all used to hang out together.\\n\\nJoey: Oh, that poor bastard.\\n\\nRachel: See? Yeah, you told me the story. He and Monica dated when they broke up\\nthey couldn\\'t even be in the same room together and you all promised that you would stay\\nhis friend and what happened? He got phased out!\\n\\nMonica: You\\'re not gonna be phased out!\\n\\nRachel: Well, of course I am! It\\'s not gonna happen to Ross! He\\'s your brother.\\n(To Chandler) He\\'s your old college roommate. Ugh, it was just a matter of time before\\nsomeone had to leave the group. I just always assumed Phoebe would be the one to go.\\n\\nPhoebe: Ehh!!\\n\\nRachel: Honey, come on! You live far away! You\\'re not related. You lift right\\nout.\\n\\n[Scene: Chandler and Joey\\'s, Joey is watching TV.]\\n\\nChandler: (entering) Hey!\\n\\nJoey: Hey, Mr. Bing. That uh, hotel you stayed at called. Said someone left an\\neyelash curler in your room.\\n\\nChandler: Yes that was mine.\\n\\nJoey: \\'Cause I figured you\\'d hooked up with some girl and she\\'d left it there.\\n\\nChandler: Yes that would have made more sense.\\n\\nJoey: Y\\'know, I-I don\\'t even feel like I know you anymore man! All right, look,\\nI\\'m just gonna ask you this one time. And whatever you say, I\\'ll believe ya. (Pause.) Were\\nyou, or were you not on a gay cruise?!\\n\\n[Scene: Central Perk, Phoebe is sitting on couch and Rachel is getting some coffee.\\nPhoebe keeps turning her head from to keep from looking at Rachel.]\\n\\nRachel: Phoebe? (She turns her head further away.) I\\'m sorry about the whole\\nlifting out thing. (Moves over next to her.) You gotta come with me!\\n\\nPhoebe: Come where?\\n\\nRachel: Wherever I go. Come on you and me, we\\'ll-we\\'ll start a new group, we\\'re\\nthe best ones.\\n\\nPhoebe: Okay, but try and get Joey too.\\n\\nRoss: (entering) Pheebs, you mind if I speak to Rachel alone for a sec?\\n\\nPhoebe: Oh, sure! (She gets up to leave.) Bye Ross! (Whispering behind his\\nback.) Forever.\\n\\nRoss: Hi.\\n\\nRachel: Hi. What are you doing here? Isn\\'t this against the rules?\\n\\nRoss: I talked to Monica, look, I\\'m the one who made the choice. I\\'m the\\none who\\'s making things change, so I should be the one to y\\'know, step back.\\n\\nRachel: Oh, Ross…\\n\\nRoss: No, no, it\\'s okay. Really. They\\'re plenty of people who just see their\\nsisters at Thanksgiving and just see their college roommates at reunions and just see Joey\\nat Burger King. So is, is that better?\\n\\nRachel: No, it\\'s not better. I still don\\'t get to see you.\\n\\nRoss: Well, what-what would you do? Rach, if you were me, what-what would you\\ndo?\\n\\nRachel: Well, for starters I would\\'ve said the right name at my wedding!\\n\\nRoss: I can\\'t believe this is happening.\\n\\nRachel: I know.\\n\\nRoss: I am so sorry.\\n\\nRachel: I know that too.\\n\\nJoey: (entering) (He clears his throat to get their attention.) Hey, Rach? Sorry\\nto interrupt but umm, Phoebe wanted me to talk to you about a trip or something.\\n\\n[Scene: Monica and Rachel\\'s, Monica is doing a crossword puzzle.]\\n\\nChandler: (entering) Hey!\\n\\nMonica: Hi.\\n\\nChandler: I just came over to drop off…nothing. So that weekend kinda\\nsucked, huh?\\n\\nMonica: Yeah, it did.\\n\\nChandler: So, I guess this is over.\\n\\nMonica: What?\\n\\nChandler: Well, y\\'know, you and me, it had to end sometime.\\n\\nMonica: Why, exactly?\\n\\nChandler: Because of the weekend, we had a fight.\\n\\nMonica: Chandler that\\'s crazy! If you give up every time you\\'d have a fight with\\nsomeone you\\'d never be with anyone longer than—Ohhh! (They both realize something\\nthere.)\\n\\nChandler: So, this isn\\'t over?\\n\\nMonica: (laughs) You are so cute! No. No, it was a fight. You deal with it and\\nmove on! It\\'s nothing to freak out about.\\n\\nChandler: Really? Okay. Great!\\n\\nMonica: Ohh, welcome to an adult relationship! (She goes to kiss him.)\\n\\nChandler: (stops her) We\\'re in a relationship?\\n\\nMonica: I\\'m afraid so.\\n\\nChandler: Okay.\\n\\n(They kiss.)\\n\\n[Scene: Monica and Rachel\\'s, Monica, Rachel, Joey, and Chandler are there as Phoebe\\nenters.]\\n\\nPhoebe: Hey!\\n\\nMonica: Hey!\\n\\nPhoebe: Oh hey, Monica, I heard you saw Donald Trump at your convention.\\n\\nMonica: Yeah, I saw him waiting for an elevator.\\n\\n(Joey thinks that sounds familiar, but dismisses the thought.)\\n\\nMonica: Hey, Rach, can I borrow your eyelash curler, I think I lost mine.\\n\\nRachel: Yeah, it\\'s in there. (Points to the bathroom.)\\n\\n(Joey puts two and two together.)\\n\\nJoey: (shocked) Oh! Ohh! Oh!!\\n\\nChandler: Joey, can I talk to you for a second? (He grabs him and starts to drag\\nJoey into Monica\\'s room.)\\n\\nJoey: Oohh!! Ohh! Oh-oh-oh! Oh-oh!!\\n\\n(Chandler pushes him through the door and Monica closes it behind them.)\\n\\n[Cut to Monica\\'s room, Chandler tackles Joey onto her bed and tries to cover his\\nmouth.]\\n\\nJoey: Ohhhhhhhhhhh!!!!!!!\\n\\nChandler: Yes. Yes. (Lets him up.)\\n\\nJoey: (To Chandler) You?! (To Monica) And-and you?!\\n\\nMonica: Yes, but you cannot tell anyone! No one knows!\\n\\nJoey: How?! When?!\\n\\nChandler: It happened in London.\\n\\nJoey: IN LONDON!!!\\n\\n\\nChandler: The reason we didn\\'t tell anyone was because we didn\\'t want to make a\\nbig deal out of it.\\n\\nJoey: But it is a big deal!! I have to tell someone! \\n\\n(They both grab him and stop him.)\\n\\nChandler: No-no-no-no-no! You can\\'t!\\n\\nMonica: Please? Please?! We just don\\'t want to deal with telling everyone, okay?\\nJust promise you won\\'t tell.\\n\\n(Joey thinks it over.)\\n\\nJoey: All right! Man, this is unbelievable! I mean, it\\'s great, but…\\n\\nMonica: I know, it\\'s great!\\n\\n(She goes over and kisses Chandler.)\\n\\nJoey: Aww, I don\\'t want to see that!\\n\\n[Cut to Phoebe and Rachel.]\\n\\nPhoebe: We\\'re so stupid! Do you know what\\'s going on in there? They\\'re trying to\\ntake Joey!\\n\\nEnding Credits\\n\\n[Scene: Monica and Rachel\\'s, the gang, minus Ross are playing Madlibs. Phoebe is\\nreading hers.]\\n\\nPhoebe: The most popular Phoebe in tennis is called the overhand Phoebe. And if\\nyou win, you must slap your opponent on the Phoebe and say, \"Hi, Phoebe!\"\\n\\nMonica: Oh that\\'s cute! We really all enjoyed it. But y\\'know, it doesn\\'t count.\\n\\nPhoebe: Count for what?\\n\\nMonica: Count in our heads as-as good Madlibs.\\n\\n(They putting their notepads down and get up to leave.)\\n\\nJoey: I guess I\\'m done.\\n\\nChandler: Fun\\'s over!\\n\\nMonica: Wait-wait, guys! If-if we follow the rules, it\\'s still fun and it means\\nsomething!\\n\\nRachel: Uh-huh!\\n\\nJoey: I think I\\'m gonna take-off.\\n\\nMonica: Guys, rules are good! Rules help control the fun! (They all leave and\\nclose the door on Monica.) Ohhh! (Throws her notepad down in disgust.)\\n\\nEnd\\n\\n\\n\\n\\n\\n\\n\\n\\n\\n'"
      ]
     },
     "execution_count": 15,
     "metadata": {},
     "output_type": "execute_result"
    }
   ],
   "source": [
    "episode_scripts[100]"
   ]
  },
  {
   "cell_type": "code",
   "execution_count": null,
   "metadata": {},
   "outputs": [],
   "source": []
  }
 ],
 "metadata": {
  "kernelspec": {
   "display_name": "Python 3",
   "language": "python",
   "name": "python3"
  },
  "language_info": {
   "codemirror_mode": {
    "name": "ipython",
    "version": 3
   },
   "file_extension": ".py",
   "mimetype": "text/x-python",
   "name": "python",
   "nbconvert_exporter": "python",
   "pygments_lexer": "ipython3",
   "version": "3.6.4"
  }
 },
 "nbformat": 4,
 "nbformat_minor": 2
}
