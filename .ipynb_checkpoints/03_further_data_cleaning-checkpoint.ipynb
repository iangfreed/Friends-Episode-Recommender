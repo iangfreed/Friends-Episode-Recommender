{
 "cells": [
  {
   "cell_type": "code",
   "execution_count": 162,
   "metadata": {
    "ExecuteTime": {
     "end_time": "2018-05-31T18:38:14.225040Z",
     "start_time": "2018-05-31T18:38:14.222714Z"
    }
   },
   "outputs": [],
   "source": [
    "import pickle"
   ]
  },
  {
   "cell_type": "code",
   "execution_count": 163,
   "metadata": {
    "ExecuteTime": {
     "end_time": "2018-05-31T18:38:15.503219Z",
     "start_time": "2018-05-31T18:38:15.485432Z"
    }
   },
   "outputs": [],
   "source": [
    "with open('episode_scripts_cleaned.pkl','rb') as picklefile:\n",
    "    episode_scripts = pickle.load(picklefile)\n",
    "with open('episode_names.pkl','rb') as picklefile:\n",
    "    episode_names = pickle.load(picklefile)\n",
    "with open('episode_links.pkl','rb') as picklefile:\n",
    "    episode_links = pickle.load(picklefile)"
   ]
  },
  {
   "cell_type": "code",
   "execution_count": 164,
   "metadata": {
    "ExecuteTime": {
     "end_time": "2018-05-31T18:38:17.137998Z",
     "start_time": "2018-05-31T18:38:17.133724Z"
    }
   },
   "outputs": [
    {
     "data": {
      "text/plain": [
       "231"
      ]
     },
     "execution_count": 164,
     "metadata": {},
     "output_type": "execute_result"
    }
   ],
   "source": [
    "len(episode_scripts)"
   ]
  },
  {
   "cell_type": "markdown",
   "metadata": {},
   "source": [
    "We actually have 236 episodes on netflix"
   ]
  },
  {
   "cell_type": "code",
   "execution_count": 167,
   "metadata": {
    "ExecuteTime": {
     "end_time": "2018-05-31T18:39:47.096971Z",
     "start_time": "2018-05-31T18:39:47.094417Z"
    }
   },
   "outputs": [],
   "source": [
    "episode_names[229] = 'Episode 1017: The Last One'"
   ]
  },
  {
   "cell_type": "code",
   "execution_count": 168,
   "metadata": {
    "ExecuteTime": {
     "end_time": "2018-05-31T18:39:56.463308Z",
     "start_time": "2018-05-31T18:39:56.457851Z"
    }
   },
   "outputs": [
    {
     "data": {
      "text/plain": [
       "'http://www.livesinabox.com/friends/1017.shtml'"
      ]
     },
     "execution_count": 168,
     "metadata": {},
     "output_type": "execute_result"
    }
   ],
   "source": [
    "# remove repeat of the last one episode (231st script from livesinabox.com)\n",
    "episode_names.pop(230)\n",
    "episode_scripts.pop(230)\n",
    "episode_links.pop(230)"
   ]
  },
  {
   "cell_type": "code",
   "execution_count": 172,
   "metadata": {
    "ExecuteTime": {
     "end_time": "2018-05-31T18:40:53.829309Z",
     "start_time": "2018-05-31T18:40:53.826816Z"
    }
   },
   "outputs": [],
   "source": [
    "episode_names[211] = 'Episode 923: The One In Barbados'"
   ]
  },
  {
   "cell_type": "code",
   "execution_count": 174,
   "metadata": {
    "ExecuteTime": {
     "end_time": "2018-05-31T18:40:58.227847Z",
     "start_time": "2018-05-31T18:40:58.222838Z"
    }
   },
   "outputs": [
    {
     "data": {
      "text/plain": [
       "'http://www.livesinabox.com/friends/season9/0923-0924.html'"
      ]
     },
     "execution_count": 174,
     "metadata": {},
     "output_type": "execute_result"
    }
   ],
   "source": [
    "# remove repeat of the one in barbados episode (212th script from livesinabox.com)\n",
    "episode_names.pop(212)\n",
    "episode_scripts.pop(212)\n",
    "episode_links.pop(212)"
   ]
  },
  {
   "cell_type": "code",
   "execution_count": 175,
   "metadata": {
    "ExecuteTime": {
     "end_time": "2018-05-31T18:41:09.958087Z",
     "start_time": "2018-05-31T18:41:09.953658Z"
    }
   },
   "outputs": [
    {
     "data": {
      "text/plain": [
       "'http://www.livesinabox.com/friends/season7/outtakes.htm'"
      ]
     },
     "execution_count": 175,
     "metadata": {},
     "output_type": "execute_result"
    }
   ],
   "source": [
    "# remove bonus episode (165th script from livesinabox.com)\n",
    "episode_names.pop(165)\n",
    "episode_scripts.pop(165)\n",
    "episode_links.pop(165)"
   ]
  },
  {
   "cell_type": "code",
   "execution_count": 176,
   "metadata": {
    "ExecuteTime": {
     "end_time": "2018-05-31T18:41:13.254320Z",
     "start_time": "2018-05-31T18:41:13.249913Z"
    }
   },
   "outputs": [
    {
     "data": {
      "text/plain": [
       "'http://www.livesinabox.com/friends/season4/423uncut.htm'"
      ]
     },
     "execution_count": 176,
     "metadata": {},
     "output_type": "execute_result"
    }
   ],
   "source": [
    "# remove script for rosses wedding uncut episode (95th script from livesinabox.com after removal of bonus episode)\n",
    "episode_names.pop(95)\n",
    "episode_scripts.pop(95)\n",
    "episode_links.pop(95)"
   ]
  },
  {
   "cell_type": "code",
   "execution_count": 177,
   "metadata": {
    "ExecuteTime": {
     "end_time": "2018-05-31T18:41:16.100741Z",
     "start_time": "2018-05-31T18:41:16.096792Z"
    }
   },
   "outputs": [],
   "source": [
    "net_base = 'https://www.netflix.com/watch/'\n",
    "net_end = '?trackId=200257858'\n",
    "base_num = '70273997'\n",
    "net_links = []\n",
    "net_episode_nums = []"
   ]
  },
  {
   "cell_type": "code",
   "execution_count": 178,
   "metadata": {
    "ExecuteTime": {
     "end_time": "2018-05-31T18:41:19.832020Z",
     "start_time": "2018-05-31T18:41:19.828732Z"
    }
   },
   "outputs": [],
   "source": [
    "for num in range(236):\n",
    "    net_episode_nums.append(str(int(base_num)+num))"
   ]
  },
  {
   "cell_type": "code",
   "execution_count": 179,
   "metadata": {
    "ExecuteTime": {
     "end_time": "2018-05-31T18:41:20.357693Z",
     "start_time": "2018-05-31T18:41:20.354667Z"
    }
   },
   "outputs": [],
   "source": [
    "for num in net_episode_nums:\n",
    "    net_links.append(net_base+num+net_end)"
   ]
  },
  {
   "cell_type": "markdown",
   "metadata": {
    "ExecuteTime": {
     "end_time": "2018-05-31T17:16:23.668164Z",
     "start_time": "2018-05-31T17:16:23.664067Z"
    }
   },
   "source": [
    "Episodes with a single script on livesinabox.com but double episodes on Netlix\n",
    "\n",
    "the one after the superbowl 36  \n",
    "the one with rosses wedding 96 95  \n",
    "the one in vegas 120 118 \n",
    "the one that could have been 136 133? \n",
    "the one with the proposal 145 141  \n",
    "the one with monica and chandler's wedding 169 164  \n",
    "the one where rachel has a baby 193 187  "
   ]
  },
  {
   "cell_type": "code",
   "execution_count": 180,
   "metadata": {
    "ExecuteTime": {
     "end_time": "2018-05-31T18:41:23.031168Z",
     "start_time": "2018-05-31T18:41:23.027466Z"
    }
   },
   "outputs": [
    {
     "data": {
      "text/plain": [
       "'https://www.netflix.com/watch/70274033?trackId=200257858'"
      ]
     },
     "execution_count": 180,
     "metadata": {},
     "output_type": "execute_result"
    }
   ],
   "source": [
    "net_links.pop(36)"
   ]
  },
  {
   "cell_type": "code",
   "execution_count": 181,
   "metadata": {
    "ExecuteTime": {
     "end_time": "2018-05-31T18:41:23.469140Z",
     "start_time": "2018-05-31T18:41:23.464834Z"
    }
   },
   "outputs": [
    {
     "data": {
      "text/plain": [
       "'https://www.netflix.com/watch/70274093?trackId=200257858'"
      ]
     },
     "execution_count": 181,
     "metadata": {},
     "output_type": "execute_result"
    }
   ],
   "source": [
    "net_links.pop(95)"
   ]
  },
  {
   "cell_type": "code",
   "execution_count": 182,
   "metadata": {
    "ExecuteTime": {
     "end_time": "2018-05-31T18:41:23.894009Z",
     "start_time": "2018-05-31T18:41:23.890338Z"
    }
   },
   "outputs": [
    {
     "data": {
      "text/plain": [
       "'https://www.netflix.com/watch/70274117?trackId=200257858'"
      ]
     },
     "execution_count": 182,
     "metadata": {},
     "output_type": "execute_result"
    }
   ],
   "source": [
    "net_links.pop(118)"
   ]
  },
  {
   "cell_type": "code",
   "execution_count": 183,
   "metadata": {
    "ExecuteTime": {
     "end_time": "2018-05-31T18:41:24.281140Z",
     "start_time": "2018-05-31T18:41:24.277001Z"
    }
   },
   "outputs": [
    {
     "data": {
      "text/plain": [
       "'https://www.netflix.com/watch/70274133?trackId=200257858'"
      ]
     },
     "execution_count": 183,
     "metadata": {},
     "output_type": "execute_result"
    }
   ],
   "source": [
    "net_links.pop(133)"
   ]
  },
  {
   "cell_type": "code",
   "execution_count": 184,
   "metadata": {
    "ExecuteTime": {
     "end_time": "2018-05-31T18:41:24.795607Z",
     "start_time": "2018-05-31T18:41:24.791501Z"
    }
   },
   "outputs": [
    {
     "data": {
      "text/plain": [
       "'https://www.netflix.com/watch/70274142?trackId=200257858'"
      ]
     },
     "execution_count": 184,
     "metadata": {},
     "output_type": "execute_result"
    }
   ],
   "source": [
    "net_links.pop(141)"
   ]
  },
  {
   "cell_type": "code",
   "execution_count": 185,
   "metadata": {
    "ExecuteTime": {
     "end_time": "2018-05-31T18:41:25.200225Z",
     "start_time": "2018-05-31T18:41:25.196489Z"
    }
   },
   "outputs": [
    {
     "data": {
      "text/plain": [
       "'https://www.netflix.com/watch/70274166?trackId=200257858'"
      ]
     },
     "execution_count": 185,
     "metadata": {},
     "output_type": "execute_result"
    }
   ],
   "source": [
    "net_links.pop(164)"
   ]
  },
  {
   "cell_type": "code",
   "execution_count": 186,
   "metadata": {
    "ExecuteTime": {
     "end_time": "2018-05-31T18:41:27.614048Z",
     "start_time": "2018-05-31T18:41:27.609982Z"
    }
   },
   "outputs": [
    {
     "data": {
      "text/plain": [
       "'https://www.netflix.com/watch/70274190?trackId=200257858'"
      ]
     },
     "execution_count": 186,
     "metadata": {},
     "output_type": "execute_result"
    }
   ],
   "source": [
    "net_links.pop(187)"
   ]
  },
  {
   "cell_type": "code",
   "execution_count": 194,
   "metadata": {
    "ExecuteTime": {
     "end_time": "2018-05-31T18:44:05.911513Z",
     "start_time": "2018-05-31T18:44:05.907329Z"
    }
   },
   "outputs": [
    {
     "data": {
      "text/plain": [
       "'https://www.netflix.com/watch/70274214?trackId=200257858'"
      ]
     },
     "execution_count": 194,
     "metadata": {},
     "output_type": "execute_result"
    }
   ],
   "source": [
    "net_links.pop(210)"
   ]
  },
  {
   "cell_type": "code",
   "execution_count": 197,
   "metadata": {
    "ExecuteTime": {
     "end_time": "2018-05-31T18:44:32.871881Z",
     "start_time": "2018-05-31T18:44:32.868162Z"
    }
   },
   "outputs": [
    {
     "data": {
      "text/plain": [
       "'https://www.netflix.com/watch/70274232?trackId=200257858'"
      ]
     },
     "execution_count": 197,
     "metadata": {},
     "output_type": "execute_result"
    }
   ],
   "source": [
    "net_links.pop(227)"
   ]
  },
  {
   "cell_type": "code",
   "execution_count": 198,
   "metadata": {
    "ExecuteTime": {
     "end_time": "2018-05-31T18:44:38.955552Z",
     "start_time": "2018-05-31T18:44:38.949849Z"
    }
   },
   "outputs": [
    {
     "data": {
      "text/plain": [
       "['https://www.netflix.com/watch/70273997?trackId=200257858',\n",
       " 'https://www.netflix.com/watch/70273998?trackId=200257858',\n",
       " 'https://www.netflix.com/watch/70273999?trackId=200257858',\n",
       " 'https://www.netflix.com/watch/70274000?trackId=200257858',\n",
       " 'https://www.netflix.com/watch/70274001?trackId=200257858',\n",
       " 'https://www.netflix.com/watch/70274002?trackId=200257858',\n",
       " 'https://www.netflix.com/watch/70274003?trackId=200257858',\n",
       " 'https://www.netflix.com/watch/70274004?trackId=200257858',\n",
       " 'https://www.netflix.com/watch/70274005?trackId=200257858',\n",
       " 'https://www.netflix.com/watch/70274006?trackId=200257858',\n",
       " 'https://www.netflix.com/watch/70274007?trackId=200257858',\n",
       " 'https://www.netflix.com/watch/70274008?trackId=200257858',\n",
       " 'https://www.netflix.com/watch/70274009?trackId=200257858',\n",
       " 'https://www.netflix.com/watch/70274010?trackId=200257858',\n",
       " 'https://www.netflix.com/watch/70274011?trackId=200257858',\n",
       " 'https://www.netflix.com/watch/70274012?trackId=200257858',\n",
       " 'https://www.netflix.com/watch/70274013?trackId=200257858',\n",
       " 'https://www.netflix.com/watch/70274014?trackId=200257858',\n",
       " 'https://www.netflix.com/watch/70274015?trackId=200257858',\n",
       " 'https://www.netflix.com/watch/70274016?trackId=200257858',\n",
       " 'https://www.netflix.com/watch/70274017?trackId=200257858',\n",
       " 'https://www.netflix.com/watch/70274018?trackId=200257858',\n",
       " 'https://www.netflix.com/watch/70274019?trackId=200257858',\n",
       " 'https://www.netflix.com/watch/70274020?trackId=200257858',\n",
       " 'https://www.netflix.com/watch/70274021?trackId=200257858',\n",
       " 'https://www.netflix.com/watch/70274022?trackId=200257858',\n",
       " 'https://www.netflix.com/watch/70274023?trackId=200257858',\n",
       " 'https://www.netflix.com/watch/70274024?trackId=200257858',\n",
       " 'https://www.netflix.com/watch/70274025?trackId=200257858',\n",
       " 'https://www.netflix.com/watch/70274026?trackId=200257858',\n",
       " 'https://www.netflix.com/watch/70274027?trackId=200257858',\n",
       " 'https://www.netflix.com/watch/70274028?trackId=200257858',\n",
       " 'https://www.netflix.com/watch/70274029?trackId=200257858',\n",
       " 'https://www.netflix.com/watch/70274030?trackId=200257858',\n",
       " 'https://www.netflix.com/watch/70274031?trackId=200257858',\n",
       " 'https://www.netflix.com/watch/70274032?trackId=200257858',\n",
       " 'https://www.netflix.com/watch/70274034?trackId=200257858',\n",
       " 'https://www.netflix.com/watch/70274035?trackId=200257858',\n",
       " 'https://www.netflix.com/watch/70274036?trackId=200257858',\n",
       " 'https://www.netflix.com/watch/70274037?trackId=200257858',\n",
       " 'https://www.netflix.com/watch/70274038?trackId=200257858',\n",
       " 'https://www.netflix.com/watch/70274039?trackId=200257858',\n",
       " 'https://www.netflix.com/watch/70274040?trackId=200257858',\n",
       " 'https://www.netflix.com/watch/70274041?trackId=200257858',\n",
       " 'https://www.netflix.com/watch/70274042?trackId=200257858',\n",
       " 'https://www.netflix.com/watch/70274043?trackId=200257858',\n",
       " 'https://www.netflix.com/watch/70274044?trackId=200257858',\n",
       " 'https://www.netflix.com/watch/70274045?trackId=200257858',\n",
       " 'https://www.netflix.com/watch/70274046?trackId=200257858',\n",
       " 'https://www.netflix.com/watch/70274047?trackId=200257858',\n",
       " 'https://www.netflix.com/watch/70274048?trackId=200257858',\n",
       " 'https://www.netflix.com/watch/70274049?trackId=200257858',\n",
       " 'https://www.netflix.com/watch/70274050?trackId=200257858',\n",
       " 'https://www.netflix.com/watch/70274051?trackId=200257858',\n",
       " 'https://www.netflix.com/watch/70274052?trackId=200257858',\n",
       " 'https://www.netflix.com/watch/70274053?trackId=200257858',\n",
       " 'https://www.netflix.com/watch/70274054?trackId=200257858',\n",
       " 'https://www.netflix.com/watch/70274055?trackId=200257858',\n",
       " 'https://www.netflix.com/watch/70274056?trackId=200257858',\n",
       " 'https://www.netflix.com/watch/70274057?trackId=200257858',\n",
       " 'https://www.netflix.com/watch/70274058?trackId=200257858',\n",
       " 'https://www.netflix.com/watch/70274059?trackId=200257858',\n",
       " 'https://www.netflix.com/watch/70274060?trackId=200257858',\n",
       " 'https://www.netflix.com/watch/70274061?trackId=200257858',\n",
       " 'https://www.netflix.com/watch/70274062?trackId=200257858',\n",
       " 'https://www.netflix.com/watch/70274063?trackId=200257858',\n",
       " 'https://www.netflix.com/watch/70274064?trackId=200257858',\n",
       " 'https://www.netflix.com/watch/70274065?trackId=200257858',\n",
       " 'https://www.netflix.com/watch/70274066?trackId=200257858',\n",
       " 'https://www.netflix.com/watch/70274067?trackId=200257858',\n",
       " 'https://www.netflix.com/watch/70274068?trackId=200257858',\n",
       " 'https://www.netflix.com/watch/70274069?trackId=200257858',\n",
       " 'https://www.netflix.com/watch/70274070?trackId=200257858',\n",
       " 'https://www.netflix.com/watch/70274071?trackId=200257858',\n",
       " 'https://www.netflix.com/watch/70274072?trackId=200257858',\n",
       " 'https://www.netflix.com/watch/70274073?trackId=200257858',\n",
       " 'https://www.netflix.com/watch/70274074?trackId=200257858',\n",
       " 'https://www.netflix.com/watch/70274075?trackId=200257858',\n",
       " 'https://www.netflix.com/watch/70274076?trackId=200257858',\n",
       " 'https://www.netflix.com/watch/70274077?trackId=200257858',\n",
       " 'https://www.netflix.com/watch/70274078?trackId=200257858',\n",
       " 'https://www.netflix.com/watch/70274079?trackId=200257858',\n",
       " 'https://www.netflix.com/watch/70274080?trackId=200257858',\n",
       " 'https://www.netflix.com/watch/70274081?trackId=200257858',\n",
       " 'https://www.netflix.com/watch/70274082?trackId=200257858',\n",
       " 'https://www.netflix.com/watch/70274083?trackId=200257858',\n",
       " 'https://www.netflix.com/watch/70274084?trackId=200257858',\n",
       " 'https://www.netflix.com/watch/70274085?trackId=200257858',\n",
       " 'https://www.netflix.com/watch/70274086?trackId=200257858',\n",
       " 'https://www.netflix.com/watch/70274087?trackId=200257858',\n",
       " 'https://www.netflix.com/watch/70274088?trackId=200257858',\n",
       " 'https://www.netflix.com/watch/70274089?trackId=200257858',\n",
       " 'https://www.netflix.com/watch/70274090?trackId=200257858',\n",
       " 'https://www.netflix.com/watch/70274091?trackId=200257858',\n",
       " 'https://www.netflix.com/watch/70274092?trackId=200257858',\n",
       " 'https://www.netflix.com/watch/70274094?trackId=200257858',\n",
       " 'https://www.netflix.com/watch/70274095?trackId=200257858',\n",
       " 'https://www.netflix.com/watch/70274096?trackId=200257858',\n",
       " 'https://www.netflix.com/watch/70274097?trackId=200257858',\n",
       " 'https://www.netflix.com/watch/70274098?trackId=200257858',\n",
       " 'https://www.netflix.com/watch/70274099?trackId=200257858',\n",
       " 'https://www.netflix.com/watch/70274100?trackId=200257858',\n",
       " 'https://www.netflix.com/watch/70274101?trackId=200257858',\n",
       " 'https://www.netflix.com/watch/70274102?trackId=200257858',\n",
       " 'https://www.netflix.com/watch/70274103?trackId=200257858',\n",
       " 'https://www.netflix.com/watch/70274104?trackId=200257858',\n",
       " 'https://www.netflix.com/watch/70274105?trackId=200257858',\n",
       " 'https://www.netflix.com/watch/70274106?trackId=200257858',\n",
       " 'https://www.netflix.com/watch/70274107?trackId=200257858',\n",
       " 'https://www.netflix.com/watch/70274108?trackId=200257858',\n",
       " 'https://www.netflix.com/watch/70274109?trackId=200257858',\n",
       " 'https://www.netflix.com/watch/70274110?trackId=200257858',\n",
       " 'https://www.netflix.com/watch/70274111?trackId=200257858',\n",
       " 'https://www.netflix.com/watch/70274112?trackId=200257858',\n",
       " 'https://www.netflix.com/watch/70274113?trackId=200257858',\n",
       " 'https://www.netflix.com/watch/70274114?trackId=200257858',\n",
       " 'https://www.netflix.com/watch/70274115?trackId=200257858',\n",
       " 'https://www.netflix.com/watch/70274116?trackId=200257858',\n",
       " 'https://www.netflix.com/watch/70274118?trackId=200257858',\n",
       " 'https://www.netflix.com/watch/70274119?trackId=200257858',\n",
       " 'https://www.netflix.com/watch/70274120?trackId=200257858',\n",
       " 'https://www.netflix.com/watch/70274121?trackId=200257858',\n",
       " 'https://www.netflix.com/watch/70274122?trackId=200257858',\n",
       " 'https://www.netflix.com/watch/70274123?trackId=200257858',\n",
       " 'https://www.netflix.com/watch/70274124?trackId=200257858',\n",
       " 'https://www.netflix.com/watch/70274125?trackId=200257858',\n",
       " 'https://www.netflix.com/watch/70274126?trackId=200257858',\n",
       " 'https://www.netflix.com/watch/70274127?trackId=200257858',\n",
       " 'https://www.netflix.com/watch/70274128?trackId=200257858',\n",
       " 'https://www.netflix.com/watch/70274129?trackId=200257858',\n",
       " 'https://www.netflix.com/watch/70274130?trackId=200257858',\n",
       " 'https://www.netflix.com/watch/70274131?trackId=200257858',\n",
       " 'https://www.netflix.com/watch/70274132?trackId=200257858',\n",
       " 'https://www.netflix.com/watch/70274134?trackId=200257858',\n",
       " 'https://www.netflix.com/watch/70274135?trackId=200257858',\n",
       " 'https://www.netflix.com/watch/70274136?trackId=200257858',\n",
       " 'https://www.netflix.com/watch/70274137?trackId=200257858',\n",
       " 'https://www.netflix.com/watch/70274138?trackId=200257858',\n",
       " 'https://www.netflix.com/watch/70274139?trackId=200257858',\n",
       " 'https://www.netflix.com/watch/70274140?trackId=200257858',\n",
       " 'https://www.netflix.com/watch/70274141?trackId=200257858',\n",
       " 'https://www.netflix.com/watch/70274143?trackId=200257858',\n",
       " 'https://www.netflix.com/watch/70274144?trackId=200257858',\n",
       " 'https://www.netflix.com/watch/70274145?trackId=200257858',\n",
       " 'https://www.netflix.com/watch/70274146?trackId=200257858',\n",
       " 'https://www.netflix.com/watch/70274147?trackId=200257858',\n",
       " 'https://www.netflix.com/watch/70274148?trackId=200257858',\n",
       " 'https://www.netflix.com/watch/70274149?trackId=200257858',\n",
       " 'https://www.netflix.com/watch/70274150?trackId=200257858',\n",
       " 'https://www.netflix.com/watch/70274151?trackId=200257858',\n",
       " 'https://www.netflix.com/watch/70274152?trackId=200257858',\n",
       " 'https://www.netflix.com/watch/70274153?trackId=200257858',\n",
       " 'https://www.netflix.com/watch/70274154?trackId=200257858',\n",
       " 'https://www.netflix.com/watch/70274155?trackId=200257858',\n",
       " 'https://www.netflix.com/watch/70274156?trackId=200257858',\n",
       " 'https://www.netflix.com/watch/70274157?trackId=200257858',\n",
       " 'https://www.netflix.com/watch/70274158?trackId=200257858',\n",
       " 'https://www.netflix.com/watch/70274159?trackId=200257858',\n",
       " 'https://www.netflix.com/watch/70274160?trackId=200257858',\n",
       " 'https://www.netflix.com/watch/70274161?trackId=200257858',\n",
       " 'https://www.netflix.com/watch/70274162?trackId=200257858',\n",
       " 'https://www.netflix.com/watch/70274163?trackId=200257858',\n",
       " 'https://www.netflix.com/watch/70274164?trackId=200257858',\n",
       " 'https://www.netflix.com/watch/70274165?trackId=200257858',\n",
       " 'https://www.netflix.com/watch/70274167?trackId=200257858',\n",
       " 'https://www.netflix.com/watch/70274168?trackId=200257858',\n",
       " 'https://www.netflix.com/watch/70274169?trackId=200257858',\n",
       " 'https://www.netflix.com/watch/70274170?trackId=200257858',\n",
       " 'https://www.netflix.com/watch/70274171?trackId=200257858',\n",
       " 'https://www.netflix.com/watch/70274172?trackId=200257858',\n",
       " 'https://www.netflix.com/watch/70274173?trackId=200257858',\n",
       " 'https://www.netflix.com/watch/70274174?trackId=200257858',\n",
       " 'https://www.netflix.com/watch/70274175?trackId=200257858',\n",
       " 'https://www.netflix.com/watch/70274176?trackId=200257858',\n",
       " 'https://www.netflix.com/watch/70274177?trackId=200257858',\n",
       " 'https://www.netflix.com/watch/70274178?trackId=200257858',\n",
       " 'https://www.netflix.com/watch/70274179?trackId=200257858',\n",
       " 'https://www.netflix.com/watch/70274180?trackId=200257858',\n",
       " 'https://www.netflix.com/watch/70274181?trackId=200257858',\n",
       " 'https://www.netflix.com/watch/70274182?trackId=200257858',\n",
       " 'https://www.netflix.com/watch/70274183?trackId=200257858',\n",
       " 'https://www.netflix.com/watch/70274184?trackId=200257858',\n",
       " 'https://www.netflix.com/watch/70274185?trackId=200257858',\n",
       " 'https://www.netflix.com/watch/70274186?trackId=200257858',\n",
       " 'https://www.netflix.com/watch/70274187?trackId=200257858',\n",
       " 'https://www.netflix.com/watch/70274188?trackId=200257858',\n",
       " 'https://www.netflix.com/watch/70274189?trackId=200257858',\n",
       " 'https://www.netflix.com/watch/70274191?trackId=200257858',\n",
       " 'https://www.netflix.com/watch/70274192?trackId=200257858',\n",
       " 'https://www.netflix.com/watch/70274193?trackId=200257858',\n",
       " 'https://www.netflix.com/watch/70274194?trackId=200257858',\n",
       " 'https://www.netflix.com/watch/70274195?trackId=200257858',\n",
       " 'https://www.netflix.com/watch/70274196?trackId=200257858',\n",
       " 'https://www.netflix.com/watch/70274197?trackId=200257858',\n",
       " 'https://www.netflix.com/watch/70274198?trackId=200257858',\n",
       " 'https://www.netflix.com/watch/70274199?trackId=200257858',\n",
       " 'https://www.netflix.com/watch/70274200?trackId=200257858',\n",
       " 'https://www.netflix.com/watch/70274201?trackId=200257858',\n",
       " 'https://www.netflix.com/watch/70274202?trackId=200257858',\n",
       " 'https://www.netflix.com/watch/70274203?trackId=200257858',\n",
       " 'https://www.netflix.com/watch/70274204?trackId=200257858',\n",
       " 'https://www.netflix.com/watch/70274205?trackId=200257858',\n",
       " 'https://www.netflix.com/watch/70274206?trackId=200257858',\n",
       " 'https://www.netflix.com/watch/70274207?trackId=200257858',\n",
       " 'https://www.netflix.com/watch/70274208?trackId=200257858',\n",
       " 'https://www.netflix.com/watch/70274209?trackId=200257858',\n",
       " 'https://www.netflix.com/watch/70274210?trackId=200257858',\n",
       " 'https://www.netflix.com/watch/70274211?trackId=200257858',\n",
       " 'https://www.netflix.com/watch/70274212?trackId=200257858',\n",
       " 'https://www.netflix.com/watch/70274213?trackId=200257858',\n",
       " 'https://www.netflix.com/watch/70274215?trackId=200257858',\n",
       " 'https://www.netflix.com/watch/70274216?trackId=200257858',\n",
       " 'https://www.netflix.com/watch/70274217?trackId=200257858',\n",
       " 'https://www.netflix.com/watch/70274218?trackId=200257858',\n",
       " 'https://www.netflix.com/watch/70274219?trackId=200257858',\n",
       " 'https://www.netflix.com/watch/70274220?trackId=200257858',\n",
       " 'https://www.netflix.com/watch/70274221?trackId=200257858',\n",
       " 'https://www.netflix.com/watch/70274222?trackId=200257858',\n",
       " 'https://www.netflix.com/watch/70274223?trackId=200257858',\n",
       " 'https://www.netflix.com/watch/70274224?trackId=200257858',\n",
       " 'https://www.netflix.com/watch/70274225?trackId=200257858',\n",
       " 'https://www.netflix.com/watch/70274226?trackId=200257858',\n",
       " 'https://www.netflix.com/watch/70274227?trackId=200257858',\n",
       " 'https://www.netflix.com/watch/70274228?trackId=200257858',\n",
       " 'https://www.netflix.com/watch/70274229?trackId=200257858',\n",
       " 'https://www.netflix.com/watch/70274230?trackId=200257858',\n",
       " 'https://www.netflix.com/watch/70274231?trackId=200257858']"
      ]
     },
     "execution_count": 198,
     "metadata": {},
     "output_type": "execute_result"
    }
   ],
   "source": [
    "net_links"
   ]
  },
  {
   "cell_type": "code",
   "execution_count": 199,
   "metadata": {
    "ExecuteTime": {
     "end_time": "2018-05-31T18:44:41.319208Z",
     "start_time": "2018-05-31T18:44:41.315805Z"
    }
   },
   "outputs": [
    {
     "data": {
      "text/plain": [
       "227"
      ]
     },
     "execution_count": 199,
     "metadata": {},
     "output_type": "execute_result"
    }
   ],
   "source": [
    "len(net_links)"
   ]
  },
  {
   "cell_type": "markdown",
   "metadata": {},
   "source": [
    "Length of netflix links now the same length as script list!"
   ]
  },
  {
   "cell_type": "code",
   "execution_count": 200,
   "metadata": {
    "ExecuteTime": {
     "end_time": "2018-05-31T18:44:43.208258Z",
     "start_time": "2018-05-31T18:44:43.204624Z"
    }
   },
   "outputs": [
    {
     "data": {
      "text/plain": [
       "227"
      ]
     },
     "execution_count": 200,
     "metadata": {},
     "output_type": "execute_result"
    }
   ],
   "source": [
    "len(episode_links)"
   ]
  },
  {
   "cell_type": "code",
   "execution_count": 204,
   "metadata": {
    "ExecuteTime": {
     "end_time": "2018-05-31T18:46:07.714773Z",
     "start_time": "2018-05-31T18:46:07.710889Z"
    }
   },
   "outputs": [
    {
     "data": {
      "text/plain": [
       "('http://www.livesinabox.com/friends/1017.shtml',\n",
       " 'https://www.netflix.com/watch/70274231?trackId=200257858')"
      ]
     },
     "execution_count": 204,
     "metadata": {},
     "output_type": "execute_result"
    }
   ],
   "source": [
    "list(zip(episode_links,net_links))[226]"
   ]
  },
  {
   "cell_type": "code",
   "execution_count": 205,
   "metadata": {
    "ExecuteTime": {
     "end_time": "2018-05-31T18:46:36.680297Z",
     "start_time": "2018-05-31T18:46:36.649924Z"
    }
   },
   "outputs": [],
   "source": [
    "with open('episode_scripts_final.pkl', 'wb') as picklefile:\n",
    "    pickle.dump(episode_scripts, picklefile)\n",
    "with open('episode_names_final.pkl', 'wb') as picklefile:\n",
    "    pickle.dump(episode_names, picklefile)\n",
    "with open('episode_links_final.pkl', 'wb') as picklefile:\n",
    "    pickle.dump(episode_links, picklefile)\n",
    "with open('episode_net_links_final.pkl', 'wb') as picklefile:\n",
    "    pickle.dump(net_links, picklefile)"
   ]
  }
 ],
 "metadata": {
  "kernelspec": {
   "display_name": "Python 3",
   "language": "python",
   "name": "python3"
  },
  "language_info": {
   "codemirror_mode": {
    "name": "ipython",
    "version": 3
   },
   "file_extension": ".py",
   "mimetype": "text/x-python",
   "name": "python",
   "nbconvert_exporter": "python",
   "pygments_lexer": "ipython3",
   "version": "3.6.4"
  }
 },
 "nbformat": 4,
 "nbformat_minor": 2
}
